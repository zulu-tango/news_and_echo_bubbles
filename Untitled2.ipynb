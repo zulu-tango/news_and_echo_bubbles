{
 "cells": [
  {
   "cell_type": "code",
   "execution_count": null,
   "id": "e54c4fe3-629a-471a-9591-44d89c54eb41",
   "metadata": {},
   "outputs": [],
   "source": [
    "from google.cloud import bigquery\n",
    "import pandas as pd\n",
    "\n",
    "PROJECT = \"my-project\"\n",
    "DATASET = \"taxifare_lecture\"\n",
    "TABLE = \"lecture_data\"\n",
    "\n",
    "table = f\"{PROJECT}.{DATASET}.{TABLE}\"\n",
    "\n",
    "df = pd.DataFrame({'col1': [1, 2], 'col2': [3, 4]})\n",
    "\n",
    "client = bigquery.Client()\n",
    "\n",
    "write_mode = \"WRITE_TRUNCATE\" # or \"WRITE_APPEND\"\n",
    "job_config = bigquery.LoadJobConfig(write_disposition=write_mode)\n",
    "\n",
    "job = client.load_table_from_dataframe(df, table, job_config=job_config)\n",
    "result = job.result()"
   ]
  }
 ],
 "metadata": {
  "kernelspec": {
   "display_name": "Python 3 (ipykernel)",
   "language": "python",
   "name": "python3"
  },
  "language_info": {
   "codemirror_mode": {
    "name": "ipython",
    "version": 3
   },
   "file_extension": ".py",
   "mimetype": "text/x-python",
   "name": "python",
   "nbconvert_exporter": "python",
   "pygments_lexer": "ipython3",
   "version": "3.10.6"
  }
 },
 "nbformat": 4,
 "nbformat_minor": 5
}
