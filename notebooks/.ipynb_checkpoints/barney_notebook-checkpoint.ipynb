{
 "cells": [
  {
   "cell_type": "code",
   "execution_count": 15,
   "id": "5e1e8c41-0a92-4641-a53f-2bee07a9da4c",
   "metadata": {},
   "outputs": [],
   "source": [
    "import pandas as pd\n",
    "import numpy as np\n",
    "import matplotlib.pyplot as plt\n",
    "from urllib.parse import urlparse"
   ]
  },
  {
   "cell_type": "code",
   "execution_count": 2,
   "id": "0f0f843d-24b4-48f6-a8d3-665862799f9e",
   "metadata": {},
   "outputs": [],
   "source": [
    "base_directory = \"/Users/barnabykempster/code/zulu-tango/news_and_echo_bubbles/raw_data\""
   ]
  },
  {
   "cell_type": "code",
   "execution_count": 22,
   "id": "8498ad19-c757-4dfe-8170-711c610209f9",
   "metadata": {},
   "outputs": [
    {
     "data": {
      "text/html": [
       "<div>\n",
       "<style scoped>\n",
       "    .dataframe tbody tr th:only-of-type {\n",
       "        vertical-align: middle;\n",
       "    }\n",
       "\n",
       "    .dataframe tbody tr th {\n",
       "        vertical-align: top;\n",
       "    }\n",
       "\n",
       "    .dataframe thead th {\n",
       "        text-align: right;\n",
       "    }\n",
       "</style>\n",
       "<table border=\"1\" class=\"dataframe\">\n",
       "  <thead>\n",
       "    <tr style=\"text-align: right;\">\n",
       "      <th></th>\n",
       "      <th>Unnamed: 0</th>\n",
       "      <th>link</th>\n",
       "      <th>pdate</th>\n",
       "      <th>title</th>\n",
       "      <th>author</th>\n",
       "      <th>text</th>\n",
       "      <th>keywords</th>\n",
       "      <th>tags</th>\n",
       "      <th>compound</th>\n",
       "      <th>neg</th>\n",
       "      <th>neu</th>\n",
       "      <th>pos</th>\n",
       "      <th>polarity</th>\n",
       "      <th>subjectivity</th>\n",
       "    </tr>\n",
       "  </thead>\n",
       "  <tbody>\n",
       "    <tr>\n",
       "      <th>0</th>\n",
       "      <td>0</td>\n",
       "      <td>https://kindest.com/442355-defend-democracy-to...</td>\n",
       "      <td>NaN</td>\n",
       "      <td>Defend Democracy Today: Support Fearless, Insi...</td>\n",
       "      <td>[]</td>\n",
       "      <td>While the election has come and gone, the figh...</td>\n",
       "      <td>['reporting', 'come', 'today', 'access', 'chec...</td>\n",
       "      <td>set()</td>\n",
       "      <td>0.8612</td>\n",
       "      <td>0.063</td>\n",
       "      <td>0.819</td>\n",
       "      <td>0.118</td>\n",
       "      <td>0.165589</td>\n",
       "      <td>0.539782</td>\n",
       "    </tr>\n",
       "    <tr>\n",
       "      <th>1</th>\n",
       "      <td>1</td>\n",
       "      <td>https://www.alternet.org/2021/03/dan-crenshaw/</td>\n",
       "      <td>2021-03-22 10:17:36+00:00</td>\n",
       "      <td>Republican Dan Crenshaw goes down in flames du...</td>\n",
       "      <td>['Sarah K. Burris', 'Raw Story']</td>\n",
       "      <td>MSNBC host Mehdi Hasan went after Rep. Dan Cre...</td>\n",
       "      <td>['come', 'didnt', 'going', 'fox', 'biden', 'cr...</td>\n",
       "      <td>{'Religious right'}</td>\n",
       "      <td>0.6474</td>\n",
       "      <td>0.055</td>\n",
       "      <td>0.876</td>\n",
       "      <td>0.069</td>\n",
       "      <td>-0.034989</td>\n",
       "      <td>0.411162</td>\n",
       "    </tr>\n",
       "    <tr>\n",
       "      <th>2</th>\n",
       "      <td>2</td>\n",
       "      <td>https://www.alternet.org/2021/03/rep-dan-crens...</td>\n",
       "      <td>2021-03-09 13:32:36+00:00</td>\n",
       "      <td>Rep. Dan Crenshaw purchased stock during pande...</td>\n",
       "      <td>['Meaghan Ellis']</td>\n",
       "      <td>Rep. Dan Crenshaw's (R-Texas) stock purchase h...</td>\n",
       "      <td>['purchased', 'transactions', 'law', 'pandemic...</td>\n",
       "      <td>{'Religious right'}</td>\n",
       "      <td>-0.8949</td>\n",
       "      <td>0.082</td>\n",
       "      <td>0.860</td>\n",
       "      <td>0.058</td>\n",
       "      <td>0.011441</td>\n",
       "      <td>0.323766</td>\n",
       "    </tr>\n",
       "    <tr>\n",
       "      <th>3</th>\n",
       "      <td>3</td>\n",
       "      <td>https://www.alternet.org/2020/11/dan-crenshaw/</td>\n",
       "      <td>2020-11-23 12:14:56+00:00</td>\n",
       "      <td>Sen. Ed Markey applauded for silent dismissal ...</td>\n",
       "      <td>['Walter Einenkel', 'Daily Kos']</td>\n",
       "      <td>Sen. Ed Markey is the Massachusetts Democrat w...</td>\n",
       "      <td>['district', 'lame', 'markey', 'office', 'rep'...</td>\n",
       "      <td>{'Religious right'}</td>\n",
       "      <td>0.9289</td>\n",
       "      <td>0.071</td>\n",
       "      <td>0.811</td>\n",
       "      <td>0.118</td>\n",
       "      <td>0.081250</td>\n",
       "      <td>0.439912</td>\n",
       "    </tr>\n",
       "    <tr>\n",
       "      <th>4</th>\n",
       "      <td>4</td>\n",
       "      <td>https://www.alternet.org/2019/05/rep-dan-crens...</td>\n",
       "      <td>2019-05-06 17:40:27+00:00</td>\n",
       "      <td>Rep. Dan Crenshaw gets cornered on The View fo...</td>\n",
       "      <td>['Travis Gettys', 'Raw Story']</td>\n",
       "      <td>Rep. Dan Crenshaw (R-TX) appeared on “The View...</td>\n",
       "      <td>['words', 'view', 'offering', 'think', 'omar',...</td>\n",
       "      <td>{'Religious right'}</td>\n",
       "      <td>-0.4810</td>\n",
       "      <td>0.077</td>\n",
       "      <td>0.848</td>\n",
       "      <td>0.075</td>\n",
       "      <td>0.045094</td>\n",
       "      <td>0.453717</td>\n",
       "    </tr>\n",
       "  </tbody>\n",
       "</table>\n",
       "</div>"
      ],
      "text/plain": [
       "   Unnamed: 0                                               link  \\\n",
       "0           0  https://kindest.com/442355-defend-democracy-to...   \n",
       "1           1     https://www.alternet.org/2021/03/dan-crenshaw/   \n",
       "2           2  https://www.alternet.org/2021/03/rep-dan-crens...   \n",
       "3           3     https://www.alternet.org/2020/11/dan-crenshaw/   \n",
       "4           4  https://www.alternet.org/2019/05/rep-dan-crens...   \n",
       "\n",
       "                       pdate  \\\n",
       "0                        NaN   \n",
       "1  2021-03-22 10:17:36+00:00   \n",
       "2  2021-03-09 13:32:36+00:00   \n",
       "3  2020-11-23 12:14:56+00:00   \n",
       "4  2019-05-06 17:40:27+00:00   \n",
       "\n",
       "                                               title  \\\n",
       "0  Defend Democracy Today: Support Fearless, Insi...   \n",
       "1  Republican Dan Crenshaw goes down in flames du...   \n",
       "2  Rep. Dan Crenshaw purchased stock during pande...   \n",
       "3  Sen. Ed Markey applauded for silent dismissal ...   \n",
       "4  Rep. Dan Crenshaw gets cornered on The View fo...   \n",
       "\n",
       "                             author  \\\n",
       "0                                []   \n",
       "1  ['Sarah K. Burris', 'Raw Story']   \n",
       "2                 ['Meaghan Ellis']   \n",
       "3  ['Walter Einenkel', 'Daily Kos']   \n",
       "4    ['Travis Gettys', 'Raw Story']   \n",
       "\n",
       "                                                text  \\\n",
       "0  While the election has come and gone, the figh...   \n",
       "1  MSNBC host Mehdi Hasan went after Rep. Dan Cre...   \n",
       "2  Rep. Dan Crenshaw's (R-Texas) stock purchase h...   \n",
       "3  Sen. Ed Markey is the Massachusetts Democrat w...   \n",
       "4  Rep. Dan Crenshaw (R-TX) appeared on “The View...   \n",
       "\n",
       "                                            keywords                 tags  \\\n",
       "0  ['reporting', 'come', 'today', 'access', 'chec...                set()   \n",
       "1  ['come', 'didnt', 'going', 'fox', 'biden', 'cr...  {'Religious right'}   \n",
       "2  ['purchased', 'transactions', 'law', 'pandemic...  {'Religious right'}   \n",
       "3  ['district', 'lame', 'markey', 'office', 'rep'...  {'Religious right'}   \n",
       "4  ['words', 'view', 'offering', 'think', 'omar',...  {'Religious right'}   \n",
       "\n",
       "   compound    neg    neu    pos  polarity  subjectivity  \n",
       "0    0.8612  0.063  0.819  0.118  0.165589      0.539782  \n",
       "1    0.6474  0.055  0.876  0.069 -0.034989      0.411162  \n",
       "2   -0.8949  0.082  0.860  0.058  0.011441      0.323766  \n",
       "3    0.9289  0.071  0.811  0.118  0.081250      0.439912  \n",
       "4   -0.4810  0.077  0.848  0.075  0.045094      0.453717  "
      ]
     },
     "execution_count": 22,
     "metadata": {},
     "output_type": "execute_result"
    }
   ],
   "source": [
    "data_left = pd.read_csv(f\"{base_directory}/braindedleft.csv\")\n",
    "data_left.head()"
   ]
  },
  {
   "cell_type": "code",
   "execution_count": 4,
   "id": "0b0a6ec0-5b9f-4f8c-b0fd-6a372820b542",
   "metadata": {},
   "outputs": [],
   "source": [
    "data_right = pd.read_csv(f\"{base_directory}/braindedright.csv\")"
   ]
  },
  {
   "cell_type": "code",
   "execution_count": 5,
   "id": "816d6c7c-7de2-4f1d-a0b3-a2856edfc7b6",
   "metadata": {},
   "outputs": [],
   "source": [
    "#import right-wing news dataset\n",
    "brainded_right = pd.read_csv(f'{base_directory}/braindedright.csv')\n",
    "#convert date+time column into separate columns\n",
    "brainded_right[['pdate','time']] = brainded_right['pdate'].str.split(' ', n=1, expand=True)\n",
    "brainded_right['pdate'] = pd.to_datetime(brainded_right['pdate'])"
   ]
  },
  {
   "cell_type": "code",
   "execution_count": 53,
   "id": "026169b8-b5a0-41ad-8b5b-88711fa86c21",
   "metadata": {},
   "outputs": [
    {
     "name": "stdout",
     "output_type": "stream",
     "text": [
      "<class 'pandas.core.frame.DataFrame'>\n",
      "RangeIndex: 1650 entries, 0 to 1649\n",
      "Data columns (total 19 columns):\n",
      " #   Column            Non-Null Count  Dtype         \n",
      "---  ------            --------------  -----         \n",
      " 0   level_0           1650 non-null   int64         \n",
      " 1   index             1650 non-null   int64         \n",
      " 2   Unnamed: 0        1650 non-null   int64         \n",
      " 3   link              1650 non-null   object        \n",
      " 4   pdate             1650 non-null   datetime64[ns]\n",
      " 5   title             1650 non-null   object        \n",
      " 6   author            1650 non-null   object        \n",
      " 7   text              1650 non-null   object        \n",
      " 8   keywords          1650 non-null   object        \n",
      " 9   tags              1650 non-null   object        \n",
      " 10  compound          1650 non-null   float64       \n",
      " 11  neg               1650 non-null   float64       \n",
      " 12  neu               1650 non-null   float64       \n",
      " 13  pos               1650 non-null   float64       \n",
      " 14  polarity          1650 non-null   float64       \n",
      " 15  subjectivity      1650 non-null   float64       \n",
      " 16  time              1650 non-null   object        \n",
      " 17  urls              1650 non-null   object        \n",
      " 18  pre_process_text  1650 non-null   object        \n",
      "dtypes: datetime64[ns](1), float64(6), int64(3), object(9)\n",
      "memory usage: 245.0+ KB\n"
     ]
    }
   ],
   "source": [
    "brainded_left.info()"
   ]
  },
  {
   "cell_type": "code",
   "execution_count": 6,
   "id": "996d9014-42b0-40cc-8b98-3232dd7ae2f1",
   "metadata": {},
   "outputs": [],
   "source": [
    "mask = brainded_right['pdate'] > '2020-01-01'\n",
    "brainded_right = brainded_right[mask].reset_index()"
   ]
  },
  {
   "cell_type": "code",
   "execution_count": 7,
   "id": "f08a4f13-4e18-42dd-a1a2-88ea76141d29",
   "metadata": {},
   "outputs": [],
   "source": [
    "# import left-wing news dataset\n",
    "brainded_left = pd.read_csv(f'{base_directory}/braindedleft.csv')\n",
    "brainded_left[['pdate','time']] = brainded_left['pdate'].str.split(' ', n=1, expand=True)\n",
    "brainded_left['pdate'] = pd.to_datetime(brainded_left['pdate'])"
   ]
  },
  {
   "cell_type": "code",
   "execution_count": 8,
   "id": "89db5963-18da-41bc-89ec-25a27f3f4759",
   "metadata": {},
   "outputs": [],
   "source": [
    "mask = brainded_left['pdate'] > '2020-01-01'\n",
    "brainded_left = brainded_left[mask].reset_index()"
   ]
  },
  {
   "cell_type": "code",
   "execution_count": 9,
   "id": "6ac94f41-9fc5-4e35-98fa-86724f5ae33e",
   "metadata": {},
   "outputs": [],
   "source": [
    "# drop empty rows\n",
    "brainded_right = brainded_right.dropna().reset_index()\n",
    "brainded_left = brainded_left.dropna().reset_index()"
   ]
  },
  {
   "cell_type": "code",
   "execution_count": 10,
   "id": "0aefe153-1148-41ce-a017-fe5a9a4086e2",
   "metadata": {},
   "outputs": [
    {
     "name": "stdout",
     "output_type": "stream",
     "text": [
      "left-wing: 1650\n",
      "right-wing: 1231\n"
     ]
    }
   ],
   "source": [
    "#check amount of data in each dataset that is relevant\n",
    "print(f'left-wing: {brainded_left.title.count()}')\n",
    "print(f'right-wing: {brainded_right.title.count()}')"
   ]
  },
  {
   "cell_type": "code",
   "execution_count": 13,
   "id": "61f0aad4-1837-4576-b904-d10ff4a6446d",
   "metadata": {},
   "outputs": [
    {
     "data": {
      "text/plain": [
       "Text(0.5, 0, 'timestamp')"
      ]
     },
     "execution_count": 13,
     "metadata": {},
     "output_type": "execute_result"
    },
    {
     "data": {
      "image/png": "[encoded data removed]",
      "text/plain": [
       "<Figure size 1400x500 with 2 Axes>"
      ]
     },
     "metadata": {},
     "output_type": "display_data"
    }
   ],
   "source": [
    "#check distribution of articles over time\n",
    "f, (ax1, ax2) = plt.subplots(1, 2,figsize=(14, 5))\n",
    "f.suptitle('Articles published date') \n",
    "\n",
    "ax1.hist(brainded_left['pdate'],bins=5)\n",
    "ax1.set_title('left wing')\n",
    "ax1.set_xlabel('timestamp')\n",
    "\n",
    "ax2.hist(brainded_right['pdate'],bins=5)\n",
    "ax2.set_title('right wing')\n",
    "ax2.set_xlabel('timestamp')"
   ]
  },
  {
   "cell_type": "code",
   "execution_count": 16,
   "id": "ccf8ab59-0af7-423d-ac03-c260f68a212f",
   "metadata": {},
   "outputs": [
    {
     "name": "stdout",
     "output_type": "stream",
     "text": [
      "left-wing news sources: 245\n",
      "right-wing news sources: 48\n"
     ]
    }
   ],
   "source": [
    "#check variety of news sources in each dataset\n",
    "urls_right = [urlparse(brainded_right.link[row]).netloc for row in range(len(brainded_right.link))]\n",
    "brainded_right['urls'] = urls_right\n",
    "\n",
    "urls_left = [urlparse(brainded_left.link[row]).netloc for row in range(len(brainded_left.link))]\n",
    "brainded_left['urls'] = urls_left\n",
    "\n",
    "# number of news sources\n",
    "print(f'left-wing news sources: {brainded_left.urls.nunique()}')\n",
    "print(f'right-wing news sources: {brainded_right.urls.nunique()}')"
   ]
  },
  {
   "cell_type": "code",
   "execution_count": 18,
   "id": "b3575650-4364-43d5-ba5e-59322a5d852e",
   "metadata": {},
   "outputs": [
    {
     "data": {
      "text/plain": [
       "(16338, 9)"
      ]
     },
     "execution_count": 18,
     "metadata": {},
     "output_type": "execute_result"
    }
   ],
   "source": [
    "# checking articles length\n",
    "\n",
    "length_right = []\n",
    "for i in range(len(brainded_right)):\n",
    "    length_right.append(len(brainded_right.text[i].split()))\n",
    "\n",
    "max(length_right),min(length_right)\n",
    "\n",
    "length_left = []\n",
    "for i in range(len(brainded_left)):\n",
    "    length_left.append(len(brainded_left.text[i].split()))\n",
    "\n",
    "max(length_left),min(length_left)"
   ]
  },
  {
   "cell_type": "code",
   "execution_count": 19,
   "id": "d7969016-e35f-4de2-8628-2eecbcb91d13",
   "metadata": {},
   "outputs": [
    {
     "data": {
      "text/plain": [
       "Text(0.5, 1.0, 'right wing')"
      ]
     },
     "execution_count": 19,
     "metadata": {},
     "output_type": "execute_result"
    },
    {
     "data": {
      "image/png": "[encoded data removed]",
      "text/plain": [
       "<Figure size 1400x500 with 2 Axes>"
      ]
     },
     "metadata": {},
     "output_type": "display_data"
    }
   ],
   "source": [
    "#check distribution of articles length\n",
    "f, (ax1, ax2) = plt.subplots(1, 2,figsize=(14, 5))\n",
    "f.suptitle('Article length (in words)') \n",
    "\n",
    "ax1.hist(length_left,bins=100)\n",
    "ax1.set_title('left wing')\n",
    "\n",
    "ax2.hist(length_right,bins=100)\n",
    "ax2.set_title('right wing')"
   ]
  },
  {
   "cell_type": "code",
   "execution_count": 24,
   "id": "57f27d4e-5274-449a-a4ee-61df44485165",
   "metadata": {},
   "outputs": [],
   "source": [
    "brainded_left[\"pre_process_text\"] = brainded_left['text']"
   ]
  },
  {
   "cell_type": "code",
   "execution_count": 35,
   "id": "fe45513b-8114-494f-bdad-661195dbd6e7",
   "metadata": {},
   "outputs": [
    {
     "data": {
      "text/plain": [
       "'the rumor appeared shortly after the new coronavirus struck china and spread almost as quickly: that the outbreak now afflicting people around the world had been manufactured by the chinese government.\\n\\nthe conspiracy theory lacks evidence and has been dismissed by scientists. but it has gained an audience with the help of well-connected critics of the chinese government such as stephen k. bannon, president trump’s former chief strategist. and on sunday, it got its biggest public boost yet.\\n\\nspeaking on fox news, senator tom cotton, republican of arkansas, raised the possibility that the virus had originated in a high-security biochemical lab in wuhan, the chinese city at the center of the outbreak.'"
      ]
     },
     "execution_count": 35,
     "metadata": {},
     "output_type": "execute_result"
    }
   ],
   "source": [
    "i = 0\n",
    "new_list = []\n",
    "for text in brainded_left['pre_process_text']:\n",
    "    new_list.append(brainded_left['pre_process_text'][i].lower())\n",
    "    i += 1\n",
    "new_list[22]"
   ]
  },
  {
   "cell_type": "code",
   "execution_count": 48,
   "id": "9d16bcf1-1207-4f16-8ec6-e0f64b0f8c60",
   "metadata": {},
   "outputs": [],
   "source": [
    "import string"
   ]
  },
  {
   "cell_type": "code",
   "execution_count": 49,
   "id": "67fbbf80-ce83-45e4-a8bc-71a1b19dbf08",
   "metadata": {},
   "outputs": [],
   "source": [
    "second_list = []\n",
    "for text in new_list:\n",
    "    for special in string.punctuation:\n",
    "        text = text.replace(special, ' ')\n",
    "    text = text.replace('\\n', ' ')\n",
    "    second_list.append(text)\n"
   ]
  },
  {
   "cell_type": "code",
   "execution_count": 50,
   "id": "0cda1699-3869-42c4-a5fd-8afb96b98255",
   "metadata": {},
   "outputs": [
    {
     "data": {
      "text/plain": [
       "'the rumor appeared shortly after the new coronavirus struck china and spread almost as quickly  that the outbreak now afflicting people around the world had been manufactured by the chinese government   the conspiracy theory lacks evidence and has been dismissed by scientists  but it has gained an audience with the help of well connected critics of the chinese government such as stephen k  bannon  president trump’s former chief strategist  and on sunday  it got its biggest public boost yet   speaking on fox news  senator tom cotton  republican of arkansas  raised the possibility that the virus had originated in a high security biochemical lab in wuhan  the chinese city at the center of the outbreak '"
      ]
     },
     "execution_count": 50,
     "metadata": {},
     "output_type": "execute_result"
    }
   ],
   "source": [
    "second_list[22]"
   ]
  },
  {
   "cell_type": "code",
   "execution_count": 51,
   "id": "fe4b65ce-750b-4469-9571-5765b20e3727",
   "metadata": {},
   "outputs": [],
   "source": [
    "brainded_left[\"pre_process_text\"] = second_list"
   ]
  },
  {
   "cell_type": "code",
   "execution_count": 52,
   "id": "a735887c-015e-4808-bb5b-06ce1e75f4ad",
   "metadata": {},
   "outputs": [
    {
     "data": {
      "text/html": [
       "<div>\n",
       "<style scoped>\n",
       "    .dataframe tbody tr th:only-of-type {\n",
       "        vertical-align: middle;\n",
       "    }\n",
       "\n",
       "    .dataframe tbody tr th {\n",
       "        vertical-align: top;\n",
       "    }\n",
       "\n",
       "    .dataframe thead th {\n",
       "        text-align: right;\n",
       "    }\n",
       "</style>\n",
       "<table border=\"1\" class=\"dataframe\">\n",
       "  <thead>\n",
       "    <tr style=\"text-align: right;\">\n",
       "      <th></th>\n",
       "      <th>level_0</th>\n",
       "      <th>index</th>\n",
       "      <th>Unnamed: 0</th>\n",
       "      <th>link</th>\n",
       "      <th>pdate</th>\n",
       "      <th>title</th>\n",
       "      <th>author</th>\n",
       "      <th>text</th>\n",
       "      <th>keywords</th>\n",
       "      <th>tags</th>\n",
       "      <th>compound</th>\n",
       "      <th>neg</th>\n",
       "      <th>neu</th>\n",
       "      <th>pos</th>\n",
       "      <th>polarity</th>\n",
       "      <th>subjectivity</th>\n",
       "      <th>time</th>\n",
       "      <th>urls</th>\n",
       "      <th>pre_process_text</th>\n",
       "    </tr>\n",
       "  </thead>\n",
       "  <tbody>\n",
       "    <tr>\n",
       "      <th>0</th>\n",
       "      <td>0</td>\n",
       "      <td>1</td>\n",
       "      <td>1</td>\n",
       "      <td>https://www.alternet.org/2021/03/dan-crenshaw/</td>\n",
       "      <td>2021-03-22</td>\n",
       "      <td>Republican Dan Crenshaw goes down in flames du...</td>\n",
       "      <td>['Sarah K. Burris', 'Raw Story']</td>\n",
       "      <td>MSNBC host Mehdi Hasan went after Rep. Dan Cre...</td>\n",
       "      <td>['come', 'didnt', 'going', 'fox', 'biden', 'cr...</td>\n",
       "      <td>{'Religious right'}</td>\n",
       "      <td>0.6474</td>\n",
       "      <td>0.055</td>\n",
       "      <td>0.876</td>\n",
       "      <td>0.069</td>\n",
       "      <td>-0.034989</td>\n",
       "      <td>0.411162</td>\n",
       "      <td>10:17:36+00:00</td>\n",
       "      <td>www.alternet.org</td>\n",
       "      <td>msnbc host mehdi hasan went after rep  dan cre...</td>\n",
       "    </tr>\n",
       "    <tr>\n",
       "      <th>1</th>\n",
       "      <td>1</td>\n",
       "      <td>2</td>\n",
       "      <td>2</td>\n",
       "      <td>https://www.alternet.org/2021/03/rep-dan-crens...</td>\n",
       "      <td>2021-03-09</td>\n",
       "      <td>Rep. Dan Crenshaw purchased stock during pande...</td>\n",
       "      <td>['Meaghan Ellis']</td>\n",
       "      <td>Rep. Dan Crenshaw's (R-Texas) stock purchase h...</td>\n",
       "      <td>['purchased', 'transactions', 'law', 'pandemic...</td>\n",
       "      <td>{'Religious right'}</td>\n",
       "      <td>-0.8949</td>\n",
       "      <td>0.082</td>\n",
       "      <td>0.860</td>\n",
       "      <td>0.058</td>\n",
       "      <td>0.011441</td>\n",
       "      <td>0.323766</td>\n",
       "      <td>13:32:36+00:00</td>\n",
       "      <td>www.alternet.org</td>\n",
       "      <td>rep  dan crenshaw s  r texas  stock purchase h...</td>\n",
       "    </tr>\n",
       "    <tr>\n",
       "      <th>2</th>\n",
       "      <td>2</td>\n",
       "      <td>3</td>\n",
       "      <td>3</td>\n",
       "      <td>https://www.alternet.org/2020/11/dan-crenshaw/</td>\n",
       "      <td>2020-11-23</td>\n",
       "      <td>Sen. Ed Markey applauded for silent dismissal ...</td>\n",
       "      <td>['Walter Einenkel', 'Daily Kos']</td>\n",
       "      <td>Sen. Ed Markey is the Massachusetts Democrat w...</td>\n",
       "      <td>['district', 'lame', 'markey', 'office', 'rep'...</td>\n",
       "      <td>{'Religious right'}</td>\n",
       "      <td>0.9289</td>\n",
       "      <td>0.071</td>\n",
       "      <td>0.811</td>\n",
       "      <td>0.118</td>\n",
       "      <td>0.081250</td>\n",
       "      <td>0.439912</td>\n",
       "      <td>12:14:56+00:00</td>\n",
       "      <td>www.alternet.org</td>\n",
       "      <td>sen  ed markey is the massachusetts democrat w...</td>\n",
       "    </tr>\n",
       "    <tr>\n",
       "      <th>3</th>\n",
       "      <td>3</td>\n",
       "      <td>7</td>\n",
       "      <td>7</td>\n",
       "      <td>https://www.alternet.org/2021/03/texas-storm-2...</td>\n",
       "      <td>2021-03-21</td>\n",
       "      <td>Paperwork failures worsened Texas blackouts — ...</td>\n",
       "      <td>['Erin Douglas', 'The Texas Tribune']</td>\n",
       "      <td>On Valentine's Day, the major utility that sup...</td>\n",
       "      <td>['failures', 'scramble', 'energy', 'midstorm',...</td>\n",
       "      <td>{'Religious right'}</td>\n",
       "      <td>0.9890</td>\n",
       "      <td>0.047</td>\n",
       "      <td>0.884</td>\n",
       "      <td>0.069</td>\n",
       "      <td>0.029100</td>\n",
       "      <td>0.447278</td>\n",
       "      <td>16:59:37+00:00</td>\n",
       "      <td>www.alternet.org</td>\n",
       "      <td>on valentine s day  the major utility that sup...</td>\n",
       "    </tr>\n",
       "    <tr>\n",
       "      <th>4</th>\n",
       "      <td>4</td>\n",
       "      <td>8</td>\n",
       "      <td>8</td>\n",
       "      <td>https://www.texastribune.org/2021/03/18/texas-...</td>\n",
       "      <td>2021-03-18</td>\n",
       "      <td>Paperwork failures worsened Texas blackouts, s...</td>\n",
       "      <td>['Erin Douglas', 'March', 'Pm Central', 'Updat...</td>\n",
       "      <td>On Valentine’s Day, the major utility that sup...</td>\n",
       "      <td>['failures', 'scramble', 'energy', 'midstorm',...</td>\n",
       "      <td>set()</td>\n",
       "      <td>0.9903</td>\n",
       "      <td>0.045</td>\n",
       "      <td>0.885</td>\n",
       "      <td>0.070</td>\n",
       "      <td>0.029100</td>\n",
       "      <td>0.447278</td>\n",
       "      <td>00:00:00</td>\n",
       "      <td>www.texastribune.org</td>\n",
       "      <td>on valentine’s day  the major utility that sup...</td>\n",
       "    </tr>\n",
       "  </tbody>\n",
       "</table>\n",
       "</div>"
      ],
      "text/plain": [
       "   level_0  index  Unnamed: 0  \\\n",
       "0        0      1           1   \n",
       "1        1      2           2   \n",
       "2        2      3           3   \n",
       "3        3      7           7   \n",
       "4        4      8           8   \n",
       "\n",
       "                                                link      pdate  \\\n",
       "0     https://www.alternet.org/2021/03/dan-crenshaw/ 2021-03-22   \n",
       "1  https://www.alternet.org/2021/03/rep-dan-crens... 2021-03-09   \n",
       "2     https://www.alternet.org/2020/11/dan-crenshaw/ 2020-11-23   \n",
       "3  https://www.alternet.org/2021/03/texas-storm-2... 2021-03-21   \n",
       "4  https://www.texastribune.org/2021/03/18/texas-... 2021-03-18   \n",
       "\n",
       "                                               title  \\\n",
       "0  Republican Dan Crenshaw goes down in flames du...   \n",
       "1  Rep. Dan Crenshaw purchased stock during pande...   \n",
       "2  Sen. Ed Markey applauded for silent dismissal ...   \n",
       "3  Paperwork failures worsened Texas blackouts — ...   \n",
       "4  Paperwork failures worsened Texas blackouts, s...   \n",
       "\n",
       "                                              author  \\\n",
       "0                   ['Sarah K. Burris', 'Raw Story']   \n",
       "1                                  ['Meaghan Ellis']   \n",
       "2                   ['Walter Einenkel', 'Daily Kos']   \n",
       "3              ['Erin Douglas', 'The Texas Tribune']   \n",
       "4  ['Erin Douglas', 'March', 'Pm Central', 'Updat...   \n",
       "\n",
       "                                                text  \\\n",
       "0  MSNBC host Mehdi Hasan went after Rep. Dan Cre...   \n",
       "1  Rep. Dan Crenshaw's (R-Texas) stock purchase h...   \n",
       "2  Sen. Ed Markey is the Massachusetts Democrat w...   \n",
       "3  On Valentine's Day, the major utility that sup...   \n",
       "4  On Valentine’s Day, the major utility that sup...   \n",
       "\n",
       "                                            keywords                 tags  \\\n",
       "0  ['come', 'didnt', 'going', 'fox', 'biden', 'cr...  {'Religious right'}   \n",
       "1  ['purchased', 'transactions', 'law', 'pandemic...  {'Religious right'}   \n",
       "2  ['district', 'lame', 'markey', 'office', 'rep'...  {'Religious right'}   \n",
       "3  ['failures', 'scramble', 'energy', 'midstorm',...  {'Religious right'}   \n",
       "4  ['failures', 'scramble', 'energy', 'midstorm',...                set()   \n",
       "\n",
       "   compound    neg    neu    pos  polarity  subjectivity            time  \\\n",
       "0    0.6474  0.055  0.876  0.069 -0.034989      0.411162  10:17:36+00:00   \n",
       "1   -0.8949  0.082  0.860  0.058  0.011441      0.323766  13:32:36+00:00   \n",
       "2    0.9289  0.071  0.811  0.118  0.081250      0.439912  12:14:56+00:00   \n",
       "3    0.9890  0.047  0.884  0.069  0.029100      0.447278  16:59:37+00:00   \n",
       "4    0.9903  0.045  0.885  0.070  0.029100      0.447278        00:00:00   \n",
       "\n",
       "                   urls                                   pre_process_text  \n",
       "0      www.alternet.org  msnbc host mehdi hasan went after rep  dan cre...  \n",
       "1      www.alternet.org  rep  dan crenshaw s  r texas  stock purchase h...  \n",
       "2      www.alternet.org  sen  ed markey is the massachusetts democrat w...  \n",
       "3      www.alternet.org  on valentine s day  the major utility that sup...  \n",
       "4  www.texastribune.org  on valentine’s day  the major utility that sup...  "
      ]
     },
     "execution_count": 52,
     "metadata": {},
     "output_type": "execute_result"
    }
   ],
   "source": [
    "brainded_left.head()"
   ]
  },
  {
   "cell_type": "code",
   "execution_count": 55,
   "id": "cc34d836-6efa-4ff4-a56a-bf2446c264c4",
   "metadata": {},
   "outputs": [
    {
     "data": {
      "text/plain": [
       "0       True\n",
       "1       True\n",
       "2       True\n",
       "3       True\n",
       "4       True\n",
       "        ... \n",
       "1645    True\n",
       "1646    True\n",
       "1647    True\n",
       "1648    True\n",
       "1649    True\n",
       "Name: text, Length: 1650, dtype: bool"
      ]
     },
     "execution_count": 55,
     "metadata": {},
     "output_type": "execute_result"
    }
   ],
   "source": [
    "mask = brainded_left['text'] != None\n",
    "mask"
   ]
  },
  {
   "cell_type": "code",
   "execution_count": 56,
   "id": "45713ac5-55f3-44d2-ae3d-e1cd2ad7334d",
   "metadata": {},
   "outputs": [],
   "source": [
    "brainded_left = brainded_left[mask]"
   ]
  },
  {
   "cell_type": "code",
   "execution_count": 58,
   "id": "63a5cd41-5c43-4799-8738-3de06c8554e7",
   "metadata": {
    "scrolled": true
   },
   "outputs": [
    {
     "name": "stdout",
     "output_type": "stream",
     "text": [
      "<class 'pandas.core.frame.DataFrame'>\n",
      "RangeIndex: 1650 entries, 0 to 1649\n",
      "Data columns (total 19 columns):\n",
      " #   Column            Non-Null Count  Dtype         \n",
      "---  ------            --------------  -----         \n",
      " 0   level_0           1650 non-null   int64         \n",
      " 1   index             1650 non-null   int64         \n",
      " 2   Unnamed: 0        1650 non-null   int64         \n",
      " 3   link              1650 non-null   object        \n",
      " 4   pdate             1650 non-null   datetime64[ns]\n",
      " 5   title             1650 non-null   object        \n",
      " 6   author            1650 non-null   object        \n",
      " 7   text              1650 non-null   object        \n",
      " 8   keywords          1650 non-null   object        \n",
      " 9   tags              1650 non-null   object        \n",
      " 10  compound          1650 non-null   float64       \n",
      " 11  neg               1650 non-null   float64       \n",
      " 12  neu               1650 non-null   float64       \n",
      " 13  pos               1650 non-null   float64       \n",
      " 14  polarity          1650 non-null   float64       \n",
      " 15  subjectivity      1650 non-null   float64       \n",
      " 16  time              1650 non-null   object        \n",
      " 17  urls              1650 non-null   object        \n",
      " 18  pre_process_text  1650 non-null   object        \n",
      "dtypes: datetime64[ns](1), float64(6), int64(3), object(9)\n",
      "memory usage: 245.0+ KB\n"
     ]
    }
   ],
   "source": [
    "brainded_left.info()"
   ]
  },
  {
   "cell_type": "code",
   "execution_count": 64,
   "id": "83af1696-3d8c-4077-bc5e-6e5765f601fc",
   "metadata": {},
   "outputs": [
    {
     "data": {
      "text/plain": [
       "0       msnbc host mehdi hasan went after rep  dan cre...\n",
       "1       rep  dan crenshaw s  r texas  stock purchase h...\n",
       "2       sen  ed markey is the massachusetts democrat w...\n",
       "3       on valentine s day  the major utility that sup...\n",
       "4       on valentine’s day  the major utility that sup...\n",
       "                              ...                        \n",
       "1645    our country is experiencing a moment of honest...\n",
       "1646    editor’s note  the nation believes that helpin...\n",
       "1647    “if you had only 48 hours of breath left  what...\n",
       "1648    bernie’s out  senator sanders suspended his ca...\n",
       "1649    elizabeth warren or bernie sanders  plenty of ...\n",
       "Name: pre_process_text, Length: 1650, dtype: object"
      ]
     },
     "execution_count": 64,
     "metadata": {},
     "output_type": "execute_result"
    }
   ],
   "source": [
    "brainded_left[\"pre_process_text\"]"
   ]
  },
  {
   "cell_type": "code",
   "execution_count": 63,
   "id": "664adff1-206b-4ccb-8521-f2f3abe3ea8f",
   "metadata": {},
   "outputs": [
    {
     "ename": "TypeError",
     "evalue": "'module' object is not callable",
     "output_type": "error",
     "traceback": [
      "\u001b[0;31m---------------------------------------------------------------------------\u001b[0m",
      "\u001b[0;31mTypeError\u001b[0m                                 Traceback (most recent call last)",
      "Cell \u001b[0;32mIn[63], line 3\u001b[0m\n\u001b[1;32m      1\u001b[0m list_3 \u001b[38;5;241m=\u001b[39m []\n\u001b[1;32m      2\u001b[0m \u001b[38;5;28;01mfor\u001b[39;00m text \u001b[38;5;129;01min\u001b[39;00m brainded_left[\u001b[38;5;124m\"\u001b[39m\u001b[38;5;124mpre_process_text\u001b[39m\u001b[38;5;124m\"\u001b[39m]:\n\u001b[0;32m----> 3\u001b[0m     list_3\u001b[38;5;241m.\u001b[39mappend(\u001b[43mstring\u001b[49m\u001b[43m(\u001b[49m\u001b[43mtext\u001b[49m\u001b[43m)\u001b[49m)\n\u001b[1;32m      4\u001b[0m list_3\n",
      "\u001b[0;31mTypeError\u001b[0m: 'module' object is not callable"
     ]
    }
   ],
   "source": [
    "list_3 = []\n",
    "for text in brainded_left[\"pre_process_text\"]:\n",
    "    list_3.append(string(text))\n",
    "list_3"
   ]
  },
  {
   "cell_type": "code",
   "execution_count": null,
   "id": "e878d239-c510-4d5b-8f08-6e972b503e2e",
   "metadata": {},
   "outputs": [],
   "source": []
  },
  {
   "cell_type": "code",
   "execution_count": null,
   "id": "24f715a3-72e7-4f3c-aed7-d72565e4f1d5",
   "metadata": {},
   "outputs": [],
   "source": []
  }
 ],
 "metadata": {
  "kernelspec": {
   "display_name": "Python 3 (ipykernel)",
   "language": "python",
   "name": "python3"
  },
  "language_info": {
   "codemirror_mode": {
    "name": "ipython",
    "version": 3
   },
   "file_extension": ".py",
   "mimetype": "text/x-python",
   "name": "python",
   "nbconvert_exporter": "python",
   "pygments_lexer": "ipython3",
   "version": "3.10.6"
  }
 },
 "nbformat": 4,
 "nbformat_minor": 5
}
