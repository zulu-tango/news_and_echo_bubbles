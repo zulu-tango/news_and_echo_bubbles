{
 "cells": [
  {
   "cell_type": "code",
   "execution_count": 1,
   "id": "5e1e8c41-0a92-4641-a53f-2bee07a9da4c",
   "metadata": {},
   "outputs": [],
   "source": [
    "import pandas as pd\n",
    "import numpy as np"
   ]
  },
  {
   "cell_type": "code",
   "execution_count": 2,
   "id": "0f0f843d-24b4-48f6-a8d3-665862799f9e",
   "metadata": {},
   "outputs": [],
   "source": [
    "base_directory = \"/Users/barnabykempster/code/zulu-tango/news_and_echo_bubbles/raw_data\""
   ]
  },
  {
   "cell_type": "code",
   "execution_count": 4,
   "id": "8498ad19-c757-4dfe-8170-711c610209f9",
   "metadata": {},
   "outputs": [],
   "source": [
    "data_left = pd.read_csv(f\"{base_directory}/braindedleft.csv\")"
   ]
  },
  {
   "cell_type": "code",
   "execution_count": null,
   "id": "0b0a6ec0-5b9f-4f8c-b0fd-6a372820b542",
   "metadata": {},
   "outputs": [],
   "source": []
  },
  {
   "cell_type": "code",
   "execution_count": null,
   "id": "816d6c7c-7de2-4f1d-a0b3-a2856edfc7b6",
   "metadata": {},
   "outputs": [],
   "source": []
  },
  {
   "cell_type": "code",
   "execution_count": null,
   "id": "996d9014-42b0-40cc-8b98-3232dd7ae2f1",
   "metadata": {},
   "outputs": [],
   "source": []
  },
  {
   "cell_type": "code",
   "execution_count": null,
   "id": "f08a4f13-4e18-42dd-a1a2-88ea76141d29",
   "metadata": {},
   "outputs": [],
   "source": []
  },
  {
   "cell_type": "code",
   "execution_count": null,
   "id": "89db5963-18da-41bc-89ec-25a27f3f4759",
   "metadata": {},
   "outputs": [],
   "source": []
  },
  {
   "cell_type": "code",
   "execution_count": null,
   "id": "6ac94f41-9fc5-4e35-98fa-86724f5ae33e",
   "metadata": {},
   "outputs": [],
   "source": []
  },
  {
   "cell_type": "code",
   "execution_count": null,
   "id": "0aefe153-1148-41ce-a017-fe5a9a4086e2",
   "metadata": {},
   "outputs": [],
   "source": []
  },
  {
   "cell_type": "code",
   "execution_count": null,
   "id": "61f0aad4-1837-4576-b904-d10ff4a6446d",
   "metadata": {},
   "outputs": [],
   "source": []
  },
  {
   "cell_type": "code",
   "execution_count": null,
   "id": "ccf8ab59-0af7-423d-ac03-c260f68a212f",
   "metadata": {},
   "outputs": [],
   "source": []
  },
  {
   "cell_type": "code",
   "execution_count": null,
   "id": "709bb229-4b8a-42b8-9626-477661bd8084",
   "metadata": {},
   "outputs": [],
   "source": []
  },
  {
   "cell_type": "code",
   "execution_count": null,
   "id": "b3575650-4364-43d5-ba5e-59322a5d852e",
   "metadata": {},
   "outputs": [],
   "source": []
  },
  {
   "cell_type": "code",
   "execution_count": null,
   "id": "d7969016-e35f-4de2-8628-2eecbcb91d13",
   "metadata": {},
   "outputs": [],
   "source": []
  }
 ],
 "metadata": {
  "kernelspec": {
   "display_name": "Python 3 (ipykernel)",
   "language": "python",
   "name": "python3"
  },
  "language_info": {
   "codemirror_mode": {
    "name": "ipython",
    "version": 3
   },
   "file_extension": ".py",
   "mimetype": "text/x-python",
   "name": "python",
   "nbconvert_exporter": "python",
   "pygments_lexer": "ipython3",
   "version": "3.10.6"
  }
 },
 "nbformat": 4,
 "nbformat_minor": 5
}
