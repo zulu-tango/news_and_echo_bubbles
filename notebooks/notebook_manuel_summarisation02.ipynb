{
 "cells": [
  {
   "cell_type": "code",
   "execution_count": null,
   "id": "260c96d3-85e1-4af2-94cb-26c1abad6aca",
   "metadata": {},
   "outputs": [],
   "source": [
    "# MODEL CODE INFO https://github.com/facebookresearch/fairseq/blob/main/examples/bart/summarize.py"
   ]
  },
  {
   "cell_type": "code",
   "execution_count": 1,
   "id": "97c5ed58-017b-445b-8977-16758ed4a60d",
   "metadata": {},
   "outputs": [],
   "source": [
    "text_sample = '''Rescuers on Tuesday successfully drilled through to 41 men trapped inside a collapsed Himalayan tunnel, as a weekslong evacuation effort fraught with uncertainty enters its final stretch.\n",
    "\n",
    "The men have been trapped since November 12 when the part of tunnel they were helping to construct in India’s northern Uttarakhand state gave way, blocking their only exit with more than 60 meters (200 feet) of broken rock, concrete and twisted metal.\n",
    "\n",
    "The breakthrough follows a series of agonizing setbacks, during which rescue efforts were halted when the heavy machinery used to drill through the debris broke down, forcing workers to partially dig by hand and adopt other riskier methods to bring them to safety.\n",
    "\n",
    "An ambulance goes inside a tunnel where rescue operations are underway to rescue trapped workers, after the tunnel collapsed, in Uttarkashi in the northern state of Uttarakhand, India, November 28, 2023. REUTERS/Francis Mascarenhas\n",
    "An ambulance goes inside a tunnel where rescue operations are underway to rescue trapped workers in Uttarakhand, India, November 28, 2023.\n",
    "Francis Mascarenhas/Reuters\n",
    "Engineers had previously attempted to excavate the debris in the exit shaft using heavy machinery, but were forced to abandon efforts late on Friday after the powerful US-made drill they were using broke down just meters from the trapped men.\n",
    "\n",
    "Uttarakhand government’s executive engineer Avinash Kumar Saini told CNN that drilling had finally been completed after 17 days.\n",
    "\n",
    "Rescuers were also simultaneously drilling downward through the unstable mountain terrain as a back up way to reach the trapped men. But in the end the initial plan proved successful.\n",
    "\n",
    "With the drilling completed, rescuers then pushed a large pipe through the last part of the exit shaft for the men to be brought to safety.\n",
    "\n",
    "“The work of laying pipes in the tunnel to take out the workers has been completed. Soon all the labor brothers will be taken out,” Pushkar Singh Dhami, Chief Minister Uttarakhand, wrote on X.\n",
    "\n",
    "State district information officer Kirti Panwar a struck an optimistic tone that the workers would soon be reunited with their families.\n",
    "\n",
    "“We are at the end of it all,” he said.\n",
    "\n",
    "Mahi Shah, the brother-in-law of a laborer trapped inside, who is at the tunnel entrance, said rescuers have gone inside the tunnel.\n",
    "\n",
    "“41 ambulances are ready here for people to come out. We have been told in about an hour they will all be out,” he told CNN.\n",
    "\n",
    "Ambulances wait in line to enter a tunnel where rescue operations are underway to rescue trapped workers, after the tunnel collapsed, in Uttarkashi in the northern state of Uttarakhand, India, November 28, 2023. REUTERS/Francis Mascarenhas\n",
    "Ambulances wait in line to enter a tunnel where rescue operations are underway to rescue trapped workers in Uttarakhand, India, November 28, 2023.\n",
    "Francis Mascarenhas/Reuters\n",
    "Indrajeet Kumar, whose brothers Subodh and Biswajit were among those trapped said families were standing and waiting for their loved ones to walk out.\n",
    "\n",
    "“They are not out yet, but we have been told to be ready to accompany them for medical aid soon,” he said.\n",
    "\n",
    "Video broadcast on local television showed jubilant scenes outside the tunnel, with workers smiling and breaking into song after the drilling stopped. An ambulance could be seen driving into the tunnel.\n",
    "\n",
    "The laborers – all migrant workers from some of India’s poorest states – have been receiving food, water and oxygen through a 53-meter (173 foot) pipe that has been inserted through the debris and authorities say they remain in good health.\n",
    "\n",
    "Doctors on site have kept in regular contact with the men inside, giving them tips on how to remain positive and calm. Their families have been gathering at the tunnel exit each day to pray for their safe return.\n",
    "\n",
    "The tunnel is part of Indian Prime Minister Narendra Modi’s Char Dham Highway route, a controversial multimillion dollar project to upgrade. the country’s transport network and improve connectivity to important Hindu pilgrimage sites in the region.'''"
   ]
  },
  {
   "cell_type": "code",
   "execution_count": 1,
   "id": "2d357574-e9f1-4b45-bf3b-4f82380c5e24",
   "metadata": {},
   "outputs": [
    {
     "name": "stderr",
     "output_type": "stream",
     "text": [
      "2023-11-28 12:34:35.863738: I tensorflow/core/platform/cpu_feature_guard.cc:193] This TensorFlow binary is optimized with oneAPI Deep Neural Network Library (oneDNN) to use the following CPU instructions in performance-critical operations:  AVX2 FMA\n",
      "To enable them in other operations, rebuild TensorFlow with the appropriate compiler flags.\n",
      "2023-11-28 12:34:36.292358: W tensorflow/stream_executor/platform/default/dso_loader.cc:64] Could not load dynamic library 'libcudart.so.11.0'; dlerror: libcudart.so.11.0: cannot open shared object file: No such file or directory\n",
      "2023-11-28 12:34:36.292404: I tensorflow/stream_executor/cuda/cudart_stub.cc:29] Ignore above cudart dlerror if you do not have a GPU set up on your machine.\n",
      "2023-11-28 12:34:36.365339: E tensorflow/stream_executor/cuda/cuda_blas.cc:2981] Unable to register cuBLAS factory: Attempting to register factory for plugin cuBLAS when one has already been registered\n",
      "2023-11-28 12:34:37.892413: W tensorflow/stream_executor/platform/default/dso_loader.cc:64] Could not load dynamic library 'libnvinfer.so.7'; dlerror: libnvinfer.so.7: cannot open shared object file: No such file or directory\n",
      "2023-11-28 12:34:37.892645: W tensorflow/stream_executor/platform/default/dso_loader.cc:64] Could not load dynamic library 'libnvinfer_plugin.so.7'; dlerror: libnvinfer_plugin.so.7: cannot open shared object file: No such file or directory\n",
      "2023-11-28 12:34:37.892665: W tensorflow/compiler/tf2tensorrt/utils/py_utils.cc:38] TF-TRT Warning: Cannot dlopen some TensorRT libraries. If you would like to use Nvidia GPU with TensorRT, please make sure the missing libraries mentioned above are installed properly.\n",
      "2023-11-28 12:34:41.458171: W tensorflow/stream_executor/platform/default/dso_loader.cc:64] Could not load dynamic library 'libcuda.so.1'; dlerror: libcuda.so.1: cannot open shared object file: No such file or directory\n",
      "2023-11-28 12:34:41.458415: W tensorflow/stream_executor/cuda/cuda_driver.cc:263] failed call to cuInit: UNKNOWN ERROR (303)\n",
      "2023-11-28 12:34:41.458538: I tensorflow/stream_executor/cuda/cuda_diagnostics.cc:156] kernel driver does not appear to be running on this host (DESKTOP-SSL8HMP): /proc/driver/nvidia/version does not exist\n",
      "2023-11-28 12:34:41.460169: I tensorflow/core/platform/cpu_feature_guard.cc:193] This TensorFlow binary is optimized with oneAPI Deep Neural Network Library (oneDNN) to use the following CPU instructions in performance-critical operations:  AVX2 FMA\n",
      "To enable them in other operations, rebuild TensorFlow with the appropriate compiler flags.\n",
      "2023-11-28 12:34:42.056986: W tensorflow/core/framework/cpu_allocator_impl.cc:82] Allocation of 205881344 exceeds 10% of free system memory.\n",
      "2023-11-28 12:34:42.533521: W tensorflow/core/framework/cpu_allocator_impl.cc:82] Allocation of 205881344 exceeds 10% of free system memory.\n",
      "2023-11-28 12:34:42.583711: W tensorflow/core/framework/cpu_allocator_impl.cc:82] Allocation of 205881344 exceeds 10% of free system memory.\n",
      "2023-11-28 12:34:49.341725: W tensorflow/core/framework/cpu_allocator_impl.cc:82] Allocation of 205881344 exceeds 10% of free system memory.\n",
      "Some weights of the PyTorch model were not used when initializing the TF 2.0 model TFBartForConditionalGeneration: ['model.decoder.embed_tokens.weight']\n",
      "- This IS expected if you are initializing TFBartForConditionalGeneration from a PyTorch model trained on another task or with another architecture (e.g. initializing a TFBertForSequenceClassification model from a BertForPreTraining model).\n",
      "- This IS NOT expected if you are initializing TFBartForConditionalGeneration from a PyTorch model that you expect to be exactly identical (e.g. initializing a TFBertForSequenceClassification model from a BertForSequenceClassification model).\n",
      "Some weights or buffers of the TF 2.0 model TFBartForConditionalGeneration were not initialized from the PyTorch model and are newly initialized: ['model.shared.weight']\n",
      "You should probably TRAIN this model on a down-stream task to be able to use it for predictions and inference.\n"
     ]
    }
   ],
   "source": [
    "from transformers import pipeline\n",
    "summarizer = pipeline(\"summarization\", model=\"facebook/bart-large-cnn\")"
   ]
  },
  {
   "cell_type": "code",
   "execution_count": 8,
   "id": "d5f75311-11db-4b5d-aa3c-1bdbf91d3c88",
   "metadata": {},
   "outputs": [
    {
     "name": "stderr",
     "output_type": "stream",
     "text": [
      "Some weights of the PyTorch model were not used when initializing the TF 2.0 model TFBartForConditionalGeneration: ['model.decoder.embed_tokens.weight']\n",
      "- This IS expected if you are initializing TFBartForConditionalGeneration from a PyTorch model trained on another task or with another architecture (e.g. initializing a TFBertForSequenceClassification model from a BertForPreTraining model).\n",
      "- This IS NOT expected if you are initializing TFBartForConditionalGeneration from a PyTorch model that you expect to be exactly identical (e.g. initializing a TFBertForSequenceClassification model from a BertForSequenceClassification model).\n",
      "Some weights or buffers of the TF 2.0 model TFBartForConditionalGeneration were not initialized from the PyTorch model and are newly initialized: ['model.shared.weight']\n",
      "You should probably TRAIN this model on a down-stream task to be able to use it for predictions and inference.\n"
     ]
    },
    {
     "data": {
      "text/plain": [
       "[{'summary_text': ' shortagesvan TRUEetermination TRUE TRUE transient transient volunteers missions missions c volunteers volunteers volunteers Stafford Stafford diving sponsoring sponsoring sponsoring c sponsoring sponsoring son diving diving diving ashes ashes675 c diving diving c c anyways sponsoring sponsoring diving sponsoring c c diving anyways diving ashes serpent serpent serpent ashes ashes ashes sponsoring sponsoring WB WB serpent serpent Fisheries ashes ashes Fisheries sponsoring ashes diving ashes sponsoring ashes sponsoring traders traders ashes ashes diving sponsoring ashes ashes anyways ashes ashes holds ashes ashes MDMA ashes ashesLGBTLGBT ashes ashes pioneered pioneered pioneered dads dads dads MDMA MDMA MDMALGBTLGBT inflated inflated inflated shifting shifting dividing extractendaleendaleendale detonTake Carlo Carloighedighed MDMA MDMA Carlo Carlo outpviation cringe cringe cringe'}]"
      ]
     },
     "execution_count": 8,
     "metadata": {},
     "output_type": "execute_result"
    }
   ],
   "source": [
    "text = ''\n",
    "print(summarizer(text, max_length=130, min_length=30, do_sample=False))"
   ]
  },
  {
   "cell_type": "code",
   "execution_count": null,
   "id": "04fad2f0-9746-4e57-be19-f7a234567324",
   "metadata": {},
   "outputs": [],
   "source": [
    "%% time"
   ]
  },
  {
   "cell_type": "code",
   "execution_count": null,
   "id": "2fead3c2-7aef-475c-88b1-3285cd7a7a52",
   "metadata": {},
   "outputs": [],
   "source": []
  },
  {
   "cell_type": "code",
   "execution_count": 3,
   "id": "3af4d93a-880e-486e-b30f-0a7cbedbd29f",
   "metadata": {},
   "outputs": [],
   "source": [
    "import pandas as pd\n",
    "pd.set_option('display.max_colwidth',3000)"
   ]
  },
  {
   "cell_type": "code",
   "execution_count": 5,
   "id": "0f9903ad-f17c-4017-9f0b-45f398ad70c9",
   "metadata": {},
   "outputs": [
    {
     "ename": "ValueError",
     "evalue": "Cannot mask with non-boolean array containing NA / NaN values",
     "output_type": "error",
     "traceback": [
      "\u001b[0;31m---------------------------------------------------------------------------\u001b[0m",
      "\u001b[0;31mValueError\u001b[0m                                Traceback (most recent call last)",
      "Cell \u001b[0;32mIn[5], line 2\u001b[0m\n\u001b[1;32m      1\u001b[0m df_left \u001b[38;5;241m=\u001b[39m pd\u001b[38;5;241m.\u001b[39mread_csv(\u001b[38;5;124m'\u001b[39m\u001b[38;5;124m../Data/braindedleft.csv\u001b[39m\u001b[38;5;124m'\u001b[39m)\n\u001b[0;32m----> 2\u001b[0m \u001b[43mdf_left\u001b[49m\u001b[43m[\u001b[49m\u001b[43mdf_left\u001b[49m\u001b[43m[\u001b[49m\u001b[38;5;124;43m'\u001b[39;49m\u001b[38;5;124;43mtext\u001b[39;49m\u001b[38;5;124;43m'\u001b[39;49m\u001b[43m]\u001b[49m\u001b[38;5;241;43m.\u001b[39;49m\u001b[43mstr\u001b[49m\u001b[38;5;241;43m.\u001b[39;49m\u001b[43mcontains\u001b[49m\u001b[43m(\u001b[49m\u001b[38;5;124;43m\"\u001b[39;49m\u001b[38;5;124;43mWhile the electio\u001b[39;49m\u001b[38;5;124;43m\"\u001b[39;49m\u001b[43m)\u001b[49m\u001b[43m]\u001b[49m\n",
      "File \u001b[0;32m~/.pyenv/versions/3.10.6/envs/news_and_echo_bubbles/lib/python3.10/site-packages/pandas/core/frame.py:3883\u001b[0m, in \u001b[0;36mDataFrame.__getitem__\u001b[0;34m(self, key)\u001b[0m\n\u001b[1;32m   3880\u001b[0m     \u001b[38;5;28;01mreturn\u001b[39;00m \u001b[38;5;28mself\u001b[39m\u001b[38;5;241m.\u001b[39mwhere(key)\n\u001b[1;32m   3882\u001b[0m \u001b[38;5;66;03m# Do we have a (boolean) 1d indexer?\u001b[39;00m\n\u001b[0;32m-> 3883\u001b[0m \u001b[38;5;28;01mif\u001b[39;00m \u001b[43mcom\u001b[49m\u001b[38;5;241;43m.\u001b[39;49m\u001b[43mis_bool_indexer\u001b[49m\u001b[43m(\u001b[49m\u001b[43mkey\u001b[49m\u001b[43m)\u001b[49m:\n\u001b[1;32m   3884\u001b[0m     \u001b[38;5;28;01mreturn\u001b[39;00m \u001b[38;5;28mself\u001b[39m\u001b[38;5;241m.\u001b[39m_getitem_bool_array(key)\n\u001b[1;32m   3886\u001b[0m \u001b[38;5;66;03m# We are left with two options: a single key, and a collection of keys,\u001b[39;00m\n\u001b[1;32m   3887\u001b[0m \u001b[38;5;66;03m# We interpret tuples as collections only for non-MultiIndex\u001b[39;00m\n",
      "File \u001b[0;32m~/.pyenv/versions/3.10.6/envs/news_and_echo_bubbles/lib/python3.10/site-packages/pandas/core/common.py:133\u001b[0m, in \u001b[0;36mis_bool_indexer\u001b[0;34m(key)\u001b[0m\n\u001b[1;32m    129\u001b[0m     na_msg \u001b[38;5;241m=\u001b[39m \u001b[38;5;124m\"\u001b[39m\u001b[38;5;124mCannot mask with non-boolean array containing NA / NaN values\u001b[39m\u001b[38;5;124m\"\u001b[39m\n\u001b[1;32m    130\u001b[0m     \u001b[38;5;28;01mif\u001b[39;00m lib\u001b[38;5;241m.\u001b[39mis_bool_array(key_array, skipna\u001b[38;5;241m=\u001b[39m\u001b[38;5;28;01mTrue\u001b[39;00m):\n\u001b[1;32m    131\u001b[0m         \u001b[38;5;66;03m# Don't raise on e.g. [\"A\", \"B\", np.nan], see\u001b[39;00m\n\u001b[1;32m    132\u001b[0m         \u001b[38;5;66;03m#  test_loc_getitem_list_of_labels_categoricalindex_with_na\u001b[39;00m\n\u001b[0;32m--> 133\u001b[0m         \u001b[38;5;28;01mraise\u001b[39;00m \u001b[38;5;167;01mValueError\u001b[39;00m(na_msg)\n\u001b[1;32m    134\u001b[0m     \u001b[38;5;28;01mreturn\u001b[39;00m \u001b[38;5;28;01mFalse\u001b[39;00m\n\u001b[1;32m    135\u001b[0m \u001b[38;5;28;01mreturn\u001b[39;00m \u001b[38;5;28;01mTrue\u001b[39;00m\n",
      "\u001b[0;31mValueError\u001b[0m: Cannot mask with non-boolean array containing NA / NaN values"
     ]
    }
   ],
   "source": [
    "df_left = pd.read_csv('../Data/braindedleft.csv')\n",
    "df_left[df_left['text'].str.contains(\"While the electio\")]"
   ]
  },
  {
   "cell_type": "code",
   "execution_count": 8,
   "id": "b2f829f1-50ab-4833-9024-9c032732e24e",
   "metadata": {},
   "outputs": [
    {
     "data": {
      "text/html": [
       "<div>\n",
       "<style scoped>\n",
       "    .dataframe tbody tr th:only-of-type {\n",
       "        vertical-align: middle;\n",
       "    }\n",
       "\n",
       "    .dataframe tbody tr th {\n",
       "        vertical-align: top;\n",
       "    }\n",
       "\n",
       "    .dataframe thead th {\n",
       "        text-align: right;\n",
       "    }\n",
       "</style>\n",
       "<table border=\"1\" class=\"dataframe\">\n",
       "  <thead>\n",
       "    <tr style=\"text-align: right;\">\n",
       "      <th></th>\n",
       "      <th>Unnamed: 0</th>\n",
       "      <th>link</th>\n",
       "      <th>pdate</th>\n",
       "      <th>title</th>\n",
       "      <th>author</th>\n",
       "      <th>text</th>\n",
       "      <th>keywords</th>\n",
       "      <th>tags</th>\n",
       "      <th>compound</th>\n",
       "      <th>neg</th>\n",
       "      <th>neu</th>\n",
       "      <th>pos</th>\n",
       "      <th>polarity</th>\n",
       "      <th>subjectivity</th>\n",
       "    </tr>\n",
       "  </thead>\n",
       "  <tbody>\n",
       "    <tr>\n",
       "      <th>0</th>\n",
       "      <td>0</td>\n",
       "      <td>https://kindest.com/442355-defend-democracy-today-support-fearless-insightful-journalism</td>\n",
       "      <td>NaN</td>\n",
       "      <td>Defend Democracy Today: Support Fearless, Insightful Journalism.</td>\n",
       "      <td>[]</td>\n",
       "      <td>0                                                                                                                                                                                                                                                                                                                                                                                                                                                                                                                                                                                                                                                                                                                                                                                                                                                                                                                                                                                                                                                                                                                                                                                                                                                                                                                                                                                                                                                                                                                                                                                                                                                                                                                                                                                                                              While the election has come and gone, the fight for our democracy is not over. While things look under a Biden presidency so far, it's clear Donald Trump's white nationalist and hateful rhetoric have set root in the Republican Party. The fight for America will continue as Mitch McConnell and Senate Republicans are expected to continue making it difficult for Joe Biden to pass even widely popular measures.\\n\\nThe Covid-19 pandemic surges and Americans continue for just representation and push back against the rise of fascism. Your contribution to AlterNet All Access will ensure progressive, honest reporting when it's needed more than ever. While advertising covers some of our expenses, it doesn't come close to the resources needed to cover the new of the world today. Support AlterNet All Access and know that we'll be here to get the facts out, whether they be the good or the bad.\\n\\nWith a donation of $95 or more, you'll also receive advanced ad-free access to original reporting from AlterNet and Raw Story, exclusive investigative content, and more.\\n\\nClick the following link if you prefer to make a monthly donation. Want to send a check? Send your check payable to \"AlterNet\" to : 'AlterNet Media P.O. Box 47864 Chicag...</td>\n",
       "      <td>['reporting', 'come', 'today', 'access', 'check', 'send', 'defend', 'fight', 'alternet', 'continue', 'donation', 'support', 'fearless', 'insightful', 'needed', 'democracy', 'journalism']</td>\n",
       "      <td>set()</td>\n",
       "      <td>0.8612</td>\n",
       "      <td>0.063</td>\n",
       "      <td>0.819</td>\n",
       "      <td>0.118</td>\n",
       "      <td>0.165589</td>\n",
       "      <td>0.539782</td>\n",
       "    </tr>\n",
       "    <tr>\n",
       "      <th>1</th>\n",
       "      <td>1</td>\n",
       "      <td>https://www.alternet.org/2021/03/dan-crenshaw/</td>\n",
       "      <td>2021-03-22 10:17:36+00:00</td>\n",
       "      <td>Republican Dan Crenshaw goes down in flames during debate with MSNBC's Mehdi Hasan</td>\n",
       "      <td>['Sarah K. Burris', 'Raw Story']</td>\n",
       "      <td>0                                                                                                                                                                                                                                                                                                                                                                                                                                                                                                                                                                                                                                                                                                                                                                                                                                                                                                                                                                                                                                                                                                                                                                                                                                                                                                                                                                                                                                                                                                                                                                                                                                                                                                                                                                                                                              While the election has come and gone, the fight for our democracy is not over. While things look under a Biden presidency so far, it's clear Donald Trump's white nationalist and hateful rhetoric have set root in the Republican Party. The fight for America will continue as Mitch McConnell and Senate Republicans are expected to continue making it difficult for Joe Biden to pass even widely popular measures.\\n\\nThe Covid-19 pandemic surges and Americans continue for just representation and push back against the rise of fascism. Your contribution to AlterNet All Access will ensure progressive, honest reporting when it's needed more than ever. While advertising covers some of our expenses, it doesn't come close to the resources needed to cover the new of the world today. Support AlterNet All Access and know that we'll be here to get the facts out, whether they be the good or the bad.\\n\\nWith a donation of $95 or more, you'll also receive advanced ad-free access to original reporting from AlterNet and Raw Story, exclusive investigative content, and more.\\n\\nClick the following link if you prefer to make a monthly donation. Want to send a check? Send your check payable to \"AlterNet\" to : 'AlterNet Media P.O. Box 47864 Chicag...</td>\n",
       "      <td>['come', 'didnt', 'going', 'fox', 'biden', 'crenshaw', 'mehdi', 'hasan', 'msnbcs', 'dan', 'dont', 'deport', 'flames', 'influx', 'goes', 'debate', 'republican']</td>\n",
       "      <td>{'Religious right'}</td>\n",
       "      <td>0.6474</td>\n",
       "      <td>0.055</td>\n",
       "      <td>0.876</td>\n",
       "      <td>0.069</td>\n",
       "      <td>-0.034989</td>\n",
       "      <td>0.411162</td>\n",
       "    </tr>\n",
       "    <tr>\n",
       "      <th>2</th>\n",
       "      <td>2</td>\n",
       "      <td>https://www.alternet.org/2021/03/rep-dan-crenshaw-faces-backlash-for-purchasing-stock-during-and-failing-to-disclose-transactions/</td>\n",
       "      <td>2021-03-09 13:32:36+00:00</td>\n",
       "      <td>Rep. Dan Crenshaw purchased stock during pandemic — and failed to disclose transactions</td>\n",
       "      <td>['Meaghan Ellis']</td>\n",
       "      <td>0                                                                                                                                                                                                                                                                                                                                                                                                                                                                                                                                                                                                                                                                                                                                                                                                                                                                                                                                                                                                                                                                                                                                                                                                                                                                                                                                                                                                                                                                                                                                                                                                                                                                                                                                                                                                                              While the election has come and gone, the fight for our democracy is not over. While things look under a Biden presidency so far, it's clear Donald Trump's white nationalist and hateful rhetoric have set root in the Republican Party. The fight for America will continue as Mitch McConnell and Senate Republicans are expected to continue making it difficult for Joe Biden to pass even widely popular measures.\\n\\nThe Covid-19 pandemic surges and Americans continue for just representation and push back against the rise of fascism. Your contribution to AlterNet All Access will ensure progressive, honest reporting when it's needed more than ever. While advertising covers some of our expenses, it doesn't come close to the resources needed to cover the new of the world today. Support AlterNet All Access and know that we'll be here to get the facts out, whether they be the good or the bad.\\n\\nWith a donation of $95 or more, you'll also receive advanced ad-free access to original reporting from AlterNet and Raw Story, exclusive investigative content, and more.\\n\\nClick the following link if you prefer to make a monthly donation. Want to send a check? Send your check payable to \"AlterNet\" to : 'AlterNet Media P.O. Box 47864 Chicag...</td>\n",
       "      <td>['purchased', 'transactions', 'law', 'pandemic', 'report', 'rep', 'stock', 'crenshaw', 'discigil', 'beast', 'youre', 'disclose', 'dan', 'purchases', 'failed', 'statement', 'crenshaws']</td>\n",
       "      <td>{'Religious right'}</td>\n",
       "      <td>-0.8949</td>\n",
       "      <td>0.082</td>\n",
       "      <td>0.860</td>\n",
       "      <td>0.058</td>\n",
       "      <td>0.011441</td>\n",
       "      <td>0.323766</td>\n",
       "    </tr>\n",
       "    <tr>\n",
       "      <th>3</th>\n",
       "      <td>3</td>\n",
       "      <td>https://www.alternet.org/2020/11/dan-crenshaw/</td>\n",
       "      <td>2020-11-23 12:14:56+00:00</td>\n",
       "      <td>Sen. Ed Markey applauded for silent dismissal of Texas Republican Dan Crenshaw's lame attack</td>\n",
       "      <td>['Walter Einenkel', 'Daily Kos']</td>\n",
       "      <td>0                                                                                                                                                                                                                                                                                                                                                                                                                                                                                                                                                                                                                                                                                                                                                                                                                                                                                                                                                                                                                                                                                                                                                                                                                                                                                                                                                                                                                                                                                                                                                                                                                                                                                                                                                                                                                              While the election has come and gone, the fight for our democracy is not over. While things look under a Biden presidency so far, it's clear Donald Trump's white nationalist and hateful rhetoric have set root in the Republican Party. The fight for America will continue as Mitch McConnell and Senate Republicans are expected to continue making it difficult for Joe Biden to pass even widely popular measures.\\n\\nThe Covid-19 pandemic surges and Americans continue for just representation and push back against the rise of fascism. Your contribution to AlterNet All Access will ensure progressive, honest reporting when it's needed more than ever. While advertising covers some of our expenses, it doesn't come close to the resources needed to cover the new of the world today. Support AlterNet All Access and know that we'll be here to get the facts out, whether they be the good or the bad.\\n\\nWith a donation of $95 or more, you'll also receive advanced ad-free access to original reporting from AlterNet and Raw Story, exclusive investigative content, and more.\\n\\nClick the following link if you prefer to make a monthly donation. Want to send a check? Send your check payable to \"AlterNet\" to : 'AlterNet Media P.O. Box 47864 Chicag...</td>\n",
       "      <td>['district', 'lame', 'markey', 'office', 'rep', 'crenshaws', 'media', 'crenshaw', 'social', 'dismissal', 'dan', 'texas', 'party', 'massachusetts', 'republican', 'silent', 'ed', 'sen']</td>\n",
       "      <td>{'Religious right'}</td>\n",
       "      <td>0.9289</td>\n",
       "      <td>0.071</td>\n",
       "      <td>0.811</td>\n",
       "      <td>0.118</td>\n",
       "      <td>0.081250</td>\n",
       "      <td>0.439912</td>\n",
       "    </tr>\n",
       "    <tr>\n",
       "      <th>4</th>\n",
       "      <td>4</td>\n",
       "      <td>https://www.alternet.org/2019/05/rep-dan-crenshaw-gets-cornered-on-the-view-for-offering-ridiculous-excuse-on-trumps-charlottesville-response-why-do-you-apologize-for-him/</td>\n",
       "      <td>2019-05-06 17:40:27+00:00</td>\n",
       "      <td>Rep. Dan Crenshaw gets cornered on The View for offering 'ridiculous' excuse on Trump’s Charlottesville response: 'Why do you apologize for him?'</td>\n",
       "      <td>['Travis Gettys', 'Raw Story']</td>\n",
       "      <td>0                                                                                                                                                                                                                                                                                                                                                                                                                                                                                                                                                                                                                                                                                                                                                                                                                                                                                                                                                                                                                                                                                                                                                                                                                                                                                                                                                                                                                                                                                                                                                                                                                                                                                                                                                                                                                              While the election has come and gone, the fight for our democracy is not over. While things look under a Biden presidency so far, it's clear Donald Trump's white nationalist and hateful rhetoric have set root in the Republican Party. The fight for America will continue as Mitch McConnell and Senate Republicans are expected to continue making it difficult for Joe Biden to pass even widely popular measures.\\n\\nThe Covid-19 pandemic surges and Americans continue for just representation and push back against the rise of fascism. Your contribution to AlterNet All Access will ensure progressive, honest reporting when it's needed more than ever. While advertising covers some of our expenses, it doesn't come close to the resources needed to cover the new of the world today. Support AlterNet All Access and know that we'll be here to get the facts out, whether they be the good or the bad.\\n\\nWith a donation of $95 or more, you'll also receive advanced ad-free access to original reporting from AlterNet and Raw Story, exclusive investigative content, and more.\\n\\nClick the following link if you prefer to make a monthly donation. Want to send a check? Send your check payable to \"AlterNet\" to : 'AlterNet Media P.O. Box 47864 Chicag...</td>\n",
       "      <td>['words', 'view', 'offering', 'think', 'omar', 'white', 'saying', 'trumps', 'youre', 'rep', 'democrats', 'dan', 'remarks', 'excuse', 'team', 'response', 'crenshaw', 'gets', 'ridiculous']</td>\n",
       "      <td>{'Religious right'}</td>\n",
       "      <td>-0.4810</td>\n",
       "      <td>0.077</td>\n",
       "      <td>0.848</td>\n",
       "      <td>0.075</td>\n",
       "      <td>0.045094</td>\n",
       "      <td>0.453717</td>\n",
       "    </tr>\n",
       "    <tr>\n",
       "      <th>...</th>\n",
       "      <td>...</td>\n",
       "      <td>...</td>\n",
       "      <td>...</td>\n",
       "      <td>...</td>\n",
       "      <td>...</td>\n",
       "      <td>...</td>\n",
       "      <td>...</td>\n",
       "      <td>...</td>\n",
       "      <td>...</td>\n",
       "      <td>...</td>\n",
       "      <td>...</td>\n",
       "      <td>...</td>\n",
       "      <td>...</td>\n",
       "      <td>...</td>\n",
       "    </tr>\n",
       "    <tr>\n",
       "      <th>2406</th>\n",
       "      <td>2406</td>\n",
       "      <td>https://theintercept.com/document/2020/11/30/aric-informational-bulletin-june-2020-week-3/</td>\n",
       "      <td>2020-04-20 17:39:46+00:00</td>\n",
       "      <td>Conversations With ‘The Nation’: The Rev. Dr. William J. Barber II</td>\n",
       "      <td>['The Nation', 'Alexandra Brodsky', 'John Nichols', 'Jeet Heer', 'Tyler Stovall', 'Nanjala Nyabola', 'Mychal Denzel Smith']</td>\n",
       "      <td>0                                                                                                                                                                                                                                                                                                                                                                                                                                                                                                                                                                                                                                                                                                                                                                                                                                                                                                                                                                                                                                                                                                                                                                                                                                                                                                                                                                                                                                                                                                                                                                                                                                                                                                                                                                                                                              While the election has come and gone, the fight for our democracy is not over. While things look under a Biden presidency so far, it's clear Donald Trump's white nationalist and hateful rhetoric have set root in the Republican Party. The fight for America will continue as Mitch McConnell and Senate Republicans are expected to continue making it difficult for Joe Biden to pass even widely popular measures.\\n\\nThe Covid-19 pandemic surges and Americans continue for just representation and push back against the rise of fascism. Your contribution to AlterNet All Access will ensure progressive, honest reporting when it's needed more than ever. While advertising covers some of our expenses, it doesn't come close to the resources needed to cover the new of the world today. Support AlterNet All Access and know that we'll be here to get the facts out, whether they be the good or the bad.\\n\\nWith a donation of $95 or more, you'll also receive advanced ad-free access to original reporting from AlterNet and Raw Story, exclusive investigative content, and more.\\n\\nClick the following link if you prefer to make a monthly donation. Want to send a check? Send your check payable to \"AlterNet\" to : 'AlterNet Media P.O. Box 47864 Chicag...</td>\n",
       "      <td>['reverend', 'dr', 'conversations', 'united', 'rev', 'comfortable', 'washington', 'states', 'j', 'ways', 'nation', 'poor', 'barber', 'ii', 'william', 'peoples']</td>\n",
       "      <td>set()</td>\n",
       "      <td>0.7131</td>\n",
       "      <td>0.089</td>\n",
       "      <td>0.807</td>\n",
       "      <td>0.104</td>\n",
       "      <td>0.090121</td>\n",
       "      <td>0.536848</td>\n",
       "    </tr>\n",
       "    <tr>\n",
       "      <th>2407</th>\n",
       "      <td>2407</td>\n",
       "      <td>https://theintercept.com/document/2020/11/23/nota-taquigrafica-cspcco/</td>\n",
       "      <td>2020-04-13 14:06:04+00:00</td>\n",
       "      <td>After Bernie: A Live Debate</td>\n",
       "      <td>['The Nation', 'Alexandra Brodsky', 'John Nichols', 'Jeet Heer', 'Tyler Stovall', 'Nanjala Nyabola', 'Mychal Denzel Smith']</td>\n",
       "      <td>0                                                                                                                                                                                                                                                                                                                                                                                                                                                                                                                                                                                                                                                                                                                                                                                                                                                                                                                                                                                                                                                                                                                                                                                                                                                                                                                                                                                                                                                                                                                                                                                                                                                                                                                                                                                                                              While the election has come and gone, the fight for our democracy is not over. While things look under a Biden presidency so far, it's clear Donald Trump's white nationalist and hateful rhetoric have set root in the Republican Party. The fight for America will continue as Mitch McConnell and Senate Republicans are expected to continue making it difficult for Joe Biden to pass even widely popular measures.\\n\\nThe Covid-19 pandemic surges and Americans continue for just representation and push back against the rise of fascism. Your contribution to AlterNet All Access will ensure progressive, honest reporting when it's needed more than ever. While advertising covers some of our expenses, it doesn't come close to the resources needed to cover the new of the world today. Support AlterNet All Access and know that we'll be here to get the facts out, whether they be the good or the bad.\\n\\nWith a donation of $95 or more, you'll also receive advanced ad-free access to original reporting from AlterNet and Raw Story, exclusive investigative content, and more.\\n\\nClick the following link if you prefer to make a monthly donation. Want to send a check? Send your check payable to \"AlterNet\" to : 'AlterNet Media P.O. Box 47864 Chicag...</td>\n",
       "      <td>['shahid', 'suspended', 'waleed', 'standardbearer', 'live', 'scientist', 'schlozman', 'bernie', 'sanders', 'week', 'spokesperson', 'debate', 'senator']</td>\n",
       "      <td>set()</td>\n",
       "      <td>0.4019</td>\n",
       "      <td>0.077</td>\n",
       "      <td>0.810</td>\n",
       "      <td>0.113</td>\n",
       "      <td>0.037500</td>\n",
       "      <td>0.295833</td>\n",
       "    </tr>\n",
       "    <tr>\n",
       "      <th>2408</th>\n",
       "      <td>2408</td>\n",
       "      <td>https://theintercept.com/2021/03/16/texas-private-prison-covid-geo-group/</td>\n",
       "      <td>2020-02-19 16:58:58+00:00</td>\n",
       "      <td>Sanders or Warren: Time to Choose?</td>\n",
       "      <td>['The Nation', 'Alexandra Brodsky', 'John Nichols', 'Jeet Heer', 'Tyler Stovall', 'Nanjala Nyabola', 'Mychal Denzel Smith']</td>\n",
       "      <td>0                                                                                                                                                                                                                                                                                                                                                                                                                                                                                                                                                                                                                                                                                                                                                                                                                                                                                                                                                                                                                                                                                                                                                                                                                                                                                                                                                                                                                                                                                                                                                                                                                                                                                                                                                                                                                              While the election has come and gone, the fight for our democracy is not over. While things look under a Biden presidency so far, it's clear Donald Trump's white nationalist and hateful rhetoric have set root in the Republican Party. The fight for America will continue as Mitch McConnell and Senate Republicans are expected to continue making it difficult for Joe Biden to pass even widely popular measures.\\n\\nThe Covid-19 pandemic surges and Americans continue for just representation and push back against the rise of fascism. Your contribution to AlterNet All Access will ensure progressive, honest reporting when it's needed more than ever. While advertising covers some of our expenses, it doesn't come close to the resources needed to cover the new of the world today. Support AlterNet All Access and know that we'll be here to get the facts out, whether they be the good or the bad.\\n\\nWith a donation of $95 or more, you'll also receive advanced ad-free access to original reporting from AlterNet and Raw Story, exclusive investigative content, and more.\\n\\nClick the following link if you prefer to make a monthly donation. Want to send a check? Send your check payable to \"AlterNet\" to : 'AlterNet Media P.O. Box 47864 Chicag...</td>\n",
       "      <td>['school', 'watch', 'progressives', 'sanders', 'zephyr', 'trump', 'sunkara', 'warren', 'choose', 'progressive', 'teachout']</td>\n",
       "      <td>set()</td>\n",
       "      <td>0.5499</td>\n",
       "      <td>0.051</td>\n",
       "      <td>0.853</td>\n",
       "      <td>0.096</td>\n",
       "      <td>1.000000</td>\n",
       "      <td>0.300000</td>\n",
       "    </tr>\n",
       "    <tr>\n",
       "      <th>2409</th>\n",
       "      <td>2409</td>\n",
       "      <td>https://theintercept.com/2021/03/14/child-migrant-detention-biden-immigration/</td>\n",
       "      <td>2019-09-04 11:00:31+00:00</td>\n",
       "      <td>The White Power Movement From Reagan to Trump</td>\n",
       "      <td>['Jon Wiener', 'Alexandra Brodsky', 'John Nichols', 'Jeet Heer', 'Tyler Stovall', 'Nanjala Nyabola', 'The Nation', 'Mychal Denzel Smith']</td>\n",
       "      <td>0                                                                                                                                                                                                                                                                                                                                                                                                                                                                                                                                                                                                                                                                                                                                                                                                                                                                                                                                                                                                                                                                                                                                                                                                                                                                                                                                                                                                                                                                                                                                                                                                                                                                                                                                                                                                                              While the election has come and gone, the fight for our democracy is not over. While things look under a Biden presidency so far, it's clear Donald Trump's white nationalist and hateful rhetoric have set root in the Republican Party. The fight for America will continue as Mitch McConnell and Senate Republicans are expected to continue making it difficult for Joe Biden to pass even widely popular measures.\\n\\nThe Covid-19 pandemic surges and Americans continue for just representation and push back against the rise of fascism. Your contribution to AlterNet All Access will ensure progressive, honest reporting when it's needed more than ever. While advertising covers some of our expenses, it doesn't come close to the resources needed to cover the new of the world today. Support AlterNet All Access and know that we'll be here to get the facts out, whether they be the good or the bad.\\n\\nWith a donation of $95 or more, you'll also receive advanced ad-free access to original reporting from AlterNet and Raw Story, exclusive investigative content, and more.\\n\\nClick the following link if you prefer to make a monthly donation. Want to send a check? Send your check payable to \"AlterNet\" to : 'AlterNet Media P.O. Box 47864 Chicag...</td>\n",
       "      <td>['war', 'women', 'violence', 'reagan', 'white', 'nations', 'movement', 'power', 'trump', 'nation', 'activists', 'theres']</td>\n",
       "      <td>set()</td>\n",
       "      <td>-0.9554</td>\n",
       "      <td>0.077</td>\n",
       "      <td>0.842</td>\n",
       "      <td>0.081</td>\n",
       "      <td>0.083106</td>\n",
       "      <td>0.382314</td>\n",
       "    </tr>\n",
       "    <tr>\n",
       "      <th>2410</th>\n",
       "      <td>2410</td>\n",
       "      <td>https://theintercept.com/2021/03/14/missouri-prosecutor-wrongful-conviction-lamar-johnson/</td>\n",
       "      <td>2019-07-03 18:59:13+00:00</td>\n",
       "      <td>VIDEO: A General Strike Is Possible, but We Have to Work for It</td>\n",
       "      <td>['The Nation', 'Alexandra Brodsky', 'John Nichols', 'Jeet Heer', 'Tyler Stovall', 'Nanjala Nyabola', 'Mychal Denzel Smith']</td>\n",
       "      <td>0                                                                                                                                                                                                                                                                                                                                                                                                                                                                                                                                                                                                                                                                                                                                                                                                                                                                                                                                                                                                                                                                                                                                                                                                                                                                                                                                                                                                                                                                                                                                                                                                                                                                                                                                                                                                                              While the election has come and gone, the fight for our democracy is not over. While things look under a Biden presidency so far, it's clear Donald Trump's white nationalist and hateful rhetoric have set root in the Republican Party. The fight for America will continue as Mitch McConnell and Senate Republicans are expected to continue making it difficult for Joe Biden to pass even widely popular measures.\\n\\nThe Covid-19 pandemic surges and Americans continue for just representation and push back against the rise of fascism. Your contribution to AlterNet All Access will ensure progressive, honest reporting when it's needed more than ever. While advertising covers some of our expenses, it doesn't come close to the resources needed to cover the new of the world today. Support AlterNet All Access and know that we'll be here to get the facts out, whether they be the good or the bad.\\n\\nWith a donation of $95 or more, you'll also receive advanced ad-free access to original reporting from AlterNet and Raw Story, exclusive investigative content, and more.\\n\\nClick the following link if you prefer to make a monthly donation. Want to send a check? Send your check payable to \"AlterNet\" to : 'AlterNet Media P.O. Box 47864 Chicag...</td>\n",
       "      <td>['work', 'speech', 'centenary', 'address', 'general', 'possible', 'strike', 'winnipeg', 'strikes', 'conference', 'power', 'mcalevey', 'video']</td>\n",
       "      <td>set()</td>\n",
       "      <td>-0.8689</td>\n",
       "      <td>0.133</td>\n",
       "      <td>0.831</td>\n",
       "      <td>0.036</td>\n",
       "      <td>0.053864</td>\n",
       "      <td>0.549545</td>\n",
       "    </tr>\n",
       "  </tbody>\n",
       "</table>\n",
       "<p>2411 rows × 14 columns</p>\n",
       "</div>"
      ],
      "text/plain": [
       "      Unnamed: 0  \\\n",
       "0              0   \n",
       "1              1   \n",
       "2              2   \n",
       "3              3   \n",
       "4              4   \n",
       "...          ...   \n",
       "2406        2406   \n",
       "2407        2407   \n",
       "2408        2408   \n",
       "2409        2409   \n",
       "2410        2410   \n",
       "\n",
       "                                                                                                                                                                             link  \\\n",
       "0                                                                                        https://kindest.com/442355-defend-democracy-today-support-fearless-insightful-journalism   \n",
       "1                                                                                                                                  https://www.alternet.org/2021/03/dan-crenshaw/   \n",
       "2                                              https://www.alternet.org/2021/03/rep-dan-crenshaw-faces-backlash-for-purchasing-stock-during-and-failing-to-disclose-transactions/   \n",
       "3                                                                                                                                  https://www.alternet.org/2020/11/dan-crenshaw/   \n",
       "4     https://www.alternet.org/2019/05/rep-dan-crenshaw-gets-cornered-on-the-view-for-offering-ridiculous-excuse-on-trumps-charlottesville-response-why-do-you-apologize-for-him/   \n",
       "...                                                                                                                                                                           ...   \n",
       "2406                                                                                   https://theintercept.com/document/2020/11/30/aric-informational-bulletin-june-2020-week-3/   \n",
       "2407                                                                                                       https://theintercept.com/document/2020/11/23/nota-taquigrafica-cspcco/   \n",
       "2408                                                                                                    https://theintercept.com/2021/03/16/texas-private-prison-covid-geo-group/   \n",
       "2409                                                                                               https://theintercept.com/2021/03/14/child-migrant-detention-biden-immigration/   \n",
       "2410                                                                                   https://theintercept.com/2021/03/14/missouri-prosecutor-wrongful-conviction-lamar-johnson/   \n",
       "\n",
       "                          pdate  \\\n",
       "0                           NaN   \n",
       "1     2021-03-22 10:17:36+00:00   \n",
       "2     2021-03-09 13:32:36+00:00   \n",
       "3     2020-11-23 12:14:56+00:00   \n",
       "4     2019-05-06 17:40:27+00:00   \n",
       "...                         ...   \n",
       "2406  2020-04-20 17:39:46+00:00   \n",
       "2407  2020-04-13 14:06:04+00:00   \n",
       "2408  2020-02-19 16:58:58+00:00   \n",
       "2409  2019-09-04 11:00:31+00:00   \n",
       "2410  2019-07-03 18:59:13+00:00   \n",
       "\n",
       "                                                                                                                                                  title  \\\n",
       "0                                                                                      Defend Democracy Today: Support Fearless, Insightful Journalism.   \n",
       "1                                                                    Republican Dan Crenshaw goes down in flames during debate with MSNBC's Mehdi Hasan   \n",
       "2                                                               Rep. Dan Crenshaw purchased stock during pandemic — and failed to disclose transactions   \n",
       "3                                                          Sen. Ed Markey applauded for silent dismissal of Texas Republican Dan Crenshaw's lame attack   \n",
       "4     Rep. Dan Crenshaw gets cornered on The View for offering 'ridiculous' excuse on Trump’s Charlottesville response: 'Why do you apologize for him?'   \n",
       "...                                                                                                                                                 ...   \n",
       "2406                                                                                 Conversations With ‘The Nation’: The Rev. Dr. William J. Barber II   \n",
       "2407                                                                                                                        After Bernie: A Live Debate   \n",
       "2408                                                                                                                 Sanders or Warren: Time to Choose?   \n",
       "2409                                                                                                      The White Power Movement From Reagan to Trump   \n",
       "2410                                                                                    VIDEO: A General Strike Is Possible, but We Have to Work for It   \n",
       "\n",
       "                                                                                                                                         author  \\\n",
       "0                                                                                                                                            []   \n",
       "1                                                                                                              ['Sarah K. Burris', 'Raw Story']   \n",
       "2                                                                                                                             ['Meaghan Ellis']   \n",
       "3                                                                                                              ['Walter Einenkel', 'Daily Kos']   \n",
       "4                                                                                                                ['Travis Gettys', 'Raw Story']   \n",
       "...                                                                                                                                         ...   \n",
       "2406                ['The Nation', 'Alexandra Brodsky', 'John Nichols', 'Jeet Heer', 'Tyler Stovall', 'Nanjala Nyabola', 'Mychal Denzel Smith']   \n",
       "2407                ['The Nation', 'Alexandra Brodsky', 'John Nichols', 'Jeet Heer', 'Tyler Stovall', 'Nanjala Nyabola', 'Mychal Denzel Smith']   \n",
       "2408                ['The Nation', 'Alexandra Brodsky', 'John Nichols', 'Jeet Heer', 'Tyler Stovall', 'Nanjala Nyabola', 'Mychal Denzel Smith']   \n",
       "2409  ['Jon Wiener', 'Alexandra Brodsky', 'John Nichols', 'Jeet Heer', 'Tyler Stovall', 'Nanjala Nyabola', 'The Nation', 'Mychal Denzel Smith']   \n",
       "2410                ['The Nation', 'Alexandra Brodsky', 'John Nichols', 'Jeet Heer', 'Tyler Stovall', 'Nanjala Nyabola', 'Mychal Denzel Smith']   \n",
       "\n",
       "                                                                                                                                                                                                                                                                                                                                                                                                                                                                                                                                                                                                                                                                                                                                                                                                                                                                                                                                                                                                                                                                                                                                                                                                                                                                                                                                                                                                                                                                                                                                                                                                                                                                                                                                                                                                                                                                                                                                                                                                                                                                                                                                                                                                                                                                                                                                                                                                                                                                                                                                                                                                                                                                                                                                                                                                                                                                                                                                                                                                                                                                                                                         text  \\\n",
       "0     0                                                                                                                                                                                                                                                                                                                                                                                                                                                                                                                                                                                                                                                                                                                                                                                                                                                                                                                                                                                                                                                                                                                                                                                                                                                                                                                                                                                                                                                                                                                                                                                                                                                                                                                                                                                                                              While the election has come and gone, the fight for our democracy is not over. While things look under a Biden presidency so far, it's clear Donald Trump's white nationalist and hateful rhetoric have set root in the Republican Party. The fight for America will continue as Mitch McConnell and Senate Republicans are expected to continue making it difficult for Joe Biden to pass even widely popular measures.\\n\\nThe Covid-19 pandemic surges and Americans continue for just representation and push back against the rise of fascism. Your contribution to AlterNet All Access will ensure progressive, honest reporting when it's needed more than ever. While advertising covers some of our expenses, it doesn't come close to the resources needed to cover the new of the world today. Support AlterNet All Access and know that we'll be here to get the facts out, whether they be the good or the bad.\\n\\nWith a donation of $95 or more, you'll also receive advanced ad-free access to original reporting from AlterNet and Raw Story, exclusive investigative content, and more.\\n\\nClick the following link if you prefer to make a monthly donation. Want to send a check? Send your check payable to \"AlterNet\" to : 'AlterNet Media P.O. Box 47864 Chicag...   \n",
       "1     0                                                                                                                                                                                                                                                                                                                                                                                                                                                                                                                                                                                                                                                                                                                                                                                                                                                                                                                                                                                                                                                                                                                                                                                                                                                                                                                                                                                                                                                                                                                                                                                                                                                                                                                                                                                                                              While the election has come and gone, the fight for our democracy is not over. While things look under a Biden presidency so far, it's clear Donald Trump's white nationalist and hateful rhetoric have set root in the Republican Party. The fight for America will continue as Mitch McConnell and Senate Republicans are expected to continue making it difficult for Joe Biden to pass even widely popular measures.\\n\\nThe Covid-19 pandemic surges and Americans continue for just representation and push back against the rise of fascism. Your contribution to AlterNet All Access will ensure progressive, honest reporting when it's needed more than ever. While advertising covers some of our expenses, it doesn't come close to the resources needed to cover the new of the world today. Support AlterNet All Access and know that we'll be here to get the facts out, whether they be the good or the bad.\\n\\nWith a donation of $95 or more, you'll also receive advanced ad-free access to original reporting from AlterNet and Raw Story, exclusive investigative content, and more.\\n\\nClick the following link if you prefer to make a monthly donation. Want to send a check? Send your check payable to \"AlterNet\" to : 'AlterNet Media P.O. Box 47864 Chicag...   \n",
       "2     0                                                                                                                                                                                                                                                                                                                                                                                                                                                                                                                                                                                                                                                                                                                                                                                                                                                                                                                                                                                                                                                                                                                                                                                                                                                                                                                                                                                                                                                                                                                                                                                                                                                                                                                                                                                                                              While the election has come and gone, the fight for our democracy is not over. While things look under a Biden presidency so far, it's clear Donald Trump's white nationalist and hateful rhetoric have set root in the Republican Party. The fight for America will continue as Mitch McConnell and Senate Republicans are expected to continue making it difficult for Joe Biden to pass even widely popular measures.\\n\\nThe Covid-19 pandemic surges and Americans continue for just representation and push back against the rise of fascism. Your contribution to AlterNet All Access will ensure progressive, honest reporting when it's needed more than ever. While advertising covers some of our expenses, it doesn't come close to the resources needed to cover the new of the world today. Support AlterNet All Access and know that we'll be here to get the facts out, whether they be the good or the bad.\\n\\nWith a donation of $95 or more, you'll also receive advanced ad-free access to original reporting from AlterNet and Raw Story, exclusive investigative content, and more.\\n\\nClick the following link if you prefer to make a monthly donation. Want to send a check? Send your check payable to \"AlterNet\" to : 'AlterNet Media P.O. Box 47864 Chicag...   \n",
       "3     0                                                                                                                                                                                                                                                                                                                                                                                                                                                                                                                                                                                                                                                                                                                                                                                                                                                                                                                                                                                                                                                                                                                                                                                                                                                                                                                                                                                                                                                                                                                                                                                                                                                                                                                                                                                                                              While the election has come and gone, the fight for our democracy is not over. While things look under a Biden presidency so far, it's clear Donald Trump's white nationalist and hateful rhetoric have set root in the Republican Party. The fight for America will continue as Mitch McConnell and Senate Republicans are expected to continue making it difficult for Joe Biden to pass even widely popular measures.\\n\\nThe Covid-19 pandemic surges and Americans continue for just representation and push back against the rise of fascism. Your contribution to AlterNet All Access will ensure progressive, honest reporting when it's needed more than ever. While advertising covers some of our expenses, it doesn't come close to the resources needed to cover the new of the world today. Support AlterNet All Access and know that we'll be here to get the facts out, whether they be the good or the bad.\\n\\nWith a donation of $95 or more, you'll also receive advanced ad-free access to original reporting from AlterNet and Raw Story, exclusive investigative content, and more.\\n\\nClick the following link if you prefer to make a monthly donation. Want to send a check? Send your check payable to \"AlterNet\" to : 'AlterNet Media P.O. Box 47864 Chicag...   \n",
       "4     0                                                                                                                                                                                                                                                                                                                                                                                                                                                                                                                                                                                                                                                                                                                                                                                                                                                                                                                                                                                                                                                                                                                                                                                                                                                                                                                                                                                                                                                                                                                                                                                                                                                                                                                                                                                                                              While the election has come and gone, the fight for our democracy is not over. While things look under a Biden presidency so far, it's clear Donald Trump's white nationalist and hateful rhetoric have set root in the Republican Party. The fight for America will continue as Mitch McConnell and Senate Republicans are expected to continue making it difficult for Joe Biden to pass even widely popular measures.\\n\\nThe Covid-19 pandemic surges and Americans continue for just representation and push back against the rise of fascism. Your contribution to AlterNet All Access will ensure progressive, honest reporting when it's needed more than ever. While advertising covers some of our expenses, it doesn't come close to the resources needed to cover the new of the world today. Support AlterNet All Access and know that we'll be here to get the facts out, whether they be the good or the bad.\\n\\nWith a donation of $95 or more, you'll also receive advanced ad-free access to original reporting from AlterNet and Raw Story, exclusive investigative content, and more.\\n\\nClick the following link if you prefer to make a monthly donation. Want to send a check? Send your check payable to \"AlterNet\" to : 'AlterNet Media P.O. Box 47864 Chicag...   \n",
       "...                                                                                                                                                                                                                                                                                                                                                                                                                                                                                                                                                                                                                                                                                                                                                                                                                                                                                                                                                                                                                                                                                                                                                                                                                                                                                                                                                                                                                                                                                                                                                                                                                                                                                                                                                                                                                                                                                                                                                                                                                                                                                                                                                                                                                                                                                                                                                                                                                                                                                                                                                                                                                                                                                                                                                                                                                                                                                                                                                                                                                                                                                                                       ...   \n",
       "2406  0                                                                                                                                                                                                                                                                                                                                                                                                                                                                                                                                                                                                                                                                                                                                                                                                                                                                                                                                                                                                                                                                                                                                                                                                                                                                                                                                                                                                                                                                                                                                                                                                                                                                                                                                                                                                                              While the election has come and gone, the fight for our democracy is not over. While things look under a Biden presidency so far, it's clear Donald Trump's white nationalist and hateful rhetoric have set root in the Republican Party. The fight for America will continue as Mitch McConnell and Senate Republicans are expected to continue making it difficult for Joe Biden to pass even widely popular measures.\\n\\nThe Covid-19 pandemic surges and Americans continue for just representation and push back against the rise of fascism. Your contribution to AlterNet All Access will ensure progressive, honest reporting when it's needed more than ever. While advertising covers some of our expenses, it doesn't come close to the resources needed to cover the new of the world today. Support AlterNet All Access and know that we'll be here to get the facts out, whether they be the good or the bad.\\n\\nWith a donation of $95 or more, you'll also receive advanced ad-free access to original reporting from AlterNet and Raw Story, exclusive investigative content, and more.\\n\\nClick the following link if you prefer to make a monthly donation. Want to send a check? Send your check payable to \"AlterNet\" to : 'AlterNet Media P.O. Box 47864 Chicag...   \n",
       "2407  0                                                                                                                                                                                                                                                                                                                                                                                                                                                                                                                                                                                                                                                                                                                                                                                                                                                                                                                                                                                                                                                                                                                                                                                                                                                                                                                                                                                                                                                                                                                                                                                                                                                                                                                                                                                                                              While the election has come and gone, the fight for our democracy is not over. While things look under a Biden presidency so far, it's clear Donald Trump's white nationalist and hateful rhetoric have set root in the Republican Party. The fight for America will continue as Mitch McConnell and Senate Republicans are expected to continue making it difficult for Joe Biden to pass even widely popular measures.\\n\\nThe Covid-19 pandemic surges and Americans continue for just representation and push back against the rise of fascism. Your contribution to AlterNet All Access will ensure progressive, honest reporting when it's needed more than ever. While advertising covers some of our expenses, it doesn't come close to the resources needed to cover the new of the world today. Support AlterNet All Access and know that we'll be here to get the facts out, whether they be the good or the bad.\\n\\nWith a donation of $95 or more, you'll also receive advanced ad-free access to original reporting from AlterNet and Raw Story, exclusive investigative content, and more.\\n\\nClick the following link if you prefer to make a monthly donation. Want to send a check? Send your check payable to \"AlterNet\" to : 'AlterNet Media P.O. Box 47864 Chicag...   \n",
       "2408  0                                                                                                                                                                                                                                                                                                                                                                                                                                                                                                                                                                                                                                                                                                                                                                                                                                                                                                                                                                                                                                                                                                                                                                                                                                                                                                                                                                                                                                                                                                                                                                                                                                                                                                                                                                                                                              While the election has come and gone, the fight for our democracy is not over. While things look under a Biden presidency so far, it's clear Donald Trump's white nationalist and hateful rhetoric have set root in the Republican Party. The fight for America will continue as Mitch McConnell and Senate Republicans are expected to continue making it difficult for Joe Biden to pass even widely popular measures.\\n\\nThe Covid-19 pandemic surges and Americans continue for just representation and push back against the rise of fascism. Your contribution to AlterNet All Access will ensure progressive, honest reporting when it's needed more than ever. While advertising covers some of our expenses, it doesn't come close to the resources needed to cover the new of the world today. Support AlterNet All Access and know that we'll be here to get the facts out, whether they be the good or the bad.\\n\\nWith a donation of $95 or more, you'll also receive advanced ad-free access to original reporting from AlterNet and Raw Story, exclusive investigative content, and more.\\n\\nClick the following link if you prefer to make a monthly donation. Want to send a check? Send your check payable to \"AlterNet\" to : 'AlterNet Media P.O. Box 47864 Chicag...   \n",
       "2409  0                                                                                                                                                                                                                                                                                                                                                                                                                                                                                                                                                                                                                                                                                                                                                                                                                                                                                                                                                                                                                                                                                                                                                                                                                                                                                                                                                                                                                                                                                                                                                                                                                                                                                                                                                                                                                              While the election has come and gone, the fight for our democracy is not over. While things look under a Biden presidency so far, it's clear Donald Trump's white nationalist and hateful rhetoric have set root in the Republican Party. The fight for America will continue as Mitch McConnell and Senate Republicans are expected to continue making it difficult for Joe Biden to pass even widely popular measures.\\n\\nThe Covid-19 pandemic surges and Americans continue for just representation and push back against the rise of fascism. Your contribution to AlterNet All Access will ensure progressive, honest reporting when it's needed more than ever. While advertising covers some of our expenses, it doesn't come close to the resources needed to cover the new of the world today. Support AlterNet All Access and know that we'll be here to get the facts out, whether they be the good or the bad.\\n\\nWith a donation of $95 or more, you'll also receive advanced ad-free access to original reporting from AlterNet and Raw Story, exclusive investigative content, and more.\\n\\nClick the following link if you prefer to make a monthly donation. Want to send a check? Send your check payable to \"AlterNet\" to : 'AlterNet Media P.O. Box 47864 Chicag...   \n",
       "2410  0                                                                                                                                                                                                                                                                                                                                                                                                                                                                                                                                                                                                                                                                                                                                                                                                                                                                                                                                                                                                                                                                                                                                                                                                                                                                                                                                                                                                                                                                                                                                                                                                                                                                                                                                                                                                                              While the election has come and gone, the fight for our democracy is not over. While things look under a Biden presidency so far, it's clear Donald Trump's white nationalist and hateful rhetoric have set root in the Republican Party. The fight for America will continue as Mitch McConnell and Senate Republicans are expected to continue making it difficult for Joe Biden to pass even widely popular measures.\\n\\nThe Covid-19 pandemic surges and Americans continue for just representation and push back against the rise of fascism. Your contribution to AlterNet All Access will ensure progressive, honest reporting when it's needed more than ever. While advertising covers some of our expenses, it doesn't come close to the resources needed to cover the new of the world today. Support AlterNet All Access and know that we'll be here to get the facts out, whether they be the good or the bad.\\n\\nWith a donation of $95 or more, you'll also receive advanced ad-free access to original reporting from AlterNet and Raw Story, exclusive investigative content, and more.\\n\\nClick the following link if you prefer to make a monthly donation. Want to send a check? Send your check payable to \"AlterNet\" to : 'AlterNet Media P.O. Box 47864 Chicag...   \n",
       "\n",
       "                                                                                                                                                                                        keywords  \\\n",
       "0     ['reporting', 'come', 'today', 'access', 'check', 'send', 'defend', 'fight', 'alternet', 'continue', 'donation', 'support', 'fearless', 'insightful', 'needed', 'democracy', 'journalism']   \n",
       "1                                ['come', 'didnt', 'going', 'fox', 'biden', 'crenshaw', 'mehdi', 'hasan', 'msnbcs', 'dan', 'dont', 'deport', 'flames', 'influx', 'goes', 'debate', 'republican']   \n",
       "2       ['purchased', 'transactions', 'law', 'pandemic', 'report', 'rep', 'stock', 'crenshaw', 'discigil', 'beast', 'youre', 'disclose', 'dan', 'purchases', 'failed', 'statement', 'crenshaws']   \n",
       "3        ['district', 'lame', 'markey', 'office', 'rep', 'crenshaws', 'media', 'crenshaw', 'social', 'dismissal', 'dan', 'texas', 'party', 'massachusetts', 'republican', 'silent', 'ed', 'sen']   \n",
       "4     ['words', 'view', 'offering', 'think', 'omar', 'white', 'saying', 'trumps', 'youre', 'rep', 'democrats', 'dan', 'remarks', 'excuse', 'team', 'response', 'crenshaw', 'gets', 'ridiculous']   \n",
       "...                                                                                                                                                                                          ...   \n",
       "2406                            ['reverend', 'dr', 'conversations', 'united', 'rev', 'comfortable', 'washington', 'states', 'j', 'ways', 'nation', 'poor', 'barber', 'ii', 'william', 'peoples']   \n",
       "2407                                     ['shahid', 'suspended', 'waleed', 'standardbearer', 'live', 'scientist', 'schlozman', 'bernie', 'sanders', 'week', 'spokesperson', 'debate', 'senator']   \n",
       "2408                                                                 ['school', 'watch', 'progressives', 'sanders', 'zephyr', 'trump', 'sunkara', 'warren', 'choose', 'progressive', 'teachout']   \n",
       "2409                                                                   ['war', 'women', 'violence', 'reagan', 'white', 'nations', 'movement', 'power', 'trump', 'nation', 'activists', 'theres']   \n",
       "2410                                              ['work', 'speech', 'centenary', 'address', 'general', 'possible', 'strike', 'winnipeg', 'strikes', 'conference', 'power', 'mcalevey', 'video']   \n",
       "\n",
       "                     tags  compound    neg    neu    pos  polarity  \\\n",
       "0                   set()    0.8612  0.063  0.819  0.118  0.165589   \n",
       "1     {'Religious right'}    0.6474  0.055  0.876  0.069 -0.034989   \n",
       "2     {'Religious right'}   -0.8949  0.082  0.860  0.058  0.011441   \n",
       "3     {'Religious right'}    0.9289  0.071  0.811  0.118  0.081250   \n",
       "4     {'Religious right'}   -0.4810  0.077  0.848  0.075  0.045094   \n",
       "...                   ...       ...    ...    ...    ...       ...   \n",
       "2406                set()    0.7131  0.089  0.807  0.104  0.090121   \n",
       "2407                set()    0.4019  0.077  0.810  0.113  0.037500   \n",
       "2408                set()    0.5499  0.051  0.853  0.096  1.000000   \n",
       "2409                set()   -0.9554  0.077  0.842  0.081  0.083106   \n",
       "2410                set()   -0.8689  0.133  0.831  0.036  0.053864   \n",
       "\n",
       "      subjectivity  \n",
       "0         0.539782  \n",
       "1         0.411162  \n",
       "2         0.323766  \n",
       "3         0.439912  \n",
       "4         0.453717  \n",
       "...            ...  \n",
       "2406      0.536848  \n",
       "2407      0.295833  \n",
       "2408      0.300000  \n",
       "2409      0.382314  \n",
       "2410      0.549545  \n",
       "\n",
       "[2411 rows x 14 columns]"
      ]
     },
     "execution_count": 8,
     "metadata": {},
     "output_type": "execute_result"
    }
   ],
   "source": [
    "df_left['text'] = str(df_left['text'])\n",
    "df_left"
   ]
  },
  {
   "cell_type": "code",
   "execution_count": 7,
   "id": "5a014db3-7ead-4db1-b52f-da15c3bbf2e6",
   "metadata": {},
   "outputs": [
    {
     "data": {
      "text/plain": [
       "0       False\n",
       "1        True\n",
       "2       False\n",
       "3       False\n",
       "4       False\n",
       "        ...  \n",
       "2406    False\n",
       "2407    False\n",
       "2408    False\n",
       "2409    False\n",
       "2410    False\n",
       "Name: text, Length: 2411, dtype: object"
      ]
     },
     "execution_count": 7,
     "metadata": {},
     "output_type": "execute_result"
    }
   ],
   "source": [
    "df_left['text'].str.contains(\"MSNBC host Mehdi\")"
   ]
  },
  {
   "cell_type": "code",
   "execution_count": null,
   "id": "f941c6a2-7a79-43a3-bb0c-8e2396e1bab9",
   "metadata": {},
   "outputs": [],
   "source": []
  },
  {
   "cell_type": "code",
   "execution_count": null,
   "id": "6999fd0c-3ef6-4179-8051-3d3150759d30",
   "metadata": {},
   "outputs": [],
   "source": []
  },
  {
   "cell_type": "code",
   "execution_count": null,
   "id": "6f90b40d-7182-4cbb-ba4c-41ddad787e7e",
   "metadata": {},
   "outputs": [],
   "source": []
  },
  {
   "cell_type": "code",
   "execution_count": 5,
   "id": "dd6bf749-ffe8-42d5-8725-3566a65e6fde",
   "metadata": {},
   "outputs": [],
   "source": [
    "df = pd.read_csv('../Data/braindedright.csv')"
   ]
  },
  {
   "cell_type": "code",
   "execution_count": 19,
   "id": "1e2dad98-5e6d-43fe-949a-a8516184fc74",
   "metadata": {},
   "outputs": [],
   "source": [
    "sample_article = str(df[['text']].iloc[3])"
   ]
  },
  {
   "cell_type": "code",
   "execution_count": 21,
   "id": "954070b9-0bd7-49c6-87d8-567328f429b3",
   "metadata": {},
   "outputs": [
    {
     "data": {
      "text/plain": [
       "'text    In multiple articles I have published recently I outlined why an attempt at a new national covid lockdown in the US is inevitable.\\\\n\\\\nIn my article ‘The Real Reasons Why Millions Of Americans Will Defy Covid Mandates And Vaccines’, I examined new polling numbers which show that a vast portion of the US population is refusing to comply with medical controls. The bottom line is this: Covid is a non-threat to 99.7% of the public, and the citizenry is getting wise to this fact. However, there are certain people that NEED the pandemic lockdowns to continue regardless of what the public wants.\\\\n\\\\nThe Biden Administration and its globalist handlers have BIG plans for the next few years, and all of it relies on pandemic fears and totalitarian restrictions.\\\\n\\\\nThe “Great Reset”, as Klaus Schwab and the World Economic Forum calls it, is never going to happen unless global populations are locked down and placed under control. Unconstitutional pieces of legislation that undermine or destroy the 2nd Amendment, like HR 127, will be impossible to enact if Americans are organized and unified to resist. Carbon taxation and “shared economy” policies will never be allowed to touch ground. Conservative Americans and many moderates will stamp out such measures like cockroaches within their own states. Law enforcement agencies in most areas would have no interest in being used as cannon fodder to enforce them.\\\\n\\\\nThe only option the globalists have at this stage is to barrel forward with the pandemic narrative despite the fact that Covid has turned out to be a hollow issue with a death rate of 0.26% outside of nursing home patients. At least half the country is ready to revolt over the mandates, and almost half the country is refusing to take the vaccines or accept medical passports. That is millions of people that are laughing in the face of the Reset agenda.\\\\n\\\\nSo, the question for the thwarted globalists is this: How do they turn their conservative enemies into unwitting allies? What is a 4th Generation warfare solution to their problem? How do they get a larger number of conservatives to support their own enslavement through the lockdown mandates?\\\\n\\\\nWell, one method would be to cause a convincing distraction that compels conservatives to embrace the notion of the lockdowns as an acceptable sacrifice in exchange for dealing with a potentially more dangerous problem.\\\\n\\\\nThe crisis of mass illegal immigration is turning into a growing national debate right now. I suspect we haven’t even begun to see the consequences yet, and I also suspect that there is a plot hidden within these events. But let’s look at the surface arguments first…\\\\n\\\\nObviously, most conservatives are going to view a huge influx of illegals into the US as a means for Democrats to secure elections for decades to come. I’m sure most people reading this article are aware of the “Cloward Piven Strategy”, and I won’t delve into it too much here except to say that I get it, and I realize it’s a prob...\\nName: 3, dtype: object'"
      ]
     },
     "execution_count": 21,
     "metadata": {},
     "output_type": "execute_result"
    }
   ],
   "source": [
    "sample_article"
   ]
  },
  {
   "cell_type": "code",
   "execution_count": 22,
   "id": "bff852ab-1641-40e0-ad68-20f4863e9413",
   "metadata": {},
   "outputs": [
    {
     "name": "stdout",
     "output_type": "stream",
     "text": [
      "[{'summary_text': 'Covid is a non-threat to 99.7% of the public, and the citizenry is getting wise to this fact. However, there are certain people that NEED the pandemic lockdowns to continue regardless of what the public wants. At least half the country is ready to revolt over the mandates.'}]\n"
     ]
    }
   ],
   "source": [
    "print(summarizer(sample_article, max_length=130, min_length=30, do_sample=False))"
   ]
  },
  {
   "cell_type": "code",
   "execution_count": 25,
   "id": "24fca63a-98c2-4ea3-9507-ee7c347744ab",
   "metadata": {},
   "outputs": [
    {
     "data": {
      "text/plain": [
       "'text    Have an important tip? Let us know. Email us here.\\\\n\\\\nThe UK may be racing ahead of its European neighbours in getting its population vaccinated, but Brits might have to stay masked up for “several years” if public health experts get their way.\\\\n\\\\nNew cases of Covid-19 in the UK have dropped tenfold since early January, and more than 27 million Britons – over half the adult population – have had their first dose of a coronavirus vaccine. Compared to rising cases on the continent and an EU average vaccination rate of around 10%, the UK appears to be winning its war against Covid-19.\\\\n\\\\nBrits looking for a total reprieve from the country’s punishing lockdown, however, shouldn’t hold their breath.\\\\n\\\\nThat’s according to Mary Ramsay, the head of immunisation at Public Health England. Ramsay told the BBC on Sunday that masks and social distancing could be required for “several years,” or “at least until other parts of the world are as well vaccinated as we are, and the numbers have come down everywhere.”\\\\n\\\\nJack Hadfield sees a clear pattern between the media narrative regarding the treatment of anti-lockdown protestors as opposed to the BLM protestors getting treated with a soft resolve.\\\\n\\\\nWith vaccines being distributed unequally around the world, and people in the poorest nations facing a years-long wait to get vaccinated, Ramsay’s prediction may be a realistic one, should the British government listen to her advice.\\\\n\\\\nAs a government body, Public Health England certainly has a say in determining the UK’s Covid-19 response. Her view is not a minority one, either. As the government looks to relax restrictions from the end of March onwards, Prof. Chris Whitty, the UK government’s chief medical adviser, told MPs earlier this month that “simple interventions,” face masks among them, would be needed beyond the summer. Chief Scientific Adviser Sir Patrick Vallance, meanwhile, suggested that masks would be required through winter, to ward off a “surge” in new cases.\\\\n\\\\nRamsay claimed that “people have got used to” wearing masks and practicing social distancing, telling the BBC that “people can live with them, and the economy can still go on with those less severe restrictions in place.”\\\\n\\\\nHowever, the public might not be as compliant as she suggested. Thousands of people marched in London on Saturday in protest against the national lockdown and virus-related restrictions, with police arresting more than 30 for breaching Covid regulations.\\nName: 16, dtype: object'"
      ]
     },
     "execution_count": 25,
     "metadata": {},
     "output_type": "execute_result"
    }
   ],
   "source": [
    "sample_article2"
   ]
  },
  {
   "cell_type": "code",
   "execution_count": 23,
   "id": "719c732f-3a28-42b1-bf4e-d6ad83aec3d7",
   "metadata": {},
   "outputs": [
    {
     "name": "stdout",
     "output_type": "stream",
     "text": [
      "[{'summary_text': 'More than 27 million Britons have had their first dose of Covid-19 vaccine. Public Health England says masks and social distancing could be required for ‘several years’'}]\n"
     ]
    }
   ],
   "source": [
    "sample_article2 = str(df[['text']].iloc[16])\n",
    "print(summarizer(sample_article2, max_length=130, min_length=30, do_sample=False))"
   ]
  },
  {
   "cell_type": "code",
   "execution_count": 26,
   "id": "bbe18b5d-79b8-4dcc-b356-cadbaf6a82d7",
   "metadata": {},
   "outputs": [
    {
     "data": {
      "text/plain": [
       "'text    Vice President Kembo Mohadi of Zimbabwe resigned Monday after a month of media exposes that purportedly caught him soliciting sex from married women, including an intelligence officer who was one of his subordinates.\\\\n\\\\nOne of the audiotapes Zimbabwean online media published included Mohadi proposing a sexual liaison inside his vice presidential office.\\\\n\\\\nAn online news outlet called ZimLive ignited the scandal last month by posting three recorded telephone conversations of Mohadi, 71, propositioning married women. Mohadi “categorically” denied the authenticity of the recordings at first.\\\\n\\\\n“I am innocent and a victim of political machinations being peddled through hacking and voice cloning,” he said in late February.\\\\n\\\\nOne of the phone calls that brought Mohadi down involved him pressuring a female intelligence officer named Abigail Mumpande for sex. Mumpande was reportedly distraught over harassment from the vice president, prompting her husband to hand the recording over to the media and demand reassignment for his wife.\\\\n\\\\n“Despite growing impatient because of days of weird character assassinations, I wish to categorically state that the allegations being levelled against me are not only false but also well-choreographed to demean, condescend, and spoil my image as a national leader and patriot,” he charged.\\\\n\\\\n“I remain a committed leader, father, cadre and servant of this great nation. So, nothing is going to change because all this is concocted to tarnish my image. If anything is going to happen it is going to be His Excellency who will determine my future,” Mohadi vowed, referring to socialist President Emmerson Mnangagwa.\\\\n\\\\nOn Monday, Mohadi announced he was resigning “not as a matter of cowardice but as a sign of demonstrating great respect to the office of the President.”\\\\n\\\\n“I have been going through a soul-searching pilgrimage and realized that I need the space to deal with my problem outside the governance chair,” he said.\\\\n\\\\nMohadi continued to insist the evidence of his improper behavior was fabricated and pledged to take legal action against those who have allegedly defamed him.\\\\n\\\\nVoice of America News (VOA) described Mohadi’s resignation over sexual misconduct allegations as “a rare move by a public official in the southern African country,” even more so because Mohadi was fairly close to both the current and previous strongman rulers of the country.\\\\n\\\\nLike President Mnangagwa, Mohadi had a resume of both military and intelligence work and held ministerial rank under longtime dictator Robert Mugabe. He has been one of Zimbabwe’s two vice presidents since Mugabe’s ouster in 2017. The other is Constantino Chiwenga, 61, the former military commander who engineered the coup against Mugabe a decade after helping Mugabe stay in power after he lost an election.\\\\n\\\\nMohandi himself is currently single. His marriage to ex-wife Tambudzani Bhudagi, a Zimbabwean senator, dissolved over allegations of Mohandi’s infidelity. In March ...\\nName: 125, dtype: object'"
      ]
     },
     "execution_count": 26,
     "metadata": {},
     "output_type": "execute_result"
    }
   ],
   "source": [
    "sample_article3"
   ]
  },
  {
   "cell_type": "code",
   "execution_count": 24,
   "id": "4533394b-bfe6-416f-b0c6-e8fd231b54ae",
   "metadata": {},
   "outputs": [
    {
     "name": "stdout",
     "output_type": "stream",
     "text": [
      "[{'summary_text': 'Zimbabwe Vice President Kembo Mohadi resigned Monday after a month of media exposes. The exposes purportedly caught him soliciting sex from married women. Mohadi “categorically’ denied the authenticity of the recordings at first.'}]\n"
     ]
    }
   ],
   "source": [
    "sample_article3 = str(df[['text']].iloc[125])\n",
    "print(summarizer(sample_article3, max_length=130, min_length=30, do_sample=False))"
   ]
  },
  {
   "cell_type": "code",
   "execution_count": 28,
   "id": "89d5f6bc-13d5-4e55-9cf7-b0c400145ac0",
   "metadata": {},
   "outputs": [
    {
     "data": {
      "text/plain": [
       "'text    During this week’s broadcast of MSNBC’s “The Sunday Show,” Rep. Sheila Jackson Lee (D-TX) acknowledged the Biden border plan, which has led to what some are describing as a crisis, much to be desired.\\\\n\\\\nShe said, however, there was a plan in place the Biden administration had shared with members of Congress.\\\\n\\\\n“[N]ow Jonathan, we have a situation that is a humanitarian concern,” she said. “We do have issues with any number of children. The numbers are coming up, but I will say that the Biden administration has met with members of Congress. They have a plan. The plan does not look like it’s working at this time, but you have to get it implemented.”\\\\n\\\\nJackson Lee walked through what the plan was, which she said included measures for preventing the spread of COVID-19.\\\\n\\\\n“[W]e need to put in more resources so that our asylum protocols can go quickly and those that do not meet the standards — they have to be returned safely and securely,” Lee continued. “But what the administration is saying that they’re not going to cage children. They’re not going to turn children back to their deaths. They’re not going to have young girls, 13 years old, subject to rape and pilage. And so it does look a little unseemly. But these are human beings. And so, they’re not coming to endanger our lives. They’re coming basically to save their lives.”\\\\n\\\\nFollow Jeff Poor on Twitter @jeff_poor\\nName: 43, dtype: object'"
      ]
     },
     "execution_count": 28,
     "metadata": {},
     "output_type": "execute_result"
    }
   ],
   "source": [
    "sample_article4"
   ]
  },
  {
   "cell_type": "code",
   "execution_count": 27,
   "id": "601e217a-014f-4728-8571-fa932633fb03",
   "metadata": {},
   "outputs": [
    {
     "name": "stdout",
     "output_type": "stream",
     "text": [
      "[{'summary_text': 'Zimbabwe Vice President Kembo Mohadi resigned Monday after a month of media exposes. The exposes purportedly caught him soliciting sex from married women. Mohadi “categorically’ denied the authenticity of the recordings at first.'}]\n"
     ]
    }
   ],
   "source": [
    "sample_article4 = str(df[['text']].iloc[43])\n",
    "print(summarizer(sample_article3, max_length=130, min_length=30, do_sample=False))"
   ]
  },
  {
   "cell_type": "code",
   "execution_count": null,
   "id": "c1168c99-b20a-4508-8f88-47f90c9b1904",
   "metadata": {},
   "outputs": [],
   "source": []
  }
 ],
 "metadata": {
  "kernelspec": {
   "display_name": "Python 3 (ipykernel)",
   "language": "python",
   "name": "python3"
  },
  "language_info": {
   "codemirror_mode": {
    "name": "ipython",
    "version": 3
   },
   "file_extension": ".py",
   "mimetype": "text/x-python",
   "name": "python",
   "nbconvert_exporter": "python",
   "pygments_lexer": "ipython3",
   "version": "3.10.6"
  }
 },
 "nbformat": 4,
 "nbformat_minor": 5
}
