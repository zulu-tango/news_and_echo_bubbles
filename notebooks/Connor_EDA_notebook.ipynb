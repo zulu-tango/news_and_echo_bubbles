{
 "cells": [
  {
   "cell_type": "code",
   "execution_count": 1,
   "id": "d87cd8ba-7d1f-4c76-a2a0-536e7e93ae9d",
   "metadata": {},
   "outputs": [],
   "source": [
    "import os\n",
    "import pandas as pd"
   ]
  },
  {
   "cell_type": "code",
   "execution_count": 2,
   "id": "57f03cdd-6548-42f7-b8a1-340c0b7472fe",
   "metadata": {},
   "outputs": [
    {
     "data": {
      "text/plain": [
       "'/home/connor/code/zulu-tango/news_and_echo_bubbles/notebooks'"
      ]
     },
     "execution_count": 2,
     "metadata": {},
     "output_type": "execute_result"
    }
   ],
   "source": [
    "cwd = os.getcwd()\n",
    "cwd"
   ]
  },
  {
   "cell_type": "code",
   "execution_count": 3,
   "id": "90bb7328-7be7-4cbf-8a46-60f5563e131c",
   "metadata": {},
   "outputs": [
    {
     "data": {
      "text/plain": [
       "'/home/connor/code/zulu-tango/news_and_echo_bubbles'"
      ]
     },
     "execution_count": 3,
     "metadata": {},
     "output_type": "execute_result"
    }
   ],
   "source": [
    "parent = os.path.dirname(cwd)\n",
    "parent"
   ]
  },
  {
   "cell_type": "code",
   "execution_count": 4,
   "id": "5ee94ecb-1beb-4df8-ba3a-3b4e69451309",
   "metadata": {},
   "outputs": [
    {
     "data": {
      "text/plain": [
       "'/home/connor/code/zulu-tango/news_and_echo_bubbles/raw_data'"
      ]
     },
     "execution_count": 4,
     "metadata": {},
     "output_type": "execute_result"
    }
   ],
   "source": [
    "data_folder = os.path.join(parent,\"raw_data\")\n",
    "data_folder"
   ]
  },
  {
   "cell_type": "code",
   "execution_count": 5,
   "id": "acd46ba3-a287-4117-9558-4f946b924d6e",
   "metadata": {},
   "outputs": [],
   "source": [
    "left_data_location = os.path.join(data_folder,\"braindedleft.csv\")\n",
    "right_data_location = os.path.join(data_folder,\"braindedright.csv\")"
   ]
  },
  {
   "cell_type": "code",
   "execution_count": 6,
   "id": "3291a6f6-b8ad-4f9d-8087-6d98a36f6a88",
   "metadata": {},
   "outputs": [],
   "source": [
    "# load in left and right datasets\n",
    "df_left = pd.read_csv(left_data_location)\n",
    "df_right = pd.read_csv(right_data_location)"
   ]
  },
  {
   "cell_type": "code",
   "execution_count": 7,
   "id": "43f1110d-3a9c-47a7-9563-1e50b70c68b0",
   "metadata": {},
   "outputs": [],
   "source": [
    "# assign a 0 to left wing articles and a 1 to right wing articles\n",
    "df_left[\"ideology\"] = 0\n",
    "df_right[\"ideology\"] = 1"
   ]
  },
  {
   "cell_type": "code",
   "execution_count": 8,
   "id": "82ef0133-dde0-4a26-b377-4c7400b9dfd0",
   "metadata": {},
   "outputs": [],
   "source": [
    "# merge the two datasets\n",
    "merged_df = pd.concat([df_left,df_right])"
   ]
  },
  {
   "cell_type": "code",
   "execution_count": 9,
   "id": "f18769b1-43a6-4c54-a6e2-10cda2156499",
   "metadata": {},
   "outputs": [
    {
     "data": {
      "text/html": [
       "<div>\n",
       "<style scoped>\n",
       "    .dataframe tbody tr th:only-of-type {\n",
       "        vertical-align: middle;\n",
       "    }\n",
       "\n",
       "    .dataframe tbody tr th {\n",
       "        vertical-align: top;\n",
       "    }\n",
       "\n",
       "    .dataframe thead th {\n",
       "        text-align: right;\n",
       "    }\n",
       "</style>\n",
       "<table border=\"1\" class=\"dataframe\">\n",
       "  <thead>\n",
       "    <tr style=\"text-align: right;\">\n",
       "      <th></th>\n",
       "      <th>Unnamed: 0</th>\n",
       "      <th>link</th>\n",
       "      <th>pdate</th>\n",
       "      <th>title</th>\n",
       "      <th>author</th>\n",
       "      <th>text</th>\n",
       "      <th>keywords</th>\n",
       "      <th>tags</th>\n",
       "      <th>compound</th>\n",
       "      <th>neg</th>\n",
       "      <th>neu</th>\n",
       "      <th>pos</th>\n",
       "      <th>polarity</th>\n",
       "      <th>subjectivity</th>\n",
       "      <th>ideology</th>\n",
       "    </tr>\n",
       "  </thead>\n",
       "  <tbody>\n",
       "    <tr>\n",
       "      <th>0</th>\n",
       "      <td>0</td>\n",
       "      <td>https://kindest.com/442355-defend-democracy-to...</td>\n",
       "      <td>NaN</td>\n",
       "      <td>Defend Democracy Today: Support Fearless, Insi...</td>\n",
       "      <td>[]</td>\n",
       "      <td>While the election has come and gone, the figh...</td>\n",
       "      <td>['reporting', 'come', 'today', 'access', 'chec...</td>\n",
       "      <td>set()</td>\n",
       "      <td>0.8612</td>\n",
       "      <td>0.063</td>\n",
       "      <td>0.819</td>\n",
       "      <td>0.118</td>\n",
       "      <td>0.165589</td>\n",
       "      <td>0.539782</td>\n",
       "      <td>0</td>\n",
       "    </tr>\n",
       "  </tbody>\n",
       "</table>\n",
       "</div>"
      ],
      "text/plain": [
       "   Unnamed: 0                                               link pdate  \\\n",
       "0           0  https://kindest.com/442355-defend-democracy-to...   NaN   \n",
       "\n",
       "                                               title author  \\\n",
       "0  Defend Democracy Today: Support Fearless, Insi...     []   \n",
       "\n",
       "                                                text  \\\n",
       "0  While the election has come and gone, the figh...   \n",
       "\n",
       "                                            keywords   tags  compound    neg  \\\n",
       "0  ['reporting', 'come', 'today', 'access', 'chec...  set()    0.8612  0.063   \n",
       "\n",
       "     neu    pos  polarity  subjectivity  ideology  \n",
       "0  0.819  0.118  0.165589      0.539782         0  "
      ]
     },
     "execution_count": 9,
     "metadata": {},
     "output_type": "execute_result"
    }
   ],
   "source": [
    "merged_df.head(1)"
   ]
  },
  {
   "cell_type": "code",
   "execution_count": 10,
   "id": "b7883f3e-672c-4094-b4e4-36257d4911cd",
   "metadata": {},
   "outputs": [
    {
     "data": {
      "text/html": [
       "<div>\n",
       "<style scoped>\n",
       "    .dataframe tbody tr th:only-of-type {\n",
       "        vertical-align: middle;\n",
       "    }\n",
       "\n",
       "    .dataframe tbody tr th {\n",
       "        vertical-align: top;\n",
       "    }\n",
       "\n",
       "    .dataframe thead th {\n",
       "        text-align: right;\n",
       "    }\n",
       "</style>\n",
       "<table border=\"1\" class=\"dataframe\">\n",
       "  <thead>\n",
       "    <tr style=\"text-align: right;\">\n",
       "      <th></th>\n",
       "      <th>Unnamed: 0</th>\n",
       "      <th>link</th>\n",
       "      <th>pdate</th>\n",
       "      <th>title</th>\n",
       "      <th>author</th>\n",
       "      <th>text</th>\n",
       "      <th>keywords</th>\n",
       "      <th>tags</th>\n",
       "      <th>compound</th>\n",
       "      <th>neg</th>\n",
       "      <th>neu</th>\n",
       "      <th>pos</th>\n",
       "      <th>polarity</th>\n",
       "      <th>subjectivity</th>\n",
       "      <th>ideology</th>\n",
       "    </tr>\n",
       "  </thead>\n",
       "  <tbody>\n",
       "    <tr>\n",
       "      <th>1809</th>\n",
       "      <td>1809</td>\n",
       "      <td>https://americanmind.org/video/book-talk-crisi...</td>\n",
       "      <td>NaN</td>\n",
       "      <td>The American Mind Podcast: The Roundtable Epis...</td>\n",
       "      <td>['Christopher Buskirk', 'Kevin Portteus', 'Dan...</td>\n",
       "      <td>The American Mind’s ‘Editorial Roundtable’ pod...</td>\n",
       "      <td>['mind', 'williams', 'trump', 'american', 'unc...</td>\n",
       "      <td>set()</td>\n",
       "      <td>0.6808</td>\n",
       "      <td>0.026</td>\n",
       "      <td>0.9</td>\n",
       "      <td>0.074</td>\n",
       "      <td>0.114815</td>\n",
       "      <td>0.296296</td>\n",
       "      <td>1</td>\n",
       "    </tr>\n",
       "  </tbody>\n",
       "</table>\n",
       "</div>"
      ],
      "text/plain": [
       "      Unnamed: 0                                               link pdate  \\\n",
       "1809        1809  https://americanmind.org/video/book-talk-crisi...   NaN   \n",
       "\n",
       "                                                  title  \\\n",
       "1809  The American Mind Podcast: The Roundtable Epis...   \n",
       "\n",
       "                                                 author  \\\n",
       "1809  ['Christopher Buskirk', 'Kevin Portteus', 'Dan...   \n",
       "\n",
       "                                                   text  \\\n",
       "1809  The American Mind’s ‘Editorial Roundtable’ pod...   \n",
       "\n",
       "                                               keywords   tags  compound  \\\n",
       "1809  ['mind', 'williams', 'trump', 'american', 'unc...  set()    0.6808   \n",
       "\n",
       "        neg  neu    pos  polarity  subjectivity  ideology  \n",
       "1809  0.026  0.9  0.074  0.114815      0.296296         1  "
      ]
     },
     "execution_count": 10,
     "metadata": {},
     "output_type": "execute_result"
    }
   ],
   "source": [
    "merged_df.tail(1)"
   ]
  },
  {
   "cell_type": "code",
   "execution_count": 11,
   "id": "50039cca-526c-4b9d-bdab-1201bc62e0e3",
   "metadata": {},
   "outputs": [],
   "source": [
    "# drop unnecessary columns\n",
    "# we may not want to drop all of these for later analysis, but this is fine for now\n",
    "merged_df = merged_df.drop(columns = [\"Unnamed: 0\", \"link\", \"pdate\", \"title\", \"author\",\t\"keywords\",\\\n",
    "                          \"tags\", \"compound\", \"neg\", \"neu\", \"pos\", \"polarity\", \"subjectivity\"])"
   ]
  },
  {
   "cell_type": "code",
   "execution_count": 12,
   "id": "d6d4e438-a704-42de-a3ec-6b3b8b20da7a",
   "metadata": {},
   "outputs": [],
   "source": [
    "# taking a sample to make testing the model easier\n",
    "df_sample = merged_df.sample(100)"
   ]
  },
  {
   "cell_type": "code",
   "execution_count": 13,
   "id": "af53be7f-165a-4388-a5f9-48510e0999c5",
   "metadata": {},
   "outputs": [
    {
     "data": {
      "text/plain": [
       "37"
      ]
     },
     "execution_count": 13,
     "metadata": {},
     "output_type": "execute_result"
    }
   ],
   "source": [
    "# check data is balanced between left-wing and right-wing (i.e. c.250 of each class)\n",
    "df_sample[\"ideology\"].sum()"
   ]
  },
  {
   "cell_type": "code",
   "execution_count": 14,
   "id": "f2705602-84f5-4094-96b7-fd22fa56effc",
   "metadata": {},
   "outputs": [
    {
     "name": "stdout",
     "output_type": "stream",
     "text": [
      "Requirement already satisfied: tensorflow in /home/connor/.pyenv/versions/3.10.6/envs/news_and_echo_bubbles/lib/python3.10/site-packages (2.15.0)\n",
      "Requirement already satisfied: transformers in /home/connor/.pyenv/versions/3.10.6/envs/news_and_echo_bubbles/lib/python3.10/site-packages (4.35.2)\n",
      "Requirement already satisfied: absl-py>=1.0.0 in /home/connor/.pyenv/versions/3.10.6/envs/news_and_echo_bubbles/lib/python3.10/site-packages (from tensorflow) (2.0.0)\n",
      "Requirement already satisfied: astunparse>=1.6.0 in /home/connor/.pyenv/versions/3.10.6/envs/news_and_echo_bubbles/lib/python3.10/site-packages (from tensorflow) (1.6.3)\n",
      "Requirement already satisfied: flatbuffers>=23.5.26 in /home/connor/.pyenv/versions/3.10.6/envs/news_and_echo_bubbles/lib/python3.10/site-packages (from tensorflow) (23.5.26)\n",
      "Requirement already satisfied: gast!=0.5.0,!=0.5.1,!=0.5.2,>=0.2.1 in /home/connor/.pyenv/versions/3.10.6/envs/news_and_echo_bubbles/lib/python3.10/site-packages (from tensorflow) (0.5.4)\n",
      "Requirement already satisfied: google-pasta>=0.1.1 in /home/connor/.pyenv/versions/3.10.6/envs/news_and_echo_bubbles/lib/python3.10/site-packages (from tensorflow) (0.2.0)\n",
      "Requirement already satisfied: h5py>=2.9.0 in /home/connor/.pyenv/versions/3.10.6/envs/news_and_echo_bubbles/lib/python3.10/site-packages (from tensorflow) (3.10.0)\n",
      "Requirement already satisfied: libclang>=13.0.0 in /home/connor/.pyenv/versions/3.10.6/envs/news_and_echo_bubbles/lib/python3.10/site-packages (from tensorflow) (16.0.6)\n",
      "Requirement already satisfied: ml-dtypes~=0.2.0 in /home/connor/.pyenv/versions/3.10.6/envs/news_and_echo_bubbles/lib/python3.10/site-packages (from tensorflow) (0.2.0)\n",
      "Requirement already satisfied: numpy<2.0.0,>=1.23.5 in /home/connor/.pyenv/versions/3.10.6/envs/news_and_echo_bubbles/lib/python3.10/site-packages (from tensorflow) (1.26.2)\n",
      "Requirement already satisfied: opt-einsum>=2.3.2 in /home/connor/.pyenv/versions/3.10.6/envs/news_and_echo_bubbles/lib/python3.10/site-packages (from tensorflow) (3.3.0)\n",
      "Requirement already satisfied: packaging in /home/connor/.pyenv/versions/3.10.6/envs/news_and_echo_bubbles/lib/python3.10/site-packages (from tensorflow) (23.2)\n",
      "Requirement already satisfied: protobuf!=4.21.0,!=4.21.1,!=4.21.2,!=4.21.3,!=4.21.4,!=4.21.5,<5.0.0dev,>=3.20.3 in /home/connor/.pyenv/versions/3.10.6/envs/news_and_echo_bubbles/lib/python3.10/site-packages (from tensorflow) (4.23.4)\n",
      "Requirement already satisfied: setuptools in /home/connor/.pyenv/versions/3.10.6/envs/news_and_echo_bubbles/lib/python3.10/site-packages (from tensorflow) (63.2.0)\n",
      "Requirement already satisfied: six>=1.12.0 in /home/connor/.pyenv/versions/3.10.6/envs/news_and_echo_bubbles/lib/python3.10/site-packages (from tensorflow) (1.16.0)\n",
      "Requirement already satisfied: termcolor>=1.1.0 in /home/connor/.pyenv/versions/3.10.6/envs/news_and_echo_bubbles/lib/python3.10/site-packages (from tensorflow) (2.3.0)\n",
      "Requirement already satisfied: typing-extensions>=3.6.6 in /home/connor/.pyenv/versions/3.10.6/envs/news_and_echo_bubbles/lib/python3.10/site-packages (from tensorflow) (4.8.0)\n",
      "Requirement already satisfied: wrapt<1.15,>=1.11.0 in /home/connor/.pyenv/versions/3.10.6/envs/news_and_echo_bubbles/lib/python3.10/site-packages (from tensorflow) (1.14.1)\n",
      "Requirement already satisfied: tensorflow-io-gcs-filesystem>=0.23.1 in /home/connor/.pyenv/versions/3.10.6/envs/news_and_echo_bubbles/lib/python3.10/site-packages (from tensorflow) (0.34.0)\n",
      "Requirement already satisfied: grpcio<2.0,>=1.24.3 in /home/connor/.pyenv/versions/3.10.6/envs/news_and_echo_bubbles/lib/python3.10/site-packages (from tensorflow) (1.59.3)\n",
      "Requirement already satisfied: tensorboard<2.16,>=2.15 in /home/connor/.pyenv/versions/3.10.6/envs/news_and_echo_bubbles/lib/python3.10/site-packages (from tensorflow) (2.15.1)\n",
      "Requirement already satisfied: tensorflow-estimator<2.16,>=2.15.0 in /home/connor/.pyenv/versions/3.10.6/envs/news_and_echo_bubbles/lib/python3.10/site-packages (from tensorflow) (2.15.0)\n",
      "Requirement already satisfied: keras<2.16,>=2.15.0 in /home/connor/.pyenv/versions/3.10.6/envs/news_and_echo_bubbles/lib/python3.10/site-packages (from tensorflow) (2.15.0)\n",
      "Requirement already satisfied: filelock in /home/connor/.pyenv/versions/3.10.6/envs/news_and_echo_bubbles/lib/python3.10/site-packages (from transformers) (3.13.1)\n",
      "Requirement already satisfied: huggingface-hub<1.0,>=0.16.4 in /home/connor/.pyenv/versions/3.10.6/envs/news_and_echo_bubbles/lib/python3.10/site-packages (from transformers) (0.19.4)\n",
      "Requirement already satisfied: pyyaml>=5.1 in /home/connor/.pyenv/versions/3.10.6/envs/news_and_echo_bubbles/lib/python3.10/site-packages (from transformers) (6.0.1)\n",
      "Requirement already satisfied: regex!=2019.12.17 in /home/connor/.pyenv/versions/3.10.6/envs/news_and_echo_bubbles/lib/python3.10/site-packages (from transformers) (2023.10.3)\n",
      "Requirement already satisfied: requests in /home/connor/.pyenv/versions/3.10.6/envs/news_and_echo_bubbles/lib/python3.10/site-packages (from transformers) (2.31.0)\n",
      "Requirement already satisfied: tokenizers<0.19,>=0.14 in /home/connor/.pyenv/versions/3.10.6/envs/news_and_echo_bubbles/lib/python3.10/site-packages (from transformers) (0.15.0)\n",
      "Requirement already satisfied: safetensors>=0.3.1 in /home/connor/.pyenv/versions/3.10.6/envs/news_and_echo_bubbles/lib/python3.10/site-packages (from transformers) (0.4.1)\n",
      "Requirement already satisfied: tqdm>=4.27 in /home/connor/.pyenv/versions/3.10.6/envs/news_and_echo_bubbles/lib/python3.10/site-packages (from transformers) (4.66.1)\n",
      "Requirement already satisfied: wheel<1.0,>=0.23.0 in /home/connor/.pyenv/versions/3.10.6/envs/news_and_echo_bubbles/lib/python3.10/site-packages (from astunparse>=1.6.0->tensorflow) (0.42.0)\n",
      "Requirement already satisfied: fsspec>=2023.5.0 in /home/connor/.pyenv/versions/3.10.6/envs/news_and_echo_bubbles/lib/python3.10/site-packages (from huggingface-hub<1.0,>=0.16.4->transformers) (2023.10.0)\n",
      "Requirement already satisfied: google-auth<3,>=1.6.3 in /home/connor/.pyenv/versions/3.10.6/envs/news_and_echo_bubbles/lib/python3.10/site-packages (from tensorboard<2.16,>=2.15->tensorflow) (2.23.4)\n",
      "Requirement already satisfied: google-auth-oauthlib<2,>=0.5 in /home/connor/.pyenv/versions/3.10.6/envs/news_and_echo_bubbles/lib/python3.10/site-packages (from tensorboard<2.16,>=2.15->tensorflow) (1.1.0)\n",
      "Requirement already satisfied: markdown>=2.6.8 in /home/connor/.pyenv/versions/3.10.6/envs/news_and_echo_bubbles/lib/python3.10/site-packages (from tensorboard<2.16,>=2.15->tensorflow) (3.5.1)\n",
      "Requirement already satisfied: tensorboard-data-server<0.8.0,>=0.7.0 in /home/connor/.pyenv/versions/3.10.6/envs/news_and_echo_bubbles/lib/python3.10/site-packages (from tensorboard<2.16,>=2.15->tensorflow) (0.7.2)\n",
      "Requirement already satisfied: werkzeug>=1.0.1 in /home/connor/.pyenv/versions/3.10.6/envs/news_and_echo_bubbles/lib/python3.10/site-packages (from tensorboard<2.16,>=2.15->tensorflow) (3.0.1)\n",
      "Requirement already satisfied: charset-normalizer<4,>=2 in /home/connor/.pyenv/versions/3.10.6/envs/news_and_echo_bubbles/lib/python3.10/site-packages (from requests->transformers) (3.3.2)\n",
      "Requirement already satisfied: idna<4,>=2.5 in /home/connor/.pyenv/versions/3.10.6/envs/news_and_echo_bubbles/lib/python3.10/site-packages (from requests->transformers) (3.6)\n",
      "Requirement already satisfied: urllib3<3,>=1.21.1 in /home/connor/.pyenv/versions/3.10.6/envs/news_and_echo_bubbles/lib/python3.10/site-packages (from requests->transformers) (2.1.0)\n",
      "Requirement already satisfied: certifi>=2017.4.17 in /home/connor/.pyenv/versions/3.10.6/envs/news_and_echo_bubbles/lib/python3.10/site-packages (from requests->transformers) (2023.11.17)\n",
      "Requirement already satisfied: cachetools<6.0,>=2.0.0 in /home/connor/.pyenv/versions/3.10.6/envs/news_and_echo_bubbles/lib/python3.10/site-packages (from google-auth<3,>=1.6.3->tensorboard<2.16,>=2.15->tensorflow) (5.3.2)\n",
      "Requirement already satisfied: pyasn1-modules>=0.2.1 in /home/connor/.pyenv/versions/3.10.6/envs/news_and_echo_bubbles/lib/python3.10/site-packages (from google-auth<3,>=1.6.3->tensorboard<2.16,>=2.15->tensorflow) (0.3.0)\n",
      "Requirement already satisfied: rsa<5,>=3.1.4 in /home/connor/.pyenv/versions/3.10.6/envs/news_and_echo_bubbles/lib/python3.10/site-packages (from google-auth<3,>=1.6.3->tensorboard<2.16,>=2.15->tensorflow) (4.9)\n",
      "Requirement already satisfied: requests-oauthlib>=0.7.0 in /home/connor/.pyenv/versions/3.10.6/envs/news_and_echo_bubbles/lib/python3.10/site-packages (from google-auth-oauthlib<2,>=0.5->tensorboard<2.16,>=2.15->tensorflow) (1.3.1)\n",
      "Requirement already satisfied: MarkupSafe>=2.1.1 in /home/connor/.pyenv/versions/3.10.6/envs/news_and_echo_bubbles/lib/python3.10/site-packages (from werkzeug>=1.0.1->tensorboard<2.16,>=2.15->tensorflow) (2.1.3)\n",
      "Requirement already satisfied: pyasn1<0.6.0,>=0.4.6 in /home/connor/.pyenv/versions/3.10.6/envs/news_and_echo_bubbles/lib/python3.10/site-packages (from pyasn1-modules>=0.2.1->google-auth<3,>=1.6.3->tensorboard<2.16,>=2.15->tensorflow) (0.5.1)\n",
      "Requirement already satisfied: oauthlib>=3.0.0 in /home/connor/.pyenv/versions/3.10.6/envs/news_and_echo_bubbles/lib/python3.10/site-packages (from requests-oauthlib>=0.7.0->google-auth-oauthlib<2,>=0.5->tensorboard<2.16,>=2.15->tensorflow) (3.2.2)\n"
     ]
    }
   ],
   "source": [
    "!pip install tensorflow transformers"
   ]
  },
  {
   "cell_type": "code",
   "execution_count": 15,
   "id": "ef159519-65b3-497f-af22-c7d95d61d43d",
   "metadata": {},
   "outputs": [
    {
     "name": "stderr",
     "output_type": "stream",
     "text": [
      "2023-11-28 10:50:57.114006: I tensorflow/core/util/port.cc:113] oneDNN custom operations are on. You may see slightly different numerical results due to floating-point round-off errors from different computation orders. To turn them off, set the environment variable `TF_ENABLE_ONEDNN_OPTS=0`.\n",
      "2023-11-28 10:50:57.165458: I external/local_tsl/tsl/cuda/cudart_stub.cc:31] Could not find cuda drivers on your machine, GPU will not be used.\n",
      "2023-11-28 10:50:57.402359: E external/local_xla/xla/stream_executor/cuda/cuda_dnn.cc:9261] Unable to register cuDNN factory: Attempting to register factory for plugin cuDNN when one has already been registered\n",
      "2023-11-28 10:50:57.402402: E external/local_xla/xla/stream_executor/cuda/cuda_fft.cc:607] Unable to register cuFFT factory: Attempting to register factory for plugin cuFFT when one has already been registered\n",
      "2023-11-28 10:50:57.447014: E external/local_xla/xla/stream_executor/cuda/cuda_blas.cc:1515] Unable to register cuBLAS factory: Attempting to register factory for plugin cuBLAS when one has already been registered\n",
      "2023-11-28 10:50:57.547009: I external/local_tsl/tsl/cuda/cudart_stub.cc:31] Could not find cuda drivers on your machine, GPU will not be used.\n",
      "2023-11-28 10:50:57.548727: I tensorflow/core/platform/cpu_feature_guard.cc:182] This TensorFlow binary is optimized to use available CPU instructions in performance-critical operations.\n",
      "To enable the following instructions: AVX2 AVX_VNNI FMA, in other operations, rebuild TensorFlow with the appropriate compiler flags.\n",
      "2023-11-28 10:50:58.757000: W tensorflow/compiler/tf2tensorrt/utils/py_utils.cc:38] TF-TRT Warning: Could not find TensorRT\n"
     ]
    }
   ],
   "source": [
    "import tensorflow as tf\n",
    "from tensorflow.keras import activations, optimizers, losses\n",
    "from transformers import DistilBertTokenizer, TFDistilBertForSequenceClassification"
   ]
  },
  {
   "cell_type": "code",
   "execution_count": 16,
   "id": "acd2e58e-57a1-47c3-9ce1-3f34ad30fc23",
   "metadata": {},
   "outputs": [
    {
     "data": {
      "text/html": [
       "<div>\n",
       "<style scoped>\n",
       "    .dataframe tbody tr th:only-of-type {\n",
       "        vertical-align: middle;\n",
       "    }\n",
       "\n",
       "    .dataframe tbody tr th {\n",
       "        vertical-align: top;\n",
       "    }\n",
       "\n",
       "    .dataframe thead th {\n",
       "        text-align: right;\n",
       "    }\n",
       "</style>\n",
       "<table border=\"1\" class=\"dataframe\">\n",
       "  <thead>\n",
       "    <tr style=\"text-align: right;\">\n",
       "      <th></th>\n",
       "      <th>text</th>\n",
       "      <th>ideology</th>\n",
       "    </tr>\n",
       "  </thead>\n",
       "  <tbody>\n",
       "    <tr>\n",
       "      <th>1218</th>\n",
       "      <td>There was this telling exchange on Sunday on M...</td>\n",
       "      <td>1</td>\n",
       "    </tr>\n",
       "    <tr>\n",
       "      <th>854</th>\n",
       "      <td>NaN</td>\n",
       "      <td>1</td>\n",
       "    </tr>\n",
       "    <tr>\n",
       "      <th>511</th>\n",
       "      <td>A newly declassified report from the director ...</td>\n",
       "      <td>0</td>\n",
       "    </tr>\n",
       "    <tr>\n",
       "      <th>903</th>\n",
       "      <td>Screenshot : Destroying Giant Stress Balls ( Y...</td>\n",
       "      <td>1</td>\n",
       "    </tr>\n",
       "    <tr>\n",
       "      <th>161</th>\n",
       "      <td>The number of migrant children now held in U.S...</td>\n",
       "      <td>1</td>\n",
       "    </tr>\n",
       "  </tbody>\n",
       "</table>\n",
       "</div>"
      ],
      "text/plain": [
       "                                                   text  ideology\n",
       "1218  There was this telling exchange on Sunday on M...         1\n",
       "854                                                 NaN         1\n",
       "511   A newly declassified report from the director ...         0\n",
       "903   Screenshot : Destroying Giant Stress Balls ( Y...         1\n",
       "161   The number of migrant children now held in U.S...         1"
      ]
     },
     "execution_count": 16,
     "metadata": {},
     "output_type": "execute_result"
    }
   ],
   "source": [
    "df_sample.head()"
   ]
  },
  {
   "cell_type": "code",
   "execution_count": 17,
   "id": "f1317679-9aa1-4be5-9b3b-a5c87334c6be",
   "metadata": {},
   "outputs": [],
   "source": [
    "# see what the lengths of the texts are\n",
    "# need to convert texts to string first before calculating length, as I was getting an error that some texts were float values and not strings\n",
    "# this should be fixed during pre-processing\n",
    "# using a basic split by spaces and no other delimiters\n",
    "df_sample[\"text_length\"] = df_sample[\"text\"].apply(lambda x: len(str(x).split()))"
   ]
  },
  {
   "cell_type": "code",
   "execution_count": 18,
   "id": "676f1b35-4d07-406f-9b6e-bf6eea71caea",
   "metadata": {},
   "outputs": [
    {
     "data": {
      "text/html": [
       "<div>\n",
       "<style scoped>\n",
       "    .dataframe tbody tr th:only-of-type {\n",
       "        vertical-align: middle;\n",
       "    }\n",
       "\n",
       "    .dataframe tbody tr th {\n",
       "        vertical-align: top;\n",
       "    }\n",
       "\n",
       "    .dataframe thead th {\n",
       "        text-align: right;\n",
       "    }\n",
       "</style>\n",
       "<table border=\"1\" class=\"dataframe\">\n",
       "  <thead>\n",
       "    <tr style=\"text-align: right;\">\n",
       "      <th></th>\n",
       "      <th>text</th>\n",
       "      <th>ideology</th>\n",
       "      <th>text_length</th>\n",
       "    </tr>\n",
       "  </thead>\n",
       "  <tbody>\n",
       "    <tr>\n",
       "      <th>1218</th>\n",
       "      <td>There was this telling exchange on Sunday on M...</td>\n",
       "      <td>1</td>\n",
       "      <td>179</td>\n",
       "    </tr>\n",
       "    <tr>\n",
       "      <th>854</th>\n",
       "      <td>NaN</td>\n",
       "      <td>1</td>\n",
       "      <td>1</td>\n",
       "    </tr>\n",
       "    <tr>\n",
       "      <th>511</th>\n",
       "      <td>A newly declassified report from the director ...</td>\n",
       "      <td>0</td>\n",
       "      <td>734</td>\n",
       "    </tr>\n",
       "    <tr>\n",
       "      <th>903</th>\n",
       "      <td>Screenshot : Destroying Giant Stress Balls ( Y...</td>\n",
       "      <td>1</td>\n",
       "      <td>189</td>\n",
       "    </tr>\n",
       "    <tr>\n",
       "      <th>161</th>\n",
       "      <td>The number of migrant children now held in U.S...</td>\n",
       "      <td>1</td>\n",
       "      <td>402</td>\n",
       "    </tr>\n",
       "  </tbody>\n",
       "</table>\n",
       "</div>"
      ],
      "text/plain": [
       "                                                   text  ideology  text_length\n",
       "1218  There was this telling exchange on Sunday on M...         1          179\n",
       "854                                                 NaN         1            1\n",
       "511   A newly declassified report from the director ...         0          734\n",
       "903   Screenshot : Destroying Giant Stress Balls ( Y...         1          189\n",
       "161   The number of migrant children now held in U.S...         1          402"
      ]
     },
     "execution_count": 18,
     "metadata": {},
     "output_type": "execute_result"
    }
   ],
   "source": [
    "df_sample.head()"
   ]
  },
  {
   "cell_type": "code",
   "execution_count": 19,
   "id": "6d862ca5-7908-4ace-82f1-4fc0cb6de80e",
   "metadata": {},
   "outputs": [
    {
     "data": {
      "text/html": [
       "<div>\n",
       "<style scoped>\n",
       "    .dataframe tbody tr th:only-of-type {\n",
       "        vertical-align: middle;\n",
       "    }\n",
       "\n",
       "    .dataframe tbody tr th {\n",
       "        vertical-align: top;\n",
       "    }\n",
       "\n",
       "    .dataframe thead th {\n",
       "        text-align: right;\n",
       "    }\n",
       "</style>\n",
       "<table border=\"1\" class=\"dataframe\">\n",
       "  <thead>\n",
       "    <tr style=\"text-align: right;\">\n",
       "      <th></th>\n",
       "      <th>text</th>\n",
       "      <th>ideology</th>\n",
       "      <th>text_length</th>\n",
       "    </tr>\n",
       "  </thead>\n",
       "  <tbody>\n",
       "    <tr>\n",
       "      <th>1218</th>\n",
       "      <td>There was this telling exchange on Sunday on M...</td>\n",
       "      <td>1</td>\n",
       "      <td>179</td>\n",
       "    </tr>\n",
       "    <tr>\n",
       "      <th>511</th>\n",
       "      <td>A newly declassified report from the director ...</td>\n",
       "      <td>0</td>\n",
       "      <td>734</td>\n",
       "    </tr>\n",
       "    <tr>\n",
       "      <th>903</th>\n",
       "      <td>Screenshot : Destroying Giant Stress Balls ( Y...</td>\n",
       "      <td>1</td>\n",
       "      <td>189</td>\n",
       "    </tr>\n",
       "    <tr>\n",
       "      <th>161</th>\n",
       "      <td>The number of migrant children now held in U.S...</td>\n",
       "      <td>1</td>\n",
       "      <td>402</td>\n",
       "    </tr>\n",
       "    <tr>\n",
       "      <th>1201</th>\n",
       "      <td>In April 2020, as the world was coming to term...</td>\n",
       "      <td>0</td>\n",
       "      <td>1051</td>\n",
       "    </tr>\n",
       "    <tr>\n",
       "      <th>...</th>\n",
       "      <td>...</td>\n",
       "      <td>...</td>\n",
       "      <td>...</td>\n",
       "    </tr>\n",
       "    <tr>\n",
       "      <th>948</th>\n",
       "      <td>Qi Bing, University of California, Irvine and ...</td>\n",
       "      <td>0</td>\n",
       "      <td>1131</td>\n",
       "    </tr>\n",
       "    <tr>\n",
       "      <th>213</th>\n",
       "      <td>national security concern\\n\\nRussian interfere...</td>\n",
       "      <td>0</td>\n",
       "      <td>6047</td>\n",
       "    </tr>\n",
       "    <tr>\n",
       "      <th>1667</th>\n",
       "      <td>This week’s contest\\n\\nEach week, we provide a...</td>\n",
       "      <td>0</td>\n",
       "      <td>74</td>\n",
       "    </tr>\n",
       "    <tr>\n",
       "      <th>1972</th>\n",
       "      <td>Let our journalists help you make sense of the...</td>\n",
       "      <td>0</td>\n",
       "      <td>496</td>\n",
       "    </tr>\n",
       "    <tr>\n",
       "      <th>346</th>\n",
       "      <td>It's always amusing when far-right Republicans...</td>\n",
       "      <td>0</td>\n",
       "      <td>342</td>\n",
       "    </tr>\n",
       "  </tbody>\n",
       "</table>\n",
       "<p>91 rows × 3 columns</p>\n",
       "</div>"
      ],
      "text/plain": [
       "                                                   text  ideology  text_length\n",
       "1218  There was this telling exchange on Sunday on M...         1          179\n",
       "511   A newly declassified report from the director ...         0          734\n",
       "903   Screenshot : Destroying Giant Stress Balls ( Y...         1          189\n",
       "161   The number of migrant children now held in U.S...         1          402\n",
       "1201  In April 2020, as the world was coming to term...         0         1051\n",
       "...                                                 ...       ...          ...\n",
       "948   Qi Bing, University of California, Irvine and ...         0         1131\n",
       "213   national security concern\\n\\nRussian interfere...         0         6047\n",
       "1667  This week’s contest\\n\\nEach week, we provide a...         0           74\n",
       "1972  Let our journalists help you make sense of the...         0          496\n",
       "346   It's always amusing when far-right Republicans...         0          342\n",
       "\n",
       "[91 rows x 3 columns]"
      ]
     },
     "execution_count": 19,
     "metadata": {},
     "output_type": "execute_result"
    }
   ],
   "source": [
    "df_sample = df_sample.dropna()\n",
    "df_sample"
   ]
  },
  {
   "cell_type": "code",
   "execution_count": 20,
   "id": "52aac8a1-653e-42f9-b94b-89e62c4629cf",
   "metadata": {},
   "outputs": [],
   "source": [
    "# 37 rows were dropped in this, therefore there must have been many NaN values\n",
    "# these will be dropped during preprocessing, so this is fine"
   ]
  },
  {
   "cell_type": "code",
   "execution_count": 21,
   "id": "ea93ae67-0c04-4e6d-9956-a37be26df479",
   "metadata": {},
   "outputs": [],
   "source": [
    "import matplotlib.pyplot as plt"
   ]
  },
  {
   "cell_type": "code",
   "execution_count": 22,
   "id": "177df2e2-95ca-4e1d-a5fc-b371cc5c512c",
   "metadata": {},
   "outputs": [
    {
     "data": {
      "image/png": "[encoded data removed]",
      "text/plain": [
       "<Figure size 640x480 with 1 Axes>"
      ]
     },
     "metadata": {},
     "output_type": "display_data"
    }
   ],
   "source": [
    "# view histogram of lengths of sample texts\n",
    "plt.hist(df_sample[\"text_length\"], bins = 20);"
   ]
  },
  {
   "cell_type": "code",
   "execution_count": 23,
   "id": "2f15adc5-ddd6-4d3d-9db4-1765d9248e4d",
   "metadata": {},
   "outputs": [],
   "source": [
    "# based on ths histogram, let's use a max length of 1,000"
   ]
  },
  {
   "cell_type": "code",
   "execution_count": 24,
   "id": "6fee1f88-a93d-4e3f-8db7-af215802d57d",
   "metadata": {},
   "outputs": [],
   "source": [
    "# import the tokenizer from DistilBert to tokenize our texts (i.e. turn them into numbers)\n",
    "# the tokeninzer will give each word one number (or more if it uses sub-word tokenization)\n",
    "# after this step, the DistilBert transformer will encode these tokens into vectors when it runs\n",
    "tokenizer = DistilBertTokenizer.from_pretrained(\"distilbert-base-uncased\")"
   ]
  },
  {
   "cell_type": "code",
   "execution_count": 25,
   "id": "70a2ea2b-2ea5-4099-81d2-0ed9cdb4f3ed",
   "metadata": {},
   "outputs": [
    {
     "data": {
      "text/html": [
       "<div>\n",
       "<style scoped>\n",
       "    .dataframe tbody tr th:only-of-type {\n",
       "        vertical-align: middle;\n",
       "    }\n",
       "\n",
       "    .dataframe tbody tr th {\n",
       "        vertical-align: top;\n",
       "    }\n",
       "\n",
       "    .dataframe thead th {\n",
       "        text-align: right;\n",
       "    }\n",
       "</style>\n",
       "<table border=\"1\" class=\"dataframe\">\n",
       "  <thead>\n",
       "    <tr style=\"text-align: right;\">\n",
       "      <th></th>\n",
       "      <th>text</th>\n",
       "      <th>ideology</th>\n",
       "      <th>text_length</th>\n",
       "    </tr>\n",
       "  </thead>\n",
       "  <tbody>\n",
       "    <tr>\n",
       "      <th>0</th>\n",
       "      <td>There was this telling exchange on Sunday on M...</td>\n",
       "      <td>1</td>\n",
       "      <td>179</td>\n",
       "    </tr>\n",
       "    <tr>\n",
       "      <th>1</th>\n",
       "      <td>A newly declassified report from the director ...</td>\n",
       "      <td>0</td>\n",
       "      <td>734</td>\n",
       "    </tr>\n",
       "    <tr>\n",
       "      <th>2</th>\n",
       "      <td>Screenshot : Destroying Giant Stress Balls ( Y...</td>\n",
       "      <td>1</td>\n",
       "      <td>189</td>\n",
       "    </tr>\n",
       "    <tr>\n",
       "      <th>3</th>\n",
       "      <td>The number of migrant children now held in U.S...</td>\n",
       "      <td>1</td>\n",
       "      <td>402</td>\n",
       "    </tr>\n",
       "    <tr>\n",
       "      <th>4</th>\n",
       "      <td>In April 2020, as the world was coming to term...</td>\n",
       "      <td>0</td>\n",
       "      <td>1051</td>\n",
       "    </tr>\n",
       "    <tr>\n",
       "      <th>...</th>\n",
       "      <td>...</td>\n",
       "      <td>...</td>\n",
       "      <td>...</td>\n",
       "    </tr>\n",
       "    <tr>\n",
       "      <th>86</th>\n",
       "      <td>Qi Bing, University of California, Irvine and ...</td>\n",
       "      <td>0</td>\n",
       "      <td>1131</td>\n",
       "    </tr>\n",
       "    <tr>\n",
       "      <th>87</th>\n",
       "      <td>national security concern\\n\\nRussian interfere...</td>\n",
       "      <td>0</td>\n",
       "      <td>6047</td>\n",
       "    </tr>\n",
       "    <tr>\n",
       "      <th>88</th>\n",
       "      <td>This week’s contest\\n\\nEach week, we provide a...</td>\n",
       "      <td>0</td>\n",
       "      <td>74</td>\n",
       "    </tr>\n",
       "    <tr>\n",
       "      <th>89</th>\n",
       "      <td>Let our journalists help you make sense of the...</td>\n",
       "      <td>0</td>\n",
       "      <td>496</td>\n",
       "    </tr>\n",
       "    <tr>\n",
       "      <th>90</th>\n",
       "      <td>It's always amusing when far-right Republicans...</td>\n",
       "      <td>0</td>\n",
       "      <td>342</td>\n",
       "    </tr>\n",
       "  </tbody>\n",
       "</table>\n",
       "<p>91 rows × 3 columns</p>\n",
       "</div>"
      ],
      "text/plain": [
       "                                                 text  ideology  text_length\n",
       "0   There was this telling exchange on Sunday on M...         1          179\n",
       "1   A newly declassified report from the director ...         0          734\n",
       "2   Screenshot : Destroying Giant Stress Balls ( Y...         1          189\n",
       "3   The number of migrant children now held in U.S...         1          402\n",
       "4   In April 2020, as the world was coming to term...         0         1051\n",
       "..                                                ...       ...          ...\n",
       "86  Qi Bing, University of California, Irvine and ...         0         1131\n",
       "87  national security concern\\n\\nRussian interfere...         0         6047\n",
       "88  This week’s contest\\n\\nEach week, we provide a...         0           74\n",
       "89  Let our journalists help you make sense of the...         0          496\n",
       "90  It's always amusing when far-right Republicans...         0          342\n",
       "\n",
       "[91 rows x 3 columns]"
      ]
     },
     "execution_count": 25,
     "metadata": {},
     "output_type": "execute_result"
    }
   ],
   "source": [
    "# reset the index in our sample data frame to 0\n",
    "df_sample = df_sample.reset_index(drop=True)\n",
    "df_sample"
   ]
  },
  {
   "cell_type": "code",
   "execution_count": 26,
   "id": "117b4d4d-d732-4a4e-ac9c-64655785d2b0",
   "metadata": {},
   "outputs": [
    {
     "data": {
      "text/plain": [
       "'There was this telling exchange on Sunday on Meet the Press between Chuck Todd and Raphael Warnock:\\n\\nCHUCK TODD: I appreciate it. I want to start with something that the FBI director said this week. Director Wray said it does not appear the shooting was racially motivated. So, this is now the FBI director. We’ve heard local law enforcement. What are your — are you hearing the same thing from law enforcement that you’ve been speaking with?\\n\\nSEN. RAPHAEL WARNOCK: Well, first of all, let me say that our hearts go out to these families as they are dealing with unspeakable loss. I think it’s important that we center the humanity of the victims. I’m hearing a lot about the shooter, but these precious lives that have been lost, they are attached to families. They’re, you know, they’re connected to people who love them. And so, we need to keep that in mind. I know that — look, law enforcement will go through the work that they need to do, but we all know hate when we see it.'"
      ]
     },
     "execution_count": 26,
     "metadata": {},
     "output_type": "execute_result"
    }
   ],
   "source": [
    "df_sample[\"text\"][0]"
   ]
  },
  {
   "cell_type": "code",
   "execution_count": 27,
   "id": "2a9149c2-60bf-415d-bca0-1f4792af2729",
   "metadata": {},
   "outputs": [
    {
     "data": {
      "text/plain": [
       "{'input_ids': [101, 2045, 2001, 2023, 4129, 3863, 2006, 4465, 2006, 3113, 1996, 2811, 2090, 8057, 6927, 1998, 12551, 11582, 7432, 1024, 8057, 6927, 1024, 1045, 9120, 2009, 1012, 1045, 2215, 2000, 2707, 2007, 2242, 2008, 1996, 8495, 2472, 2056, 2023, 2733, 1012, 2472, 23277, 4710, 2056, 2009, 2515, 2025, 3711, 1996, 5008, 2001, 5762, 2135, 12774, 1012, 2061, 1010, 2023, 2003, 2085, 1996, 8495, 2472, 1012, 2057, 1521, 2310, 2657, 2334, 2375, 7285, 1012, 2054, 2024, 2115, 1517, 2024, 2017, 4994, 1996, 2168, 2518, 2013, 2375, 7285, 2008, 2017, 1521, 2310, 2042, 4092, 2007, 1029, 12411, 1012, 12551, 11582, 7432, 1024, 2092, 1010, 2034, 1997, 2035, 1010, 2292, 2033, 2360, 2008, 2256, 8072, 2175, 2041, 2000, 2122, 2945, 2004, 2027, 2024, 7149, 2007, 4895, 13102, 25508, 3085, 3279, 1012, 1045, 2228, 2009, 1521, 1055, 2590, 2008, 2057, 2415, 1996, 8438, 1997, 1996, 5694, 1012, 1045, 1521, 1049, 4994, 1037, 2843, 2055, 1996, 13108, 1010, 2021, 2122, 9062, 3268, 2008, 2031, 2042, 2439, 1010, 2027, 2024, 4987, 2000, 2945, 1012, 2027, 1521, 2128, 1010, 2017, 2113, 1010, 2027, 1521, 2128, 4198, 2000, 2111, 2040, 2293, 2068, 1012, 1998, 2061, 1010, 2057, 2342, 2000, 2562, 2008, 1999, 2568, 1012, 1045, 2113, 2008, 1517, 2298, 1010, 2375, 7285, 2097, 2175, 2083, 1996, 2147, 2008, 2027, 2342, 2000, 2079, 1010, 2021, 2057, 2035, 2113, 5223, 2043, 2057, 2156, 2009, 1012, 102, 0, 0, 0, 0, 0, 0, 0, 0, 0, 0, 0, 0, 0, 0, 0, 0, 0, 0, 0, 0, 0, 0, 0, 0, 0, 0, 0, 0, 0, 0, 0, 0, 0, 0, 0, 0, 0, 0, 0, 0, 0, 0, 0, 0, 0, 0, 0, 0, 0, 0, 0, 0, 0, 0, 0, 0, 0, 0, 0, 0, 0, 0, 0, 0, 0, 0, 0, 0, 0, 0, 0, 0, 0, 0, 0, 0, 0, 0, 0, 0, 0, 0, 0, 0, 0, 0, 0, 0, 0, 0, 0, 0, 0, 0, 0, 0, 0, 0, 0, 0, 0, 0, 0, 0, 0, 0, 0, 0, 0, 0, 0, 0, 0, 0, 0, 0, 0, 0, 0, 0, 0, 0, 0, 0, 0, 0, 0, 0, 0, 0, 0, 0, 0, 0, 0, 0, 0, 0, 0, 0, 0, 0, 0, 0, 0, 0, 0, 0, 0, 0, 0, 0, 0, 0, 0, 0, 0, 0, 0, 0, 0, 0, 0, 0, 0, 0, 0, 0, 0, 0, 0, 0, 0, 0, 0, 0, 0, 0, 0, 0, 0, 0, 0, 0, 0, 0, 0, 0, 0, 0, 0, 0, 0, 0, 0, 0, 0, 0, 0, 0, 0, 0, 0, 0, 0, 0, 0, 0, 0, 0, 0, 0, 0, 0, 0, 0, 0, 0, 0, 0, 0, 0, 0, 0, 0, 0, 0, 0, 0, 0, 0, 0, 0, 0, 0, 0, 0, 0, 0, 0, 0, 0, 0, 0, 0, 0, 0, 0, 0, 0, 0, 0, 0, 0, 0, 0, 0, 0, 0, 0, 0, 0, 0, 0, 0, 0, 0, 0, 0, 0, 0, 0, 0, 0, 0, 0, 0, 0, 0, 0, 0, 0, 0, 0, 0, 0, 0, 0, 0, 0, 0, 0, 0, 0, 0, 0, 0, 0, 0, 0, 0, 0, 0, 0, 0, 0, 0, 0, 0, 0, 0, 0, 0, 0, 0, 0, 0, 0, 0, 0, 0, 0, 0, 0, 0, 0, 0, 0, 0, 0, 0, 0, 0, 0, 0, 0, 0, 0, 0, 0, 0, 0, 0, 0, 0, 0, 0, 0, 0, 0, 0, 0, 0, 0, 0, 0, 0, 0, 0, 0, 0, 0, 0, 0, 0, 0, 0, 0, 0, 0, 0, 0, 0, 0, 0, 0, 0, 0, 0, 0, 0, 0, 0, 0, 0, 0, 0, 0, 0, 0, 0, 0, 0, 0, 0, 0, 0, 0, 0, 0, 0, 0, 0, 0, 0, 0, 0, 0, 0, 0, 0, 0, 0, 0, 0, 0, 0, 0, 0, 0, 0, 0, 0, 0, 0, 0, 0, 0, 0, 0, 0, 0, 0, 0, 0, 0, 0, 0, 0, 0, 0, 0, 0, 0, 0, 0, 0, 0, 0, 0, 0, 0, 0, 0, 0, 0, 0, 0, 0, 0, 0, 0, 0, 0, 0, 0, 0, 0, 0, 0, 0, 0, 0, 0, 0, 0, 0, 0, 0, 0, 0, 0, 0, 0, 0, 0, 0, 0, 0, 0, 0, 0, 0, 0, 0, 0, 0, 0, 0, 0, 0, 0, 0, 0, 0, 0, 0, 0, 0, 0, 0, 0, 0, 0, 0, 0, 0, 0, 0, 0, 0, 0, 0, 0, 0, 0, 0, 0, 0, 0, 0, 0, 0, 0, 0, 0, 0, 0, 0, 0, 0, 0, 0, 0, 0, 0, 0, 0, 0, 0, 0, 0, 0, 0, 0, 0, 0, 0, 0, 0, 0, 0, 0, 0, 0, 0, 0, 0, 0, 0, 0, 0, 0, 0, 0, 0, 0, 0, 0, 0, 0, 0, 0, 0, 0, 0, 0, 0, 0, 0, 0, 0, 0, 0, 0, 0, 0, 0, 0, 0, 0, 0, 0, 0, 0, 0, 0, 0, 0, 0, 0, 0, 0, 0, 0, 0, 0, 0, 0, 0, 0, 0, 0, 0, 0, 0, 0, 0, 0, 0, 0, 0, 0, 0, 0, 0, 0, 0, 0, 0, 0, 0, 0, 0, 0, 0, 0, 0, 0, 0, 0, 0, 0, 0, 0, 0, 0, 0, 0, 0, 0, 0, 0, 0, 0, 0, 0, 0, 0, 0, 0, 0, 0, 0, 0, 0, 0, 0, 0, 0, 0, 0, 0, 0, 0, 0, 0, 0, 0, 0, 0, 0, 0, 0, 0, 0, 0, 0, 0, 0, 0, 0, 0, 0, 0, 0, 0, 0, 0, 0, 0, 0, 0, 0, 0, 0, 0, 0, 0, 0, 0, 0, 0, 0, 0, 0, 0, 0, 0, 0, 0, 0, 0, 0, 0, 0, 0, 0, 0, 0, 0, 0, 0, 0, 0, 0, 0, 0, 0, 0, 0, 0, 0, 0, 0, 0, 0, 0, 0, 0, 0, 0, 0, 0, 0, 0, 0, 0, 0, 0, 0, 0, 0, 0], 'attention_mask': [1, 1, 1, 1, 1, 1, 1, 1, 1, 1, 1, 1, 1, 1, 1, 1, 1, 1, 1, 1, 1, 1, 1, 1, 1, 1, 1, 1, 1, 1, 1, 1, 1, 1, 1, 1, 1, 1, 1, 1, 1, 1, 1, 1, 1, 1, 1, 1, 1, 1, 1, 1, 1, 1, 1, 1, 1, 1, 1, 1, 1, 1, 1, 1, 1, 1, 1, 1, 1, 1, 1, 1, 1, 1, 1, 1, 1, 1, 1, 1, 1, 1, 1, 1, 1, 1, 1, 1, 1, 1, 1, 1, 1, 1, 1, 1, 1, 1, 1, 1, 1, 1, 1, 1, 1, 1, 1, 1, 1, 1, 1, 1, 1, 1, 1, 1, 1, 1, 1, 1, 1, 1, 1, 1, 1, 1, 1, 1, 1, 1, 1, 1, 1, 1, 1, 1, 1, 1, 1, 1, 1, 1, 1, 1, 1, 1, 1, 1, 1, 1, 1, 1, 1, 1, 1, 1, 1, 1, 1, 1, 1, 1, 1, 1, 1, 1, 1, 1, 1, 1, 1, 1, 1, 1, 1, 1, 1, 1, 1, 1, 1, 1, 1, 1, 1, 1, 1, 1, 1, 1, 1, 1, 1, 1, 1, 1, 1, 1, 1, 1, 1, 1, 1, 1, 1, 1, 1, 1, 1, 1, 1, 1, 1, 1, 1, 1, 1, 1, 1, 1, 1, 1, 1, 1, 1, 1, 0, 0, 0, 0, 0, 0, 0, 0, 0, 0, 0, 0, 0, 0, 0, 0, 0, 0, 0, 0, 0, 0, 0, 0, 0, 0, 0, 0, 0, 0, 0, 0, 0, 0, 0, 0, 0, 0, 0, 0, 0, 0, 0, 0, 0, 0, 0, 0, 0, 0, 0, 0, 0, 0, 0, 0, 0, 0, 0, 0, 0, 0, 0, 0, 0, 0, 0, 0, 0, 0, 0, 0, 0, 0, 0, 0, 0, 0, 0, 0, 0, 0, 0, 0, 0, 0, 0, 0, 0, 0, 0, 0, 0, 0, 0, 0, 0, 0, 0, 0, 0, 0, 0, 0, 0, 0, 0, 0, 0, 0, 0, 0, 0, 0, 0, 0, 0, 0, 0, 0, 0, 0, 0, 0, 0, 0, 0, 0, 0, 0, 0, 0, 0, 0, 0, 0, 0, 0, 0, 0, 0, 0, 0, 0, 0, 0, 0, 0, 0, 0, 0, 0, 0, 0, 0, 0, 0, 0, 0, 0, 0, 0, 0, 0, 0, 0, 0, 0, 0, 0, 0, 0, 0, 0, 0, 0, 0, 0, 0, 0, 0, 0, 0, 0, 0, 0, 0, 0, 0, 0, 0, 0, 0, 0, 0, 0, 0, 0, 0, 0, 0, 0, 0, 0, 0, 0, 0, 0, 0, 0, 0, 0, 0, 0, 0, 0, 0, 0, 0, 0, 0, 0, 0, 0, 0, 0, 0, 0, 0, 0, 0, 0, 0, 0, 0, 0, 0, 0, 0, 0, 0, 0, 0, 0, 0, 0, 0, 0, 0, 0, 0, 0, 0, 0, 0, 0, 0, 0, 0, 0, 0, 0, 0, 0, 0, 0, 0, 0, 0, 0, 0, 0, 0, 0, 0, 0, 0, 0, 0, 0, 0, 0, 0, 0, 0, 0, 0, 0, 0, 0, 0, 0, 0, 0, 0, 0, 0, 0, 0, 0, 0, 0, 0, 0, 0, 0, 0, 0, 0, 0, 0, 0, 0, 0, 0, 0, 0, 0, 0, 0, 0, 0, 0, 0, 0, 0, 0, 0, 0, 0, 0, 0, 0, 0, 0, 0, 0, 0, 0, 0, 0, 0, 0, 0, 0, 0, 0, 0, 0, 0, 0, 0, 0, 0, 0, 0, 0, 0, 0, 0, 0, 0, 0, 0, 0, 0, 0, 0, 0, 0, 0, 0, 0, 0, 0, 0, 0, 0, 0, 0, 0, 0, 0, 0, 0, 0, 0, 0, 0, 0, 0, 0, 0, 0, 0, 0, 0, 0, 0, 0, 0, 0, 0, 0, 0, 0, 0, 0, 0, 0, 0, 0, 0, 0, 0, 0, 0, 0, 0, 0, 0, 0, 0, 0, 0, 0, 0, 0, 0, 0, 0, 0, 0, 0, 0, 0, 0, 0, 0, 0, 0, 0, 0, 0, 0, 0, 0, 0, 0, 0, 0, 0, 0, 0, 0, 0, 0, 0, 0, 0, 0, 0, 0, 0, 0, 0, 0, 0, 0, 0, 0, 0, 0, 0, 0, 0, 0, 0, 0, 0, 0, 0, 0, 0, 0, 0, 0, 0, 0, 0, 0, 0, 0, 0, 0, 0, 0, 0, 0, 0, 0, 0, 0, 0, 0, 0, 0, 0, 0, 0, 0, 0, 0, 0, 0, 0, 0, 0, 0, 0, 0, 0, 0, 0, 0, 0, 0, 0, 0, 0, 0, 0, 0, 0, 0, 0, 0, 0, 0, 0, 0, 0, 0, 0, 0, 0, 0, 0, 0, 0, 0, 0, 0, 0, 0, 0, 0, 0, 0, 0, 0, 0, 0, 0, 0, 0, 0, 0, 0, 0, 0, 0, 0, 0, 0, 0, 0, 0, 0, 0, 0, 0, 0, 0, 0, 0, 0, 0, 0, 0, 0, 0, 0, 0, 0, 0, 0, 0, 0, 0, 0, 0, 0, 0, 0, 0, 0, 0, 0, 0, 0, 0, 0, 0, 0, 0, 0, 0, 0, 0, 0, 0, 0, 0, 0, 0, 0, 0, 0, 0, 0, 0, 0, 0, 0, 0, 0, 0, 0, 0, 0, 0, 0, 0, 0, 0, 0, 0, 0, 0, 0, 0, 0, 0, 0, 0, 0, 0, 0, 0, 0, 0, 0, 0, 0, 0, 0, 0, 0, 0, 0, 0, 0, 0, 0, 0, 0, 0, 0, 0, 0, 0, 0, 0, 0, 0, 0, 0, 0, 0, 0, 0, 0, 0, 0, 0, 0, 0, 0, 0, 0, 0, 0, 0, 0, 0, 0, 0, 0, 0, 0, 0, 0, 0, 0, 0, 0, 0, 0, 0, 0, 0, 0, 0, 0, 0, 0, 0, 0, 0, 0, 0, 0, 0, 0, 0, 0, 0, 0, 0, 0, 0, 0, 0, 0, 0, 0, 0, 0, 0, 0, 0, 0, 0, 0, 0, 0, 0, 0, 0, 0, 0, 0, 0, 0, 0, 0, 0, 0, 0, 0, 0, 0, 0]}"
      ]
     },
     "execution_count": 27,
     "metadata": {},
     "output_type": "execute_result"
    }
   ],
   "source": [
    "# example tokenization with max length of 1000\n",
    "# \"truncation\" means that texts longer than max_length will be cut off\n",
    "# \"padding\" means that tokens with zeroes will be added to the end of token outputs to ensure a length of max_length for all tokenized texts\n",
    "\n",
    "max_length = 1000\n",
    "\n",
    "example_tokens = tokenizer(df_sample[\"text\"][0], max_length = max_length, truncation = True, padding = \"max_length\")\n",
    "example_tokens"
   ]
  },
  {
   "cell_type": "code",
   "execution_count": 28,
   "id": "548b23fb-f0e3-48b5-ab18-f5a617dc3560",
   "metadata": {},
   "outputs": [
    {
     "data": {
      "text/plain": [
       "1000"
      ]
     },
     "execution_count": 28,
     "metadata": {},
     "output_type": "execute_result"
    }
   ],
   "source": [
    "# checking the length of the tokens with an example\n",
    "len(example_tokens[\"input_ids\"])"
   ]
  },
  {
   "cell_type": "code",
   "execution_count": 29,
   "id": "64a3b300-fbce-40b6-907f-0688c3242d48",
   "metadata": {},
   "outputs": [],
   "source": [
    "import numpy as np"
   ]
  },
  {
   "cell_type": "code",
   "execution_count": 30,
   "id": "fa5e9668-9774-47c7-850b-fa64d3c81595",
   "metadata": {},
   "outputs": [],
   "source": [
    "# using a max_len of 50 here to save time making the encodings\n",
    "def construct_tokens(x, tokenizer, max_len = 100, truncation = True, padding = \"max_length\"):\n",
    "    return tokenizer(x, max_length = max_len, truncation = truncation, padding = padding)"
   ]
  },
  {
   "cell_type": "code",
   "execution_count": 31,
   "id": "5dd368c1-4695-4e20-8ca5-ddf89702963c",
   "metadata": {},
   "outputs": [
    {
     "data": {
      "text/plain": [
       "{'input_ids': [101, 2045, 2001, 2023, 4129, 3863, 2006, 4465, 2006, 3113, 1996, 2811, 2090, 8057, 6927, 1998, 12551, 11582, 7432, 1024, 8057, 6927, 1024, 1045, 9120, 2009, 1012, 1045, 2215, 2000, 2707, 2007, 2242, 2008, 1996, 8495, 2472, 2056, 2023, 2733, 1012, 2472, 23277, 4710, 2056, 2009, 2515, 2025, 3711, 1996, 5008, 2001, 5762, 2135, 12774, 1012, 2061, 1010, 2023, 2003, 2085, 1996, 8495, 2472, 1012, 2057, 1521, 2310, 2657, 2334, 2375, 7285, 1012, 2054, 2024, 2115, 1517, 2024, 2017, 4994, 1996, 2168, 2518, 2013, 2375, 7285, 2008, 2017, 1521, 2310, 2042, 4092, 2007, 1029, 12411, 1012, 12551, 11582, 7432, 102], 'attention_mask': [1, 1, 1, 1, 1, 1, 1, 1, 1, 1, 1, 1, 1, 1, 1, 1, 1, 1, 1, 1, 1, 1, 1, 1, 1, 1, 1, 1, 1, 1, 1, 1, 1, 1, 1, 1, 1, 1, 1, 1, 1, 1, 1, 1, 1, 1, 1, 1, 1, 1, 1, 1, 1, 1, 1, 1, 1, 1, 1, 1, 1, 1, 1, 1, 1, 1, 1, 1, 1, 1, 1, 1, 1, 1, 1, 1, 1, 1, 1, 1, 1, 1, 1, 1, 1, 1, 1, 1, 1, 1, 1, 1, 1, 1, 1, 1, 1, 1, 1, 1]}"
      ]
     },
     "execution_count": 31,
     "metadata": {},
     "output_type": "execute_result"
    }
   ],
   "source": [
    "construct_tokens(df_sample[\"text\"][0], tokenizer)"
   ]
  },
  {
   "cell_type": "code",
   "execution_count": null,
   "id": "093d0117-0cfa-4973-a18c-5c306f445c85",
   "metadata": {},
   "outputs": [],
   "source": []
  },
  {
   "cell_type": "code",
   "execution_count": 32,
   "id": "b51c21a0-571b-4b31-838c-083aaf97639e",
   "metadata": {},
   "outputs": [],
   "source": [
    "# define our x and y from the dataset\n",
    "x = df_sample[\"text\"].tolist()\n",
    "y = df_sample[\"ideology\"].tolist()"
   ]
  },
  {
   "cell_type": "code",
   "execution_count": null,
   "id": "f21bdbeb-e90c-45aa-8639-baf7daf7426e",
   "metadata": {},
   "outputs": [],
   "source": [
    "tokens = construct_tokens(x, tokenizer)\n",
    "tokens"
   ]
  },
  {
   "cell_type": "code",
   "execution_count": null,
   "id": "1742dbf2-c89a-4f52-b727-0c6583e9b8b0",
   "metadata": {},
   "outputs": [],
   "source": []
  },
  {
   "cell_type": "code",
   "execution_count": null,
   "id": "8ab7977b-5afd-422e-afb4-0f8bda7d4bdb",
   "metadata": {},
   "outputs": [],
   "source": []
  },
  {
   "cell_type": "code",
   "execution_count": null,
   "id": "089ebc3e-1267-4e4a-8139-f1838c9dafd3",
   "metadata": {},
   "outputs": [],
   "source": [
    "def construct_tfdataset(tokens, y=None):\n",
    "    if y:\n",
    "        return tf.data.Dataset.from_tensor_slices((dict(tokens),y))\n",
    "    else:\n",
    "        # this case is used when making predictions on unseen samples after training\n",
    "        return tf.data.Dataset.from_tensor_slices(dict(tokens))\n",
    "    \n",
    "tfdataset = construct_tfdataset(tokens, y)\n",
    "tfdataset\n",
    "\n",
    "### adding in z to get the index!!!!!!!!!!!!!!"
   ]
  },
  {
   "cell_type": "code",
   "execution_count": null,
   "id": "2ead29e5-6d1f-4481-b611-fe8a0922f859",
   "metadata": {},
   "outputs": [],
   "source": [
    "list(tfdataset.as_numpy_iterator()) "
   ]
  },
  {
   "cell_type": "code",
   "execution_count": null,
   "id": "61644f25-8158-481d-9aa7-4e370dc4dbb5",
   "metadata": {},
   "outputs": [],
   "source": [
    "TEST_SPLIT = 0.2\n",
    "BATCH_SIZE = 2"
   ]
  },
  {
   "cell_type": "code",
   "execution_count": null,
   "id": "355b1123-3516-4c12-b8c5-e6bc211a4112",
   "metadata": {},
   "outputs": [],
   "source": [
    "train_size = int(len(x) * (1-TEST_SPLIT))"
   ]
  },
  {
   "cell_type": "code",
   "execution_count": null,
   "id": "9a81cb4d-4105-4667-8383-919f4366249c",
   "metadata": {},
   "outputs": [],
   "source": [
    "train_size"
   ]
  },
  {
   "cell_type": "code",
   "execution_count": null,
   "id": "c8570043-1c05-4199-8f17-b8e9ed7465e4",
   "metadata": {},
   "outputs": [],
   "source": []
  },
  {
   "cell_type": "code",
   "execution_count": null,
   "id": "ecc56865-7703-4889-82fe-9d1c865204ae",
   "metadata": {},
   "outputs": [],
   "source": [
    "#### firstly shuffle\n",
    "#### then take the train and the test sets"
   ]
  },
  {
   "cell_type": "code",
   "execution_count": null,
   "id": "42572823-36b4-4e6b-8e15-de4f134f6f7b",
   "metadata": {},
   "outputs": [],
   "source": [
    "tfdataset_shuffled = tfdataset.shuffle(len(x))"
   ]
  },
  {
   "cell_type": "code",
   "execution_count": null,
   "id": "487cbef5-7b65-4eda-92ec-17a3f946b07a",
   "metadata": {},
   "outputs": [],
   "source": [
    "tfdataset_train = tfdataset_shuffled.take(train_size)\n",
    "tfdataset_test = tfdataset_shuffled.skip(train_size)"
   ]
  },
  {
   "cell_type": "code",
   "execution_count": null,
   "id": "3b4c9f6a-4322-4a5c-99e7-fc56b14be177",
   "metadata": {},
   "outputs": [],
   "source": [
    "tfdataset_train = tfdataset_train.batch(BATCH_SIZE)\n",
    "tfdataset_test = tfdataset_test.batch(BATCH_SIZE)"
   ]
  },
  {
   "cell_type": "code",
   "execution_count": null,
   "id": "32325d0f-af19-49d9-8a58-b24ed87c9b90",
   "metadata": {},
   "outputs": [],
   "source": []
  },
  {
   "cell_type": "code",
   "execution_count": null,
   "id": "cc54984b-79b6-49ac-b748-79915a352b42",
   "metadata": {},
   "outputs": [],
   "source": [
    "epochs = 2\n",
    "model_name = \"distilbert-base-uncased\"\n",
    "\n",
    "# set up model\n",
    "model = TFDistilBertForSequenceClassification.from_pretrained(model_name)\n",
    "\n",
    "# define optimizer to be used to minimise loss\n",
    "optimizer = optimizers.Adam(learning_rate=3e-5)\n",
    "\n",
    "# define loss function\n",
    "loss = losses.SparseCategoricalCrossentropy(from_logits=True)\n",
    "\n",
    "# compile model\n",
    "model.compile(optimizer = optimizer,\n",
    "              loss = loss,\n",
    "              metrics = \"accuracy\")\n",
    "# fit model\n",
    "model.fit(tfdataset_train, batch_size=BATCH_SIZE, epochs=epochs)"
   ]
  },
  {
   "cell_type": "code",
   "execution_count": null,
   "id": "893d7fa0-d7a5-4841-bba1-43d7a1d257b4",
   "metadata": {},
   "outputs": [],
   "source": [
    "benchmarks = model.evaluate(tfdataset_test, return_dict=True, batch_size=BATCH_SIZE)\n",
    "print(benchmarks)"
   ]
  },
  {
   "cell_type": "code",
   "execution_count": null,
   "id": "62162e56-8b2f-498d-ad57-65bdbbe7c0c8",
   "metadata": {},
   "outputs": [],
   "source": [
    "# the accuracy is not very good, as it is only 0.54. Baseline accuracy = 0.5\n",
    "# could probably improve the accuracy by increasing the length of each article? (currently set to 50 words)\n",
    "# accuracy will also be increased with better text preprocessing?\n",
    "# accuracy could also be increased with more epochs (but this takes a long time) - could train on google Colab instead?\n",
    "# should also set it up so that it uses validation splits in the model compilation?"
   ]
  },
  {
   "cell_type": "code",
   "execution_count": null,
   "id": "fd6be72c-e5b0-4ce7-92ac-30e83091e6df",
   "metadata": {},
   "outputs": [],
   "source": [
    "tfdataset = tf.data.Dataset.from_tensor_slices(dict(tokens))\n",
    "testing = model.predict(tfdataset)\n",
    "testing[0]"
   ]
  },
  {
   "cell_type": "code",
   "execution_count": null,
   "id": "1b5e0153-4478-47fe-a9fc-d57666dfb0fd",
   "metadata": {},
   "outputs": [],
   "source": [
    "temp = testing[0][0]\n",
    "temp"
   ]
  },
  {
   "cell_type": "code",
   "execution_count": null,
   "id": "76d8bd02-7e5c-436f-83d0-cfbf505f7c9c",
   "metadata": {},
   "outputs": [],
   "source": []
  },
  {
   "cell_type": "code",
   "execution_count": null,
   "id": "701a4a72-0f18-470b-9a71-c025b4056898",
   "metadata": {},
   "outputs": [],
   "source": [
    "tf.nn.softmax(temp)"
   ]
  },
  {
   "cell_type": "code",
   "execution_count": null,
   "id": "2c747533-3e2e-42e0-b9b2-1fb0860d048b",
   "metadata": {},
   "outputs": [],
   "source": []
  },
  {
   "cell_type": "code",
   "execution_count": null,
   "id": "ce474520-84cf-490f-986e-1d12cc3ea883",
   "metadata": {},
   "outputs": [],
   "source": []
  },
  {
   "cell_type": "code",
   "execution_count": null,
   "id": "1a068ad1-32d0-4bc1-9465-769928d9a626",
   "metadata": {},
   "outputs": [],
   "source": []
  },
  {
   "cell_type": "code",
   "execution_count": null,
   "id": "07471739-c63f-4d45-8729-fe64380dfd7e",
   "metadata": {},
   "outputs": [],
   "source": []
  },
  {
   "cell_type": "markdown",
   "id": "cb485d09-7605-4792-a276-19678bfa7244",
   "metadata": {},
   "source": [
    "## TESTING FUNCTIONS"
   ]
  },
  {
   "cell_type": "code",
   "execution_count": 33,
   "id": "b3b623dc-d54a-4c67-9da8-70a5dfaf7245",
   "metadata": {},
   "outputs": [],
   "source": [
    "from tensorflow.keras.callbacks import EarlyStopping"
   ]
  },
  {
   "cell_type": "code",
   "execution_count": 34,
   "id": "88c1ae32-93e0-4c8d-8ed4-233c99379ab3",
   "metadata": {},
   "outputs": [],
   "source": [
    "BATCH_SIZE = 2\n",
    "LEARNING_RATE = 3e-5\n",
    "TOKEN_MAX_LEN = 50\n",
    "TEST_SPLIT = 0.2\n",
    "VALIDATION_SPLIT = 0.3\n",
    "EPOCHS = 5\n",
    "PATIENCE = 2"
   ]
  },
  {
   "cell_type": "code",
   "execution_count": 35,
   "id": "23c8a0b7-5caa-4a74-8ddd-8460cf316ddf",
   "metadata": {},
   "outputs": [],
   "source": [
    "tokenizer = DistilBertTokenizer.from_pretrained(\"distilbert-base-uncased\")"
   ]
  },
  {
   "cell_type": "markdown",
   "id": "c8db725f-304d-42eb-ab10-7bff0fd5629d",
   "metadata": {},
   "source": [
    "### testing the text_tokenizer function"
   ]
  },
  {
   "cell_type": "code",
   "execution_count": 36,
   "id": "9667a071-9db8-4381-b0bd-0f7d669fea14",
   "metadata": {},
   "outputs": [],
   "source": [
    "def text_tokenizer(X,\n",
    "                   tokenizer,\n",
    "                   max_len = TOKEN_MAX_LEN,\n",
    "                   truncation = True,\n",
    "                   padding = \"max_length\"):\n",
    "    \"\"\"\n",
    "    Returns a dictionary of tokenized text with 2 keys: \"input_ids\" and \"attention_mask\".\n",
    "    These 2 keys are required for the input to the DistilBert model.\n",
    "    \"\"\"\n",
    "    \n",
    "    tokens = tokenizer(X, max_length = max_len, truncation = truncation, padding = padding)\n",
    "    \n",
    "    return tokens"
   ]
  },
  {
   "cell_type": "code",
   "execution_count": 37,
   "id": "565d29ad-3103-4bf9-8e84-15637636cd43",
   "metadata": {},
   "outputs": [],
   "source": [
    "tokens = text_tokenizer(x, tokenizer)"
   ]
  },
  {
   "cell_type": "markdown",
   "id": "22c5b719-a174-44f8-94d5-d9a10117e226",
   "metadata": {},
   "source": [
    "### testing the tf_dataset_constructor function"
   ]
  },
  {
   "cell_type": "code",
   "execution_count": 38,
   "id": "28d38f8a-d686-4258-88e6-8e41d1589caf",
   "metadata": {},
   "outputs": [],
   "source": [
    "def tf_dataset_constructor(tokens,\n",
    "                           y):\n",
    "    \"\"\"\n",
    "    Using the tokenized input from the text_tokenizer function, returns TensorFlow objects for use in the DistilBert model.\n",
    "    \"\"\"\n",
    "\n",
    "    tfdataset = tf.data.Dataset.from_tensor_slices((dict(tokens),y))\n",
    "        \n",
    "    return tfdataset"
   ]
  },
  {
   "cell_type": "code",
   "execution_count": 39,
   "id": "2000411f-db5c-4f09-a6cb-1d6e43249801",
   "metadata": {},
   "outputs": [],
   "source": [
    "tfdataset = tf_dataset_constructor(tokens, y)"
   ]
  },
  {
   "cell_type": "code",
   "execution_count": 40,
   "id": "874c9928-60a2-4904-bc88-3f6d2b95ad70",
   "metadata": {},
   "outputs": [
    {
     "data": {
      "text/plain": [
       "tensorflow.python.data.ops.from_tensor_slices_op._TensorSliceDataset"
      ]
     },
     "execution_count": 40,
     "metadata": {},
     "output_type": "execute_result"
    }
   ],
   "source": [
    "type(tfdataset)"
   ]
  },
  {
   "cell_type": "markdown",
   "id": "08bdb064-001d-4ee2-8e2f-49fe1362dc1b",
   "metadata": {},
   "source": [
    "### testing the train_test_split function"
   ]
  },
  {
   "cell_type": "code",
   "execution_count": 41,
   "id": "2e8750cd-7935-44e6-a080-23b2b32bdab7",
   "metadata": {},
   "outputs": [],
   "source": [
    "def train_test_split(X,\n",
    "                     tfdataset,\n",
    "                     test_split = TEST_SPLIT,\n",
    "                     val_split = VALIDATION_SPLIT,\n",
    "                     batch_size = BATCH_SIZE):\n",
    "    \"\"\"\n",
    "    This function splits the TensorFlow object created in the tf_dataset_constructor function into train and test sets.\n",
    "    \"\"\"\n",
    "    \n",
    "    train_size = int(len(X) * (1-test_split))\n",
    "    val_size = int(train_size * val_split)\n",
    "    \n",
    "    tfdataset = tfdataset.shuffle(len(X))\n",
    "    \n",
    "    tfdataset_train = tfdataset.take(train_size)\n",
    "    tfdataset_val = tfdataset.skip(train_size - val_size).take(val_size)\n",
    "    tfdataset_test = tfdataset.skip(train_size)\n",
    "    \n",
    "    tfdataset_train = tfdataset_train.batch(batch_size)\n",
    "    tfdataset_val = tfdataset_val.batch(batch_size)\n",
    "    tfdataset_test = tfdataset_test.batch(batch_size)\n",
    "\n",
    "    return tfdataset_train, tfdataset_val, tfdataset_test"
   ]
  },
  {
   "cell_type": "code",
   "execution_count": 42,
   "id": "aa87f412-4b97-4a4e-a8d2-0bc215cbb26e",
   "metadata": {},
   "outputs": [],
   "source": [
    "tfdataset_train, tfdataset_val, tfdataset_test = train_test_split(x, tfdataset)"
   ]
  },
  {
   "cell_type": "code",
   "execution_count": 43,
   "id": "6274377a-1928-41e8-bf93-fa582e476ed3",
   "metadata": {},
   "outputs": [
    {
     "data": {
      "text/plain": [
       "tensorflow.python.data.ops.batch_op._BatchDataset"
      ]
     },
     "execution_count": 43,
     "metadata": {},
     "output_type": "execute_result"
    }
   ],
   "source": [
    "type(tfdataset_train)"
   ]
  },
  {
   "cell_type": "code",
   "execution_count": 44,
   "id": "3ce3d175-f887-4f8c-980f-35905080243b",
   "metadata": {},
   "outputs": [
    {
     "data": {
      "text/plain": [
       "tensorflow.python.data.ops.batch_op._BatchDataset"
      ]
     },
     "execution_count": 44,
     "metadata": {},
     "output_type": "execute_result"
    }
   ],
   "source": [
    "type(tfdataset_val)"
   ]
  },
  {
   "cell_type": "code",
   "execution_count": 45,
   "id": "d468e0f2-40fc-4df9-9c29-61965d8fa9c1",
   "metadata": {},
   "outputs": [
    {
     "data": {
      "text/plain": [
       "tensorflow.python.data.ops.batch_op._BatchDataset"
      ]
     },
     "execution_count": 45,
     "metadata": {},
     "output_type": "execute_result"
    }
   ],
   "source": [
    "type(tfdataset_test)"
   ]
  },
  {
   "cell_type": "markdown",
   "id": "f6710c59-4314-4eea-9035-c2b96a87a401",
   "metadata": {},
   "source": [
    "### testing the ideology_model function"
   ]
  },
  {
   "cell_type": "code",
   "execution_count": 46,
   "id": "7cd3c0ed-e4cd-4a74-b391-9121d8628208",
   "metadata": {},
   "outputs": [],
   "source": [
    "def ideology_model(tfdataset_train,\n",
    "                   tfdataset_val,\n",
    "                   model_name = \"distilbert-base-uncased\",\n",
    "                   learning_rate = LEARNING_RATE,\n",
    "                   batch_size = BATCH_SIZE,\n",
    "                   epochs = EPOCHS,\n",
    "                   patience = PATIENCE):\n",
    "            \n",
    "    \"\"\"\n",
    "    Set up an run a DistilBert model on our TensorFlow training dataset.\n",
    "    \"\"\"\n",
    "    \n",
    "    # set up model\n",
    "    model = TFDistilBertForSequenceClassification.from_pretrained(model_name)\n",
    "    \n",
    "    # define loss function\n",
    "    loss = losses.SparseCategoricalCrossentropy(from_logits=True)\n",
    "\n",
    "    # define optimizer to be used to minimise loss\n",
    "    optimizer = optimizers.Adam(learning_rate)\n",
    "    \n",
    "    # compile model\n",
    "    model.compile(optimizer = optimizer,\n",
    "                  loss = loss,\n",
    "                  metrics = \"accuracy\")\n",
    "    \n",
    "    # fit model\n",
    "    model.fit(tfdataset_train,\n",
    "              batch_size = batch_size,\n",
    "              epochs = epochs,\n",
    "              validation_data = tfdataset_val,\n",
    "              callbacks = EarlyStopping(patience = PATIENCE, restore_best_weights = True))\n",
    "\n",
    "    return model"
   ]
  },
  {
   "cell_type": "code",
   "execution_count": 47,
   "id": "e259e4ef-d72e-44b5-b7c1-683d2862cefb",
   "metadata": {},
   "outputs": [
    {
     "name": "stderr",
     "output_type": "stream",
     "text": [
      "Some weights of the PyTorch model were not used when initializing the TF 2.0 model TFDistilBertForSequenceClassification: ['vocab_transform.weight', 'vocab_layer_norm.bias', 'vocab_projector.bias', 'vocab_layer_norm.weight', 'vocab_transform.bias']\n",
      "- This IS expected if you are initializing TFDistilBertForSequenceClassification from a PyTorch model trained on another task or with another architecture (e.g. initializing a TFBertForSequenceClassification model from a BertForPreTraining model).\n",
      "- This IS NOT expected if you are initializing TFDistilBertForSequenceClassification from a PyTorch model that you expect to be exactly identical (e.g. initializing a TFBertForSequenceClassification model from a BertForSequenceClassification model).\n",
      "Some weights or buffers of the TF 2.0 model TFDistilBertForSequenceClassification were not initialized from the PyTorch model and are newly initialized: ['pre_classifier.weight', 'pre_classifier.bias', 'classifier.weight', 'classifier.bias']\n",
      "You should probably TRAIN this model on a down-stream task to be able to use it for predictions and inference.\n"
     ]
    },
    {
     "name": "stdout",
     "output_type": "stream",
     "text": [
      "Epoch 1/5\n",
      "36/36 [==============================] - 30s 613ms/step - loss: 0.6422 - accuracy: 0.6944 - val_loss: 0.5601 - val_accuracy: 0.6667\n",
      "Epoch 2/5\n",
      "36/36 [==============================] - 21s 575ms/step - loss: 0.5057 - accuracy: 0.7639 - val_loss: 0.4138 - val_accuracy: 0.7143\n",
      "Epoch 3/5\n",
      "36/36 [==============================] - 23s 632ms/step - loss: 0.2649 - accuracy: 0.8889 - val_loss: 0.0963 - val_accuracy: 1.0000\n",
      "Epoch 4/5\n",
      "36/36 [==============================] - 22s 600ms/step - loss: 0.0949 - accuracy: 0.9722 - val_loss: 0.0339 - val_accuracy: 1.0000\n",
      "Epoch 5/5\n",
      "36/36 [==============================] - 21s 583ms/step - loss: 0.0280 - accuracy: 1.0000 - val_loss: 0.0106 - val_accuracy: 1.0000\n"
     ]
    }
   ],
   "source": [
    "model = ideology_model(tfdataset_train, tfdataset_val)"
   ]
  },
  {
   "cell_type": "markdown",
   "id": "5a2f7035-5e42-4366-adba-032dcbee218b",
   "metadata": {},
   "source": [
    "### testing the ideology_model_evaluator function"
   ]
  },
  {
   "cell_type": "code",
   "execution_count": 48,
   "id": "f7002256-21a8-443b-85c6-8c9b45a70154",
   "metadata": {},
   "outputs": [],
   "source": [
    "def ideology_model_evaluator(model,\n",
    "                             tfdataset_test,\n",
    "                             batch_size = BATCH_SIZE):\n",
    "    \"\"\"\n",
    "    Evaluate our model on the TensorFlow test dataset\n",
    "    \"\"\"\n",
    "    \n",
    "    benchmarks = model.evaluate(tfdataset_test, batch_size = batch_size, return_dict = True)\n",
    "    accuracy = benchmarks[\"accuracy\"]\n",
    "    \n",
    "    return accuracy"
   ]
  },
  {
   "cell_type": "code",
   "execution_count": 49,
   "id": "34e5a556-0520-480c-a686-7cb67c634f42",
   "metadata": {},
   "outputs": [
    {
     "name": "stdout",
     "output_type": "stream",
     "text": [
      "10/10 [==============================] - 1s 86ms/step - loss: 0.0106 - accuracy: 1.0000\n"
     ]
    }
   ],
   "source": [
    "accuracy = ideology_model_evaluator(model, tfdataset_test)"
   ]
  },
  {
   "cell_type": "code",
   "execution_count": 50,
   "id": "919d99ca-feab-4f74-a40c-f871fb25e4dc",
   "metadata": {},
   "outputs": [
    {
     "data": {
      "text/plain": [
       "1.0"
      ]
     },
     "execution_count": 50,
     "metadata": {},
     "output_type": "execute_result"
    }
   ],
   "source": [
    "accuracy"
   ]
  },
  {
   "cell_type": "markdown",
   "id": "ddf4fd06-d12b-4953-b4e7-29e1416ba621",
   "metadata": {},
   "source": [
    "### testing the ideology_model_predictor function"
   ]
  },
  {
   "cell_type": "code",
   "execution_count": 51,
   "id": "3ffcd492-f602-41eb-aef9-c4293ce361fd",
   "metadata": {},
   "outputs": [],
   "source": [
    "def ideology_model_predictor(model,\n",
    "                             tokens):\n",
    "    \"\"\"\n",
    "    This function uses the model output from the ideology_model function to output the probabilities of each\n",
    "    individual article being left or right wing (0 = left wing, 1 = right wing). As the model spits out log odds\n",
    "    rather than probabilities, these also need to be converted in this function into probabilities\n",
    "    \"\"\"\n",
    "    # firstly create a TensorFlow version of our tokenized dataset without our y\n",
    "    tfdataset_no_y = tf.data.Dataset.from_tensor_slices(dict(tokens))\n",
    "\n",
    "    # use this to get out the logits for our model\n",
    "    pred_logits = model.predict(tfdataset_no_y)[0]\n",
    "\n",
    "    # convert these into probabilties\n",
    "    pred_probas = tf.nn.softmax(pred_logits).numpy()\n",
    "\n",
    "    return pred_probas"
   ]
  },
  {
   "cell_type": "code",
   "execution_count": 52,
   "id": "a0ba3026-e93c-4f1b-950f-5d1059bb83c9",
   "metadata": {},
   "outputs": [
    {
     "name": "stdout",
     "output_type": "stream",
     "text": [
      "91/91 [==============================] - 6s 56ms/step\n"
     ]
    }
   ],
   "source": [
    "pred_probas = ideology_model_predictor(model, tokens)"
   ]
  },
  {
   "cell_type": "code",
   "execution_count": 53,
   "id": "b17f5a75-e286-454a-86b6-79c4962f61d0",
   "metadata": {},
   "outputs": [
    {
     "data": {
      "text/plain": [
       "array([[0.01616336, 0.9838366 ],\n",
       "       [0.99077964, 0.00922039],\n",
       "       [0.02169264, 0.97830737],\n",
       "       [0.01603748, 0.9839625 ],\n",
       "       [0.9916437 , 0.0083562 ],\n",
       "       [0.01508336, 0.9849166 ],\n",
       "       [0.99036217, 0.00963786],\n",
       "       [0.99165195, 0.00834799],\n",
       "       [0.99112165, 0.0088783 ],\n",
       "       [0.9909372 , 0.00906286],\n",
       "       [0.92857057, 0.07142945],\n",
       "       [0.9914882 , 0.00851178],\n",
       "       [0.9918508 , 0.00814925],\n",
       "       [0.98864704, 0.01135299],\n",
       "       [0.03617733, 0.9638226 ],\n",
       "       [0.99259573, 0.0074043 ],\n",
       "       [0.99211085, 0.00788918],\n",
       "       [0.991499  , 0.00850101],\n",
       "       [0.01500457, 0.9849954 ],\n",
       "       [0.0218988 , 0.97810125],\n",
       "       [0.9925925 , 0.00740744],\n",
       "       [0.01650243, 0.9834976 ],\n",
       "       [0.99143094, 0.0085691 ],\n",
       "       [0.01466738, 0.98533267],\n",
       "       [0.991552  , 0.00844801],\n",
       "       [0.01656586, 0.9834342 ],\n",
       "       [0.01551927, 0.98448074],\n",
       "       [0.0170708 , 0.9829292 ],\n",
       "       [0.9926876 , 0.0073124 ],\n",
       "       [0.9924926 , 0.00750743],\n",
       "       [0.99209   , 0.00791   ],\n",
       "       [0.01604578, 0.9839542 ],\n",
       "       [0.9919715 , 0.00802849],\n",
       "       [0.99107766, 0.00892231],\n",
       "       [0.9924346 , 0.00756543],\n",
       "       [0.99117744, 0.00882258],\n",
       "       [0.9922901 , 0.00770988],\n",
       "       [0.9880655 , 0.01193454],\n",
       "       [0.0201769 , 0.9798232 ],\n",
       "       [0.99161166, 0.00838832],\n",
       "       [0.9919813 , 0.00801861],\n",
       "       [0.9920129 , 0.00798707],\n",
       "       [0.99293   , 0.00706999],\n",
       "       [0.9921708 , 0.00782916],\n",
       "       [0.9917247 , 0.0082752 ],\n",
       "       [0.14006482, 0.8599352 ],\n",
       "       [0.99089175, 0.00910827],\n",
       "       [0.98429155, 0.01570847],\n",
       "       [0.9850123 , 0.01498772],\n",
       "       [0.03516299, 0.96483696],\n",
       "       [0.01710521, 0.9828948 ],\n",
       "       [0.9927126 , 0.00728736],\n",
       "       [0.99100786, 0.0089922 ],\n",
       "       [0.01799502, 0.982005  ],\n",
       "       [0.01500124, 0.98499876],\n",
       "       [0.02533457, 0.9746654 ],\n",
       "       [0.991835  , 0.00816503],\n",
       "       [0.0213861 , 0.9786139 ],\n",
       "       [0.01629435, 0.98370564],\n",
       "       [0.9924306 , 0.00756934],\n",
       "       [0.9928538 , 0.00714612],\n",
       "       [0.01544194, 0.98455805],\n",
       "       [0.9923179 , 0.00768206],\n",
       "       [0.01877931, 0.9812207 ],\n",
       "       [0.9897955 , 0.01020448],\n",
       "       [0.01630355, 0.9836964 ],\n",
       "       [0.99148047, 0.00851949],\n",
       "       [0.99215573, 0.00784434],\n",
       "       [0.9916869 , 0.0083131 ],\n",
       "       [0.9926197 , 0.00738032],\n",
       "       [0.01653863, 0.9834614 ],\n",
       "       [0.99250907, 0.007491  ],\n",
       "       [0.9908007 , 0.00919927],\n",
       "       [0.01580914, 0.9841908 ],\n",
       "       [0.01729916, 0.9827009 ],\n",
       "       [0.99249154, 0.00750851],\n",
       "       [0.99187547, 0.0081245 ],\n",
       "       [0.99126995, 0.00873004],\n",
       "       [0.99180144, 0.00819852],\n",
       "       [0.02252253, 0.9774775 ],\n",
       "       [0.9924269 , 0.00757315],\n",
       "       [0.99160767, 0.00839235],\n",
       "       [0.9922765 , 0.00772358],\n",
       "       [0.9926386 , 0.00736141],\n",
       "       [0.992081  , 0.0079191 ],\n",
       "       [0.99265665, 0.00734332],\n",
       "       [0.9922983 , 0.0077017 ],\n",
       "       [0.992071  , 0.00792907],\n",
       "       [0.99067885, 0.00932114],\n",
       "       [0.99245   , 0.00755003],\n",
       "       [0.99198335, 0.00801659]], dtype=float32)"
      ]
     },
     "execution_count": 53,
     "metadata": {},
     "output_type": "execute_result"
    }
   ],
   "source": [
    "pred_probas"
   ]
  },
  {
   "cell_type": "code",
   "execution_count": null,
   "id": "a32091a1-3754-44d6-9232-26a7c87bace6",
   "metadata": {},
   "outputs": [],
   "source": []
  },
  {
   "cell_type": "code",
   "execution_count": 54,
   "id": "2956337c-e87d-4fc7-8f36-fbe141e5a1fb",
   "metadata": {},
   "outputs": [],
   "source": [
    "test_text = [\"Economic sentiment and President Joe Biden’s approval ratings are low despite strong output and employment growth for reasons both obvious and subtle. The public is gloomy about the state of the economy even though two of the most important measures of economic health are strong — namely, GDP growth has been strong in recent quarters, and the employment rate is high by historical standards. For example, the University of Michigan’s Index of Consumer Sentiment fell to 61.3 this month. That’s better than it was last year during the worst of the inflationary bout, but still low by historical standards. It’s well lower than it was, for example, when unemployment was as low as it is now, 3.9%, in December 2018.\"]\n"
   ]
  },
  {
   "cell_type": "code",
   "execution_count": 55,
   "id": "61ee3e54-fd94-45a4-993c-2cfc15ac716e",
   "metadata": {},
   "outputs": [],
   "source": [
    "test_tokens = text_tokenizer(test_text, tokenizer)"
   ]
  },
  {
   "cell_type": "code",
   "execution_count": 56,
   "id": "17b7beab-ba05-49f7-8e7e-5f78e12b24a5",
   "metadata": {},
   "outputs": [
    {
     "name": "stdout",
     "output_type": "stream",
     "text": [
      "1/1 [==============================] - 0s 92ms/step\n"
     ]
    }
   ],
   "source": [
    "test_output = ideology_model_predictor(model, test_tokens)"
   ]
  },
  {
   "cell_type": "code",
   "execution_count": 57,
   "id": "94d27420-4b0c-472b-9711-8544c6cbdb6c",
   "metadata": {},
   "outputs": [
    {
     "data": {
      "text/plain": [
       "array([[0.7555335 , 0.24446648]], dtype=float32)"
      ]
     },
     "execution_count": 57,
     "metadata": {},
     "output_type": "execute_result"
    }
   ],
   "source": [
    "test_output"
   ]
  },
  {
   "cell_type": "code",
   "execution_count": null,
   "id": "71bca028-501e-4d11-afac-d20d4a766c8c",
   "metadata": {},
   "outputs": [],
   "source": []
  },
  {
   "cell_type": "code",
   "execution_count": null,
   "id": "f600ca7b-4848-4401-a36d-a8151660a480",
   "metadata": {},
   "outputs": [],
   "source": []
  },
  {
   "cell_type": "markdown",
   "id": "eb901c69-12f2-44f4-aed3-c9f565c54c38",
   "metadata": {},
   "source": [
    "## investigating the raw dataset"
   ]
  },
  {
   "cell_type": "code",
   "execution_count": null,
   "id": "99105235-df27-46a0-98ee-dec2d781cd35",
   "metadata": {},
   "outputs": [],
   "source": [
    "from urllib.parse import urlsplit"
   ]
  },
  {
   "cell_type": "code",
   "execution_count": null,
   "id": "037a5c21-b2a0-450d-9b7e-085f8a0d6d0d",
   "metadata": {},
   "outputs": [],
   "source": []
  },
  {
   "cell_type": "code",
   "execution_count": null,
   "id": "bf13856a-59c5-4c6b-8ba2-df95d50be9fb",
   "metadata": {},
   "outputs": [],
   "source": [
    "# create a new column in the left df with the base URL, stripped of any \"www.\" prefix for clarity\n",
    "df_left[\"base_url\"] = df_left[\"link\"].apply(lambda x: urlsplit(x).netloc.removeprefix(\"www.\"))"
   ]
  },
  {
   "cell_type": "code",
   "execution_count": null,
   "id": "016cb0dc-ccd6-450c-98ba-a8281ab145f2",
   "metadata": {},
   "outputs": [],
   "source": [
    "# convert this column into a list\n",
    "left_urls = df_left[\"base_url\"].tolist()"
   ]
  },
  {
   "cell_type": "code",
   "execution_count": null,
   "id": "614862ad-0b9f-490c-a481-5e2c96ec1611",
   "metadata": {},
   "outputs": [],
   "source": [
    "# get an alphabetically-sorted list of the unique base URLs by converting into a set\n",
    "unique_left_urls = sorted(list(set(left_urls)))\n",
    "len(unique_left_urls)"
   ]
  },
  {
   "cell_type": "code",
   "execution_count": null,
   "id": "fb7ada9b-4fd7-47b1-8469-c695096646a6",
   "metadata": {},
   "outputs": [],
   "source": [
    "# do the same below with the right df"
   ]
  },
  {
   "cell_type": "code",
   "execution_count": null,
   "id": "ffe96675-dc07-46b3-9416-c3532e4e8f83",
   "metadata": {},
   "outputs": [],
   "source": [
    "df_right[\"base_url\"] = df_right[\"link\"].apply(lambda x: urlsplit(x).netloc.removeprefix(\"www.\"))"
   ]
  },
  {
   "cell_type": "code",
   "execution_count": null,
   "id": "3ba3c6a4-9151-4cb3-9d7e-a9c8f92f9dee",
   "metadata": {},
   "outputs": [],
   "source": [
    "right_urls = df_right[\"base_url\"].tolist()"
   ]
  },
  {
   "cell_type": "code",
   "execution_count": null,
   "id": "49cf24b1-44fc-42c7-80b5-eb214063f897",
   "metadata": {},
   "outputs": [],
   "source": [
    "unique_right_urls = sorted(list(set(right_urls)))\n",
    "len(unique_right_urls)"
   ]
  },
  {
   "cell_type": "code",
   "execution_count": null,
   "id": "bf4f6cd1-8dbc-4fe9-a961-2a39aca3622a",
   "metadata": {},
   "outputs": [],
   "source": [
    "# see if there is any overlap between the lists?\n",
    "overlap = set(unique_left_urls) & set(unique_right_urls)\n",
    "overlap"
   ]
  },
  {
   "cell_type": "code",
   "execution_count": null,
   "id": "881ca5cc-148f-498c-9267-c30c3d1eb380",
   "metadata": {},
   "outputs": [],
   "source": [
    "len(overlap)"
   ]
  },
  {
   "cell_type": "code",
   "execution_count": null,
   "id": "e28b9e01-8cf9-4bdf-9374-8478df2a90df",
   "metadata": {},
   "outputs": [],
   "source": [
    "### can therefore see that there are 26 base URLs where some news articles are considered \"right\" and some are considered \"left\"\n",
    "# this seems a little odd - for example, the far-right publication Breitart is considered both \"left\" and \"right\""
   ]
  },
  {
   "cell_type": "code",
   "execution_count": null,
   "id": "f612397d-1054-4c38-b895-a5e6480a966c",
   "metadata": {},
   "outputs": [],
   "source": [
    "unique_left_urls"
   ]
  },
  {
   "cell_type": "code",
   "execution_count": null,
   "id": "cb4061b8-71e4-4c82-9f25-a3e3bcff8a95",
   "metadata": {},
   "outputs": [],
   "source": []
  }
 ],
 "metadata": {
  "kernelspec": {
   "display_name": "Python 3 (ipykernel)",
   "language": "python",
   "name": "python3"
  },
  "language_info": {
   "codemirror_mode": {
    "name": "ipython",
    "version": 3
   },
   "file_extension": ".py",
   "mimetype": "text/x-python",
   "name": "python",
   "nbconvert_exporter": "python",
   "pygments_lexer": "ipython3",
   "version": "3.10.6"
  }
 },
 "nbformat": 4,
 "nbformat_minor": 5
}
