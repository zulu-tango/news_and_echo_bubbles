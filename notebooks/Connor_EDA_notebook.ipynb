{
 "cells": [
  {
   "cell_type": "code",
   "execution_count": 3,
   "id": "d87cd8ba-7d1f-4c76-a2a0-536e7e93ae9d",
   "metadata": {},
   "outputs": [],
   "source": [
    "import os\n",
    "import pandas as pd"
   ]
  },
  {
   "cell_type": "code",
   "execution_count": 4,
   "id": "57f03cdd-6548-42f7-b8a1-340c0b7472fe",
   "metadata": {},
   "outputs": [
    {
     "data": {
      "text/plain": [
       "'/home/connor/code/zulu-tango/news_and_echo_bubbles/notebooks'"
      ]
     },
     "execution_count": 4,
     "metadata": {},
     "output_type": "execute_result"
    }
   ],
   "source": [
    "cwd = os.getcwd()\n",
    "cwd"
   ]
  },
  {
   "cell_type": "code",
   "execution_count": 5,
   "id": "90bb7328-7be7-4cbf-8a46-60f5563e131c",
   "metadata": {},
   "outputs": [
    {
     "data": {
      "text/plain": [
       "'/home/connor/code/zulu-tango/news_and_echo_bubbles'"
      ]
     },
     "execution_count": 5,
     "metadata": {},
     "output_type": "execute_result"
    }
   ],
   "source": [
    "parent = os.path.dirname(cwd)\n",
    "parent"
   ]
  },
  {
   "cell_type": "code",
   "execution_count": 6,
   "id": "5ee94ecb-1beb-4df8-ba3a-3b4e69451309",
   "metadata": {},
   "outputs": [
    {
     "data": {
      "text/plain": [
       "'/home/connor/code/zulu-tango/news_and_echo_bubbles/raw_data'"
      ]
     },
     "execution_count": 6,
     "metadata": {},
     "output_type": "execute_result"
    }
   ],
   "source": [
    "data_folder = os.path.join(parent,\"raw_data\")\n",
    "data_folder"
   ]
  },
  {
   "cell_type": "code",
   "execution_count": 7,
   "id": "acd46ba3-a287-4117-9558-4f946b924d6e",
   "metadata": {},
   "outputs": [],
   "source": [
    "left_data_location = os.path.join(data_folder,\"braindedleft.csv\")\n",
    "right_data_location = os.path.join(data_folder,\"braindedright.csv\")"
   ]
  },
  {
   "cell_type": "code",
   "execution_count": 8,
   "id": "3291a6f6-b8ad-4f9d-8087-6d98a36f6a88",
   "metadata": {},
   "outputs": [],
   "source": [
    "# load in left and right datasets\n",
    "df_left = pd.read_csv(left_data_location)\n",
    "df_right = pd.read_csv(right_data_location)"
   ]
  },
  {
   "cell_type": "code",
   "execution_count": 9,
   "id": "43f1110d-3a9c-47a7-9563-1e50b70c68b0",
   "metadata": {},
   "outputs": [],
   "source": [
    "# assign a 0 to left wing articles and a 1 to right wing articles\n",
    "df_left[\"ideology\"] = 0\n",
    "df_right[\"ideology\"] = 1"
   ]
  },
  {
   "cell_type": "code",
   "execution_count": 196,
   "id": "82ef0133-dde0-4a26-b377-4c7400b9dfd0",
   "metadata": {},
   "outputs": [],
   "source": [
    "# merge the two datasets\n",
    "merged_df = pd.concat([df_left,df_right])"
   ]
  },
  {
   "cell_type": "code",
   "execution_count": 197,
   "id": "f18769b1-43a6-4c54-a6e2-10cda2156499",
   "metadata": {},
   "outputs": [
    {
     "data": {
      "text/html": [
       "<div>\n",
       "<style scoped>\n",
       "    .dataframe tbody tr th:only-of-type {\n",
       "        vertical-align: middle;\n",
       "    }\n",
       "\n",
       "    .dataframe tbody tr th {\n",
       "        vertical-align: top;\n",
       "    }\n",
       "\n",
       "    .dataframe thead th {\n",
       "        text-align: right;\n",
       "    }\n",
       "</style>\n",
       "<table border=\"1\" class=\"dataframe\">\n",
       "  <thead>\n",
       "    <tr style=\"text-align: right;\">\n",
       "      <th></th>\n",
       "      <th>Unnamed: 0</th>\n",
       "      <th>link</th>\n",
       "      <th>pdate</th>\n",
       "      <th>title</th>\n",
       "      <th>author</th>\n",
       "      <th>text</th>\n",
       "      <th>keywords</th>\n",
       "      <th>tags</th>\n",
       "      <th>compound</th>\n",
       "      <th>neg</th>\n",
       "      <th>neu</th>\n",
       "      <th>pos</th>\n",
       "      <th>polarity</th>\n",
       "      <th>subjectivity</th>\n",
       "      <th>ideology</th>\n",
       "    </tr>\n",
       "  </thead>\n",
       "  <tbody>\n",
       "    <tr>\n",
       "      <th>0</th>\n",
       "      <td>0</td>\n",
       "      <td>https://kindest.com/442355-defend-democracy-to...</td>\n",
       "      <td>NaN</td>\n",
       "      <td>Defend Democracy Today: Support Fearless, Insi...</td>\n",
       "      <td>[]</td>\n",
       "      <td>While the election has come and gone, the figh...</td>\n",
       "      <td>['reporting', 'come', 'today', 'access', 'chec...</td>\n",
       "      <td>set()</td>\n",
       "      <td>0.8612</td>\n",
       "      <td>0.063</td>\n",
       "      <td>0.819</td>\n",
       "      <td>0.118</td>\n",
       "      <td>0.165589</td>\n",
       "      <td>0.539782</td>\n",
       "      <td>0</td>\n",
       "    </tr>\n",
       "  </tbody>\n",
       "</table>\n",
       "</div>"
      ],
      "text/plain": [
       "   Unnamed: 0                                               link pdate  \\\n",
       "0           0  https://kindest.com/442355-defend-democracy-to...   NaN   \n",
       "\n",
       "                                               title author  \\\n",
       "0  Defend Democracy Today: Support Fearless, Insi...     []   \n",
       "\n",
       "                                                text  \\\n",
       "0  While the election has come and gone, the figh...   \n",
       "\n",
       "                                            keywords   tags  compound    neg  \\\n",
       "0  ['reporting', 'come', 'today', 'access', 'chec...  set()    0.8612  0.063   \n",
       "\n",
       "     neu    pos  polarity  subjectivity  ideology  \n",
       "0  0.819  0.118  0.165589      0.539782         0  "
      ]
     },
     "execution_count": 197,
     "metadata": {},
     "output_type": "execute_result"
    }
   ],
   "source": [
    "merged_df.head(1)"
   ]
  },
  {
   "cell_type": "code",
   "execution_count": 198,
   "id": "b7883f3e-672c-4094-b4e4-36257d4911cd",
   "metadata": {},
   "outputs": [
    {
     "data": {
      "text/html": [
       "<div>\n",
       "<style scoped>\n",
       "    .dataframe tbody tr th:only-of-type {\n",
       "        vertical-align: middle;\n",
       "    }\n",
       "\n",
       "    .dataframe tbody tr th {\n",
       "        vertical-align: top;\n",
       "    }\n",
       "\n",
       "    .dataframe thead th {\n",
       "        text-align: right;\n",
       "    }\n",
       "</style>\n",
       "<table border=\"1\" class=\"dataframe\">\n",
       "  <thead>\n",
       "    <tr style=\"text-align: right;\">\n",
       "      <th></th>\n",
       "      <th>Unnamed: 0</th>\n",
       "      <th>link</th>\n",
       "      <th>pdate</th>\n",
       "      <th>title</th>\n",
       "      <th>author</th>\n",
       "      <th>text</th>\n",
       "      <th>keywords</th>\n",
       "      <th>tags</th>\n",
       "      <th>compound</th>\n",
       "      <th>neg</th>\n",
       "      <th>neu</th>\n",
       "      <th>pos</th>\n",
       "      <th>polarity</th>\n",
       "      <th>subjectivity</th>\n",
       "      <th>ideology</th>\n",
       "    </tr>\n",
       "  </thead>\n",
       "  <tbody>\n",
       "    <tr>\n",
       "      <th>1809</th>\n",
       "      <td>1809</td>\n",
       "      <td>https://americanmind.org/video/book-talk-crisi...</td>\n",
       "      <td>NaN</td>\n",
       "      <td>The American Mind Podcast: The Roundtable Epis...</td>\n",
       "      <td>['Christopher Buskirk', 'Kevin Portteus', 'Dan...</td>\n",
       "      <td>The American Mind’s ‘Editorial Roundtable’ pod...</td>\n",
       "      <td>['mind', 'williams', 'trump', 'american', 'unc...</td>\n",
       "      <td>set()</td>\n",
       "      <td>0.6808</td>\n",
       "      <td>0.026</td>\n",
       "      <td>0.9</td>\n",
       "      <td>0.074</td>\n",
       "      <td>0.114815</td>\n",
       "      <td>0.296296</td>\n",
       "      <td>1</td>\n",
       "    </tr>\n",
       "  </tbody>\n",
       "</table>\n",
       "</div>"
      ],
      "text/plain": [
       "      Unnamed: 0                                               link pdate  \\\n",
       "1809        1809  https://americanmind.org/video/book-talk-crisi...   NaN   \n",
       "\n",
       "                                                  title  \\\n",
       "1809  The American Mind Podcast: The Roundtable Epis...   \n",
       "\n",
       "                                                 author  \\\n",
       "1809  ['Christopher Buskirk', 'Kevin Portteus', 'Dan...   \n",
       "\n",
       "                                                   text  \\\n",
       "1809  The American Mind’s ‘Editorial Roundtable’ pod...   \n",
       "\n",
       "                                               keywords   tags  compound  \\\n",
       "1809  ['mind', 'williams', 'trump', 'american', 'unc...  set()    0.6808   \n",
       "\n",
       "        neg  neu    pos  polarity  subjectivity  ideology  \n",
       "1809  0.026  0.9  0.074  0.114815      0.296296         1  "
      ]
     },
     "execution_count": 198,
     "metadata": {},
     "output_type": "execute_result"
    }
   ],
   "source": [
    "merged_df.tail(1)"
   ]
  },
  {
   "cell_type": "code",
   "execution_count": 199,
   "id": "50039cca-526c-4b9d-bdab-1201bc62e0e3",
   "metadata": {},
   "outputs": [],
   "source": [
    "# drop unnecessary columns\n",
    "# we may not want to drop all of these for later analysis, but this is fine for now\n",
    "merged_df = merged_df.drop(columns = [\"Unnamed: 0\", \"link\", \"pdate\", \"title\", \"author\",\t\"keywords\",\\\n",
    "                          \"tags\", \"compound\", \"neg\", \"neu\", \"pos\", \"polarity\", \"subjectivity\"])"
   ]
  },
  {
   "cell_type": "code",
   "execution_count": 200,
   "id": "d6d4e438-a704-42de-a3ec-6b3b8b20da7a",
   "metadata": {},
   "outputs": [],
   "source": [
    "# taking a sample to make testing the model easier\n",
    "df_sample = merged_df.sample(500)"
   ]
  },
  {
   "cell_type": "code",
   "execution_count": 201,
   "id": "af53be7f-165a-4388-a5f9-48510e0999c5",
   "metadata": {},
   "outputs": [
    {
     "data": {
      "text/plain": [
       "229"
      ]
     },
     "execution_count": 201,
     "metadata": {},
     "output_type": "execute_result"
    }
   ],
   "source": [
    "# check data is balanced between left-wing and right-wing (i.e. c.250 of each class)\n",
    "df_sample[\"ideology\"].sum()"
   ]
  },
  {
   "cell_type": "code",
   "execution_count": 202,
   "id": "f2705602-84f5-4094-96b7-fd22fa56effc",
   "metadata": {},
   "outputs": [
    {
     "name": "stdout",
     "output_type": "stream",
     "text": [
      "Requirement already satisfied: tensorflow in /home/connor/.pyenv/versions/3.10.6/envs/news_and_echo_bubbles/lib/python3.10/site-packages (2.15.0)\n",
      "Requirement already satisfied: transformers in /home/connor/.pyenv/versions/3.10.6/envs/news_and_echo_bubbles/lib/python3.10/site-packages (4.35.2)\n",
      "Requirement already satisfied: absl-py>=1.0.0 in /home/connor/.pyenv/versions/3.10.6/envs/news_and_echo_bubbles/lib/python3.10/site-packages (from tensorflow) (2.0.0)\n",
      "Requirement already satisfied: astunparse>=1.6.0 in /home/connor/.pyenv/versions/3.10.6/envs/news_and_echo_bubbles/lib/python3.10/site-packages (from tensorflow) (1.6.3)\n",
      "Requirement already satisfied: flatbuffers>=23.5.26 in /home/connor/.pyenv/versions/3.10.6/envs/news_and_echo_bubbles/lib/python3.10/site-packages (from tensorflow) (23.5.26)\n",
      "Requirement already satisfied: gast!=0.5.0,!=0.5.1,!=0.5.2,>=0.2.1 in /home/connor/.pyenv/versions/3.10.6/envs/news_and_echo_bubbles/lib/python3.10/site-packages (from tensorflow) (0.5.4)\n",
      "Requirement already satisfied: google-pasta>=0.1.1 in /home/connor/.pyenv/versions/3.10.6/envs/news_and_echo_bubbles/lib/python3.10/site-packages (from tensorflow) (0.2.0)\n",
      "Requirement already satisfied: h5py>=2.9.0 in /home/connor/.pyenv/versions/3.10.6/envs/news_and_echo_bubbles/lib/python3.10/site-packages (from tensorflow) (3.10.0)\n",
      "Requirement already satisfied: libclang>=13.0.0 in /home/connor/.pyenv/versions/3.10.6/envs/news_and_echo_bubbles/lib/python3.10/site-packages (from tensorflow) (16.0.6)\n",
      "Requirement already satisfied: ml-dtypes~=0.2.0 in /home/connor/.pyenv/versions/3.10.6/envs/news_and_echo_bubbles/lib/python3.10/site-packages (from tensorflow) (0.2.0)\n",
      "Requirement already satisfied: numpy<2.0.0,>=1.23.5 in /home/connor/.pyenv/versions/3.10.6/envs/news_and_echo_bubbles/lib/python3.10/site-packages (from tensorflow) (1.26.2)\n",
      "Requirement already satisfied: opt-einsum>=2.3.2 in /home/connor/.pyenv/versions/3.10.6/envs/news_and_echo_bubbles/lib/python3.10/site-packages (from tensorflow) (3.3.0)\n",
      "Requirement already satisfied: packaging in /home/connor/.pyenv/versions/3.10.6/envs/news_and_echo_bubbles/lib/python3.10/site-packages (from tensorflow) (23.2)\n",
      "Requirement already satisfied: protobuf!=4.21.0,!=4.21.1,!=4.21.2,!=4.21.3,!=4.21.4,!=4.21.5,<5.0.0dev,>=3.20.3 in /home/connor/.pyenv/versions/3.10.6/envs/news_and_echo_bubbles/lib/python3.10/site-packages (from tensorflow) (4.23.4)\n",
      "Requirement already satisfied: setuptools in /home/connor/.pyenv/versions/3.10.6/envs/news_and_echo_bubbles/lib/python3.10/site-packages (from tensorflow) (63.2.0)\n",
      "Requirement already satisfied: six>=1.12.0 in /home/connor/.pyenv/versions/3.10.6/envs/news_and_echo_bubbles/lib/python3.10/site-packages (from tensorflow) (1.16.0)\n",
      "Requirement already satisfied: termcolor>=1.1.0 in /home/connor/.pyenv/versions/3.10.6/envs/news_and_echo_bubbles/lib/python3.10/site-packages (from tensorflow) (2.3.0)\n",
      "Requirement already satisfied: typing-extensions>=3.6.6 in /home/connor/.pyenv/versions/3.10.6/envs/news_and_echo_bubbles/lib/python3.10/site-packages (from tensorflow) (4.8.0)\n",
      "Requirement already satisfied: wrapt<1.15,>=1.11.0 in /home/connor/.pyenv/versions/3.10.6/envs/news_and_echo_bubbles/lib/python3.10/site-packages (from tensorflow) (1.14.1)\n",
      "Requirement already satisfied: tensorflow-io-gcs-filesystem>=0.23.1 in /home/connor/.pyenv/versions/3.10.6/envs/news_and_echo_bubbles/lib/python3.10/site-packages (from tensorflow) (0.34.0)\n",
      "Requirement already satisfied: grpcio<2.0,>=1.24.3 in /home/connor/.pyenv/versions/3.10.6/envs/news_and_echo_bubbles/lib/python3.10/site-packages (from tensorflow) (1.59.3)\n",
      "Requirement already satisfied: tensorboard<2.16,>=2.15 in /home/connor/.pyenv/versions/3.10.6/envs/news_and_echo_bubbles/lib/python3.10/site-packages (from tensorflow) (2.15.1)\n",
      "Requirement already satisfied: tensorflow-estimator<2.16,>=2.15.0 in /home/connor/.pyenv/versions/3.10.6/envs/news_and_echo_bubbles/lib/python3.10/site-packages (from tensorflow) (2.15.0)\n",
      "Requirement already satisfied: keras<2.16,>=2.15.0 in /home/connor/.pyenv/versions/3.10.6/envs/news_and_echo_bubbles/lib/python3.10/site-packages (from tensorflow) (2.15.0)\n",
      "Requirement already satisfied: filelock in /home/connor/.pyenv/versions/3.10.6/envs/news_and_echo_bubbles/lib/python3.10/site-packages (from transformers) (3.13.1)\n",
      "Requirement already satisfied: huggingface-hub<1.0,>=0.16.4 in /home/connor/.pyenv/versions/3.10.6/envs/news_and_echo_bubbles/lib/python3.10/site-packages (from transformers) (0.19.4)\n",
      "Requirement already satisfied: pyyaml>=5.1 in /home/connor/.pyenv/versions/3.10.6/envs/news_and_echo_bubbles/lib/python3.10/site-packages (from transformers) (6.0.1)\n",
      "Requirement already satisfied: regex!=2019.12.17 in /home/connor/.pyenv/versions/3.10.6/envs/news_and_echo_bubbles/lib/python3.10/site-packages (from transformers) (2023.10.3)\n",
      "Requirement already satisfied: requests in /home/connor/.pyenv/versions/3.10.6/envs/news_and_echo_bubbles/lib/python3.10/site-packages (from transformers) (2.31.0)\n",
      "Requirement already satisfied: tokenizers<0.19,>=0.14 in /home/connor/.pyenv/versions/3.10.6/envs/news_and_echo_bubbles/lib/python3.10/site-packages (from transformers) (0.15.0)\n",
      "Requirement already satisfied: safetensors>=0.3.1 in /home/connor/.pyenv/versions/3.10.6/envs/news_and_echo_bubbles/lib/python3.10/site-packages (from transformers) (0.4.1)\n",
      "Requirement already satisfied: tqdm>=4.27 in /home/connor/.pyenv/versions/3.10.6/envs/news_and_echo_bubbles/lib/python3.10/site-packages (from transformers) (4.66.1)\n",
      "Requirement already satisfied: wheel<1.0,>=0.23.0 in /home/connor/.pyenv/versions/3.10.6/envs/news_and_echo_bubbles/lib/python3.10/site-packages (from astunparse>=1.6.0->tensorflow) (0.42.0)\n",
      "Requirement already satisfied: fsspec>=2023.5.0 in /home/connor/.pyenv/versions/3.10.6/envs/news_and_echo_bubbles/lib/python3.10/site-packages (from huggingface-hub<1.0,>=0.16.4->transformers) (2023.10.0)\n",
      "Requirement already satisfied: google-auth<3,>=1.6.3 in /home/connor/.pyenv/versions/3.10.6/envs/news_and_echo_bubbles/lib/python3.10/site-packages (from tensorboard<2.16,>=2.15->tensorflow) (2.23.4)\n",
      "Requirement already satisfied: google-auth-oauthlib<2,>=0.5 in /home/connor/.pyenv/versions/3.10.6/envs/news_and_echo_bubbles/lib/python3.10/site-packages (from tensorboard<2.16,>=2.15->tensorflow) (1.1.0)\n",
      "Requirement already satisfied: markdown>=2.6.8 in /home/connor/.pyenv/versions/3.10.6/envs/news_and_echo_bubbles/lib/python3.10/site-packages (from tensorboard<2.16,>=2.15->tensorflow) (3.5.1)\n",
      "Requirement already satisfied: tensorboard-data-server<0.8.0,>=0.7.0 in /home/connor/.pyenv/versions/3.10.6/envs/news_and_echo_bubbles/lib/python3.10/site-packages (from tensorboard<2.16,>=2.15->tensorflow) (0.7.2)\n",
      "Requirement already satisfied: werkzeug>=1.0.1 in /home/connor/.pyenv/versions/3.10.6/envs/news_and_echo_bubbles/lib/python3.10/site-packages (from tensorboard<2.16,>=2.15->tensorflow) (3.0.1)\n",
      "Requirement already satisfied: charset-normalizer<4,>=2 in /home/connor/.pyenv/versions/3.10.6/envs/news_and_echo_bubbles/lib/python3.10/site-packages (from requests->transformers) (3.3.2)\n",
      "Requirement already satisfied: idna<4,>=2.5 in /home/connor/.pyenv/versions/3.10.6/envs/news_and_echo_bubbles/lib/python3.10/site-packages (from requests->transformers) (3.6)\n",
      "Requirement already satisfied: urllib3<3,>=1.21.1 in /home/connor/.pyenv/versions/3.10.6/envs/news_and_echo_bubbles/lib/python3.10/site-packages (from requests->transformers) (2.1.0)\n",
      "Requirement already satisfied: certifi>=2017.4.17 in /home/connor/.pyenv/versions/3.10.6/envs/news_and_echo_bubbles/lib/python3.10/site-packages (from requests->transformers) (2023.11.17)\n",
      "Requirement already satisfied: cachetools<6.0,>=2.0.0 in /home/connor/.pyenv/versions/3.10.6/envs/news_and_echo_bubbles/lib/python3.10/site-packages (from google-auth<3,>=1.6.3->tensorboard<2.16,>=2.15->tensorflow) (5.3.2)\n",
      "Requirement already satisfied: pyasn1-modules>=0.2.1 in /home/connor/.pyenv/versions/3.10.6/envs/news_and_echo_bubbles/lib/python3.10/site-packages (from google-auth<3,>=1.6.3->tensorboard<2.16,>=2.15->tensorflow) (0.3.0)\n",
      "Requirement already satisfied: rsa<5,>=3.1.4 in /home/connor/.pyenv/versions/3.10.6/envs/news_and_echo_bubbles/lib/python3.10/site-packages (from google-auth<3,>=1.6.3->tensorboard<2.16,>=2.15->tensorflow) (4.9)\n",
      "Requirement already satisfied: requests-oauthlib>=0.7.0 in /home/connor/.pyenv/versions/3.10.6/envs/news_and_echo_bubbles/lib/python3.10/site-packages (from google-auth-oauthlib<2,>=0.5->tensorboard<2.16,>=2.15->tensorflow) (1.3.1)\n",
      "Requirement already satisfied: MarkupSafe>=2.1.1 in /home/connor/.pyenv/versions/3.10.6/envs/news_and_echo_bubbles/lib/python3.10/site-packages (from werkzeug>=1.0.1->tensorboard<2.16,>=2.15->tensorflow) (2.1.3)\n",
      "Requirement already satisfied: pyasn1<0.6.0,>=0.4.6 in /home/connor/.pyenv/versions/3.10.6/envs/news_and_echo_bubbles/lib/python3.10/site-packages (from pyasn1-modules>=0.2.1->google-auth<3,>=1.6.3->tensorboard<2.16,>=2.15->tensorflow) (0.5.1)\n",
      "Requirement already satisfied: oauthlib>=3.0.0 in /home/connor/.pyenv/versions/3.10.6/envs/news_and_echo_bubbles/lib/python3.10/site-packages (from requests-oauthlib>=0.7.0->google-auth-oauthlib<2,>=0.5->tensorboard<2.16,>=2.15->tensorflow) (3.2.2)\n"
     ]
    }
   ],
   "source": [
    "!pip install tensorflow transformers"
   ]
  },
  {
   "cell_type": "code",
   "execution_count": 203,
   "id": "ef159519-65b3-497f-af22-c7d95d61d43d",
   "metadata": {},
   "outputs": [],
   "source": [
    "import tensorflow as tf\n",
    "from tensorflow.keras import activations, optimizers, losses\n",
    "from transformers import DistilBertTokenizer, TFDistilBertForSequenceClassification"
   ]
  },
  {
   "cell_type": "code",
   "execution_count": 204,
   "id": "acd2e58e-57a1-47c3-9ce1-3f34ad30fc23",
   "metadata": {},
   "outputs": [
    {
     "data": {
      "text/html": [
       "<div>\n",
       "<style scoped>\n",
       "    .dataframe tbody tr th:only-of-type {\n",
       "        vertical-align: middle;\n",
       "    }\n",
       "\n",
       "    .dataframe tbody tr th {\n",
       "        vertical-align: top;\n",
       "    }\n",
       "\n",
       "    .dataframe thead th {\n",
       "        text-align: right;\n",
       "    }\n",
       "</style>\n",
       "<table border=\"1\" class=\"dataframe\">\n",
       "  <thead>\n",
       "    <tr style=\"text-align: right;\">\n",
       "      <th></th>\n",
       "      <th>text</th>\n",
       "      <th>ideology</th>\n",
       "    </tr>\n",
       "  </thead>\n",
       "  <tbody>\n",
       "    <tr>\n",
       "      <th>244</th>\n",
       "      <td>Florida Gov. Ron DeSantis, promoting his decis...</td>\n",
       "      <td>0</td>\n",
       "    </tr>\n",
       "    <tr>\n",
       "      <th>2394</th>\n",
       "      <td>Subscribe to The Nation Subscribe now for as l...</td>\n",
       "      <td>0</td>\n",
       "    </tr>\n",
       "    <tr>\n",
       "      <th>2325</th>\n",
       "      <td>[music] This is a story about a guy and a term...</td>\n",
       "      <td>0</td>\n",
       "    </tr>\n",
       "    <tr>\n",
       "      <th>1417</th>\n",
       "      <td>The Commerce Department said Wednesday it has ...</td>\n",
       "      <td>1</td>\n",
       "    </tr>\n",
       "    <tr>\n",
       "      <th>1943</th>\n",
       "      <td>Let our journalists help you make sense of the...</td>\n",
       "      <td>0</td>\n",
       "    </tr>\n",
       "  </tbody>\n",
       "</table>\n",
       "</div>"
      ],
      "text/plain": [
       "                                                   text  ideology\n",
       "244   Florida Gov. Ron DeSantis, promoting his decis...         0\n",
       "2394  Subscribe to The Nation Subscribe now for as l...         0\n",
       "2325  [music] This is a story about a guy and a term...         0\n",
       "1417  The Commerce Department said Wednesday it has ...         1\n",
       "1943  Let our journalists help you make sense of the...         0"
      ]
     },
     "execution_count": 204,
     "metadata": {},
     "output_type": "execute_result"
    }
   ],
   "source": [
    "df_sample.head()"
   ]
  },
  {
   "cell_type": "code",
   "execution_count": 205,
   "id": "f1317679-9aa1-4be5-9b3b-a5c87334c6be",
   "metadata": {},
   "outputs": [],
   "source": [
    "# see what the lengths of the texts are\n",
    "# need to convert to string first before calculating length as was getting an error that some review text cells were float values and not strings\n",
    "df_sample[\"text_length\"] = df_sample[\"text\"].apply(lambda x: len(str(x)))"
   ]
  },
  {
   "cell_type": "code",
   "execution_count": 206,
   "id": "676f1b35-4d07-406f-9b6e-bf6eea71caea",
   "metadata": {},
   "outputs": [
    {
     "data": {
      "text/html": [
       "<div>\n",
       "<style scoped>\n",
       "    .dataframe tbody tr th:only-of-type {\n",
       "        vertical-align: middle;\n",
       "    }\n",
       "\n",
       "    .dataframe tbody tr th {\n",
       "        vertical-align: top;\n",
       "    }\n",
       "\n",
       "    .dataframe thead th {\n",
       "        text-align: right;\n",
       "    }\n",
       "</style>\n",
       "<table border=\"1\" class=\"dataframe\">\n",
       "  <thead>\n",
       "    <tr style=\"text-align: right;\">\n",
       "      <th></th>\n",
       "      <th>text</th>\n",
       "      <th>ideology</th>\n",
       "      <th>text_length</th>\n",
       "    </tr>\n",
       "  </thead>\n",
       "  <tbody>\n",
       "    <tr>\n",
       "      <th>244</th>\n",
       "      <td>Florida Gov. Ron DeSantis, promoting his decis...</td>\n",
       "      <td>0</td>\n",
       "      <td>2466</td>\n",
       "    </tr>\n",
       "    <tr>\n",
       "      <th>2394</th>\n",
       "      <td>Subscribe to The Nation Subscribe now for as l...</td>\n",
       "      <td>0</td>\n",
       "      <td>16515</td>\n",
       "    </tr>\n",
       "    <tr>\n",
       "      <th>2325</th>\n",
       "      <td>[music] This is a story about a guy and a term...</td>\n",
       "      <td>0</td>\n",
       "      <td>13213</td>\n",
       "    </tr>\n",
       "    <tr>\n",
       "      <th>1417</th>\n",
       "      <td>The Commerce Department said Wednesday it has ...</td>\n",
       "      <td>1</td>\n",
       "      <td>2314</td>\n",
       "    </tr>\n",
       "    <tr>\n",
       "      <th>1943</th>\n",
       "      <td>Let our journalists help you make sense of the...</td>\n",
       "      <td>0</td>\n",
       "      <td>1555</td>\n",
       "    </tr>\n",
       "  </tbody>\n",
       "</table>\n",
       "</div>"
      ],
      "text/plain": [
       "                                                   text  ideology  text_length\n",
       "244   Florida Gov. Ron DeSantis, promoting his decis...         0         2466\n",
       "2394  Subscribe to The Nation Subscribe now for as l...         0        16515\n",
       "2325  [music] This is a story about a guy and a term...         0        13213\n",
       "1417  The Commerce Department said Wednesday it has ...         1         2314\n",
       "1943  Let our journalists help you make sense of the...         0         1555"
      ]
     },
     "execution_count": 206,
     "metadata": {},
     "output_type": "execute_result"
    }
   ],
   "source": [
    "df_sample.head()"
   ]
  },
  {
   "cell_type": "code",
   "execution_count": 207,
   "id": "6d862ca5-7908-4ace-82f1-4fc0cb6de80e",
   "metadata": {},
   "outputs": [
    {
     "data": {
      "text/html": [
       "<div>\n",
       "<style scoped>\n",
       "    .dataframe tbody tr th:only-of-type {\n",
       "        vertical-align: middle;\n",
       "    }\n",
       "\n",
       "    .dataframe tbody tr th {\n",
       "        vertical-align: top;\n",
       "    }\n",
       "\n",
       "    .dataframe thead th {\n",
       "        text-align: right;\n",
       "    }\n",
       "</style>\n",
       "<table border=\"1\" class=\"dataframe\">\n",
       "  <thead>\n",
       "    <tr style=\"text-align: right;\">\n",
       "      <th></th>\n",
       "      <th>text</th>\n",
       "      <th>ideology</th>\n",
       "      <th>text_length</th>\n",
       "    </tr>\n",
       "  </thead>\n",
       "  <tbody>\n",
       "    <tr>\n",
       "      <th>244</th>\n",
       "      <td>Florida Gov. Ron DeSantis, promoting his decis...</td>\n",
       "      <td>0</td>\n",
       "      <td>2466</td>\n",
       "    </tr>\n",
       "    <tr>\n",
       "      <th>2394</th>\n",
       "      <td>Subscribe to The Nation Subscribe now for as l...</td>\n",
       "      <td>0</td>\n",
       "      <td>16515</td>\n",
       "    </tr>\n",
       "    <tr>\n",
       "      <th>2325</th>\n",
       "      <td>[music] This is a story about a guy and a term...</td>\n",
       "      <td>0</td>\n",
       "      <td>13213</td>\n",
       "    </tr>\n",
       "    <tr>\n",
       "      <th>1417</th>\n",
       "      <td>The Commerce Department said Wednesday it has ...</td>\n",
       "      <td>1</td>\n",
       "      <td>2314</td>\n",
       "    </tr>\n",
       "    <tr>\n",
       "      <th>1943</th>\n",
       "      <td>Let our journalists help you make sense of the...</td>\n",
       "      <td>0</td>\n",
       "      <td>1555</td>\n",
       "    </tr>\n",
       "    <tr>\n",
       "      <th>...</th>\n",
       "      <td>...</td>\n",
       "      <td>...</td>\n",
       "      <td>...</td>\n",
       "    </tr>\n",
       "    <tr>\n",
       "      <th>705</th>\n",
       "      <td>(CNN) Derek Chauvin's defense attorney Eric Ne...</td>\n",
       "      <td>0</td>\n",
       "      <td>1102</td>\n",
       "    </tr>\n",
       "    <tr>\n",
       "      <th>1448</th>\n",
       "      <td>BERLIN (AP) — German authorities are expected ...</td>\n",
       "      <td>1</td>\n",
       "      <td>2991</td>\n",
       "    </tr>\n",
       "    <tr>\n",
       "      <th>1523</th>\n",
       "      <td>“We have identified youth work as a priority f...</td>\n",
       "      <td>0</td>\n",
       "      <td>7803</td>\n",
       "    </tr>\n",
       "    <tr>\n",
       "      <th>1176</th>\n",
       "      <td>America has a deficit problem. But the country...</td>\n",
       "      <td>0</td>\n",
       "      <td>5255</td>\n",
       "    </tr>\n",
       "    <tr>\n",
       "      <th>190</th>\n",
       "      <td>Econometrica: Nov 2020, Volume 88, Issue 6\\n\\n...</td>\n",
       "      <td>0</td>\n",
       "      <td>2378</td>\n",
       "    </tr>\n",
       "  </tbody>\n",
       "</table>\n",
       "<p>457 rows × 3 columns</p>\n",
       "</div>"
      ],
      "text/plain": [
       "                                                   text  ideology  text_length\n",
       "244   Florida Gov. Ron DeSantis, promoting his decis...         0         2466\n",
       "2394  Subscribe to The Nation Subscribe now for as l...         0        16515\n",
       "2325  [music] This is a story about a guy and a term...         0        13213\n",
       "1417  The Commerce Department said Wednesday it has ...         1         2314\n",
       "1943  Let our journalists help you make sense of the...         0         1555\n",
       "...                                                 ...       ...          ...\n",
       "705   (CNN) Derek Chauvin's defense attorney Eric Ne...         0         1102\n",
       "1448  BERLIN (AP) — German authorities are expected ...         1         2991\n",
       "1523  “We have identified youth work as a priority f...         0         7803\n",
       "1176  America has a deficit problem. But the country...         0         5255\n",
       "190   Econometrica: Nov 2020, Volume 88, Issue 6\\n\\n...         0         2378\n",
       "\n",
       "[457 rows x 3 columns]"
      ]
     },
     "execution_count": 207,
     "metadata": {},
     "output_type": "execute_result"
    }
   ],
   "source": [
    "df_sample = df_sample.dropna()\n",
    "df_sample"
   ]
  },
  {
   "cell_type": "code",
   "execution_count": 208,
   "id": "52aac8a1-653e-42f9-b94b-89e62c4629cf",
   "metadata": {},
   "outputs": [],
   "source": [
    "# 34 rows were dropped in this, therefore a lot are NAN!!! Need to make sure to remove these!"
   ]
  },
  {
   "cell_type": "code",
   "execution_count": 209,
   "id": "ea93ae67-0c04-4e6d-9956-a37be26df479",
   "metadata": {},
   "outputs": [],
   "source": [
    "import matplotlib.pyplot as plt"
   ]
  },
  {
   "cell_type": "code",
   "execution_count": 210,
   "id": "177df2e2-95ca-4e1d-a5fc-b371cc5c512c",
   "metadata": {},
   "outputs": [
    {
     "data": {
      "image/png": "[encoded data removed]",
      "text/plain": [
       "<Figure size 640x480 with 1 Axes>"
      ]
     },
     "metadata": {},
     "output_type": "display_data"
    }
   ],
   "source": [
    "# view histogram of lengths of sample texts\n",
    "plt.hist(df_sample[\"text_length\"], bins = 20);"
   ]
  },
  {
   "cell_type": "code",
   "execution_count": 211,
   "id": "2f15adc5-ddd6-4d3d-9db4-1765d9248e4d",
   "metadata": {},
   "outputs": [],
   "source": [
    "# let's say max length is 10,000 from this histogram"
   ]
  },
  {
   "cell_type": "code",
   "execution_count": 274,
   "id": "6fee1f88-a93d-4e3f-8db7-af215802d57d",
   "metadata": {},
   "outputs": [],
   "source": [
    "# import the tokenizer from DistilBert to tokenize our texts\n",
    "tokenizer = DistilBertTokenizer.from_pretrained(\"distilbert-base-uncased\")"
   ]
  },
  {
   "cell_type": "code",
   "execution_count": 213,
   "id": "9b7571ac-f2e0-4129-a43d-583e103f6d49",
   "metadata": {},
   "outputs": [
    {
     "data": {
      "text/plain": [
       "Index([ 244, 2394, 2325, 1417, 1943,  694, 1593,  838,  155,  294,\n",
       "       ...\n",
       "       1814, 1691, 1907,   74,  539,  705, 1448, 1523, 1176,  190],\n",
       "      dtype='int64', length=457)"
      ]
     },
     "execution_count": 213,
     "metadata": {},
     "output_type": "execute_result"
    }
   ],
   "source": [
    "df_sample.index"
   ]
  },
  {
   "cell_type": "code",
   "execution_count": 215,
   "id": "70a2ea2b-2ea5-4099-81d2-0ed9cdb4f3ed",
   "metadata": {},
   "outputs": [
    {
     "data": {
      "text/html": [
       "<div>\n",
       "<style scoped>\n",
       "    .dataframe tbody tr th:only-of-type {\n",
       "        vertical-align: middle;\n",
       "    }\n",
       "\n",
       "    .dataframe tbody tr th {\n",
       "        vertical-align: top;\n",
       "    }\n",
       "\n",
       "    .dataframe thead th {\n",
       "        text-align: right;\n",
       "    }\n",
       "</style>\n",
       "<table border=\"1\" class=\"dataframe\">\n",
       "  <thead>\n",
       "    <tr style=\"text-align: right;\">\n",
       "      <th></th>\n",
       "      <th>text</th>\n",
       "      <th>ideology</th>\n",
       "      <th>text_length</th>\n",
       "    </tr>\n",
       "  </thead>\n",
       "  <tbody>\n",
       "    <tr>\n",
       "      <th>0</th>\n",
       "      <td>Florida Gov. Ron DeSantis, promoting his decis...</td>\n",
       "      <td>0</td>\n",
       "      <td>2466</td>\n",
       "    </tr>\n",
       "    <tr>\n",
       "      <th>1</th>\n",
       "      <td>Subscribe to The Nation Subscribe now for as l...</td>\n",
       "      <td>0</td>\n",
       "      <td>16515</td>\n",
       "    </tr>\n",
       "    <tr>\n",
       "      <th>2</th>\n",
       "      <td>[music] This is a story about a guy and a term...</td>\n",
       "      <td>0</td>\n",
       "      <td>13213</td>\n",
       "    </tr>\n",
       "    <tr>\n",
       "      <th>3</th>\n",
       "      <td>The Commerce Department said Wednesday it has ...</td>\n",
       "      <td>1</td>\n",
       "      <td>2314</td>\n",
       "    </tr>\n",
       "    <tr>\n",
       "      <th>4</th>\n",
       "      <td>Let our journalists help you make sense of the...</td>\n",
       "      <td>0</td>\n",
       "      <td>1555</td>\n",
       "    </tr>\n",
       "    <tr>\n",
       "      <th>...</th>\n",
       "      <td>...</td>\n",
       "      <td>...</td>\n",
       "      <td>...</td>\n",
       "    </tr>\n",
       "    <tr>\n",
       "      <th>452</th>\n",
       "      <td>(CNN) Derek Chauvin's defense attorney Eric Ne...</td>\n",
       "      <td>0</td>\n",
       "      <td>1102</td>\n",
       "    </tr>\n",
       "    <tr>\n",
       "      <th>453</th>\n",
       "      <td>BERLIN (AP) — German authorities are expected ...</td>\n",
       "      <td>1</td>\n",
       "      <td>2991</td>\n",
       "    </tr>\n",
       "    <tr>\n",
       "      <th>454</th>\n",
       "      <td>“We have identified youth work as a priority f...</td>\n",
       "      <td>0</td>\n",
       "      <td>7803</td>\n",
       "    </tr>\n",
       "    <tr>\n",
       "      <th>455</th>\n",
       "      <td>America has a deficit problem. But the country...</td>\n",
       "      <td>0</td>\n",
       "      <td>5255</td>\n",
       "    </tr>\n",
       "    <tr>\n",
       "      <th>456</th>\n",
       "      <td>Econometrica: Nov 2020, Volume 88, Issue 6\\n\\n...</td>\n",
       "      <td>0</td>\n",
       "      <td>2378</td>\n",
       "    </tr>\n",
       "  </tbody>\n",
       "</table>\n",
       "<p>457 rows × 3 columns</p>\n",
       "</div>"
      ],
      "text/plain": [
       "                                                  text  ideology  text_length\n",
       "0    Florida Gov. Ron DeSantis, promoting his decis...         0         2466\n",
       "1    Subscribe to The Nation Subscribe now for as l...         0        16515\n",
       "2    [music] This is a story about a guy and a term...         0        13213\n",
       "3    The Commerce Department said Wednesday it has ...         1         2314\n",
       "4    Let our journalists help you make sense of the...         0         1555\n",
       "..                                                 ...       ...          ...\n",
       "452  (CNN) Derek Chauvin's defense attorney Eric Ne...         0         1102\n",
       "453  BERLIN (AP) — German authorities are expected ...         1         2991\n",
       "454  “We have identified youth work as a priority f...         0         7803\n",
       "455  America has a deficit problem. But the country...         0         5255\n",
       "456  Econometrica: Nov 2020, Volume 88, Issue 6\\n\\n...         0         2378\n",
       "\n",
       "[457 rows x 3 columns]"
      ]
     },
     "execution_count": 215,
     "metadata": {},
     "output_type": "execute_result"
    }
   ],
   "source": [
    "df_sample = df_sample.reset_index(drop=True)\n",
    "df_sample"
   ]
  },
  {
   "cell_type": "code",
   "execution_count": 218,
   "id": "98016eec-b0a1-46f6-8de9-e67c296d5826",
   "metadata": {},
   "outputs": [
    {
     "data": {
      "text/plain": [
       "2466"
      ]
     },
     "execution_count": 218,
     "metadata": {},
     "output_type": "execute_result"
    }
   ],
   "source": [
    "len(df_sample[\"text\"][0])"
   ]
  },
  {
   "cell_type": "code",
   "execution_count": 275,
   "id": "0a928ccf-fdb5-40c0-b93c-3f6b3a23073e",
   "metadata": {},
   "outputs": [
    {
     "data": {
      "text/plain": [
       "{'input_ids': [101, 3516, 18079, 1012, 6902, 4078, 4630, 2483, 1010, 7694, 2010, 3247, 2000, 2128, 26915, 2270, 2816, 2005, 1999, 1011, 2711, 4280, 1010, 2038, 3555, 2008, 1996, 2522, 17258, 1011, 2539, 8985, 6165, 2426, 3516, 2082, 19339, 7389, 2024, 8052, 2135, 2659, 1012, 2021, 2429, 2000, 1059, 2102, 3501, 2615, 3149, 1020, 1010, 1996, 6788, 2547, 8727, 1999, 5631, 1010, 4078, 4630, 2483, 2038, 15486, 2000, 5254, 2129, 2216, 8985, 6165, 2941, 12826, 2000, 2060, 2163, 1012, 6788, 1020, 6398, 4116, 28315, 9956, 2638, 7607, 1010, 1000, 2023, 2733, 1010, 1996, 6788, 1020, 14766, 2179, 1010, 2002, 3807, 28616, 3709, 1996, 2270, 2055, 2129, 3516, 20829, 2039, 2000, 2060, 2163, 2043, 2009, 3310, 2000, 8985, 6165, 2426, 2082, 1011, 2287, 2336, 1012, 2076, 7928, 6928, 12559, 14083, 2075, 8037, 2005, 1010, 2002, 3555, 1010, 5128, 5089, 1005, 9209, 1005, 3805, 1997, 1996, 2092, 1011, 2108, 1997, 2256, 2336, 1010, 1005, 2002, 2000, 12926, 2129, 2092, 3516, 5123, 2082, 2336, 2013, 1996, 7865, 1010, 4102, 2000, 2060, 2163, 1012, 1000, 4078, 4630, 2483, 23678, 2098, 1010, 1000, 2057, 1005, 2310, 2042, 1999, 1011, 2711, 1006, 4083, 1007, 2004, 2172, 2004, 10334, 1999, 1996, 2406, 1012, 1998, 2664, 1010, 2057, 1005, 2128, 20460, 2041, 1997, 2753, 2163, 1998, 1006, 2899, 1007, 1040, 1012, 1039, 1012, 2005, 2522, 17258, 1011, 2539, 3572, 2006, 1037, 2566, 8353, 3978, 2005, 2336, 1012, 1000, 2021, 2429, 2000, 28315, 9956, 2638, 1010, 2008, 4861, 11896, 2000, 2202, 2046, 4070, 1000, 2062, 2084, 2753, 1010, 2199, 2336, 2058, 1996, 2287, 1997, 2403, 2040, 11016, 1996, 7865, 1012, 1000, 1000, 2011, 2478, 1037, 28093, 6553, 2005, 2336, 2104, 2321, 1010, 2002, 6464, 3718, 2152, 2082, 2493, 2013, 1996, 2951, 2002, 6563, 3807, 2023, 2733, 2000, 9398, 3686, 2010, 3247, 2000, 3749, 1999, 1011, 2711, 4280, 2000, 2035, 2270, 2816, 2493, 1010, 1000, 28315, 9956, 2638, 3964, 1012, 1000, 1996, 2163, 4078, 4630, 2483, 2001, 13599, 3516, 2000, 2079, 1010, 1999, 2755, 1010, 2421, 2216, 3080, 2493, 1012, 1000, 6788, 1020, 1010, 2429, 2000, 28315, 9956, 2638, 1010, 16578, 3516, 2533, 1997, 2740, 1998, 1057, 1012, 1055, 1012, 2883, 4879, 2951, 1998, 5531, 2008, 1000, 2043, 2163, 7316, 3572, 2426, 2336, 2104, 2324, 2024, 4102, 2000, 3516, 1005, 1055, 3446, 2005, 1996, 2168, 2287, 2177, 1010, 3516, 6938, 6619, 1010, 2025, 20460, 1012, 1000, 4078, 4630, 2483, 1056, 28394, 3064, 1024, 28315, 9956, 2638, 3964, 1010, 1000, 2000, 17902, 1996, 2391, 1010, 2002, 4987, 1037, 10629, 16405, 14536, 11589, 2075, 2000, 2265, 3516, 1005, 1055, 1005, 3446, 1997, 23614, 3572, 1005, 2000, 2216, 1997, 4058, 1010, 4307, 1998, 2662, 1010, 2029, 2038, 3053, 3807, 1996, 2313, 1997, 3516, 1012, 2021, 1996, 3446, 2002, 4137, 2000, 3516, 1517, 4261, 2683, 2549, 3572, 2566, 2531, 1010, 2199, 1517, 12421, 3087, 2058, 2403, 1012, 1996, 3616, 2005, 4058, 1998, 4307, 2443, 3087, 2104, 2322, 1010, 1998, 2662, 1005, 1055, 3087, 2104, 2324, 1012, 1000, 6788, 1020, 1005, 1055, 4106, 1010, 2429, 2000, 28315, 9956, 2638, 1010, 3065, 2008, 1000, 4307, 1005, 3446, 2001, 2025, 4413, 1003, 3020, 2084, 3516, 1005, 1055, 1025, 2009, 2001, 2055, 1996, 2168, 1000, 1998, 2008, 1000, 4058, 1005, 1055, 3446, 2001, 2025, 1018, 1003, 3020, 2084, 3516, 1005, 1055, 1025, 2009, 2001, 2423, 1003, 2896, 1012, 1000, 1998, 28315, 9956, 2638, 9909, 2008, 1000, 2662, 1005, 1055, 3446, 2001, 2025, 2423, 1003, 3020, 2084, 3516, 1005, 1055, 1025, 2009, 2001, 2625, 2084, 1037, 2353, 1997, 2008, 1010, 2105, 1021, 1003, 3020, 1012, 1000, 102], 'attention_mask': [1, 1, 1, 1, 1, 1, 1, 1, 1, 1, 1, 1, 1, 1, 1, 1, 1, 1, 1, 1, 1, 1, 1, 1, 1, 1, 1, 1, 1, 1, 1, 1, 1, 1, 1, 1, 1, 1, 1, 1, 1, 1, 1, 1, 1, 1, 1, 1, 1, 1, 1, 1, 1, 1, 1, 1, 1, 1, 1, 1, 1, 1, 1, 1, 1, 1, 1, 1, 1, 1, 1, 1, 1, 1, 1, 1, 1, 1, 1, 1, 1, 1, 1, 1, 1, 1, 1, 1, 1, 1, 1, 1, 1, 1, 1, 1, 1, 1, 1, 1, 1, 1, 1, 1, 1, 1, 1, 1, 1, 1, 1, 1, 1, 1, 1, 1, 1, 1, 1, 1, 1, 1, 1, 1, 1, 1, 1, 1, 1, 1, 1, 1, 1, 1, 1, 1, 1, 1, 1, 1, 1, 1, 1, 1, 1, 1, 1, 1, 1, 1, 1, 1, 1, 1, 1, 1, 1, 1, 1, 1, 1, 1, 1, 1, 1, 1, 1, 1, 1, 1, 1, 1, 1, 1, 1, 1, 1, 1, 1, 1, 1, 1, 1, 1, 1, 1, 1, 1, 1, 1, 1, 1, 1, 1, 1, 1, 1, 1, 1, 1, 1, 1, 1, 1, 1, 1, 1, 1, 1, 1, 1, 1, 1, 1, 1, 1, 1, 1, 1, 1, 1, 1, 1, 1, 1, 1, 1, 1, 1, 1, 1, 1, 1, 1, 1, 1, 1, 1, 1, 1, 1, 1, 1, 1, 1, 1, 1, 1, 1, 1, 1, 1, 1, 1, 1, 1, 1, 1, 1, 1, 1, 1, 1, 1, 1, 1, 1, 1, 1, 1, 1, 1, 1, 1, 1, 1, 1, 1, 1, 1, 1, 1, 1, 1, 1, 1, 1, 1, 1, 1, 1, 1, 1, 1, 1, 1, 1, 1, 1, 1, 1, 1, 1, 1, 1, 1, 1, 1, 1, 1, 1, 1, 1, 1, 1, 1, 1, 1, 1, 1, 1, 1, 1, 1, 1, 1, 1, 1, 1, 1, 1, 1, 1, 1, 1, 1, 1, 1, 1, 1, 1, 1, 1, 1, 1, 1, 1, 1, 1, 1, 1, 1, 1, 1, 1, 1, 1, 1, 1, 1, 1, 1, 1, 1, 1, 1, 1, 1, 1, 1, 1, 1, 1, 1, 1, 1, 1, 1, 1, 1, 1, 1, 1, 1, 1, 1, 1, 1, 1, 1, 1, 1, 1, 1, 1, 1, 1, 1, 1, 1, 1, 1, 1, 1, 1, 1, 1, 1, 1, 1, 1, 1, 1, 1, 1, 1, 1, 1, 1, 1, 1, 1, 1, 1, 1, 1, 1, 1, 1, 1, 1, 1, 1, 1, 1, 1, 1, 1, 1, 1, 1, 1, 1, 1, 1, 1, 1, 1, 1, 1, 1, 1, 1, 1, 1, 1, 1, 1, 1, 1, 1, 1, 1, 1, 1, 1, 1, 1, 1, 1, 1, 1, 1, 1, 1, 1, 1, 1, 1, 1, 1, 1, 1, 1, 1, 1, 1, 1, 1, 1, 1, 1, 1, 1, 1, 1, 1, 1, 1, 1, 1, 1, 1, 1, 1, 1, 1, 1, 1, 1, 1, 1, 1, 1, 1, 1, 1, 1, 1, 1, 1, 1, 1, 1, 1, 1, 1, 1, 1, 1, 1, 1, 1, 1, 1, 1, 1, 1, 1, 1, 1, 1, 1, 1, 1, 1, 1, 1, 1, 1, 1, 1, 1, 1, 1, 1, 1, 1, 1, 1, 1, 1, 1, 1, 1, 1, 1, 1, 1, 1, 1, 1, 1, 1, 1, 1]}"
      ]
     },
     "execution_count": 275,
     "metadata": {},
     "output_type": "execute_result"
    }
   ],
   "source": [
    "# example embedding with max length of 10,000\n",
    "example_embedding = tokenizer(df_sample[\"text\"][0], max_length = 10_000, truncation = True, padding = True)\n",
    "example_embedding"
   ]
  },
  {
   "cell_type": "code",
   "execution_count": 219,
   "id": "64a3b300-fbce-40b6-907f-0688c3242d48",
   "metadata": {},
   "outputs": [],
   "source": [
    "import numpy as np"
   ]
  },
  {
   "cell_type": "code",
   "execution_count": 220,
   "id": "5ce0e376-1c2a-4b60-a281-a6bb47e455ab",
   "metadata": {},
   "outputs": [],
   "source": [
    "# define our x and y from the dataset\n",
    "x = df_sample[\"text\"].array\n",
    "y = df_sample[\"ideology\"].array"
   ]
  },
  {
   "cell_type": "code",
   "execution_count": 221,
   "id": "2554a476-83d7-43c7-bce4-59ae20cacf93",
   "metadata": {},
   "outputs": [],
   "source": [
    "# convert x to strings as some are just floats (this should be fixed anyway during pre-processing)\n",
    "x = [str(x) for row in x]"
   ]
  },
  {
   "cell_type": "code",
   "execution_count": 276,
   "id": "4d073635-97d7-403f-bc10-1cdc37a5a0b7",
   "metadata": {},
   "outputs": [],
   "source": [
    "# using a max_len of 50 here to save time making the encodings\n",
    "# this took a VERY long time\n",
    "def construct_encodings(x, tokenizer, max_len=50, trucation=True, padding=True):\n",
    "    return tokenizer(x, max_length=max_len, truncation=trucation, padding=padding)\n",
    "    \n",
    "encodings = construct_encodings(x, tokenizer)"
   ]
  },
  {
   "cell_type": "code",
   "execution_count": 277,
   "id": "089ebc3e-1267-4e4a-8139-f1838c9dafd3",
   "metadata": {},
   "outputs": [],
   "source": [
    "# turning into a tensor (though I am not sure why)\n",
    "def construct_tfdataset(encodings, y=None):\n",
    "    if y:\n",
    "        return tf.data.Dataset.from_tensor_slices((dict(encodings),y))\n",
    "    else:\n",
    "        # this case is used when making predictions on unseen samples after training\n",
    "        return tf.data.Dataset.from_tensor_slices(dict(encodings))\n",
    "    \n",
    "tfdataset = construct_tfdataset(encodings, y)"
   ]
  },
  {
   "cell_type": "code",
   "execution_count": 278,
   "id": "b93ca45e-ad87-495a-92db-9c640108ecc8",
   "metadata": {},
   "outputs": [],
   "source": [
    "TEST_SPLIT = 0.2\n",
    "BATCH_SIZE = 2\n",
    "\n",
    "train_size = int(len(x) * (1-TEST_SPLIT))\n",
    "\n",
    "tfdataset = tfdataset.shuffle(len(x))\n",
    "tfdataset_train = tfdataset.take(train_size)\n",
    "tfdataset_test = tfdataset.skip(train_size)\n",
    "\n",
    "tfdataset_train = tfdataset_train.batch(BATCH_SIZE)\n",
    "tfdataset_test = tfdataset_test.batch(BATCH_SIZE)"
   ]
  },
  {
   "cell_type": "code",
   "execution_count": 279,
   "id": "cc54984b-79b6-49ac-b748-79915a352b42",
   "metadata": {},
   "outputs": [
    {
     "name": "stderr",
     "output_type": "stream",
     "text": [
      "Some weights of the PyTorch model were not used when initializing the TF 2.0 model TFDistilBertForSequenceClassification: ['vocab_transform.weight', 'vocab_layer_norm.weight', 'vocab_projector.bias', 'vocab_transform.bias', 'vocab_layer_norm.bias']\n",
      "- This IS expected if you are initializing TFDistilBertForSequenceClassification from a PyTorch model trained on another task or with another architecture (e.g. initializing a TFBertForSequenceClassification model from a BertForPreTraining model).\n",
      "- This IS NOT expected if you are initializing TFDistilBertForSequenceClassification from a PyTorch model that you expect to be exactly identical (e.g. initializing a TFBertForSequenceClassification model from a BertForSequenceClassification model).\n",
      "Some weights or buffers of the TF 2.0 model TFDistilBertForSequenceClassification were not initialized from the PyTorch model and are newly initialized: ['pre_classifier.weight', 'pre_classifier.bias', 'classifier.weight', 'classifier.bias']\n",
      "You should probably TRAIN this model on a down-stream task to be able to use it for predictions and inference.\n"
     ]
    },
    {
     "name": "stdout",
     "output_type": "stream",
     "text": [
      "Epoch 1/10\n",
      "183/183 [==============================] - 146s 684ms/step - loss: 0.6851 - accuracy: 0.5918\n",
      "Epoch 2/10\n",
      "183/183 [==============================] - 123s 673ms/step - loss: 0.6881 - accuracy: 0.5671\n",
      "Epoch 3/10\n",
      "183/183 [==============================] - 123s 673ms/step - loss: 0.6769 - accuracy: 0.6000\n",
      "Epoch 4/10\n",
      "183/183 [==============================] - 123s 671ms/step - loss: 0.6792 - accuracy: 0.5973\n",
      "Epoch 5/10\n",
      "183/183 [==============================] - 123s 670ms/step - loss: 0.6790 - accuracy: 0.5973\n",
      "Epoch 6/10\n",
      "183/183 [==============================] - 125s 682ms/step - loss: 0.6733 - accuracy: 0.6055\n",
      "Epoch 7/10\n",
      "183/183 [==============================] - 125s 683ms/step - loss: 0.6683 - accuracy: 0.6055\n",
      "Epoch 8/10\n",
      "183/183 [==============================] - 125s 681ms/step - loss: 0.6763 - accuracy: 0.6055\n",
      "Epoch 9/10\n",
      "183/183 [==============================] - 125s 684ms/step - loss: 0.6853 - accuracy: 0.5863\n",
      "Epoch 10/10\n",
      "183/183 [==============================] - 125s 684ms/step - loss: 0.6793 - accuracy: 0.5945\n"
     ]
    },
    {
     "data": {
      "text/plain": [
       "<keras.src.callbacks.History at 0x7f6b64bd7340>"
      ]
     },
     "execution_count": 279,
     "metadata": {},
     "output_type": "execute_result"
    }
   ],
   "source": [
    "N_EPOCHS = 10\n",
    "\n",
    "model = TFDistilBertF\n",
    "orSequenceClassification.from_pretrained('distilbert-base-uncased')\n",
    "optimizer = optimizers.Adam(learning_rate=3e-5)\n",
    "loss = losses.SparseCategoricalCrossentropy(from_logits=True)\n",
    "model.compile(optimizer=optimizer, loss=loss, metrics=['accuracy'])\n",
    "\n",
    "model.fit(tfdataset_train, batch_size=BATCH_SIZE, epochs=N_EPOCHS)"
   ]
  },
  {
   "cell_type": "code",
   "execution_count": 280,
   "id": "893d7fa0-d7a5-4841-bba1-43d7a1d257b4",
   "metadata": {},
   "outputs": [
    {
     "name": "stdout",
     "output_type": "stream",
     "text": [
      "46/46 [==============================] - 6s 97ms/step - loss: 0.6938 - accuracy: 0.5435\n",
      "{'loss': 0.6937775611877441, 'accuracy': 0.54347825050354}\n"
     ]
    }
   ],
   "source": [
    "benchmarks = model.evaluate(tfdataset_test, return_dict=True, batch_size=BATCH_SIZE)\n",
    "print(benchmarks)"
   ]
  },
  {
   "cell_type": "code",
   "execution_count": null,
   "id": "62162e56-8b2f-498d-ad57-65bdbbe7c0c8",
   "metadata": {},
   "outputs": [],
   "source": [
    "# the accuracy is not very good, as it is only 0.54. Baseline accuracy = 0.5\n",
    "# could probably improve the accuracy by increasing the length of each article? (currently set to 50 words)\n",
    "# accuracy will also be increased with better text preprocessing?\n",
    "# accuracy could also be increased with more epochs (but this takes a long time) - could train on google Colab instead?\n",
    "# should also set it up so that it uses validation splits in the model compilation?"
   ]
  },
  {
   "cell_type": "markdown",
   "id": "eb901c69-12f2-44f4-aed3-c9f565c54c38",
   "metadata": {},
   "source": [
    "## next steps:\n",
    "### see if there are other models which perform better?"
   ]
  },
  {
   "cell_type": "code",
   "execution_count": 10,
   "id": "99105235-df27-46a0-98ee-dec2d781cd35",
   "metadata": {},
   "outputs": [],
   "source": [
    "from urllib.parse import urlsplit"
   ]
  },
  {
   "cell_type": "code",
   "execution_count": null,
   "id": "037a5c21-b2a0-450d-9b7e-085f8a0d6d0d",
   "metadata": {},
   "outputs": [],
   "source": []
  },
  {
   "cell_type": "code",
   "execution_count": 11,
   "id": "bf13856a-59c5-4c6b-8ba2-df95d50be9fb",
   "metadata": {},
   "outputs": [],
   "source": [
    "# create a new column in the left df with the base URL, stripped of any \"www.\" prefix for clarity\n",
    "df_left[\"base_url\"] = df_left[\"link\"].apply(lambda x: urlsplit(x).netloc.removeprefix(\"www.\"))"
   ]
  },
  {
   "cell_type": "code",
   "execution_count": 12,
   "id": "016cb0dc-ccd6-450c-98ba-a8281ab145f2",
   "metadata": {},
   "outputs": [],
   "source": [
    "# convert this column into a list\n",
    "left_urls = df_left[\"base_url\"].tolist()"
   ]
  },
  {
   "cell_type": "code",
   "execution_count": 13,
   "id": "614862ad-0b9f-490c-a481-5e2c96ec1611",
   "metadata": {},
   "outputs": [
    {
     "data": {
      "text/plain": [
       "352"
      ]
     },
     "execution_count": 13,
     "metadata": {},
     "output_type": "execute_result"
    }
   ],
   "source": [
    "# get an alphabetically-sorted list of the unique base URLs by converting into a set\n",
    "unique_left_urls = sorted(list(set(left_urls)))\n",
    "len(unique_left_urls)"
   ]
  },
  {
   "cell_type": "code",
   "execution_count": 14,
   "id": "fb7ada9b-4fd7-47b1-8469-c695096646a6",
   "metadata": {},
   "outputs": [],
   "source": [
    "# do the same below with the right df"
   ]
  },
  {
   "cell_type": "code",
   "execution_count": 15,
   "id": "ffe96675-dc07-46b3-9416-c3532e4e8f83",
   "metadata": {},
   "outputs": [],
   "source": [
    "df_right[\"base_url\"] = df_right[\"link\"].apply(lambda x: urlsplit(x).netloc.removeprefix(\"www.\"))"
   ]
  },
  {
   "cell_type": "code",
   "execution_count": 16,
   "id": "3ba3c6a4-9151-4cb3-9d7e-a9c8f92f9dee",
   "metadata": {},
   "outputs": [],
   "source": [
    "right_urls = df_right[\"base_url\"].tolist()"
   ]
  },
  {
   "cell_type": "code",
   "execution_count": 17,
   "id": "49cf24b1-44fc-42c7-80b5-eb214063f897",
   "metadata": {},
   "outputs": [
    {
     "data": {
      "text/plain": [
       "95"
      ]
     },
     "execution_count": 17,
     "metadata": {},
     "output_type": "execute_result"
    }
   ],
   "source": [
    "unique_right_urls = sorted(list(set(right_urls)))\n",
    "len(unique_right_urls)"
   ]
  },
  {
   "cell_type": "code",
   "execution_count": 18,
   "id": "bf4f6cd1-8dbc-4fe9-a961-2a39aca3622a",
   "metadata": {},
   "outputs": [
    {
     "data": {
      "text/plain": [
       "{'apnews.com',\n",
       " 'bbc.com',\n",
       " 'bloomberg.com',\n",
       " 'breitbart.com',\n",
       " 'businessinsider.com',\n",
       " 'denverpost.com',\n",
       " 'en.wikipedia.org',\n",
       " 'foxnews.com',\n",
       " 'gizmodo.com',\n",
       " 'latimes.com',\n",
       " 'news.yahoo.com',\n",
       " 'newsweek.com',\n",
       " 'npr.org',\n",
       " 'nypost.com',\n",
       " 'nytimes.com',\n",
       " 'politico.com',\n",
       " 'reuters.com',\n",
       " 'slate.com',\n",
       " 'theatlantic.com',\n",
       " 'theconversation.com',\n",
       " 'thehill.com',\n",
       " 'usatoday.com',\n",
       " 'vox.com',\n",
       " 'vulture.com',\n",
       " 'washingtonpost.com',\n",
       " 'wsj.com'}"
      ]
     },
     "execution_count": 18,
     "metadata": {},
     "output_type": "execute_result"
    }
   ],
   "source": [
    "# see if there is any overlap between the lists?\n",
    "overlap = set(unique_left_urls) & set(unique_right_urls)\n",
    "overlap"
   ]
  },
  {
   "cell_type": "code",
   "execution_count": 19,
   "id": "881ca5cc-148f-498c-9267-c30c3d1eb380",
   "metadata": {},
   "outputs": [
    {
     "data": {
      "text/plain": [
       "26"
      ]
     },
     "execution_count": 19,
     "metadata": {},
     "output_type": "execute_result"
    }
   ],
   "source": [
    "len(overlap)"
   ]
  },
  {
   "cell_type": "code",
   "execution_count": 20,
   "id": "e28b9e01-8cf9-4bdf-9374-8478df2a90df",
   "metadata": {},
   "outputs": [],
   "source": [
    "### can therefore see that there are 26 base URLs where some news articles are considered \"right\" and some are considered \"left\"\n",
    "# this seems a little odd - for example, the far-right publication Breitart is considered both \"left\" and \"right\""
   ]
  },
  {
   "cell_type": "code",
   "execution_count": 22,
   "id": "f612397d-1054-4c38-b895-a5e6480a966c",
   "metadata": {},
   "outputs": [
    {
     "data": {
      "text/plain": [
       "['12news.com',\n",
       " '19thnews.org',\n",
       " 'abcnews.go.com',\n",
       " 'aboutamazon.com',\n",
       " 'academic.oup.com',\n",
       " 'actionnetwork.org',\n",
       " 'advancementproject.org',\n",
       " 'agriculture.com',\n",
       " 'ajc.com',\n",
       " 'ajpmonline.org',\n",
       " 'al.com',\n",
       " 'aljazeera.com',\n",
       " 'alternet.org',\n",
       " 'america.aljazeera.com',\n",
       " 'americanmanufacturing.org',\n",
       " 'americanprogress.org',\n",
       " 'americanrivers.org',\n",
       " 'americansecurityproject.org',\n",
       " 'americasvoice.org',\n",
       " 'amnesty.org',\n",
       " 'anchor.fm',\n",
       " 'andylevinforcongress.com',\n",
       " 'apnews.com',\n",
       " 'axios.com',\n",
       " 'azcentral.com',\n",
       " 'azmirror.com',\n",
       " 'ballotpedia.org',\n",
       " 'baltimoresun.com',\n",
       " 'bandyxlee.medium.com',\n",
       " 'bbc.com',\n",
       " 'beta.documentcloud.org',\n",
       " 'bigthink.com',\n",
       " 'billfrisell.com',\n",
       " 'billmoyers.com',\n",
       " 'blogs.lse.ac.uk',\n",
       " 'blogs.scientificamerican.com',\n",
       " 'bloomberg.com',\n",
       " 'bloomsbury.com',\n",
       " 'bloomsburycollections.com',\n",
       " 'bonappetit.com',\n",
       " 'breitbart.com',\n",
       " 'briarpatchmagazine.com',\n",
       " 'brookings.edu',\n",
       " 'business-standard.com',\n",
       " 'businessinsider.com',\n",
       " 'businesstoday.in',\n",
       " 'buzzfeednews.com',\n",
       " 'catalyst-journal.com',\n",
       " 'catholicnewsagency.com',\n",
       " 'cato.org',\n",
       " 'cbs46.com',\n",
       " 'cbsaustin.com',\n",
       " 'cbsnews.com',\n",
       " 'cdc.gov',\n",
       " 'cfr.org',\n",
       " 'change.org',\n",
       " 'chicago.suntimes.com',\n",
       " 'chicagocrusader.com',\n",
       " 'citizensforethics.org',\n",
       " 'climatecentral.org',\n",
       " 'climatenetwork.org',\n",
       " 'cnbc.com',\n",
       " 'cnn.com',\n",
       " 'cnnpressroom.blogs.cnn.com',\n",
       " 'commondreams.org',\n",
       " 'condenast.com',\n",
       " 'conservationnw.org',\n",
       " 'consumer.ftc.gov',\n",
       " 'contest.newyorker.com',\n",
       " 'cookieandkate.com',\n",
       " 'courtlistener.com',\n",
       " 'cpr.org',\n",
       " 'craftbrewingbusiness.com',\n",
       " 'csmonitor.com',\n",
       " 'ctvnews.ca',\n",
       " 'current.org',\n",
       " 'dailykos.com',\n",
       " 'damndelicious.net',\n",
       " 'dcreport.org',\n",
       " 'democracydocket.com',\n",
       " 'denver.cbslocal.com',\n",
       " 'denverpost.com',\n",
       " 'desmoinesregister.com',\n",
       " 'detroitnews.com',\n",
       " 'dhs.gov',\n",
       " 'diario.mx',\n",
       " 'digbysblog.net',\n",
       " 'digitalnpq.org',\n",
       " 'digpodcast.org',\n",
       " 'disloyalthebook.com',\n",
       " 'documentcloud.org',\n",
       " 'downtoearth.org.in',\n",
       " 'earthisland.org',\n",
       " 'earthjustice.org',\n",
       " 'econometricsociety.org',\n",
       " 'economist.com',\n",
       " 'eesi.org',\n",
       " 'en.wikipedia.org',\n",
       " 'energy.senate.gov',\n",
       " 'epa.gov',\n",
       " 'epi.org',\n",
       " 'everydayhealth.com',\n",
       " 'facebook.com',\n",
       " 'factcheck.org',\n",
       " 'fastcompany.com',\n",
       " 'federalregister.gov',\n",
       " 'finance.senate.gov',\n",
       " 'firearmslaw.duke.edu',\n",
       " 'fisheries.noaa.gov',\n",
       " 'flgov.com',\n",
       " 'foodandwaterwatch.org',\n",
       " 'fool.com',\n",
       " 'forbes.com',\n",
       " 'foreignpolicy.com',\n",
       " 'fox5dc.com',\n",
       " 'foxnews.com',\n",
       " 'france24.com',\n",
       " 'freep.com',\n",
       " 'freightwaves.com',\n",
       " 'gachamber.com',\n",
       " 'gadsongallery.blogspot.com',\n",
       " 'geneticliteracyproject.org',\n",
       " 'georgiarecorder.com',\n",
       " 'gizmodo.com',\n",
       " 'globalnews.ca',\n",
       " 'globaltimes.cn',\n",
       " 'gov.texas.gov',\n",
       " 'governor.virginia.gov',\n",
       " 'gpb.org',\n",
       " 'gpc.batten.virginia.edu',\n",
       " 'grist.org',\n",
       " 'happiness.com',\n",
       " 'harpers.org',\n",
       " 'hbomax.com',\n",
       " 'heragenda.com',\n",
       " 'heritage.org',\n",
       " 'hhs.gov',\n",
       " 'hillreporter.com',\n",
       " 'history.com',\n",
       " 'history.state.gov',\n",
       " 'home.treasury.gov',\n",
       " 'houston.eater.com',\n",
       " 'huffpost.com',\n",
       " 'hydrosustainability.org',\n",
       " 'idahostatesman.com',\n",
       " 'immigrantjusticenetwork.org',\n",
       " 'independent.co.uk',\n",
       " 'india.mongabay.com',\n",
       " 'indianexpress.com',\n",
       " 'indiatoday.in',\n",
       " 'insideclimatenews.org',\n",
       " 'insider.com',\n",
       " 'insidernj.com',\n",
       " 'insurancejournal.com',\n",
       " 'ipolitics.ca',\n",
       " 'ishn.com',\n",
       " 'jacobinmag.com',\n",
       " 'jewishinsider.com',\n",
       " 'jewishpress.com',\n",
       " 'jewishvirtuallibrary.org',\n",
       " 'jhsph.edu',\n",
       " 'jnj.com',\n",
       " 'jpost.com',\n",
       " 'kansascity.com',\n",
       " 'kentuckypress.com',\n",
       " 'kindest.com',\n",
       " 'krwg.org',\n",
       " 'lascrucesbulletin.com',\n",
       " 'latimes.com',\n",
       " 'link.springer.com',\n",
       " 'lissarankin.com',\n",
       " 'livemint.com',\n",
       " 'lofgren.house.gov',\n",
       " 'lwv-va.org',\n",
       " 'm.usw.org',\n",
       " 'maricopacountyaz.medium.com',\n",
       " 'masterclass.com',\n",
       " 'mcclatchydc.com',\n",
       " 'mediaite.com',\n",
       " 'mediamatters.org',\n",
       " 'medium.com',\n",
       " 'menendez.senate.gov',\n",
       " 'merkley.senate.gov',\n",
       " 'mfa.gov.il',\n",
       " 'miaminewtimes.com',\n",
       " 'michael-hudson.com',\n",
       " 'michigan.gov',\n",
       " 'mlive.com',\n",
       " 'montanafreepress.org',\n",
       " 'motherjones.com',\n",
       " 'msnbc.com',\n",
       " 'nationalgeographic.com',\n",
       " 'navajotimes.com',\n",
       " 'nbcnews.com',\n",
       " 'nbcsandiego.com',\n",
       " 'nbcwashington.com',\n",
       " 'ncsl.org',\n",
       " 'networkideas.org',\n",
       " 'newhistories.group.shef.ac.uk',\n",
       " 'newrepublic.com',\n",
       " 'news.cornell.edu',\n",
       " 'news.mongabay.com',\n",
       " 'news.un.org',\n",
       " 'news.yahoo.com',\n",
       " 'newsobserver.com',\n",
       " 'newsroom.niu.edu',\n",
       " 'newsroom.spotify.com',\n",
       " 'newsweek.com',\n",
       " 'newyorker.com',\n",
       " 'nfu.ca',\n",
       " 'nmdemocrats.org',\n",
       " 'npr.org',\n",
       " 'nydailynews.com',\n",
       " 'nymag.com',\n",
       " 'nypost.com',\n",
       " 'nytimes.com',\n",
       " 'officer.com',\n",
       " 'ontariofarmer.com',\n",
       " 'opensecrets.org',\n",
       " 'outlookindia.com',\n",
       " 'oxford.universitypressscholarship.com',\n",
       " 'pbs.org',\n",
       " 'pbs.twimg.com',\n",
       " 'penguinrandomhouse.com',\n",
       " 'pewresearch.org',\n",
       " 'philadelphia.cbslocal.com',\n",
       " 'pitchfork.com',\n",
       " 'plannedparenthood.org',\n",
       " 'poetryfoundation.org',\n",
       " 'politico.com',\n",
       " 'politico.eu',\n",
       " 'politifact.com',\n",
       " 'pri.org',\n",
       " 'propublica.org',\n",
       " 'prospect.org',\n",
       " 'publiceditor.blogs.nytimes.com',\n",
       " 'qz.com',\n",
       " 'rabble.ca',\n",
       " 'rawstory.com',\n",
       " 'reason.com',\n",
       " 'reconnectwithnature.org',\n",
       " 'research.msu.edu',\n",
       " 'researchgate.net',\n",
       " 'resilience.org',\n",
       " 'reuters.com',\n",
       " 'risingupwithsonali.com',\n",
       " 'rollcall.com',\n",
       " 'rollingstone.com',\n",
       " 'roybal-allard.house.gov',\n",
       " 'salon.com',\n",
       " 'scheerpost.com',\n",
       " 'sciencedirect.com',\n",
       " 'sciencemag.org',\n",
       " 'scientificamerican.com',\n",
       " 'scmp.com',\n",
       " 'scribd.com',\n",
       " 'scroll.in',\n",
       " 'seacoastonline.com',\n",
       " 'searchlight.vc',\n",
       " 'seattletimes.com',\n",
       " 'sites.tufts.edu',\n",
       " 'slate.com',\n",
       " 'southwestvacations.com',\n",
       " 'space.com',\n",
       " 'spoonuniversity.com',\n",
       " 'statesman.com',\n",
       " 'statnews.com',\n",
       " 'stoehr.substack.com',\n",
       " 'sunstrokemagazine.com',\n",
       " 'symphonyspace.org',\n",
       " 'tampabay.com',\n",
       " 'teachingamericanhistory.org',\n",
       " 'technologyreview.com',\n",
       " 'teenvogue.com',\n",
       " 'telemundo20.com',\n",
       " 'texasmonthly.com',\n",
       " 'texasobserver.org',\n",
       " 'texasorganicresearchcenter.org',\n",
       " 'texastribune.org',\n",
       " 'theadvocate.com',\n",
       " 'theanarchistlibrary.org',\n",
       " 'theatermania.com',\n",
       " 'theatlantic.com',\n",
       " 'theconversation.com',\n",
       " 'thedailybeast.com',\n",
       " 'theguardian.com',\n",
       " 'thehill.com',\n",
       " 'theind.com',\n",
       " 'theintercept.com',\n",
       " 'thelancet.com',\n",
       " 'them.us',\n",
       " 'themonkeycage.org',\n",
       " 'thenation.com',\n",
       " 'thenewcivilrightsmovement.com',\n",
       " 'thestar.com',\n",
       " 'thetrace.org',\n",
       " 'theverge.com',\n",
       " 'thewire.in',\n",
       " 'thewrap.com',\n",
       " 'time.com',\n",
       " 'timesmachine.nytimes.com',\n",
       " 'timesofisrael.com',\n",
       " 'tomdispatch.com',\n",
       " 'topclassactions.com',\n",
       " 'truthout.org',\n",
       " 'tv.avclub.com',\n",
       " 'ucpress.edu',\n",
       " 'un.org',\n",
       " 'upnorthlive.com',\n",
       " 'uppermichiganssource.com',\n",
       " 'usaspending.gov',\n",
       " 'usatoday.com',\n",
       " 'usccb.org',\n",
       " 'usnews.com',\n",
       " 'usw.org',\n",
       " 'vanityfair.com',\n",
       " 'vatican.va',\n",
       " 'venable.com',\n",
       " 'versobooks.com',\n",
       " 'vice.com',\n",
       " 'video.foxnews.com',\n",
       " 'video.newyorker.com',\n",
       " 'voanews.com',\n",
       " 'voicesofdemocracy.umd.edu',\n",
       " 'vox.com',\n",
       " 'vpap.org',\n",
       " 'vulture.com',\n",
       " 'wabe.org',\n",
       " 'washington.edu',\n",
       " 'washingtonpost.com',\n",
       " 'wbir.com',\n",
       " 'west.stanford.edu',\n",
       " 'wftv.com',\n",
       " 'wgno.com',\n",
       " 'whitehouse.gov',\n",
       " 'winesvinesanalytics.com',\n",
       " 'winknews.com',\n",
       " 'wired.com',\n",
       " 'wkrn.com',\n",
       " 'wmcactionnews5.com',\n",
       " 'world-energy.org',\n",
       " 'worldmhc.org',\n",
       " 'worldwildlife.org',\n",
       " 'wri.org',\n",
       " 'wsj.com',\n",
       " 'wusa9.com',\n",
       " 'wyff4.com',\n",
       " 'yahoo.com',\n",
       " 'yingma.org',\n",
       " 'yogajournal.com',\n",
       " 'yourstory.com',\n",
       " 'yumpu.com']"
      ]
     },
     "execution_count": 22,
     "metadata": {},
     "output_type": "execute_result"
    }
   ],
   "source": [
    "unique_left_urls"
   ]
  },
  {
   "cell_type": "code",
   "execution_count": null,
   "id": "cb4061b8-71e4-4c82-9f25-a3e3bcff8a95",
   "metadata": {},
   "outputs": [],
   "source": []
  }
 ],
 "metadata": {
  "kernelspec": {
   "display_name": "Python 3 (ipykernel)",
   "language": "python",
   "name": "python3"
  },
  "language_info": {
   "codemirror_mode": {
    "name": "ipython",
    "version": 3
   },
   "file_extension": ".py",
   "mimetype": "text/x-python",
   "name": "python",
   "nbconvert_exporter": "python",
   "pygments_lexer": "ipython3",
   "version": "3.10.6"
  }
 },
 "nbformat": 4,
 "nbformat_minor": 5
}
