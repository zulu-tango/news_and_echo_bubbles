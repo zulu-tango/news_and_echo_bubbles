{
 "cells": [
  {
   "cell_type": "code",
   "execution_count": null,
   "id": "260c96d3-85e1-4af2-94cb-26c1abad6aca",
   "metadata": {},
   "outputs": [],
   "source": [
    "# MODEL CODE INFO https://github.com/facebookresearch/fairseq/blob/main/examples/bart/summarize.py"
   ]
  },
  {
   "cell_type": "code",
   "execution_count": 1,
   "id": "2d357574-e9f1-4b45-bf3b-4f82380c5e24",
   "metadata": {
    "scrolled": true
   },
   "outputs": [
    {
     "name": "stderr",
     "output_type": "stream",
     "text": [
      "2023-11-27 16:02:13.124387: I tensorflow/core/platform/cpu_feature_guard.cc:193] This TensorFlow binary is optimized with oneAPI Deep Neural Network Library (oneDNN) to use the following CPU instructions in performance-critical operations:  AVX2 FMA\n",
      "To enable them in other operations, rebuild TensorFlow with the appropriate compiler flags.\n",
      "2023-11-27 16:02:13.328602: W tensorflow/stream_executor/platform/default/dso_loader.cc:64] Could not load dynamic library 'libcudart.so.11.0'; dlerror: libcudart.so.11.0: cannot open shared object file: No such file or directory\n",
      "2023-11-27 16:02:13.328663: I tensorflow/stream_executor/cuda/cudart_stub.cc:29] Ignore above cudart dlerror if you do not have a GPU set up on your machine.\n",
      "2023-11-27 16:02:13.360991: E tensorflow/stream_executor/cuda/cuda_blas.cc:2981] Unable to register cuBLAS factory: Attempting to register factory for plugin cuBLAS when one has already been registered\n",
      "2023-11-27 16:02:14.259990: W tensorflow/stream_executor/platform/default/dso_loader.cc:64] Could not load dynamic library 'libnvinfer.so.7'; dlerror: libnvinfer.so.7: cannot open shared object file: No such file or directory\n",
      "2023-11-27 16:02:14.260173: W tensorflow/stream_executor/platform/default/dso_loader.cc:64] Could not load dynamic library 'libnvinfer_plugin.so.7'; dlerror: libnvinfer_plugin.so.7: cannot open shared object file: No such file or directory\n",
      "2023-11-27 16:02:14.260187: W tensorflow/compiler/tf2tensorrt/utils/py_utils.cc:38] TF-TRT Warning: Cannot dlopen some TensorRT libraries. If you would like to use Nvidia GPU with TensorRT, please make sure the missing libraries mentioned above are installed properly.\n"
     ]
    },
    {
     "data": {
      "application/vnd.jupyter.widget-view+json": {
       "model_id": "be3d1205af4449c5aed2624e4a5cbeee",
       "version_major": 2,
       "version_minor": 0
      },
      "text/plain": [
       "tf_model.h5:   0%|          | 0.00/1.63G [00:00<?, ?B/s]"
      ]
     },
     "metadata": {},
     "output_type": "display_data"
    },
    {
     "name": "stderr",
     "output_type": "stream",
     "text": [
      "2023-11-27 16:03:38.889085: W tensorflow/stream_executor/platform/default/dso_loader.cc:64] Could not load dynamic library 'libcuda.so.1'; dlerror: libcuda.so.1: cannot open shared object file: No such file or directory\n",
      "2023-11-27 16:03:38.889179: W tensorflow/stream_executor/cuda/cuda_driver.cc:263] failed call to cuInit: UNKNOWN ERROR (303)\n",
      "2023-11-27 16:03:38.889285: I tensorflow/stream_executor/cuda/cuda_diagnostics.cc:156] kernel driver does not appear to be running on this host (DESKTOP-SSL8HMP): /proc/driver/nvidia/version does not exist\n",
      "2023-11-27 16:03:38.891817: I tensorflow/core/platform/cpu_feature_guard.cc:193] This TensorFlow binary is optimized with oneAPI Deep Neural Network Library (oneDNN) to use the following CPU instructions in performance-critical operations:  AVX2 FMA\n",
      "To enable them in other operations, rebuild TensorFlow with the appropriate compiler flags.\n",
      "2023-11-27 16:03:39.335484: W tensorflow/core/framework/cpu_allocator_impl.cc:82] Allocation of 205881344 exceeds 10% of free system memory.\n",
      "2023-11-27 16:03:39.662507: W tensorflow/core/framework/cpu_allocator_impl.cc:82] Allocation of 205881344 exceeds 10% of free system memory.\n",
      "2023-11-27 16:03:39.740089: W tensorflow/core/framework/cpu_allocator_impl.cc:82] Allocation of 205881344 exceeds 10% of free system memory.\n",
      "2023-11-27 16:03:40.186896: W tensorflow/core/framework/cpu_allocator_impl.cc:82] Allocation of 16777216 exceeds 10% of free system memory.\n",
      "2023-11-27 16:03:40.200922: W tensorflow/core/framework/cpu_allocator_impl.cc:82] Allocation of 16777216 exceeds 10% of free system memory.\n",
      "All model checkpoint layers were used when initializing TFBartForConditionalGeneration.\n",
      "\n",
      "All the layers of TFBartForConditionalGeneration were initialized from the model checkpoint at facebook/bart-large-cnn.\n",
      "If your task is similar to the task the model of the checkpoint was trained on, you can already use TFBartForConditionalGeneration for predictions without further training.\n"
     ]
    },
    {
     "data": {
      "application/vnd.jupyter.widget-view+json": {
       "model_id": "922ddb7da24b471cbac5c6b1c66683c6",
       "version_major": 2,
       "version_minor": 0
      },
      "text/plain": [
       "generation_config.json:   0%|          | 0.00/363 [00:00<?, ?B/s]"
      ]
     },
     "metadata": {},
     "output_type": "display_data"
    },
    {
     "data": {
      "application/vnd.jupyter.widget-view+json": {
       "model_id": "87395c0a1db24745923befa0201a00f4",
       "version_major": 2,
       "version_minor": 0
      },
      "text/plain": [
       "vocab.json:   0%|          | 0.00/899k [00:00<?, ?B/s]"
      ]
     },
     "metadata": {},
     "output_type": "display_data"
    },
    {
     "data": {
      "application/vnd.jupyter.widget-view+json": {
       "model_id": "51af0c41035f40a39b4437d5a37b3d23",
       "version_major": 2,
       "version_minor": 0
      },
      "text/plain": [
       "merges.txt:   0%|          | 0.00/456k [00:00<?, ?B/s]"
      ]
     },
     "metadata": {},
     "output_type": "display_data"
    },
    {
     "data": {
      "application/vnd.jupyter.widget-view+json": {
       "model_id": "5ba2ea7383114db38634e8014aaed514",
       "version_major": 2,
       "version_minor": 0
      },
      "text/plain": [
       "tokenizer.json:   0%|          | 0.00/1.36M [00:00<?, ?B/s]"
      ]
     },
     "metadata": {},
     "output_type": "display_data"
    }
   ],
   "source": [
    "from transformers import pipeline\n",
    "\n",
    "summarizer = pipeline(\"summarization\", model=\"facebook/bart-large-cnn\")"
   ]
  },
  {
   "cell_type": "code",
   "execution_count": 12,
   "id": "3af4d93a-880e-486e-b30f-0a7cbedbd29f",
   "metadata": {},
   "outputs": [],
   "source": [
    "import pandas as pd\n",
    "pd.set_option('display.max_colwidth',3000)"
   ]
  },
  {
   "cell_type": "code",
   "execution_count": 5,
   "id": "dd6bf749-ffe8-42d5-8725-3566a65e6fde",
   "metadata": {},
   "outputs": [],
   "source": [
    "df = pd.read_csv('../Data/braindedright.csv')"
   ]
  },
  {
   "cell_type": "code",
   "execution_count": 19,
   "id": "1e2dad98-5e6d-43fe-949a-a8516184fc74",
   "metadata": {},
   "outputs": [],
   "source": [
    "sample_article = str(df[['text']].iloc[3])"
   ]
  },
  {
   "cell_type": "code",
   "execution_count": 21,
   "id": "954070b9-0bd7-49c6-87d8-567328f429b3",
   "metadata": {},
   "outputs": [
    {
     "data": {
      "text/plain": [
       "'text    In multiple articles I have published recently I outlined why an attempt at a new national covid lockdown in the US is inevitable.\\\\n\\\\nIn my article ‘The Real Reasons Why Millions Of Americans Will Defy Covid Mandates And Vaccines’, I examined new polling numbers which show that a vast portion of the US population is refusing to comply with medical controls. The bottom line is this: Covid is a non-threat to 99.7% of the public, and the citizenry is getting wise to this fact. However, there are certain people that NEED the pandemic lockdowns to continue regardless of what the public wants.\\\\n\\\\nThe Biden Administration and its globalist handlers have BIG plans for the next few years, and all of it relies on pandemic fears and totalitarian restrictions.\\\\n\\\\nThe “Great Reset”, as Klaus Schwab and the World Economic Forum calls it, is never going to happen unless global populations are locked down and placed under control. Unconstitutional pieces of legislation that undermine or destroy the 2nd Amendment, like HR 127, will be impossible to enact if Americans are organized and unified to resist. Carbon taxation and “shared economy” policies will never be allowed to touch ground. Conservative Americans and many moderates will stamp out such measures like cockroaches within their own states. Law enforcement agencies in most areas would have no interest in being used as cannon fodder to enforce them.\\\\n\\\\nThe only option the globalists have at this stage is to barrel forward with the pandemic narrative despite the fact that Covid has turned out to be a hollow issue with a death rate of 0.26% outside of nursing home patients. At least half the country is ready to revolt over the mandates, and almost half the country is refusing to take the vaccines or accept medical passports. That is millions of people that are laughing in the face of the Reset agenda.\\\\n\\\\nSo, the question for the thwarted globalists is this: How do they turn their conservative enemies into unwitting allies? What is a 4th Generation warfare solution to their problem? How do they get a larger number of conservatives to support their own enslavement through the lockdown mandates?\\\\n\\\\nWell, one method would be to cause a convincing distraction that compels conservatives to embrace the notion of the lockdowns as an acceptable sacrifice in exchange for dealing with a potentially more dangerous problem.\\\\n\\\\nThe crisis of mass illegal immigration is turning into a growing national debate right now. I suspect we haven’t even begun to see the consequences yet, and I also suspect that there is a plot hidden within these events. But let’s look at the surface arguments first…\\\\n\\\\nObviously, most conservatives are going to view a huge influx of illegals into the US as a means for Democrats to secure elections for decades to come. I’m sure most people reading this article are aware of the “Cloward Piven Strategy”, and I won’t delve into it too much here except to say that I get it, and I realize it’s a prob...\\nName: 3, dtype: object'"
      ]
     },
     "execution_count": 21,
     "metadata": {},
     "output_type": "execute_result"
    }
   ],
   "source": [
    "sample_article"
   ]
  },
  {
   "cell_type": "code",
   "execution_count": 22,
   "id": "bff852ab-1641-40e0-ad68-20f4863e9413",
   "metadata": {},
   "outputs": [
    {
     "name": "stdout",
     "output_type": "stream",
     "text": [
      "[{'summary_text': 'Covid is a non-threat to 99.7% of the public, and the citizenry is getting wise to this fact. However, there are certain people that NEED the pandemic lockdowns to continue regardless of what the public wants. At least half the country is ready to revolt over the mandates.'}]\n"
     ]
    }
   ],
   "source": [
    "print(summarizer(sample_article, max_length=130, min_length=30, do_sample=False))"
   ]
  },
  {
   "cell_type": "code",
   "execution_count": 25,
   "id": "24fca63a-98c2-4ea3-9507-ee7c347744ab",
   "metadata": {},
   "outputs": [
    {
     "data": {
      "text/plain": [
       "'text    Have an important tip? Let us know. Email us here.\\\\n\\\\nThe UK may be racing ahead of its European neighbours in getting its population vaccinated, but Brits might have to stay masked up for “several years” if public health experts get their way.\\\\n\\\\nNew cases of Covid-19 in the UK have dropped tenfold since early January, and more than 27 million Britons – over half the adult population – have had their first dose of a coronavirus vaccine. Compared to rising cases on the continent and an EU average vaccination rate of around 10%, the UK appears to be winning its war against Covid-19.\\\\n\\\\nBrits looking for a total reprieve from the country’s punishing lockdown, however, shouldn’t hold their breath.\\\\n\\\\nThat’s according to Mary Ramsay, the head of immunisation at Public Health England. Ramsay told the BBC on Sunday that masks and social distancing could be required for “several years,” or “at least until other parts of the world are as well vaccinated as we are, and the numbers have come down everywhere.”\\\\n\\\\nJack Hadfield sees a clear pattern between the media narrative regarding the treatment of anti-lockdown protestors as opposed to the BLM protestors getting treated with a soft resolve.\\\\n\\\\nWith vaccines being distributed unequally around the world, and people in the poorest nations facing a years-long wait to get vaccinated, Ramsay’s prediction may be a realistic one, should the British government listen to her advice.\\\\n\\\\nAs a government body, Public Health England certainly has a say in determining the UK’s Covid-19 response. Her view is not a minority one, either. As the government looks to relax restrictions from the end of March onwards, Prof. Chris Whitty, the UK government’s chief medical adviser, told MPs earlier this month that “simple interventions,” face masks among them, would be needed beyond the summer. Chief Scientific Adviser Sir Patrick Vallance, meanwhile, suggested that masks would be required through winter, to ward off a “surge” in new cases.\\\\n\\\\nRamsay claimed that “people have got used to” wearing masks and practicing social distancing, telling the BBC that “people can live with them, and the economy can still go on with those less severe restrictions in place.”\\\\n\\\\nHowever, the public might not be as compliant as she suggested. Thousands of people marched in London on Saturday in protest against the national lockdown and virus-related restrictions, with police arresting more than 30 for breaching Covid regulations.\\nName: 16, dtype: object'"
      ]
     },
     "execution_count": 25,
     "metadata": {},
     "output_type": "execute_result"
    }
   ],
   "source": [
    "sample_article2"
   ]
  },
  {
   "cell_type": "code",
   "execution_count": 23,
   "id": "719c732f-3a28-42b1-bf4e-d6ad83aec3d7",
   "metadata": {},
   "outputs": [
    {
     "name": "stdout",
     "output_type": "stream",
     "text": [
      "[{'summary_text': 'More than 27 million Britons have had their first dose of Covid-19 vaccine. Public Health England says masks and social distancing could be required for ‘several years’'}]\n"
     ]
    }
   ],
   "source": [
    "sample_article2 = str(df[['text']].iloc[16])\n",
    "print(summarizer(sample_article2, max_length=130, min_length=30, do_sample=False))"
   ]
  },
  {
   "cell_type": "code",
   "execution_count": 26,
   "id": "bbe18b5d-79b8-4dcc-b356-cadbaf6a82d7",
   "metadata": {},
   "outputs": [
    {
     "data": {
      "text/plain": [
       "'text    Vice President Kembo Mohadi of Zimbabwe resigned Monday after a month of media exposes that purportedly caught him soliciting sex from married women, including an intelligence officer who was one of his subordinates.\\\\n\\\\nOne of the audiotapes Zimbabwean online media published included Mohadi proposing a sexual liaison inside his vice presidential office.\\\\n\\\\nAn online news outlet called ZimLive ignited the scandal last month by posting three recorded telephone conversations of Mohadi, 71, propositioning married women. Mohadi “categorically” denied the authenticity of the recordings at first.\\\\n\\\\n“I am innocent and a victim of political machinations being peddled through hacking and voice cloning,” he said in late February.\\\\n\\\\nOne of the phone calls that brought Mohadi down involved him pressuring a female intelligence officer named Abigail Mumpande for sex. Mumpande was reportedly distraught over harassment from the vice president, prompting her husband to hand the recording over to the media and demand reassignment for his wife.\\\\n\\\\n“Despite growing impatient because of days of weird character assassinations, I wish to categorically state that the allegations being levelled against me are not only false but also well-choreographed to demean, condescend, and spoil my image as a national leader and patriot,” he charged.\\\\n\\\\n“I remain a committed leader, father, cadre and servant of this great nation. So, nothing is going to change because all this is concocted to tarnish my image. If anything is going to happen it is going to be His Excellency who will determine my future,” Mohadi vowed, referring to socialist President Emmerson Mnangagwa.\\\\n\\\\nOn Monday, Mohadi announced he was resigning “not as a matter of cowardice but as a sign of demonstrating great respect to the office of the President.”\\\\n\\\\n“I have been going through a soul-searching pilgrimage and realized that I need the space to deal with my problem outside the governance chair,” he said.\\\\n\\\\nMohadi continued to insist the evidence of his improper behavior was fabricated and pledged to take legal action against those who have allegedly defamed him.\\\\n\\\\nVoice of America News (VOA) described Mohadi’s resignation over sexual misconduct allegations as “a rare move by a public official in the southern African country,” even more so because Mohadi was fairly close to both the current and previous strongman rulers of the country.\\\\n\\\\nLike President Mnangagwa, Mohadi had a resume of both military and intelligence work and held ministerial rank under longtime dictator Robert Mugabe. He has been one of Zimbabwe’s two vice presidents since Mugabe’s ouster in 2017. The other is Constantino Chiwenga, 61, the former military commander who engineered the coup against Mugabe a decade after helping Mugabe stay in power after he lost an election.\\\\n\\\\nMohandi himself is currently single. His marriage to ex-wife Tambudzani Bhudagi, a Zimbabwean senator, dissolved over allegations of Mohandi’s infidelity. In March ...\\nName: 125, dtype: object'"
      ]
     },
     "execution_count": 26,
     "metadata": {},
     "output_type": "execute_result"
    }
   ],
   "source": [
    "sample_article3"
   ]
  },
  {
   "cell_type": "code",
   "execution_count": 24,
   "id": "4533394b-bfe6-416f-b0c6-e8fd231b54ae",
   "metadata": {},
   "outputs": [
    {
     "name": "stdout",
     "output_type": "stream",
     "text": [
      "[{'summary_text': 'Zimbabwe Vice President Kembo Mohadi resigned Monday after a month of media exposes. The exposes purportedly caught him soliciting sex from married women. Mohadi “categorically’ denied the authenticity of the recordings at first.'}]\n"
     ]
    }
   ],
   "source": [
    "sample_article3 = str(df[['text']].iloc[125])\n",
    "print(summarizer(sample_article3, max_length=130, min_length=30, do_sample=False))"
   ]
  },
  {
   "cell_type": "code",
   "execution_count": 28,
   "id": "89d5f6bc-13d5-4e55-9cf7-b0c400145ac0",
   "metadata": {},
   "outputs": [
    {
     "data": {
      "text/plain": [
       "'text    During this week’s broadcast of MSNBC’s “The Sunday Show,” Rep. Sheila Jackson Lee (D-TX) acknowledged the Biden border plan, which has led to what some are describing as a crisis, much to be desired.\\\\n\\\\nShe said, however, there was a plan in place the Biden administration had shared with members of Congress.\\\\n\\\\n“[N]ow Jonathan, we have a situation that is a humanitarian concern,” she said. “We do have issues with any number of children. The numbers are coming up, but I will say that the Biden administration has met with members of Congress. They have a plan. The plan does not look like it’s working at this time, but you have to get it implemented.”\\\\n\\\\nJackson Lee walked through what the plan was, which she said included measures for preventing the spread of COVID-19.\\\\n\\\\n“[W]e need to put in more resources so that our asylum protocols can go quickly and those that do not meet the standards — they have to be returned safely and securely,” Lee continued. “But what the administration is saying that they’re not going to cage children. They’re not going to turn children back to their deaths. They’re not going to have young girls, 13 years old, subject to rape and pilage. And so it does look a little unseemly. But these are human beings. And so, they’re not coming to endanger our lives. They’re coming basically to save their lives.”\\\\n\\\\nFollow Jeff Poor on Twitter @jeff_poor\\nName: 43, dtype: object'"
      ]
     },
     "execution_count": 28,
     "metadata": {},
     "output_type": "execute_result"
    }
   ],
   "source": [
    "sample_article4"
   ]
  },
  {
   "cell_type": "code",
   "execution_count": 27,
   "id": "601e217a-014f-4728-8571-fa932633fb03",
   "metadata": {},
   "outputs": [
    {
     "name": "stdout",
     "output_type": "stream",
     "text": [
      "[{'summary_text': 'Zimbabwe Vice President Kembo Mohadi resigned Monday after a month of media exposes. The exposes purportedly caught him soliciting sex from married women. Mohadi “categorically’ denied the authenticity of the recordings at first.'}]\n"
     ]
    }
   ],
   "source": [
    "sample_article4 = str(df[['text']].iloc[43])\n",
    "print(summarizer(sample_article3, max_length=130, min_length=30, do_sample=False))"
   ]
  },
  {
   "cell_type": "code",
   "execution_count": null,
   "id": "c1168c99-b20a-4508-8f88-47f90c9b1904",
   "metadata": {},
   "outputs": [],
   "source": []
  }
 ],
 "metadata": {
  "kernelspec": {
   "display_name": "Python 3 (ipykernel)",
   "language": "python",
   "name": "python3"
  },
  "language_info": {
   "codemirror_mode": {
    "name": "ipython",
    "version": 3
   },
   "file_extension": ".py",
   "mimetype": "text/x-python",
   "name": "python",
   "nbconvert_exporter": "python",
   "pygments_lexer": "ipython3",
   "version": "3.10.6"
  }
 },
 "nbformat": 4,
 "nbformat_minor": 5
}
