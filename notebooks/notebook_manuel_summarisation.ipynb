{
 "cells": [
  {
   "cell_type": "code",
   "execution_count": 1,
   "id": "2d357574-e9f1-4b45-bf3b-4f82380c5e24",
   "metadata": {
    "scrolled": true
   },
   "outputs": [
    {
     "name": "stderr",
     "output_type": "stream",
     "text": [
      "2023-11-27 16:02:13.124387: I tensorflow/core/platform/cpu_feature_guard.cc:193] This TensorFlow binary is optimized with oneAPI Deep Neural Network Library (oneDNN) to use the following CPU instructions in performance-critical operations:  AVX2 FMA\n",
      "To enable them in other operations, rebuild TensorFlow with the appropriate compiler flags.\n",
      "2023-11-27 16:02:13.328602: W tensorflow/stream_executor/platform/default/dso_loader.cc:64] Could not load dynamic library 'libcudart.so.11.0'; dlerror: libcudart.so.11.0: cannot open shared object file: No such file or directory\n",
      "2023-11-27 16:02:13.328663: I tensorflow/stream_executor/cuda/cudart_stub.cc:29] Ignore above cudart dlerror if you do not have a GPU set up on your machine.\n",
      "2023-11-27 16:02:13.360991: E tensorflow/stream_executor/cuda/cuda_blas.cc:2981] Unable to register cuBLAS factory: Attempting to register factory for plugin cuBLAS when one has already been registered\n",
      "2023-11-27 16:02:14.259990: W tensorflow/stream_executor/platform/default/dso_loader.cc:64] Could not load dynamic library 'libnvinfer.so.7'; dlerror: libnvinfer.so.7: cannot open shared object file: No such file or directory\n",
      "2023-11-27 16:02:14.260173: W tensorflow/stream_executor/platform/default/dso_loader.cc:64] Could not load dynamic library 'libnvinfer_plugin.so.7'; dlerror: libnvinfer_plugin.so.7: cannot open shared object file: No such file or directory\n",
      "2023-11-27 16:02:14.260187: W tensorflow/compiler/tf2tensorrt/utils/py_utils.cc:38] TF-TRT Warning: Cannot dlopen some TensorRT libraries. If you would like to use Nvidia GPU with TensorRT, please make sure the missing libraries mentioned above are installed properly.\n"
     ]
    },
    {
     "data": {
      "application/vnd.jupyter.widget-view+json": {
       "model_id": "be3d1205af4449c5aed2624e4a5cbeee",
       "version_major": 2,
       "version_minor": 0
      },
      "text/plain": [
       "tf_model.h5:   0%|          | 0.00/1.63G [00:00<?, ?B/s]"
      ]
     },
     "metadata": {},
     "output_type": "display_data"
    },
    {
     "name": "stderr",
     "output_type": "stream",
     "text": [
      "2023-11-27 16:03:38.889085: W tensorflow/stream_executor/platform/default/dso_loader.cc:64] Could not load dynamic library 'libcuda.so.1'; dlerror: libcuda.so.1: cannot open shared object file: No such file or directory\n",
      "2023-11-27 16:03:38.889179: W tensorflow/stream_executor/cuda/cuda_driver.cc:263] failed call to cuInit: UNKNOWN ERROR (303)\n",
      "2023-11-27 16:03:38.889285: I tensorflow/stream_executor/cuda/cuda_diagnostics.cc:156] kernel driver does not appear to be running on this host (DESKTOP-SSL8HMP): /proc/driver/nvidia/version does not exist\n",
      "2023-11-27 16:03:38.891817: I tensorflow/core/platform/cpu_feature_guard.cc:193] This TensorFlow binary is optimized with oneAPI Deep Neural Network Library (oneDNN) to use the following CPU instructions in performance-critical operations:  AVX2 FMA\n",
      "To enable them in other operations, rebuild TensorFlow with the appropriate compiler flags.\n",
      "2023-11-27 16:03:39.335484: W tensorflow/core/framework/cpu_allocator_impl.cc:82] Allocation of 205881344 exceeds 10% of free system memory.\n",
      "2023-11-27 16:03:39.662507: W tensorflow/core/framework/cpu_allocator_impl.cc:82] Allocation of 205881344 exceeds 10% of free system memory.\n",
      "2023-11-27 16:03:39.740089: W tensorflow/core/framework/cpu_allocator_impl.cc:82] Allocation of 205881344 exceeds 10% of free system memory.\n",
      "2023-11-27 16:03:40.186896: W tensorflow/core/framework/cpu_allocator_impl.cc:82] Allocation of 16777216 exceeds 10% of free system memory.\n",
      "2023-11-27 16:03:40.200922: W tensorflow/core/framework/cpu_allocator_impl.cc:82] Allocation of 16777216 exceeds 10% of free system memory.\n",
      "All model checkpoint layers were used when initializing TFBartForConditionalGeneration.\n",
      "\n",
      "All the layers of TFBartForConditionalGeneration were initialized from the model checkpoint at facebook/bart-large-cnn.\n",
      "If your task is similar to the task the model of the checkpoint was trained on, you can already use TFBartForConditionalGeneration for predictions without further training.\n"
     ]
    },
    {
     "data": {
      "application/vnd.jupyter.widget-view+json": {
       "model_id": "922ddb7da24b471cbac5c6b1c66683c6",
       "version_major": 2,
       "version_minor": 0
      },
      "text/plain": [
       "generation_config.json:   0%|          | 0.00/363 [00:00<?, ?B/s]"
      ]
     },
     "metadata": {},
     "output_type": "display_data"
    },
    {
     "data": {
      "application/vnd.jupyter.widget-view+json": {
       "model_id": "87395c0a1db24745923befa0201a00f4",
       "version_major": 2,
       "version_minor": 0
      },
      "text/plain": [
       "vocab.json:   0%|          | 0.00/899k [00:00<?, ?B/s]"
      ]
     },
     "metadata": {},
     "output_type": "display_data"
    },
    {
     "data": {
      "application/vnd.jupyter.widget-view+json": {
       "model_id": "51af0c41035f40a39b4437d5a37b3d23",
       "version_major": 2,
       "version_minor": 0
      },
      "text/plain": [
       "merges.txt:   0%|          | 0.00/456k [00:00<?, ?B/s]"
      ]
     },
     "metadata": {},
     "output_type": "display_data"
    },
    {
     "data": {
      "application/vnd.jupyter.widget-view+json": {
       "model_id": "5ba2ea7383114db38634e8014aaed514",
       "version_major": 2,
       "version_minor": 0
      },
      "text/plain": [
       "tokenizer.json:   0%|          | 0.00/1.36M [00:00<?, ?B/s]"
      ]
     },
     "metadata": {},
     "output_type": "display_data"
    }
   ],
   "source": [
    "from transformers import pipeline\n",
    "\n",
    "summarizer = pipeline(\"summarization\", model=\"facebook/bart-large-cnn\")"
   ]
  },
  {
   "cell_type": "code",
   "execution_count": 12,
   "id": "3af4d93a-880e-486e-b30f-0a7cbedbd29f",
   "metadata": {},
   "outputs": [],
   "source": [
    "import pandas as pd\n",
    "pd.set_option('display.max_colwidth',3000)"
   ]
  },
  {
   "cell_type": "code",
   "execution_count": 5,
   "id": "dd6bf749-ffe8-42d5-8725-3566a65e6fde",
   "metadata": {},
   "outputs": [],
   "source": [
    "df = pd.read_csv('../Data/braindedright.csv')"
   ]
  },
  {
   "cell_type": "code",
   "execution_count": 19,
   "id": "1e2dad98-5e6d-43fe-949a-a8516184fc74",
   "metadata": {},
   "outputs": [],
   "source": [
    "sample_article = str(df[['text']].iloc[3])"
   ]
  },
  {
   "cell_type": "code",
   "execution_count": 21,
   "id": "954070b9-0bd7-49c6-87d8-567328f429b3",
   "metadata": {},
   "outputs": [
    {
     "data": {
      "text/plain": [
       "'text    In multiple articles I have published recently I outlined why an attempt at a new national covid lockdown in the US is inevitable.\\\\n\\\\nIn my article ‘The Real Reasons Why Millions Of Americans Will Defy Covid Mandates And Vaccines’, I examined new polling numbers which show that a vast portion of the US population is refusing to comply with medical controls. The bottom line is this: Covid is a non-threat to 99.7% of the public, and the citizenry is getting wise to this fact. However, there are certain people that NEED the pandemic lockdowns to continue regardless of what the public wants.\\\\n\\\\nThe Biden Administration and its globalist handlers have BIG plans for the next few years, and all of it relies on pandemic fears and totalitarian restrictions.\\\\n\\\\nThe “Great Reset”, as Klaus Schwab and the World Economic Forum calls it, is never going to happen unless global populations are locked down and placed under control. Unconstitutional pieces of legislation that undermine or destroy the 2nd Amendment, like HR 127, will be impossible to enact if Americans are organized and unified to resist. Carbon taxation and “shared economy” policies will never be allowed to touch ground. Conservative Americans and many moderates will stamp out such measures like cockroaches within their own states. Law enforcement agencies in most areas would have no interest in being used as cannon fodder to enforce them.\\\\n\\\\nThe only option the globalists have at this stage is to barrel forward with the pandemic narrative despite the fact that Covid has turned out to be a hollow issue with a death rate of 0.26% outside of nursing home patients. At least half the country is ready to revolt over the mandates, and almost half the country is refusing to take the vaccines or accept medical passports. That is millions of people that are laughing in the face of the Reset agenda.\\\\n\\\\nSo, the question for the thwarted globalists is this: How do they turn their conservative enemies into unwitting allies? What is a 4th Generation warfare solution to their problem? How do they get a larger number of conservatives to support their own enslavement through the lockdown mandates?\\\\n\\\\nWell, one method would be to cause a convincing distraction that compels conservatives to embrace the notion of the lockdowns as an acceptable sacrifice in exchange for dealing with a potentially more dangerous problem.\\\\n\\\\nThe crisis of mass illegal immigration is turning into a growing national debate right now. I suspect we haven’t even begun to see the consequences yet, and I also suspect that there is a plot hidden within these events. But let’s look at the surface arguments first…\\\\n\\\\nObviously, most conservatives are going to view a huge influx of illegals into the US as a means for Democrats to secure elections for decades to come. I’m sure most people reading this article are aware of the “Cloward Piven Strategy”, and I won’t delve into it too much here except to say that I get it, and I realize it’s a prob...\\nName: 3, dtype: object'"
      ]
     },
     "execution_count": 21,
     "metadata": {},
     "output_type": "execute_result"
    }
   ],
   "source": [
    "sample_article"
   ]
  },
  {
   "cell_type": "code",
   "execution_count": null,
   "id": "bff852ab-1641-40e0-ad68-20f4863e9413",
   "metadata": {},
   "outputs": [],
   "source": [
    "print(summarizer(sample_article, max_length=130, min_length=30, do_sample=False))"
   ]
  },
  {
   "cell_type": "code",
   "execution_count": null,
   "id": "719c732f-3a28-42b1-bf4e-d6ad83aec3d7",
   "metadata": {},
   "outputs": [],
   "source": []
  }
 ],
 "metadata": {
  "kernelspec": {
   "display_name": "Python 3 (ipykernel)",
   "language": "python",
   "name": "python3"
  },
  "language_info": {
   "codemirror_mode": {
    "name": "ipython",
    "version": 3
   },
   "file_extension": ".py",
   "mimetype": "text/x-python",
   "name": "python",
   "nbconvert_exporter": "python",
   "pygments_lexer": "ipython3",
   "version": "3.10.6"
  }
 },
 "nbformat": 4,
 "nbformat_minor": 5
}
