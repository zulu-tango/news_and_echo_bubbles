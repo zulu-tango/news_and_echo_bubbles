{
 "cells": [
  {
   "cell_type": "code",
   "execution_count": null,
   "id": "ce5acebd-4f05-47d2-97d4-47f62cb687ee",
   "metadata": {},
   "outputs": [],
   "source": [
    "#!pip install textblob"
   ]
  },
  {
   "cell_type": "code",
   "execution_count": null,
   "id": "93a92e6b-6916-417e-97ad-8a16273f2fc4",
   "metadata": {},
   "outputs": [],
   "source": [
    "# nltk.download('vader_lexicon')\n",
    "# nltk.download('punkt')"
   ]
  },
  {
   "cell_type": "code",
   "execution_count": 4,
   "id": "c537acde-8f4e-46d0-b019-989515fd6406",
   "metadata": {},
   "outputs": [],
   "source": [
    "#!pip install newspaper3k\n",
    "from newspaper import Article\n",
    "import newspaper\n",
    "from textblob import TextBlob\n",
    "import nltk\n",
    "\n",
    "from textblob import TextBlob\n",
    "from nltk.sentiment import SentimentIntensityAnalyzer\n",
    "sia = SentimentIntensityAnalyzer()\n"
   ]
  },
  {
   "cell_type": "code",
   "execution_count": 5,
   "id": "5e0c1f2a-6940-449b-83f0-f3b68bd7abc3",
   "metadata": {},
   "outputs": [],
   "source": [
    "import pandas as pd"
   ]
  },
  {
   "cell_type": "code",
   "execution_count": 6,
   "id": "22e66adc-1f35-41b1-b43f-8c2a9b00fa06",
   "metadata": {},
   "outputs": [],
   "source": [
    "list_barney = ['https://.theatlantic.com/']#,\n",
    " # 'https://.thedailybeast.com/',\n",
    " # 'https://.huffpost.com/',\n",
    " # 'https://.msnbc.com/',\n",
    " # 'https://.nytimes.com/',\n",
    " # 'https://.slate.com/',\n",
    " # 'https://.vox.com/',\n",
    " # 'https://.abcnews.go.com/',\n",
    " # 'https://.apnews.com/',\n",
    " # 'https://.bloomberg.com/',\n",
    " # 'https://.cbsnews.com/',\n",
    " # 'https://.nytimes.com/']"
   ]
  },
  {
   "cell_type": "code",
   "execution_count": 7,
   "id": "06ca2290-0e2c-4a45-80f4-d770b38fb116",
   "metadata": {},
   "outputs": [],
   "source": [
    "gg_list = ['http://www.nationalreview.com/',\n",
    " 'http://www.nypost.com/',\n",
    " 'http://www.reason.com/',\n",
    " 'http://www.washingtonexaminer.com/',\n",
    " 'http://www.breitbart.com/',\n",
    " 'http://www.dailycaller.com/',\n",
    " #'http://www.dailymail.co.uk/',\n",
    " 'http://www.dailywire.com/',\n",
    " 'http://www.thepostmillennial.com/',\n",
    " 'http://www.foxnews.com/',\n",
    " 'http://www.thefederalist.com/',\n",
    " 'http://www.freebeacon.com/']"
   ]
  },
  {
   "cell_type": "code",
   "execution_count": 8,
   "id": "5bcf9e48-d379-4a85-8f4c-6cca6bfe28b1",
   "metadata": {},
   "outputs": [],
   "source": [
    "link_lst_1 = ['https://www.propublica.org/',\n",
    " 'https://www.time.com/',\n",
    " 'https://www.washingtonpost.com/',\n",
    " 'https://www.usatoday.com/']"
   ]
  },
  {
   "cell_type": "code",
   "execution_count": 9,
   "id": "976b4f50-695f-4006-ac0d-0bd1a7189d7a",
   "metadata": {},
   "outputs": [],
   "source": [
    "link_lst_2 = ['https://www.yahoo.com/',\n",
    " 'https://www.csmonitor.com/',\n",
    " 'https://www.newsweek.com/',\n",
    " 'https://www.reuters.com/']"
   ]
  },
  {
   "cell_type": "code",
   "execution_count": 10,
   "id": "1f177430-4d1e-4eec-9283-f08ed2c17899",
   "metadata": {},
   "outputs": [],
   "source": [
    "link_lst_3 = ['https://www.realclearpolitics.com/',\n",
    " 'https://www.thehill.com/',\n",
    " 'https://www.wsj.com/',\n",
    " 'https://www.theepochtimes.com/']"
   ]
  },
  {
   "cell_type": "code",
   "execution_count": 11,
   "id": "f41e46a8-21eb-42b3-aa0a-b9a597cb567d",
   "metadata": {},
   "outputs": [],
   "source": [
    "def news_scraper(link_):\n",
    "\n",
    "    link=[]\n",
    "    title=[]\n",
    "    text=[]\n",
    "    author=[]\n",
    "    pdate=[]\n",
    "    keywords=[]\n",
    "    tags=[]\n",
    "    compound=[]\n",
    "    neg=[]\n",
    "    neu=[]\n",
    "    pos=[]\n",
    "    polarity=[]\n",
    "    subjectivity=[]\n",
    "\n",
    "    for x in link_:\n",
    "        cnn_pape = newspaper.build(x,language='en',memorize='false')\n",
    "        print(\"links from\",x,\"=\",len(cnn_pape.articles))\n",
    "        for article in cnn_pape.articles:\n",
    "            try:\n",
    "                link.append(article.url)\n",
    "                article.download()\n",
    "                article.parse()\n",
    "                article.nlp()\n",
    "                v=sia.polarity_scores(article.text)\n",
    "                compound.append(v[\"compound\"])\n",
    "                neg.append(v[\"neg\"])\n",
    "                neu.append(v[\"neu\"])\n",
    "                pos.append(v[\"pos\"])\n",
    "                testimonial = TextBlob(article.text)\n",
    "                polarity.append(testimonial.sentiment.polarity)\n",
    "                subjectivity.append(testimonial.sentiment.subjectivity)\n",
    "                title.append(article.title)\n",
    "                text.append(article.text)\n",
    "                author.append(article.authors)\n",
    "                pdate.append(article.publish_date)\n",
    "                keywords.append(article.keywords)\n",
    "                tags.append(article.tags)\n",
    "            except:\n",
    "                print('Link Failed - ', article.url)\n",
    "                continue\n",
    "        print(\"Total Links - \" , len(link))\n",
    "        print(\"**Finished Parsing**\")\n",
    "        \n",
    "    tt=list(zip(link,pdate,title,author,text,keywords,tags,compound,neg,neu,pos,polarity,subjectivity))\n",
    "    d1=pd.DataFrame(tt,columns=['link','pdate','title','author','text','keywords','tags','compound','neg','neu','pos','polarity','subjectivity'])\n",
    "    \n",
    "    return d1"
   ]
  },
  {
   "cell_type": "code",
   "execution_count": null,
   "id": "38dce9e5-8318-4cd7-8c81-b405ec7967c0",
   "metadata": {
    "scrolled": true
   },
   "outputs": [],
   "source": [
    "new_data_1 = news_scraper(link_lst_1)"
   ]
  },
  {
   "cell_type": "code",
   "execution_count": null,
   "id": "775bfee5-8ec6-42e0-b755-19a9e6f22ff1",
   "metadata": {
    "scrolled": true
   },
   "outputs": [],
   "source": [
    "new_data_2 = news_scraper(link_lst_2)"
   ]
  },
  {
   "cell_type": "code",
   "execution_count": null,
   "id": "ba7ea98a-ed41-4610-9b50-9f03d2b8ae35",
   "metadata": {
    "scrolled": true
   },
   "outputs": [],
   "source": [
    "new_data_3 = news_scraper(link_lst_3)"
   ]
  },
  {
   "cell_type": "code",
   "execution_count": null,
   "id": "579eab51-8993-4e44-8509-f3c7e02ecc22",
   "metadata": {},
   "outputs": [],
   "source": [
    "new_data_4 = news_scraper(list_barney)"
   ]
  },
  {
   "cell_type": "code",
   "execution_count": 12,
   "id": "55708af5-de59-4dfc-9bf9-de26338cfeeb",
   "metadata": {},
   "outputs": [
    {
     "name": "stdout",
     "output_type": "stream",
     "text": [
      "links from http://www.nationalreview.com/ = 0\n",
      "Total Links -  0\n",
      "**Finished Parsing**\n",
      "links from http://www.nypost.com/ = 189\n",
      "Total Links -  189\n",
      "**Finished Parsing**\n",
      "links from http://www.reason.com/ = 213\n",
      "Total Links -  402\n",
      "**Finished Parsing**\n",
      "links from http://www.washingtonexaminer.com/ = 64\n",
      "Total Links -  466\n",
      "**Finished Parsing**\n",
      "links from http://www.breitbart.com/ = 399\n",
      "Total Links -  865\n",
      "**Finished Parsing**\n",
      "links from http://www.dailycaller.com/ = 90\n",
      "Total Links -  955\n",
      "**Finished Parsing**\n",
      "links from http://www.dailywire.com/ = 116\n",
      "Link Failed -  http://www.dailywire.com/episode/ep-701-wednesday-andrew-klavan-live\n",
      "Total Links -  1071\n",
      "**Finished Parsing**\n",
      "links from http://www.thepostmillennial.com/ = 49\n",
      "Total Links -  1120\n",
      "**Finished Parsing**\n",
      "links from http://www.foxnews.com/ = 294\n",
      "Total Links -  1414\n",
      "**Finished Parsing**\n",
      "links from http://www.thefederalist.com/ = 46\n",
      "Total Links -  1460\n",
      "**Finished Parsing**\n",
      "links from http://www.freebeacon.com/ = 25\n",
      "Link Failed -  https://www.newsnationnow.com/politics/debates/how-to-watch-the-fourth-republican-presidential-debate/\n",
      "Total Links -  1485\n",
      "**Finished Parsing**\n"
     ]
    }
   ],
   "source": [
    "new_data_5 = news_scraper(gg_list)"
   ]
  },
  {
   "cell_type": "code",
   "execution_count": null,
   "id": "48a7a886-2c30-4798-8474-e4cddca6d514",
   "metadata": {},
   "outputs": [],
   "source": [
    "combined_df = pd.concat([new_data_1,new_data_2,new_data_3,new_data_4,new_data_5])"
   ]
  },
  {
   "cell_type": "code",
   "execution_count": null,
   "id": "e5400434-6f0e-4f4a-8d30-fbab42dbee7d",
   "metadata": {},
   "outputs": [],
   "source": [
    "combined_df"
   ]
  },
  {
   "cell_type": "code",
   "execution_count": 13,
   "id": "8cc0ec7a-057f-46c1-bab5-a0f47150612b",
   "metadata": {},
   "outputs": [],
   "source": [
    "new_data_5.to_csv(\"/home/zoetustain/code/zulu-tango/news_and_echo_bubbles/raw_data/gg_data.csv\")"
   ]
  },
  {
   "cell_type": "code",
   "execution_count": null,
   "id": "516c2c46-c84a-4da9-87bc-99ff27c7bd2a",
   "metadata": {},
   "outputs": [],
   "source": [
    "friday_data = pd.read_csv(\"/home/zoetustain/code/zulu-tango/news_and_echo_bubbles/raw_data/friday_data.csv\")"
   ]
  },
  {
   "cell_type": "code",
   "execution_count": null,
   "id": "d4e0c1c5-2c7f-4157-b901-a51db614b623",
   "metadata": {},
   "outputs": [],
   "source": [
    "scoring_dict = {'www.alternet.org': -2,\n",
    "                            'www.theatlantic.com': -2,\n",
    "                            'www.democracynow.org': -2,\n",
    "                            'www.thedailybeast.com': -2,\n",
    "                            'www.huffpost.com': -2,\n",
    "                            'www.theintercept.com': -2,\n",
    "                            'www.jacobinmag.com': -2,\n",
    "                            'www.motherjones.com': -2,\n",
    "                            'www.msnbc.com': -2,\n",
    "                            'www.newyorker.com': -2,\n",
    "                            'www.nytimes.com': -1,\n",
    "                            'www.thenation.com': -2,\n",
    "                            'www.slate.com': -2,\n",
    "                            'www.vox.com': -2,\n",
    "                            'www.abcnews.go.com': -1,\n",
    "                            'apnews.com': -1,\n",
    "                            'www.axios.com': -1,\n",
    "                            'www.bloomberg.com': -1,\n",
    "                            'www.cbsnews.com': -1,\n",
    "                            'www.cnn.com': -1,\n",
    "                            'www.theguardian.com': -1,\n",
    "                            'www.insider.com': -1,\n",
    "                            'www.nbcnews.com': -1,\n",
    "                            'www.npr.org': -1,\n",
    "                            'www.politico.com': -1,\n",
    "                            'www.propublica.org': -1,\n",
    "                            'www.time.com': -1,\n",
    "                            'www.washingtonpost.com': -1,\n",
    "                            'www.usatoday.com': -1,\n",
    "                            'www.yahoo.com': -1,\n",
    "                            'www.bbc.com': 0,\n",
    "                            'www.csmonitor.com': 0,\n",
    "                            'www.forbes.com': 0,\n",
    "                            'www.marketwatch.com': 0,\n",
    "                            'www.newsnationnow.com': 0,\n",
    "                            'www.newsweek.com': 0,\n",
    "                            'www.reuters.com': 0,\n",
    "                            'www.realclearpolitics.com': 0,\n",
    "                            'www.thehill.com': 0,\n",
    "                            'www.wsj.com': 1,\n",
    "                            'www.thedispatch.com': 1,\n",
    "                            'www.theepochtimes.com': 1,\n",
    "                            'www.foxbusiness.com': 1,\n",
    "                            'www.nationalreview.com': 2,\n",
    "                            'www.nypost.com': 2,\n",
    "                            'www.reason.com': 1,\n",
    "                            'www.washingtonexaminer.com': 1,\n",
    "                            'www.washingtontimes.com': 1,\n",
    "                            'www.theamericanconservative.com': 2,\n",
    "                            'www.spectator.org': 2,\n",
    "                            'www.breitbart.com': 2,\n",
    "                            'www.theblaze.com': 2,\n",
    "                            'www.cbn.com': 2,\n",
    "                            'www.dailycaller.com': 2,\n",
    "                            'www.dailymail.co.uk': 2,\n",
    "                            'www.dailywire.com': 2,\n",
    "                            'www.thepostmillennial.com': 2,\n",
    "                            'www.foxnews.com': 2,\n",
    "                            'www.thefederalist.com': 2,\n",
    "                            'www.ijr.com': 2,\n",
    "                            'www.newsmax.com': 2,\n",
    "                            'www.freebeacon.com': 2,\n",
    "                            'www.oann.com': 2,'thedailybeast.freshdesk.com':-2,\n",
    "                   'theathletic.com': -2,\n",
    "                   'cooking.nytimes.com':-1, \n",
    "                   'cn.nytimes.com':-1, \n",
    "                   'www.hulu.com':-1,\n",
    "                   'www.bloomberg.co.jp':-1,\n",
    "                   'bloomberg.com':-1,\n",
    "                   'tunein.com':-1,\n",
    "                   'www.paramountplus.com':-1,\n",
    "                   'projects.propublica.org':-1,\n",
    "                   'features.propublica.org':-1,\n",
    "                   'time.com':-1,\n",
    "                   'cm.usatoday.com':-1,\n",
    "                   'reviewed.usatoday.com':-1,\n",
    "                   'puzzles.usatoday.com':-1,\n",
    "                   'finance.yahoo.com':-1,\n",
    "                   'sports.yahoo.com':-1,\n",
    "                   'news.yahoo.com':-1,\n",
    "                   'autos.yahoo.com':-1,\n",
    "                   'sg.yahoo.com':-1,\n",
    "                   'sg.news.yahoo.com':-1,\n",
    "                   'sg.finance.yahoo.com':-1, \n",
    "                   'sg.style.yahoo.com':-1,\n",
    "                   'tw.news.yahoo.com':-1,\n",
    "                   'tw.sports.yahoo.com':-1,\n",
    "                   'travel.yahoo.com.tw':-1,\n",
    "                   'autos.yahoo.com.tw':-1,\n",
    "                   'style.yahoo.com.tw':-1,\n",
    "                   'www.edh.tw':-1,\n",
    "                   'tw.tv.yahoo.com':-1,\n",
    "                   'tw.promo.yahoo.com':-1, \n",
    "                   'movies.yahoo.com.tw':-1,\n",
    "                   'uk.yahoo.com':-1,\n",
    "                   'uk.news.yahoo.com':-1, \n",
    "                   'uk.style.yahoo.com':-1,\n",
    "                   'uk.finance.yahoo.com':-1,\n",
    "                   'uk.sports.yahoo.com':-1,\n",
    "                   'qc.yahoo.com':-1,\n",
    "                   'fr.style.yahoo.com':-1,\n",
    "                   'fr.news.yahoo.com':-1,\n",
    "                   'ca.sports.yahoo.com':-1,\n",
    "                   'espanol.yahoo.com':-1,\n",
    "                   'es-us.noticias.yahoo.com':-1, \n",
    "                   'es-us.finanzas.yahoo.com':-1,\n",
    "                   'es-us.vida-estilo.yahoo.com':-1,\n",
    "                   'hk.news.yahoo.com':-1,\n",
    "                   'hk.finance.yahoo.com':-1,\n",
    "                   'ca.yahoo.com':-1,\n",
    "                   'ca.news.yahoo.com':-1,\n",
    "                   'ca.finance.yahoo.com':-1, \n",
    "                   'ca.style.yahoo.com':-1,\n",
    "                   'malaysia.yahoo.com':-1,\n",
    "                   'malaysia.news.yahoo.com':-1,\n",
    "                   'www.the-independent.com':-1,\n",
    "                   'au.yahoo.com':-1,\n",
    "                   'au.lifestyle.yahoo.com':-1,\n",
    "                   'au.news.yahoo.com':-1,\n",
    "                   'au.sports.yahoo.com':-1,\n",
    "                   'au.finance.yahoo.com':-1,\n",
    "                   'de.yahoo.com':-1,\n",
    "                   'de.nachrichten.yahoo.com':-1, \n",
    "                   'de.style.yahoo.com':-1,\n",
    "                   'de.finance.yahoo.com':-1,\n",
    "                   'www.artnews.com':-1,\n",
    "                   'nypost.com':1,\n",
    "                   'captimes.com':-1,\n",
    "                   'reuters.com':-0,\n",
    "                   'wsj.com':-0,\n",
    "                   'staging.theepochtimes.com':1,\n",
    "                   'theepochtimes.gr':1,\n",
    "                   'es.theepochtimes.com':1,\n",
    "                   'help.theepochtimes.au':1}"
   ]
  },
  {
   "cell_type": "code",
   "execution_count": null,
   "id": "f224d59f-571c-4d42-a987-6deb3b105f85",
   "metadata": {},
   "outputs": [],
   "source": [
    "to check ={'pagesix.com':1,\n",
    "                   'decider.com':1,\n",
    "                   'reason.com':1,\n",
    "                   'www.thefire.org':1, \n",
    "                   'law.justia.com':1,\n",
    "                   'www.inquirer.com':1,\n",
    "                   'www.thedp.com':1,\n",
    "                   'ndlawreview.org':1,\n",
    "                   'www.lawfaremedia.org':1,\n",
    "                   'www.ca5.uscourts.gov':1, \n",
    "                   'pacificlegal.org':1,\n",
    "                   'thehill.com':1,\n",
    "                   'volokh.com':1,\n",
    "                   'marketurbanism.com':1,\n",
    "                   'web.archive.org':1,\n",
    "                   'johnhcochrane.blogspot.com':1,\n",
    "                   'tushnet.blogspot.com':1,\n",
    "                   'www.scotusblog.com':1,\n",
    "                   'www.yalejreg.com':0,\n",
    "                   'www.oyez.org':1,\n",
    "                   'reason.plannedgiving.org':1,\n",
    "                   'reason.org':1}"
   ]
  },
  {
   "cell_type": "code",
   "execution_count": null,
   "id": "3b951645-d9f8-457f-b105-00b1f1e6ed85",
   "metadata": {},
   "outputs": [],
   "source": [
    "scoring_updated = {'thedailybeast.freshdesk.com':-2,\n",
    "                   'theathletic.com': -2,\n",
    "                   'cooking.nytimes.com':-1, \n",
    "                   'cn.nytimes.com':-1, \n",
    "                   'www.hulu.com':-1,\n",
    "                   'www.bloomberg.co.jp':-1,\n",
    "                   'bloomberg.com',:-1,\n",
    "                   'tunein.com':-1,\n",
    "                   'www.paramountplus.com':-1,\n",
    "                   'projects.propublica.org':-1,\n",
    "                   'features.propublica.org':-1,\n",
    "                   'time.com':-1,\n",
    "                   'cm.usatoday.com':-1,\n",
    "                   'reviewed.usatoday.com':-1,\n",
    "                   'puzzles.usatoday.com':-1,\n",
    "                   'finance.yahoo.com':-1,\n",
    "                   'sports.yahoo.com':-1,\n",
    "                   'news.yahoo.com':-1,\n",
    "                   'autos.yahoo.com':-1,\n",
    "                   'sg.yahoo.com':-1,\n",
    "                   'sg.news.yahoo.com':-1,\n",
    "                   'sg.finance.yahoo.com':-1, \n",
    "                   'sg.style.yahoo.com':-1,\n",
    "                   'tw.news.yahoo.com':-1,\n",
    "                   'tw.sports.yahoo.com':-1,\n",
    "                   'travel.yahoo.com.tw':-1,\n",
    "                   'autos.yahoo.com.tw':-1,\n",
    "                   'style.yahoo.com.tw':-1,\n",
    "                   'www.edh.tw':-1,\n",
    "                   'tw.tv.yahoo.com':-1,\n",
    "                   'tw.promo.yahoo.com':-1, \n",
    "                   'movies.yahoo.com.tw':-1,\n",
    "                   'uk.yahoo.com':-1,\n",
    "                   'uk.news.yahoo.com':-1, \n",
    "                   'uk.style.yahoo.com':-1,\n",
    "                   'uk.finance.yahoo.com':-1,\n",
    "                   'uk.sports.yahoo.com':-1,\n",
    "                   'qc.yahoo.com':-1,\n",
    "                   'fr.style.yahoo.com':-1,\n",
    "                   'fr.news.yahoo.com':-1,\n",
    "                   'ca.sports.yahoo.com':-1,\n",
    "                   'espanol.yahoo.com':-1,\n",
    "                   'es-us.noticias.yahoo.com':-1, \n",
    "                   'es-us.finanzas.yahoo.com':-1,\n",
    "                   'es-us.vida-estilo.yahoo.com':-1,\n",
    "                   'hk.news.yahoo.com':-1,\n",
    "                   'hk.finance.yahoo.com':-1,\n",
    "                   'ca.yahoo.com':-1,\n",
    "                   'ca.news.yahoo.com':-1,\n",
    "                   'ca.finance.yahoo.com':-1, \n",
    "                   'ca.style.yahoo.com':-1,\n",
    "                   'malaysia.yahoo.com':-1,\n",
    "                   'malaysia.news.yahoo.com':-1,\n",
    "                   'www.the-independent.com':-1,\n",
    "                   'au.yahoo.com':-1,\n",
    "                   'au.lifestyle.yahoo.com':-1,\n",
    "                   'au.news.yahoo.com':-1,\n",
    "                   'au.sports.yahoo.com':-1,\n",
    "                   'au.finance.yahoo.com':-1,\n",
    "                   'de.yahoo.com':-1,\n",
    "                   'de.nachrichten.yahoo.com':-1, \n",
    "                   'de.style.yahoo.com':-1,\n",
    "                   'de.finance.yahoo.com':-1,\n",
    "                   'www.artnews.com':-1,\n",
    "                   'nypost.com':1,\n",
    "                   'captimes.com':-1,\n",
    "                   'reuters.com':-0,\n",
    "                   'wsj.com':-0,\n",
    "                   'staging.theepochtimes.com':1,\n",
    "                   'theepochtimes.gr':1,\n",
    "                   'es.theepochtimes.com':1,\n",
    "                   'help.theepochtimes.au':1,\n",
    "                   'pagesix.com':1,\n",
    "                   'decider.com':1,\n",
    "                   'reason.com':1,\n",
    "                   'www.thefire.org':1, \n",
    "                   'law.justia.com':1,\n",
    "                   'www.inquirer.com':1,\n",
    "                   'www.thedp.com':1,\n",
    "                   'ndlawreview.org':1,\n",
    "                   'www.lawfaremedia.org':1,\n",
    "                   'www.ca5.uscourts.gov':1, \n",
    "                   'pacificlegal.org':1,\n",
    "                   'thehill.com':1,\n",
    "                   'volokh.com':1,\n",
    "                   'marketurbanism.com':1,\n",
    "                   'web.archive.org':1,\n",
    "                   'johnhcochrane.blogspot.com':1,\n",
    "                   'tushnet.blogspot.com':1,\n",
    "                   'www.scotusblog.com':1,\n",
    "                   'www.yalejreg.com':1,\n",
    "                   'www.oyez.org':1,\n",
    "                   'reason.plannedgiving.org':1,\n",
    "                   'reason.org':1}"
   ]
  },
  {
   "cell_type": "code",
   "execution_count": null,
   "id": "ef16758a-6c21-4a77-b5e2-b12fab693ace",
   "metadata": {},
   "outputs": [],
   "source": [
    "urls= ['thedailybeast.freshdesk.com',\n",
    "       'theathletic.com', 'cooking.nytimes.com',\n",
    "       'cn.nytimes.com', 'www.vox.com', 'apnews.com', 'www.bloomberg.com',\n",
    "       'www.hulu.com', 'www.bloomberg.co.jp', 'bloomberg.com',\n",
    "       'tunein.com', 'www.cbsnews.com', 'www.paramountplus.com',\n",
    "       'www.propublica.org', 'projects.propublica.org',\n",
    "       'features.propublica.org', 'time.com', 'www.time.com',\n",
    "       'www.washingtonpost.com', 'www.usatoday.com', 'cm.usatoday.com',\n",
    "       'reviewed.usatoday.com', 'puzzles.usatoday.com', 'www.yahoo.com',\n",
    "       'finance.yahoo.com', 'sports.yahoo.com', 'news.yahoo.com',\n",
    "       'autos.yahoo.com', 'sg.yahoo.com', 'sg.news.yahoo.com',\n",
    "       'sg.finance.yahoo.com', 'sg.style.yahoo.com', 'tw.news.yahoo.com',\n",
    "       'tw.sports.yahoo.com', 'travel.yahoo.com.tw', 'autos.yahoo.com.tw',\n",
    "       'style.yahoo.com.tw', 'www.edh.tw', 'tw.tv.yahoo.com',\n",
    "       'tw.promo.yahoo.com', 'movies.yahoo.com.tw', 'uk.yahoo.com',\n",
    "       'uk.news.yahoo.com', 'uk.style.yahoo.com', 'uk.finance.yahoo.com',\n",
    "       'uk.sports.yahoo.com', 'qc.yahoo.com', 'fr.style.yahoo.com',\n",
    "       'fr.news.yahoo.com', 'ca.sports.yahoo.com', 'espanol.yahoo.com',\n",
    "       'es-us.noticias.yahoo.com', 'es-us.finanzas.yahoo.com',\n",
    "       'es-us.vida-estilo.yahoo.com', 'hk.news.yahoo.com',\n",
    "       'hk.finance.yahoo.com', 'ca.yahoo.com', 'ca.news.yahoo.com',\n",
    "       'ca.finance.yahoo.com', 'ca.style.yahoo.com', 'malaysia.yahoo.com',\n",
    "       'malaysia.news.yahoo.com', 'www.the-independent.com',\n",
    "       'au.yahoo.com', 'au.lifestyle.yahoo.com', 'au.news.yahoo.com',\n",
    "       'au.sports.yahoo.com', 'au.finance.yahoo.com', 'de.yahoo.com',\n",
    "       'de.nachrichten.yahoo.com', 'de.style.yahoo.com',\n",
    "       'de.finance.yahoo.com', 'www.csmonitor.com', 'www.politico.com',\n",
    "       'www.artnews.com', 'www.wsj.com', 'nypost.com', 'captimes.com',\n",
    "       'www.cnn.com', 'www.npr.org', 'www.reuters.com', 'reuters.com',\n",
    "       'wsj.com', 'www.theepochtimes.com', 'staging.theepochtimes.com',\n",
    "       'theepochtimes.gr', 'es.theepochtimes.com',\n",
    "       'help.theepochtimes.au', 'pagesix.com', 'decider.com',\n",
    "       'reason.com', 'www.thefire.org', 'law.justia.com',\n",
    "       'www.inquirer.com', 'www.thedp.com', 'ndlawreview.org',\n",
    "       'www.lawfaremedia.org', 'www.ca5.uscourts.gov', 'pacificlegal.org',\n",
    "       'thehill.com', 'volokh.com', 'www.axios.com', 'marketurbanism.com',\n",
    "       'web.archive.org', 'johnhcochrane.blogspot.com',\n",
    "       'tushnet.blogspot.com', 'www.scotusblog.com', 'www.yalejreg.com',\n",
    "       'www.oyez.org', 'reason.plannedgiving.org', 'reason.org',\n",
    "       'www.washingtonexaminer.com', 'www.dailycaller.com']"
   ]
  },
  {
   "cell_type": "code",
   "execution_count": null,
   "id": "65eb45b3-6dd5-4233-867e-080322d3c9ed",
   "metadata": {},
   "outputs": [],
   "source": [
    "from urllib.parse import urlparse"
   ]
  },
  {
   "cell_type": "code",
   "execution_count": null,
   "id": "04de5f57-8efd-4954-9a5c-551ccbb3e6c8",
   "metadata": {},
   "outputs": [],
   "source": [
    "urls_short = [urlparse(friday_data.link[row]).netloc for row in range(len(friday_data.link))]\n",
    "friday_data['urls'] = urls_short"
   ]
  },
  {
   "cell_type": "code",
   "execution_count": null,
   "id": "80baac67-b877-4b05-b5d6-6868b29c2b1b",
   "metadata": {},
   "outputs": [],
   "source": [
    "friday_data.drop(columns=['Unnamed: 0','Unnamed: 0.1'],inplace=True)"
   ]
  },
  {
   "cell_type": "code",
   "execution_count": null,
   "id": "67ebe3ab-e91a-4054-8f55-49f9a573efd0",
   "metadata": {},
   "outputs": [],
   "source": [
    "friday_data[\"5_step_classifier\"] = friday_data['urls'].map(scoring_dict)"
   ]
  },
  {
   "cell_type": "code",
   "execution_count": null,
   "id": "f0ff5ae7-ea52-4194-a60b-b75f4faa2b9b",
   "metadata": {},
   "outputs": [],
   "source": [
    "friday_data[~friday_data['text'].isnull()].reset_index(inplace=True)"
   ]
  },
  {
   "cell_type": "code",
   "execution_count": null,
   "id": "64146e9b-657f-40b1-a4f3-a9d764d1b140",
   "metadata": {},
   "outputs": [],
   "source": [
    "friday_data = pd.read_csv(\"/home/zoetustain/code/zulu-tango/news_and_echo_bubbles/raw_data/friday_data.csv\")"
   ]
  },
  {
   "cell_type": "code",
   "execution_count": null,
   "id": "dc2f76e0-5cd2-469b-a1f0-3ae8604d1c18",
   "metadata": {},
   "outputs": [],
   "source": [
    "friday_data.dropna(subset=['text'], inplace=True)"
   ]
  },
  {
   "cell_type": "code",
   "execution_count": null,
   "id": "212ef0d4-c2a9-4f0e-ada2-76425c646b6c",
   "metadata": {},
   "outputs": [],
   "source": [
    "friday_data.head()"
   ]
  },
  {
   "cell_type": "code",
   "execution_count": null,
   "id": "80e8603a-0006-4c5b-ae01-7f927b910650",
   "metadata": {},
   "outputs": [],
   "source": [
    "friday_data['text'] = friday_data['text'].astype(str)"
   ]
  },
  {
   "cell_type": "code",
   "execution_count": null,
   "id": "e1f651db-b2f6-40cd-8260-e7dbe4029145",
   "metadata": {},
   "outputs": [],
   "source": [
    "article_length = []\n",
    "for i in range(len(friday_data)):\n",
    "    article_length.append(len(friday_data.text[i].split()))\n",
    "\n",
    "pd.DataFrame(article_length,columns=['article_length'])\n",
    "\n",
    "friday_data['article_length'] = pd.DataFrame(article_length,columns=['article_length'])\n"
   ]
  },
  {
   "cell_type": "code",
   "execution_count": null,
   "id": "8b99803c-a869-4fa9-8f2a-b6f8b4285eb4",
   "metadata": {},
   "outputs": [],
   "source": [
    "mask = friday_data['article_length'] >50"
   ]
  },
  {
   "cell_type": "code",
   "execution_count": null,
   "id": "eeb5e7d9-63ca-44a3-93b2-472aaacf26df",
   "metadata": {},
   "outputs": [],
   "source": [
    "friday_data = friday_data[mask]"
   ]
  },
  {
   "cell_type": "code",
   "execution_count": null,
   "id": "aafc934d-7f8c-4145-b64f-9fc4e41369f9",
   "metadata": {},
   "outputs": [],
   "source": [
    "friday_data.drop(columns=['keywords','tags','compound','neg','neu','pos','polarity','subjectivity','rating'],inplace=True)"
   ]
  },
  {
   "cell_type": "code",
   "execution_count": null,
   "id": "25f70407-2a71-49b5-8908-0db782c760b0",
   "metadata": {},
   "outputs": [],
   "source": [
    "friday_data.reset_index(inplace=True)"
   ]
  },
  {
   "cell_type": "code",
   "execution_count": null,
   "id": "072ca8df-d142-473d-b4ab-c5d102b4acdc",
   "metadata": {},
   "outputs": [],
   "source": [
    "new_list = []\n",
    "for index, text in enumerate(friday_data['text']):\n",
    "    # text = str(text)\n",
    "    new_list.append(friday_data['text'][index].lower())\n",
    "\n",
    "friday_data['preprocessed_data']= pd.DataFrame(new_list,columns=['text'])"
   ]
  },
  {
   "cell_type": "code",
   "execution_count": null,
   "id": "c8385cfb-5c9b-4498-bb1f-dae9b93846bb",
   "metadata": {},
   "outputs": [],
   "source": [
    "friday_data = pd.read_csv(\"/home/zoetustain/code/zulu-tango/news_and_echo_bubbles/raw_data/friday_data.csv\")"
   ]
  },
  {
   "cell_type": "code",
   "execution_count": null,
   "id": "d27d1cb2-1fe0-4ec5-ad80-10dad1a748f8",
   "metadata": {},
   "outputs": [],
   "source": [
    "sat_bk = pd.read_csv(\"/home/zoetustain/code/zulu-tango/news_and_echo_bubbles/raw_data/sat_bk_scrape.csv\")\n",
    "sat_zt = pd.read_csv(\"/home/zoetustain/code/zulu-tango/news_and_echo_bubbles/raw_data/sat_zt_scrape.csv\")\n",
    "sat_gg = pd.read_csv(\"/home/zoetustain/code/zulu-tango/news_and_echo_bubbles/raw_data/saturday_scraped_data_gigi.csv\")\n"
   ]
  },
  {
   "cell_type": "code",
   "execution_count": null,
   "id": "9090626e-905d-44ec-9034-d24440ca73a2",
   "metadata": {},
   "outputs": [],
   "source": [
    "combined_df = pd.concat([friday_data,sat_bk,sat_zt,sat_gg])"
   ]
  },
  {
   "cell_type": "code",
   "execution_count": null,
   "id": "acb8fa3e-8cb8-4540-88d4-9b8c15a60cac",
   "metadata": {},
   "outputs": [],
   "source": [
    "combined_df = pd.read_csv(\"/home/zoetustain/code/zulu-tango/news_and_echo_bubbles/raw_data/scraped_saturday.csv\")"
   ]
  },
  {
   "cell_type": "code",
   "execution_count": null,
   "id": "35108ac7-9afd-4a40-8adb-aacec71c534b",
   "metadata": {},
   "outputs": [],
   "source": [
    "combined_df['text'] = combined_df['text'].astype(str)"
   ]
  },
  {
   "cell_type": "code",
   "execution_count": null,
   "id": "1a9a2e76-18b0-420c-a1c7-3ad7dde68f0e",
   "metadata": {},
   "outputs": [],
   "source": [
    "combined_df.text[9049]"
   ]
  },
  {
   "cell_type": "code",
   "execution_count": null,
   "id": "21c67f3d-eb24-4e7a-82e2-58857dcac115",
   "metadata": {},
   "outputs": [],
   "source": [
    "article_length = []\n",
    "for i in range(len(combined_df)):\n",
    "    article_length.append(len(combined_df['text'][i].split()))\n",
    "\n",
    "combined_df['article_length'] = pd.DataFrame(article_length,columns=['article_length'])\n",
    "mask_length = combined_df['article_length']>50\n",
    "combined_df = combined_df[mask_length]\n",
    "combined_df.reset_index(inplace=True,drop=True)"
   ]
  },
  {
   "cell_type": "code",
   "execution_count": null,
   "id": "b024d471-479d-4c47-94bb-ec9af4c1b546",
   "metadata": {},
   "outputs": [],
   "source": [
    "combined_df.drop_duplicates(subset=['text'],inplace=True)"
   ]
  },
  {
   "cell_type": "code",
   "execution_count": null,
   "id": "1f4b7379-adbf-4f65-8ee8-3d0bdbf11d94",
   "metadata": {},
   "outputs": [],
   "source": [
    "combined_df.reset_index(drop=True,inplace=True)"
   ]
  },
  {
   "cell_type": "code",
   "execution_count": null,
   "id": "f201eca7-a89f-4fe4-b9e6-aea61373a896",
   "metadata": {},
   "outputs": [],
   "source": [
    "repeated_phrases = combined_df['text']"
   ]
  },
  {
   "cell_type": "code",
   "execution_count": null,
   "id": "3fd64b98-3c53-4569-9b38-586703f3fcd4",
   "metadata": {},
   "outputs": [],
   "source": [
    "repeated_phrases = pd.DataFrame(repeated_phrases,columns=['first'])\n",
    "repeated_phrases['first'] = combined_df['text'].str.split('.').str[0]"
   ]
  },
  {
   "cell_type": "code",
   "execution_count": null,
   "id": "cf48539e-5ae1-48d3-a54f-708ce2573b25",
   "metadata": {},
   "outputs": [],
   "source": [
    "repeated_phrases['count'] = 1"
   ]
  },
  {
   "cell_type": "code",
   "execution_count": null,
   "id": "972b5f42-27d0-4fd7-8840-27378b38661f",
   "metadata": {},
   "outputs": [],
   "source": [
    "repeated_phrases = repeated_phrases.groupby('first',as_index=False).sum().sort_values(by='count')"
   ]
  },
  {
   "cell_type": "code",
   "execution_count": null,
   "id": "24df0bdf-9c4a-4675-944f-2d538db9f943",
   "metadata": {},
   "outputs": [],
   "source": [
    "mask = repeated_phrases['count']!=1"
   ]
  },
  {
   "cell_type": "code",
   "execution_count": null,
   "id": "2928ff06-f753-4dae-9121-bf9e3777ef1c",
   "metadata": {},
   "outputs": [],
   "source": [
    "repeated_phrases = repeated_phrases[mask]"
   ]
  },
  {
   "cell_type": "code",
   "execution_count": null,
   "id": "fa8474ca-eecd-4dd6-9ba1-1609dc666245",
   "metadata": {},
   "outputs": [],
   "source": [
    "repeated_phrases.sort_values(by='count')"
   ]
  },
  {
   "cell_type": "code",
   "execution_count": null,
   "id": "97d78cc7-b0b4-4d91-b14c-24087a223da0",
   "metadata": {},
   "outputs": [],
   "source": [
    "len(combined_df['text'])"
   ]
  },
  {
   "cell_type": "code",
   "execution_count": null,
   "id": "ea7aec95-cb58-4e8f-934e-ced017dba7c0",
   "metadata": {},
   "outputs": [],
   "source": [
    "for index in range(len(combined_df['text'])):\n",
    "    if combined_df['text'].str.split('.').str[0][index] in repeated_phrases['first']:\n",
    "        combined_df['text'].replace(combined_df['text'].str.split('.').str[0][index],'',1)"
   ]
  },
  {
   "cell_type": "code",
   "execution_count": null,
   "id": "31058dc8-c986-4f9a-8799-a64e9a24417c",
   "metadata": {},
   "outputs": [],
   "source": [
    "combined_df.text[4166]"
   ]
  },
  {
   "cell_type": "code",
   "execution_count": null,
   "id": "6c9bea05-f495-47d0-8125-c8c416a131ac",
   "metadata": {},
   "outputs": [],
   "source": [
    "combined_df['text'].str.split('.').str[0][9049] = combined_df['text'].str.split('.').str[0][9049].replace((combined_df['text'].str.split('.').str[0][9049]),'',1)\n",
    "\n",
    "combined_df.text[9049]"
   ]
  },
  {
   "cell_type": "code",
   "execution_count": null,
   "id": "cb8c7201-f1fe-472a-90a6-8ea757f9451c",
   "metadata": {},
   "outputs": [],
   "source": [
    "combined_df['text'].str.split('.').str[0][9049]"
   ]
  },
  {
   "cell_type": "code",
   "execution_count": null,
   "id": "b2f1d73c-c0cf-4750-bd9c-52b3505bc282",
   "metadata": {},
   "outputs": [],
   "source": [
    "repeated_phrases['first']"
   ]
  },
  {
   "cell_type": "code",
   "execution_count": null,
   "id": "2a23e41f-e5f8-4285-94e3-5e739f4378e2",
   "metadata": {},
   "outputs": [],
   "source": [
    "series = pd.Series(combined_df['first'])"
   ]
  },
  {
   "cell_type": "code",
   "execution_count": null,
   "id": "b9c880f6-a6ea-4fe1-92b7-c0967fc06d4b",
   "metadata": {},
   "outputs": [],
   "source": [
    "series[0]"
   ]
  },
  {
   "cell_type": "code",
   "execution_count": null,
   "id": "af3e5f54-d980-4841-b0d4-5211e1f93a33",
   "metadata": {},
   "outputs": [],
   "source": [
    "len(combined_df['first'])"
   ]
  },
  {
   "cell_type": "code",
   "execution_count": null,
   "id": "58f118a0-c50c-4cbe-8167-32e5e51e66ec",
   "metadata": {},
   "outputs": [],
   "source": [
    "series[9049]"
   ]
  },
  {
   "cell_type": "code",
   "execution_count": null,
   "id": "9b614510-0898-4a83-b884-941884486455",
   "metadata": {},
   "outputs": [],
   "source": [
    "series.str.count(series[9049]).count()"
   ]
  },
  {
   "cell_type": "code",
   "execution_count": null,
   "id": "8dfcc454-0123-43a9-8822-0490bf66bb8e",
   "metadata": {},
   "outputs": [],
   "source": [
    "for i in len(combined_df['first']):\n",
    "    combined_df['count'][i] = series.str.count(series[i])\n",
    "    "
   ]
  },
  {
   "cell_type": "code",
   "execution_count": null,
   "id": "138a504d-cf7d-43b0-9bd4-7a3fbb46bc84",
   "metadata": {},
   "outputs": [],
   "source": [
    "combined_df['first'][9049]"
   ]
  },
  {
   "cell_type": "code",
   "execution_count": null,
   "id": "2b067c74-ce31-4d2f-baa0-f6e275d2a3d7",
   "metadata": {},
   "outputs": [],
   "source": [
    "def remove_null_text(dataframe):\n",
    "    friday_data.dropna(subset=['text'], inplace=True)\n",
    "    friday_data.reset_index(inplace=True,drop=True)\n",
    "    return dataframe"
   ]
  },
  {
   "cell_type": "code",
   "execution_count": null,
   "id": "e1b22142-40f7-49a5-b411-b8b67b49af81",
   "metadata": {},
   "outputs": [],
   "source": [
    "def article_length(dataframe):\n",
    "    article_length = []\n",
    "    for i in range(len(dataframe)):\n",
    "        article_length.append(len(dataframe.text[i].split()))\n",
    "\n",
    "    dataframe['article_length'] = pd.DataFrame(article_length,columns=['article_length'])\n",
    "    mask_length = dataframe['article_length']>50\n",
    "    dataframe = dataframe[mask_length]\n",
    "    dataframe.reset_index(inplace=True,drop=True)\n",
    "    return dataframe"
   ]
  },
  {
   "cell_type": "code",
   "execution_count": null,
   "id": "b070e325-08b3-4c8f-abe4-966744fdd007",
   "metadata": {},
   "outputs": [],
   "source": [
    "friday_data['text'] = friday_data['text'].astype(str)"
   ]
  },
  {
   "cell_type": "code",
   "execution_count": null,
   "id": "e9c0ba5e-df78-4e39-aeff-1a505a16474d",
   "metadata": {},
   "outputs": [],
   "source": [
    "friday_data.info()"
   ]
  },
  {
   "cell_type": "code",
   "execution_count": null,
   "id": "81d8289b-1e43-4a9b-892a-13613e15d7e2",
   "metadata": {},
   "outputs": [],
   "source": [
    "friday_data['pre_process_text'] = friday_data['text']"
   ]
  },
  {
   "cell_type": "code",
   "execution_count": null,
   "id": "2c85481a-9635-4b38-9788-f3070c7caed6",
   "metadata": {},
   "outputs": [],
   "source": [
    "new_list = []\n",
    "for index, text in enumerate(friday_data['text']):\n",
    "    # text = str(text)\n",
    "    new_list.append(friday_data['text'][index].lower())\n",
    "\n",
    "friday_data['pre_processed_data']= pd.DataFrame(new_list,columns=['text'])\n"
   ]
  },
  {
   "cell_type": "code",
   "execution_count": null,
   "id": "dce24287-e854-48cd-91f8-39821bfaf24e",
   "metadata": {
    "scrolled": true
   },
   "outputs": [],
   "source": [
    "sunday_data = pd.read_csv(\"/home/zoetustain/code/zulu-tango/news_and_echo_bubbles/raw_data/predicted_sentiment.csv\")"
   ]
  },
  {
   "cell_type": "code",
   "execution_count": null,
   "id": "20f2faf9-1c32-4fe2-a432-622d11004b63",
   "metadata": {},
   "outputs": [],
   "source": [
    "sunday_data"
   ]
  },
  {
   "cell_type": "code",
   "execution_count": null,
   "id": "2bc504d3-c5ce-4417-a5b6-316c3ebd7739",
   "metadata": {},
   "outputs": [],
   "source": [
    "import ast"
   ]
  },
  {
   "cell_type": "code",
   "execution_count": null,
   "id": "94627e3a-0810-4504-a57a-1fdf4dbd5de4",
   "metadata": {},
   "outputs": [],
   "source": [
    "sunday_data.keywords[0] = ast.literal_eval(sunday_data.keywords[0])"
   ]
  },
  {
   "cell_type": "code",
   "execution_count": null,
   "id": "b159a608-2297-497c-aa50-487dbb612ee2",
   "metadata": {
    "scrolled": true
   },
   "outputs": [],
   "source": [
    "type(sunday_data['keywords'].iloc[0])"
   ]
  },
  {
   "cell_type": "code",
   "execution_count": null,
   "id": "739f8ba7-71dd-4a0b-9597-dea0ce3fb488",
   "metadata": {},
   "outputs": [],
   "source": [
    "def biases():\n",
    "    df = sunday_data\n",
    "    mask_ll = df['pred_class'] =='left'\n",
    "    mask_l = df['pred_class'] =='leans left'\n",
    "    mask_c = df['pred_class'] =='centre'\n",
    "    mask_r = df['pred_class'] =='leans right'\n",
    "    mask_rr = df['pred_class'] =='right'\n",
    "    df_ll = df[mask_ll]\n",
    "    df_ll.reset_index(drop=True,inplace=True)\n",
    "    df_l = df[mask_l]\n",
    "    df_l.reset_index(drop=True,inplace=True)\n",
    "    df_c = df[mask_c]\n",
    "    df_c.reset_index(drop=True,inplace=True)\n",
    "    df_r = df[mask_r]\n",
    "    df_r.reset_index(drop=True,inplace=True)\n",
    "    df_rr = df[mask_rr]\n",
    "    df_rr.reset_index(drop=True,inplace=True)\n",
    "    return df_ll, df_l, df_c, df_r, df_rr"
   ]
  },
  {
   "cell_type": "code",
   "execution_count": null,
   "id": "e8cd982b-a1f4-4ae1-8d2c-152a7d0e6d08",
   "metadata": {},
   "outputs": [],
   "source": [
    "def search_keyword():\n",
    "    #search from raw data post-embedding and training\n",
    "    #find way to search from sql for streamlit demo\n",
    "    df_ll, df_l, df_c, df_r, df_rr = biases()\n",
    "    df_list = [df_ll, df_l, df_c, df_r, df_rr]\n",
    "\n",
    "    keyword = input('searchword: ')\n",
    "    returned_articles = []\n",
    "    for index, row in enumerate(df_ll.keywords):\n",
    "        if keyword in row:\n",
    "            returned_articles.append((df_ll['text'][index],df_ll.keywords[index]))\n",
    "    initial_output = pd.DataFrame(returned_articles,columns=[f'text_{df_ll.pred_class[0]}','keyword_score'])\n",
    "   \n",
    "    initial_output = initial_output['keyword_score']\n",
    "\n",
    "    return initial_output[:1].info()"
   ]
  },
  {
   "cell_type": "code",
   "execution_count": null,
   "id": "7e1edd7b-0fa3-4ee3-a218-e57a746cd1a3",
   "metadata": {},
   "outputs": [],
   "source": [
    "search_keyword()"
   ]
  },
  {
   "cell_type": "code",
   "execution_count": null,
   "id": "a5f0f8d5-3ce6-4c9a-aaa5-d6a56671cc1a",
   "metadata": {},
   "outputs": [],
   "source": [
    "df_ll.keywords[1]"
   ]
  },
  {
   "cell_type": "code",
   "execution_count": null,
   "id": "e3c165b8-a143-4336-af09-7a43f1cb1765",
   "metadata": {},
   "outputs": [],
   "source": []
  }
 ],
 "metadata": {
  "kernelspec": {
   "display_name": "Python 3 (ipykernel)",
   "language": "python",
   "name": "python3"
  },
  "language_info": {
   "codemirror_mode": {
    "name": "ipython",
    "version": 3
   },
   "file_extension": ".py",
   "mimetype": "text/x-python",
   "name": "python",
   "nbconvert_exporter": "python",
   "pygments_lexer": "ipython3",
   "version": "3.10.6"
  }
 },
 "nbformat": 4,
 "nbformat_minor": 5
}
