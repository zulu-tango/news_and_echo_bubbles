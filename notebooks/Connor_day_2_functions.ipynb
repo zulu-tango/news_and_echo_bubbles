{
 "cells": [
  {
   "cell_type": "markdown",
   "id": "96991835-6930-47c1-8654-5680d2b36098",
   "metadata": {},
   "source": [
    "## Creating functions"
   ]
  },
  {
   "cell_type": "markdown",
   "id": "3874168b-74aa-408a-a49f-4a5ab5dff296",
   "metadata": {},
   "source": [
    "### (0) import necessary modules / packages"
   ]
  },
  {
   "cell_type": "code",
   "execution_count": 24,
   "id": "f350916b-ad5e-4df7-8d22-f8b69fda95e9",
   "metadata": {},
   "outputs": [
    {
     "name": "stdout",
     "output_type": "stream",
     "text": [
      "Requirement already satisfied: tensorflow in /home/connor/.pyenv/versions/3.10.6/envs/news_and_echo_bubbles/lib/python3.10/site-packages (2.15.0)\n",
      "Requirement already satisfied: transformers in /home/connor/.pyenv/versions/3.10.6/envs/news_and_echo_bubbles/lib/python3.10/site-packages (4.35.2)\n",
      "Requirement already satisfied: absl-py>=1.0.0 in /home/connor/.pyenv/versions/3.10.6/envs/news_and_echo_bubbles/lib/python3.10/site-packages (from tensorflow) (2.0.0)\n",
      "Requirement already satisfied: astunparse>=1.6.0 in /home/connor/.pyenv/versions/3.10.6/envs/news_and_echo_bubbles/lib/python3.10/site-packages (from tensorflow) (1.6.3)\n",
      "Requirement already satisfied: flatbuffers>=23.5.26 in /home/connor/.pyenv/versions/3.10.6/envs/news_and_echo_bubbles/lib/python3.10/site-packages (from tensorflow) (23.5.26)\n",
      "Requirement already satisfied: gast!=0.5.0,!=0.5.1,!=0.5.2,>=0.2.1 in /home/connor/.pyenv/versions/3.10.6/envs/news_and_echo_bubbles/lib/python3.10/site-packages (from tensorflow) (0.5.4)\n",
      "Requirement already satisfied: google-pasta>=0.1.1 in /home/connor/.pyenv/versions/3.10.6/envs/news_and_echo_bubbles/lib/python3.10/site-packages (from tensorflow) (0.2.0)\n",
      "Requirement already satisfied: h5py>=2.9.0 in /home/connor/.pyenv/versions/3.10.6/envs/news_and_echo_bubbles/lib/python3.10/site-packages (from tensorflow) (3.10.0)\n",
      "Requirement already satisfied: libclang>=13.0.0 in /home/connor/.pyenv/versions/3.10.6/envs/news_and_echo_bubbles/lib/python3.10/site-packages (from tensorflow) (16.0.6)\n",
      "Requirement already satisfied: ml-dtypes~=0.2.0 in /home/connor/.pyenv/versions/3.10.6/envs/news_and_echo_bubbles/lib/python3.10/site-packages (from tensorflow) (0.2.0)\n",
      "Requirement already satisfied: numpy<2.0.0,>=1.23.5 in /home/connor/.pyenv/versions/3.10.6/envs/news_and_echo_bubbles/lib/python3.10/site-packages (from tensorflow) (1.26.2)\n",
      "Requirement already satisfied: opt-einsum>=2.3.2 in /home/connor/.pyenv/versions/3.10.6/envs/news_and_echo_bubbles/lib/python3.10/site-packages (from tensorflow) (3.3.0)\n",
      "Requirement already satisfied: packaging in /home/connor/.pyenv/versions/3.10.6/envs/news_and_echo_bubbles/lib/python3.10/site-packages (from tensorflow) (23.2)\n",
      "Requirement already satisfied: protobuf!=4.21.0,!=4.21.1,!=4.21.2,!=4.21.3,!=4.21.4,!=4.21.5,<5.0.0dev,>=3.20.3 in /home/connor/.pyenv/versions/3.10.6/envs/news_and_echo_bubbles/lib/python3.10/site-packages (from tensorflow) (4.23.4)\n",
      "Requirement already satisfied: setuptools in /home/connor/.pyenv/versions/3.10.6/envs/news_and_echo_bubbles/lib/python3.10/site-packages (from tensorflow) (63.2.0)\n",
      "Requirement already satisfied: six>=1.12.0 in /home/connor/.pyenv/versions/3.10.6/envs/news_and_echo_bubbles/lib/python3.10/site-packages (from tensorflow) (1.16.0)\n",
      "Requirement already satisfied: termcolor>=1.1.0 in /home/connor/.pyenv/versions/3.10.6/envs/news_and_echo_bubbles/lib/python3.10/site-packages (from tensorflow) (2.3.0)\n",
      "Requirement already satisfied: typing-extensions>=3.6.6 in /home/connor/.pyenv/versions/3.10.6/envs/news_and_echo_bubbles/lib/python3.10/site-packages (from tensorflow) (4.8.0)\n",
      "Requirement already satisfied: wrapt<1.15,>=1.11.0 in /home/connor/.pyenv/versions/3.10.6/envs/news_and_echo_bubbles/lib/python3.10/site-packages (from tensorflow) (1.14.1)\n",
      "Requirement already satisfied: tensorflow-io-gcs-filesystem>=0.23.1 in /home/connor/.pyenv/versions/3.10.6/envs/news_and_echo_bubbles/lib/python3.10/site-packages (from tensorflow) (0.34.0)\n",
      "Requirement already satisfied: grpcio<2.0,>=1.24.3 in /home/connor/.pyenv/versions/3.10.6/envs/news_and_echo_bubbles/lib/python3.10/site-packages (from tensorflow) (1.59.3)\n",
      "Requirement already satisfied: tensorboard<2.16,>=2.15 in /home/connor/.pyenv/versions/3.10.6/envs/news_and_echo_bubbles/lib/python3.10/site-packages (from tensorflow) (2.15.1)\n",
      "Requirement already satisfied: tensorflow-estimator<2.16,>=2.15.0 in /home/connor/.pyenv/versions/3.10.6/envs/news_and_echo_bubbles/lib/python3.10/site-packages (from tensorflow) (2.15.0)\n",
      "Requirement already satisfied: keras<2.16,>=2.15.0 in /home/connor/.pyenv/versions/3.10.6/envs/news_and_echo_bubbles/lib/python3.10/site-packages (from tensorflow) (2.15.0)\n",
      "Requirement already satisfied: filelock in /home/connor/.pyenv/versions/3.10.6/envs/news_and_echo_bubbles/lib/python3.10/site-packages (from transformers) (3.13.1)\n",
      "Requirement already satisfied: huggingface-hub<1.0,>=0.16.4 in /home/connor/.pyenv/versions/3.10.6/envs/news_and_echo_bubbles/lib/python3.10/site-packages (from transformers) (0.19.4)\n",
      "Requirement already satisfied: pyyaml>=5.1 in /home/connor/.pyenv/versions/3.10.6/envs/news_and_echo_bubbles/lib/python3.10/site-packages (from transformers) (6.0.1)\n",
      "Requirement already satisfied: regex!=2019.12.17 in /home/connor/.pyenv/versions/3.10.6/envs/news_and_echo_bubbles/lib/python3.10/site-packages (from transformers) (2023.10.3)\n",
      "Requirement already satisfied: requests in /home/connor/.pyenv/versions/3.10.6/envs/news_and_echo_bubbles/lib/python3.10/site-packages (from transformers) (2.31.0)\n",
      "Requirement already satisfied: tokenizers<0.19,>=0.14 in /home/connor/.pyenv/versions/3.10.6/envs/news_and_echo_bubbles/lib/python3.10/site-packages (from transformers) (0.15.0)\n",
      "Requirement already satisfied: safetensors>=0.3.1 in /home/connor/.pyenv/versions/3.10.6/envs/news_and_echo_bubbles/lib/python3.10/site-packages (from transformers) (0.4.1)\n",
      "Requirement already satisfied: tqdm>=4.27 in /home/connor/.pyenv/versions/3.10.6/envs/news_and_echo_bubbles/lib/python3.10/site-packages (from transformers) (4.66.1)\n",
      "Requirement already satisfied: wheel<1.0,>=0.23.0 in /home/connor/.pyenv/versions/3.10.6/envs/news_and_echo_bubbles/lib/python3.10/site-packages (from astunparse>=1.6.0->tensorflow) (0.42.0)\n",
      "Requirement already satisfied: fsspec>=2023.5.0 in /home/connor/.pyenv/versions/3.10.6/envs/news_and_echo_bubbles/lib/python3.10/site-packages (from huggingface-hub<1.0,>=0.16.4->transformers) (2023.10.0)\n",
      "Requirement already satisfied: google-auth<3,>=1.6.3 in /home/connor/.pyenv/versions/3.10.6/envs/news_and_echo_bubbles/lib/python3.10/site-packages (from tensorboard<2.16,>=2.15->tensorflow) (2.23.4)\n",
      "Requirement already satisfied: google-auth-oauthlib<2,>=0.5 in /home/connor/.pyenv/versions/3.10.6/envs/news_and_echo_bubbles/lib/python3.10/site-packages (from tensorboard<2.16,>=2.15->tensorflow) (1.1.0)\n",
      "Requirement already satisfied: markdown>=2.6.8 in /home/connor/.pyenv/versions/3.10.6/envs/news_and_echo_bubbles/lib/python3.10/site-packages (from tensorboard<2.16,>=2.15->tensorflow) (3.5.1)\n",
      "Requirement already satisfied: tensorboard-data-server<0.8.0,>=0.7.0 in /home/connor/.pyenv/versions/3.10.6/envs/news_and_echo_bubbles/lib/python3.10/site-packages (from tensorboard<2.16,>=2.15->tensorflow) (0.7.2)\n",
      "Requirement already satisfied: werkzeug>=1.0.1 in /home/connor/.pyenv/versions/3.10.6/envs/news_and_echo_bubbles/lib/python3.10/site-packages (from tensorboard<2.16,>=2.15->tensorflow) (3.0.1)\n",
      "Requirement already satisfied: charset-normalizer<4,>=2 in /home/connor/.pyenv/versions/3.10.6/envs/news_and_echo_bubbles/lib/python3.10/site-packages (from requests->transformers) (3.3.2)\n",
      "Requirement already satisfied: idna<4,>=2.5 in /home/connor/.pyenv/versions/3.10.6/envs/news_and_echo_bubbles/lib/python3.10/site-packages (from requests->transformers) (3.6)\n",
      "Requirement already satisfied: urllib3<3,>=1.21.1 in /home/connor/.pyenv/versions/3.10.6/envs/news_and_echo_bubbles/lib/python3.10/site-packages (from requests->transformers) (2.1.0)\n",
      "Requirement already satisfied: certifi>=2017.4.17 in /home/connor/.pyenv/versions/3.10.6/envs/news_and_echo_bubbles/lib/python3.10/site-packages (from requests->transformers) (2023.11.17)\n",
      "Requirement already satisfied: cachetools<6.0,>=2.0.0 in /home/connor/.pyenv/versions/3.10.6/envs/news_and_echo_bubbles/lib/python3.10/site-packages (from google-auth<3,>=1.6.3->tensorboard<2.16,>=2.15->tensorflow) (5.3.2)\n",
      "Requirement already satisfied: pyasn1-modules>=0.2.1 in /home/connor/.pyenv/versions/3.10.6/envs/news_and_echo_bubbles/lib/python3.10/site-packages (from google-auth<3,>=1.6.3->tensorboard<2.16,>=2.15->tensorflow) (0.3.0)\n",
      "Requirement already satisfied: rsa<5,>=3.1.4 in /home/connor/.pyenv/versions/3.10.6/envs/news_and_echo_bubbles/lib/python3.10/site-packages (from google-auth<3,>=1.6.3->tensorboard<2.16,>=2.15->tensorflow) (4.9)\n",
      "Requirement already satisfied: requests-oauthlib>=0.7.0 in /home/connor/.pyenv/versions/3.10.6/envs/news_and_echo_bubbles/lib/python3.10/site-packages (from google-auth-oauthlib<2,>=0.5->tensorboard<2.16,>=2.15->tensorflow) (1.3.1)\n",
      "Requirement already satisfied: MarkupSafe>=2.1.1 in /home/connor/.pyenv/versions/3.10.6/envs/news_and_echo_bubbles/lib/python3.10/site-packages (from werkzeug>=1.0.1->tensorboard<2.16,>=2.15->tensorflow) (2.1.3)\n",
      "Requirement already satisfied: pyasn1<0.6.0,>=0.4.6 in /home/connor/.pyenv/versions/3.10.6/envs/news_and_echo_bubbles/lib/python3.10/site-packages (from pyasn1-modules>=0.2.1->google-auth<3,>=1.6.3->tensorboard<2.16,>=2.15->tensorflow) (0.5.1)\n",
      "Requirement already satisfied: oauthlib>=3.0.0 in /home/connor/.pyenv/versions/3.10.6/envs/news_and_echo_bubbles/lib/python3.10/site-packages (from requests-oauthlib>=0.7.0->google-auth-oauthlib<2,>=0.5->tensorboard<2.16,>=2.15->tensorflow) (3.2.2)\n"
     ]
    }
   ],
   "source": [
    "!pip install tensorflow transformers"
   ]
  },
  {
   "cell_type": "code",
   "execution_count": 25,
   "id": "d2efa5a0-6e76-4c1d-8e52-b063eb85e1b8",
   "metadata": {},
   "outputs": [],
   "source": [
    "import pandas as pd\n",
    "import tensorflow as tf\n",
    "from tensorflow.keras import activations, optimizers, losses\n",
    "from transformers import DistilBertTokenizer, TFDistilBertForSequenceClassification"
   ]
  },
  {
   "cell_type": "code",
   "execution_count": 26,
   "id": "04fa02a2-c650-4eb4-8170-ec902681706c",
   "metadata": {},
   "outputs": [],
   "source": [
    "BATCH_SIZE = 2\n",
    "LEARNING_RATE = 3e-5\n",
    "TOKEN_MAX_LEN = 50\n",
    "TEST_SPLIT = 0.2"
   ]
  },
  {
   "cell_type": "code",
   "execution_count": 27,
   "id": "d7983216-0f89-4049-9574-63a075789fdc",
   "metadata": {},
   "outputs": [],
   "source": [
    "def get_X_and_y(df):\n",
    "    X = df[\"pre_process_text\"].tolist()\n",
    "    y = df[\"classifier\"].tolist()\n",
    "    return X, y\n",
    "\n",
    "### change \"pre_process_text\" to \"preprocessed_text\" or similar (in underlying pre-processed dataset)\n",
    "### change \"classifier\" to \"ideology\" or similar (in underlying pre-processed dataset)\n",
    "### these need to be converted to lists for use in later functions"
   ]
  },
  {
   "cell_type": "markdown",
   "id": "019a0784-440b-4500-99f7-5f73b42de30d",
   "metadata": {},
   "source": [
    "### (1)\ttext_tokenizer\r\n",
    "Tokenizes our pre-processed tex\r\n"
   ]
  },
  {
   "cell_type": "code",
   "execution_count": 28,
   "id": "7e1699dc-9671-4885-beee-c91b1285e6a9",
   "metadata": {},
   "outputs": [],
   "source": [
    "# defining the tokenizer here so that it can be changed later\n",
    "tokenizer = DistilBertTokenizer.from_pretrained(\"distilbert-base-uncased\")"
   ]
  },
  {
   "cell_type": "code",
   "execution_count": 29,
   "id": "99426268-4ab3-446b-9c03-8929c7d8bbc7",
   "metadata": {},
   "outputs": [],
   "source": [
    "def text_tokenizer(X,\n",
    "                   tokenizer,\n",
    "                   max_len = TOKEN_MAX_LEN,\n",
    "                   truncation = True,\n",
    "                   padding = \"max_length\"):\n",
    "    \"\"\"\n",
    "    Returns a dictionary of tokenized text with 2 keys: \"input_ids\" and \"attention_mask\".\n",
    "    These 2 keys are required for the input to the DistilBert model.\n",
    "    \"\"\"\n",
    "    \n",
    "    tokens = tokenizer(X, max_length = max_len, truncation = truncation, padding = padding)\n",
    "    \n",
    "    return tokens"
   ]
  },
  {
   "cell_type": "markdown",
   "id": "b727d3f6-e299-4417-8e89-c2d197fa480c",
   "metadata": {},
   "source": [
    "### (2)\ttf_dataset_constructor\n",
    "Takes the tokenized output from (1) and converts into TensorFlow objects for use in the DistilBert model\n"
   ]
  },
  {
   "cell_type": "code",
   "execution_count": 30,
   "id": "83ea7047-e9a0-4519-a972-e9f46ba39464",
   "metadata": {},
   "outputs": [],
   "source": [
    "def tf_dataset_constructor(tokens,\n",
    "                           y = None):\n",
    "    \"\"\"\n",
    "    Using the tokenized input from the text_tokenizer function, returns TensorFlow objects for use in the DistilBert model.\n",
    "    This was copied from an online tutorial on how to use the DistilBert model, so I don't fully understand it.\n",
    "    \"\"\"\n",
    "    \n",
    "    if y:\n",
    "        tfdataset = tf.data.Dataset.from_tensor_slices((dict(tokens),y))\n",
    "        \n",
    "        return tfdataset\n",
    "        \n",
    "    else:\n",
    "        # this case is used when making predictions on unseen samples after training\n",
    "        tfdataset = tf.data.Dataset.from_tensor_slices(dict(tokens))\n",
    "        \n",
    "        return tfdataset\n",
    "    "
   ]
  },
  {
   "cell_type": "markdown",
   "id": "536b383b-9c38-4c73-b875-f93937e8e966",
   "metadata": {},
   "source": [
    "### (3) train_test_split\n",
    "Splits our data into train and test sets for modelling purposes"
   ]
  },
  {
   "cell_type": "code",
   "execution_count": 31,
   "id": "911fbf7c-02e1-4d76-9c6a-5e733f3afdad",
   "metadata": {},
   "outputs": [],
   "source": [
    "def train_test_split(X,\n",
    "                     tfdataset,\n",
    "                     test_split = TEST_SPLIT,\n",
    "                     batch_size = BATCH_SIZE):\n",
    "    \"\"\"\n",
    "    This function splits the TensorFlow object created in the tf_dataset_constructor function into train and test sets.\n",
    "    \"\"\"\n",
    "    \n",
    "    train_size = int(len(X) * (1-test_split))\n",
    "    \n",
    "    # tfdataset = tfdataset.shuffle(len(X))\n",
    "    tfdataset_train = tfdataset.take(train_size)\n",
    "    tfdataset_test = tfdataset.skip(train_size)\n",
    "    \n",
    "    tfdataset_train = tfdataset_train.batch(batch_size)\n",
    "    tfdataset_test = tfdataset_test.batch(batch_size)\n",
    "\n",
    "    return tfdataset_train, tfdataset_test\n",
    "\n",
    "###### WE ALSO NEED TO MAKE SURE THAT WE HAVE THE INDICES OF THE ITEMS IN THE TRAIN AND TEST DATASETS SO WE CAN MERGE THEIR PREDICTED PROBABILITIES\n",
    "###### BACK INTO THE PRE-PROCESSED DATASET LATER!!!!"
   ]
  },
  {
   "cell_type": "markdown",
   "id": "11a5fa61-9f53-4b59-8ca1-51e5db96623a",
   "metadata": {},
   "source": [
    "### (4)\tideology_model\n",
    "This is the DistilBert model which we run on tfdataset_train to identify whether texts are left wing or right wing"
   ]
  },
  {
   "cell_type": "code",
   "execution_count": 32,
   "id": "694a646b-4d52-4e85-8d2a-a25161f6bff4",
   "metadata": {},
   "outputs": [],
   "source": [
    "def ideology_model(tfdataset_train,\n",
    "                   model_name = \"distilbert-base-uncased\",\n",
    "                   learning_rate = LEARNING_RATE,\n",
    "                   batch_size = BATCH_SIZE,\n",
    "                   epochs = 2):\n",
    "    \"\"\"\n",
    "    Set up an run a DistilBert model on our TensorFlow training dataset.\n",
    "    \"\"\"\n",
    "    \n",
    "    # set up model\n",
    "    model = TFDistilBertForSequenceClassification.from_pretrained(model_name)\n",
    "    \n",
    "    # define loss function\n",
    "    loss = losses.SparseCategoricalCrossentropy(from_logits=True)\n",
    "\n",
    "    # define optimizer to be used to minimise loss\n",
    "    optimizer = optimizers.Adam(learning_rate)\n",
    "    \n",
    "    # compile model\n",
    "    model.compile(optimizer = optimizer,\n",
    "                  loss = loss,\n",
    "                  metrics = \"accuracy\")\n",
    "    \n",
    "    # fit model\n",
    "    model.fit(tfdataset_train, batch_size = batch_size, epochs = epochs)\n",
    "\n",
    "    return model\n",
    "\n",
    "## see if can add callbacks (patience) and validation splits etc.\n"
   ]
  },
  {
   "cell_type": "markdown",
   "id": "90b63ee0-d3cd-4c76-a09f-0eac059013ba",
   "metadata": {},
   "source": [
    "### (5)\tideology_model_evaluator\n",
    "Using the model output from the ideology_model function and evaluate it on the tfdataset_test to see how well the model predicts unseen texts as left wing or right wing\n"
   ]
  },
  {
   "cell_type": "code",
   "execution_count": 33,
   "id": "2002400b-6162-4ead-9ba7-763491e62f76",
   "metadata": {},
   "outputs": [],
   "source": [
    "def ideology_model_evaluator(model,\n",
    "                             tfdataset_test,\n",
    "                             batch_size = BATCH_SIZE):\n",
    "    \"\"\"\n",
    "    Evaluate our model on the TensorFlow test dataset\n",
    "    \"\"\"\n",
    "    \n",
    "    benchmarks = model.evaluate(tfdataset_test, batch_size = batch_size, return_dict = True)\n",
    "    accuracy = benchmarks[\"accuracy\"]\n",
    "    \n",
    "    return accuracy\n",
    "    "
   ]
  },
  {
   "cell_type": "markdown",
   "id": "f5f1d498-721d-4a25-99cd-d578d13130a0",
   "metadata": {},
   "source": [
    "### (6)\tideology_model_predictor\n",
    "Using the model output from the ideology_model function, output the probabilities of each individual article being left or right wing (0 = left wing, 1 = right wing)"
   ]
  },
  {
   "cell_type": "code",
   "execution_count": 34,
   "id": "957f812c-b280-47e4-a904-1d412fc85e0d",
   "metadata": {},
   "outputs": [],
   "source": [
    "### currently the predictor does not work on the whole dataset, only when we input\n",
    "# the train and test datasets individually :(\n",
    "\n",
    "def ideology_model_predictor(model,\n",
    "                             tfdataset_train,\n",
    "                             tfdataset_test):\n",
    "    \"\"\"\n",
    "    This function uses the model output from the ideology_model function to output the probabilities of each\n",
    "    individual article being left or right wing (0 = left wing, 1 = right wing). As the model spits out log odds\n",
    "    rather than probabilities, these also need to be converted in this function into probabilities\n",
    "    \"\"\"\n",
    "    \n",
    "    train_logits = model.predict(tfdataset_train)[0]\n",
    "    train_probas = tf.nn.softmax(train_logits).numpy()\n",
    "\n",
    "    test_logits = model.predict(tfdataset_test)[0]\n",
    "    test_probas = tf.nn.softmax(test_logits).numpy()\n",
    "\n",
    "    return train_probas, test_probas\n",
    "\n",
    "#### need to find out a way to link these probabilities back to the individual articles they are relating to\n"
   ]
  },
  {
   "cell_type": "code",
   "execution_count": null,
   "id": "0e471a6f-da12-47fb-9543-8e44838b01e6",
   "metadata": {},
   "outputs": [],
   "source": []
  },
  {
   "cell_type": "code",
   "execution_count": null,
   "id": "bcda45a0-a81b-4e27-9f89-0a12c1542a7f",
   "metadata": {},
   "outputs": [],
   "source": []
  }
 ],
 "metadata": {
  "kernelspec": {
   "display_name": "Python 3 (ipykernel)",
   "language": "python",
   "name": "python3"
  },
  "language_info": {
   "codemirror_mode": {
    "name": "ipython",
    "version": 3
   },
   "file_extension": ".py",
   "mimetype": "text/x-python",
   "name": "python",
   "nbconvert_exporter": "python",
   "pygments_lexer": "ipython3",
   "version": "3.10.6"
  }
 },
 "nbformat": 4,
 "nbformat_minor": 5
}
