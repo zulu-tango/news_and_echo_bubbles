{
 "cells": [
  {
   "cell_type": "code",
   "execution_count": null,
   "id": "ce5acebd-4f05-47d2-97d4-47f62cb687ee",
   "metadata": {},
   "outputs": [],
   "source": [
    "#!pip install textblob"
   ]
  },
  {
   "cell_type": "code",
   "execution_count": null,
   "id": "93a92e6b-6916-417e-97ad-8a16273f2fc4",
   "metadata": {},
   "outputs": [],
   "source": [
    "# nltk.download('vader_lexicon')\n",
    "# nltk.download('punkt')"
   ]
  },
  {
   "cell_type": "code",
   "execution_count": 1,
   "id": "c537acde-8f4e-46d0-b019-989515fd6406",
   "metadata": {},
   "outputs": [],
   "source": [
    "#!pip install newspaper3k\n",
    "from newspaper import Article\n",
    "import newspaper\n",
    "from textblob import TextBlob\n",
    "import nltk\n",
    "\n",
    "from textblob import TextBlob\n",
    "from nltk.sentiment import SentimentIntensityAnalyzer\n",
    "sia = SentimentIntensityAnalyzer()\n"
   ]
  },
  {
   "cell_type": "code",
   "execution_count": 2,
   "id": "5e0c1f2a-6940-449b-83f0-f3b68bd7abc3",
   "metadata": {},
   "outputs": [],
   "source": [
    "import pandas as pd"
   ]
  },
  {
   "cell_type": "code",
   "execution_count": 3,
   "id": "5bcf9e48-d379-4a85-8f4c-6cca6bfe28b1",
   "metadata": {},
   "outputs": [],
   "source": [
    "link_lst_1 = ['https://www.propublica.org/',\n",
    " 'https://www.time.com/',\n",
    " 'https://www.washingtonpost.com/',\n",
    " 'https://www.usatoday.com/']"
   ]
  },
  {
   "cell_type": "code",
   "execution_count": 4,
   "id": "976b4f50-695f-4006-ac0d-0bd1a7189d7a",
   "metadata": {},
   "outputs": [],
   "source": [
    "link_lst_2 = ['https://www.yahoo.com/',\n",
    " 'https://www.csmonitor.com/',\n",
    " 'https://www.newsweek.com/',\n",
    " 'https://www.reuters.com/']"
   ]
  },
  {
   "cell_type": "code",
   "execution_count": 5,
   "id": "1f177430-4d1e-4eec-9283-f08ed2c17899",
   "metadata": {},
   "outputs": [],
   "source": [
    "link_lst_3 = ['https://www.realclearpolitics.com/',\n",
    " 'https://www.thehill.com/',\n",
    " 'https://www.wsj.com/',\n",
    " 'https://www.theepochtimes.com/']"
   ]
  },
  {
   "cell_type": "code",
   "execution_count": 21,
   "id": "f41e46a8-21eb-42b3-aa0a-b9a597cb567d",
   "metadata": {},
   "outputs": [],
   "source": [
    "def news_scraper(link_):\n",
    "\n",
    "    link=[]\n",
    "    title=[]\n",
    "    text=[]\n",
    "    author=[]\n",
    "    pdate=[]\n",
    "    keywords=[]\n",
    "    tags=[]\n",
    "    compound=[]\n",
    "    neg=[]\n",
    "    neu=[]\n",
    "    pos=[]\n",
    "    polarity=[]\n",
    "    subjectivity=[]\n",
    "\n",
    "    for x in link_:\n",
    "        cnn_pape = newspaper.build(x,language='en',memorize='false')\n",
    "        print(\"links from\",x,\"=\",len(cnn_pape.articles))\n",
    "        for article in cnn_pape.articles:\n",
    "            try:\n",
    "                link.append(article.url)\n",
    "                article.download()\n",
    "                article.parse()\n",
    "                article.nlp()\n",
    "                v=sia.polarity_scores(article.text)\n",
    "                compound.append(v[\"compound\"])\n",
    "                neg.append(v[\"neg\"])\n",
    "                neu.append(v[\"neu\"])\n",
    "                pos.append(v[\"pos\"])\n",
    "                testimonial = TextBlob(article.text)\n",
    "                polarity.append(testimonial.sentiment.polarity)\n",
    "                subjectivity.append(testimonial.sentiment.subjectivity)\n",
    "                title.append(article.title)\n",
    "                text.append(article.text)\n",
    "                author.append(article.authors)\n",
    "                pdate.append(article.publish_date)\n",
    "                keywords.append(article.keywords)\n",
    "                tags.append(article.tags)\n",
    "            except:\n",
    "                print('Link Failed - ', article.url)\n",
    "                continue\n",
    "        print(\"Total Links - \" , len(link))\n",
    "        print(\"**Finished Parsing**\")\n",
    "        \n",
    "    tt=list(zip(link,pdate,title,author,text,keywords,tags,compound,neg,neu,pos,polarity,subjectivity))\n",
    "    d1=pd.DataFrame(tt,columns=['link','pdate','title','author','text','keywords','tags','compound','neg','neu','pos','polarity','subjectivity'])\n",
    "    \n",
    "    return d1"
   ]
  },
  {
   "cell_type": "code",
   "execution_count": 7,
   "id": "38dce9e5-8318-4cd7-8c81-b405ec7967c0",
   "metadata": {
    "scrolled": true
   },
   "outputs": [
    {
     "name": "stdout",
     "output_type": "stream",
     "text": [
      "links from https://www.propublica.org/ = 0\n",
      "Total Links -  0\n",
      "**Finished Parsing**\n",
      "links from https://www.time.com/ = 12\n",
      "Total Links -  12\n",
      "**Finished Parsing**\n",
      "links from https://www.washingtonpost.com/ = 43\n",
      "Total Links -  55\n",
      "**Finished Parsing**\n",
      "links from https://www.usatoday.com/ = 69\n",
      "Link Failed -  http://cm.usatoday.com/story/news/world/israel-hamas/2023/12/02/israel-hamas-war-updates-gaza-bombardment/71780454007/\n",
      "Link Failed -  http://cm.usatoday.com/story/sports/ncaaf/2023/12/03/college-football-playoff-predictions-michigan-washington-texas-alabama-florida-state/71789329007/\n",
      "Link Failed -  http://cm.usatoday.com/story/news/world/israel-hamas/2023/12/02/kamala-harris-rebuke-israel-gaza-killings/71783397007/\n",
      "Link Failed -  http://cm.usatoday.com/story/entertainment/music/2023/12/02/jingle-ball-2023-olivia-rodrigo-sabrina-carpenter-niall-horan/71775164007/\n",
      "Link Failed -  http://cm.usatoday.com/story/sports/college/columnist/dan-wolken/2023/12/03/college-football-playoff-committee-alabama-easy-call/71789457007/\n",
      "Link Failed -  http://cm.usatoday.com/story/tech/news/2023/12/02/switchblade-flying-car-completes-first-flight-cost-what-to-know/71735534007/\n",
      "Link Failed -  http://cm.usatoday.com/story/news/nation/2023/12/02/atmospheric-river-forecast-for-seattle-portland-pacific-northwest/71780411007/\n",
      "Link Failed -  http://cm.usatoday.com/story/sports/ncaaf/2023/12/02/college-football-week-14-winners-losers-alabama-texas-playoff/71783317007/\n",
      "Link Failed -  http://cm.usatoday.com/story/entertainment/celebrities/2023/12/01/dove-cameron-essentials-songwriting-alchemical/71744210007/\n",
      "Link Failed -  http://cm.usatoday.com/story/entertainment/music/2023/12/02/beyonce-renaissance-film-theater-debut-fans-dance-sing/71778255007/\n",
      "Link Failed -  http://cm.usatoday.com/story/opinion/voices/2023/03/31/supreme-court-justice-sandra-day-oconnor-leader-women-law/11565002002/\n",
      "Link Failed -  http://cm.usatoday.com/story/news/world/2023/12/02/earthquake-near-philippines-island-of-mindanao-tsunami-warning-issued/71780957007/\n",
      "Link Failed -  http://cm.usatoday.com/picture-gallery/entertainment/music/2023/12/02/celebrity-photos-december-2023/71783292007/\n",
      "Link Failed -  http://cm.usatoday.com/story/sports/soccer/2023/12/02/uswnt-vs-china-friendly-saturday-how-to-watch-live-updates/71781569007/\n",
      "Link Failed -  https://www.usatoday.com/story/sports/ncaab/2023/12/02/wisconsin-marquette-impressive-victory-big-ten/71783150007/\n",
      "Link Failed -  https://cm.usatoday.com/story/news/world/israel-hamas/2023/12/02/israel-hamas-war-updates-gaza-bombardment/71780454007/\n",
      "Link Failed -  https://cm.usatoday.com/story/sports/ncaaf/2023/12/03/college-football-playoff-predictions-michigan-washington-texas-alabama-florida-state/71789329007/\n",
      "Link Failed -  https://cm.usatoday.com/story/news/world/israel-hamas/2023/12/02/kamala-harris-rebuke-israel-gaza-killings/71783397007/\n",
      "Link Failed -  https://cm.usatoday.com/story/entertainment/music/2023/12/02/jingle-ball-2023-olivia-rodrigo-sabrina-carpenter-niall-horan/71775164007/\n",
      "Link Failed -  https://cm.usatoday.com/story/sports/college/columnist/dan-wolken/2023/12/03/college-football-playoff-committee-alabama-easy-call/71789457007/\n",
      "Link Failed -  https://cm.usatoday.com/story/tech/news/2023/12/02/switchblade-flying-car-completes-first-flight-cost-what-to-know/71735534007/\n",
      "Link Failed -  https://cm.usatoday.com/story/news/nation/2023/12/02/atmospheric-river-forecast-for-seattle-portland-pacific-northwest/71780411007/\n",
      "Link Failed -  https://cm.usatoday.com/story/sports/ncaaf/2023/12/02/college-football-week-14-winners-losers-alabama-texas-playoff/71783317007/\n",
      "Link Failed -  https://cm.usatoday.com/story/entertainment/celebrities/2023/12/01/dove-cameron-essentials-songwriting-alchemical/71744210007/\n",
      "Link Failed -  https://cm.usatoday.com/story/entertainment/music/2023/12/02/beyonce-renaissance-film-theater-debut-fans-dance-sing/71778255007/\n",
      "Link Failed -  https://cm.usatoday.com/story/opinion/voices/2023/03/31/supreme-court-justice-sandra-day-oconnor-leader-women-law/11565002002/\n",
      "Link Failed -  https://cm.usatoday.com/story/news/world/2023/12/02/earthquake-near-philippines-island-of-mindanao-tsunami-warning-issued/71780957007/\n",
      "Link Failed -  https://cm.usatoday.com/picture-gallery/entertainment/music/2023/12/02/celebrity-photos-december-2023/71783292007/\n",
      "Link Failed -  https://cm.usatoday.com/story/sports/soccer/2023/12/02/uswnt-vs-china-friendly-saturday-how-to-watch-live-updates/71781569007/\n",
      "Total Links -  124\n",
      "**Finished Parsing**\n"
     ]
    }
   ],
   "source": [
    "new_data_1 = news_scraper(link_lst_1)"
   ]
  },
  {
   "cell_type": "code",
   "execution_count": 22,
   "id": "775bfee5-8ec6-42e0-b755-19a9e6f22ff1",
   "metadata": {
    "scrolled": true
   },
   "outputs": [
    {
     "name": "stdout",
     "output_type": "stream",
     "text": [
      "links from https://www.yahoo.com/ = 1\n",
      "Total Links -  1\n",
      "**Finished Parsing**\n"
     ]
    },
    {
     "ename": "KeyboardInterrupt",
     "evalue": "",
     "output_type": "error",
     "traceback": [
      "\u001b[0;31m---------------------------------------------------------------------------\u001b[0m",
      "\u001b[0;31mKeyboardInterrupt\u001b[0m                         Traceback (most recent call last)",
      "Cell \u001b[0;32mIn[22], line 1\u001b[0m\n\u001b[0;32m----> 1\u001b[0m new_data_2 \u001b[38;5;241m=\u001b[39m \u001b[43mnews_scraper\u001b[49m\u001b[43m(\u001b[49m\u001b[43mlink_lst_2\u001b[49m\u001b[43m)\u001b[49m\n",
      "Cell \u001b[0;32mIn[21], line 18\u001b[0m, in \u001b[0;36mnews_scraper\u001b[0;34m(link_)\u001b[0m\n\u001b[1;32m     15\u001b[0m subjectivity\u001b[38;5;241m=\u001b[39m[]\n\u001b[1;32m     17\u001b[0m \u001b[38;5;28;01mfor\u001b[39;00m x \u001b[38;5;129;01min\u001b[39;00m link_:\n\u001b[0;32m---> 18\u001b[0m     cnn_pape \u001b[38;5;241m=\u001b[39m \u001b[43mnewspaper\u001b[49m\u001b[38;5;241;43m.\u001b[39;49m\u001b[43mbuild\u001b[49m\u001b[43m(\u001b[49m\u001b[43mx\u001b[49m\u001b[43m,\u001b[49m\u001b[43mlanguage\u001b[49m\u001b[38;5;241;43m=\u001b[39;49m\u001b[38;5;124;43m'\u001b[39;49m\u001b[38;5;124;43men\u001b[39;49m\u001b[38;5;124;43m'\u001b[39;49m\u001b[43m,\u001b[49m\u001b[43mmemorize\u001b[49m\u001b[38;5;241;43m=\u001b[39;49m\u001b[38;5;124;43m'\u001b[39;49m\u001b[38;5;124;43mfalse\u001b[39;49m\u001b[38;5;124;43m'\u001b[39;49m\u001b[43m)\u001b[49m\n\u001b[1;32m     19\u001b[0m     \u001b[38;5;28mprint\u001b[39m(\u001b[38;5;124m\"\u001b[39m\u001b[38;5;124mlinks from\u001b[39m\u001b[38;5;124m\"\u001b[39m,x,\u001b[38;5;124m\"\u001b[39m\u001b[38;5;124m=\u001b[39m\u001b[38;5;124m\"\u001b[39m,\u001b[38;5;28mlen\u001b[39m(cnn_pape\u001b[38;5;241m.\u001b[39marticles))\n\u001b[1;32m     20\u001b[0m     \u001b[38;5;28;01mfor\u001b[39;00m article \u001b[38;5;129;01min\u001b[39;00m cnn_pape\u001b[38;5;241m.\u001b[39marticles:\n",
      "File \u001b[0;32m~/.pyenv/versions/lewagon/envs/news_and_echo_bubbles/lib/python3.10/site-packages/newspaper/api.py:30\u001b[0m, in \u001b[0;36mbuild\u001b[0;34m(url, dry, config, **kwargs)\u001b[0m\n\u001b[1;32m     28\u001b[0m s \u001b[38;5;241m=\u001b[39m Source(url, config\u001b[38;5;241m=\u001b[39mconfig)\n\u001b[1;32m     29\u001b[0m \u001b[38;5;28;01mif\u001b[39;00m \u001b[38;5;129;01mnot\u001b[39;00m dry:\n\u001b[0;32m---> 30\u001b[0m     \u001b[43ms\u001b[49m\u001b[38;5;241;43m.\u001b[39;49m\u001b[43mbuild\u001b[49m\u001b[43m(\u001b[49m\u001b[43m)\u001b[49m\n\u001b[1;32m     31\u001b[0m \u001b[38;5;28;01mreturn\u001b[39;00m s\n",
      "File \u001b[0;32m~/.pyenv/versions/lewagon/envs/news_and_echo_bubbles/lib/python3.10/site-packages/newspaper/source.py:95\u001b[0m, in \u001b[0;36mSource.build\u001b[0;34m(self)\u001b[0m\n\u001b[1;32m     92\u001b[0m \u001b[38;5;28mself\u001b[39m\u001b[38;5;241m.\u001b[39mparse()\n\u001b[1;32m     94\u001b[0m \u001b[38;5;28mself\u001b[39m\u001b[38;5;241m.\u001b[39mset_categories()\n\u001b[0;32m---> 95\u001b[0m \u001b[38;5;28;43mself\u001b[39;49m\u001b[38;5;241;43m.\u001b[39;49m\u001b[43mdownload_categories\u001b[49m\u001b[43m(\u001b[49m\u001b[43m)\u001b[49m  \u001b[38;5;66;03m# mthread\u001b[39;00m\n\u001b[1;32m     96\u001b[0m \u001b[38;5;28mself\u001b[39m\u001b[38;5;241m.\u001b[39mparse_categories()\n\u001b[1;32m     98\u001b[0m \u001b[38;5;28mself\u001b[39m\u001b[38;5;241m.\u001b[39mset_feeds()\n",
      "File \u001b[0;32m~/.pyenv/versions/lewagon/envs/news_and_echo_bubbles/lib/python3.10/site-packages/newspaper/source.py:186\u001b[0m, in \u001b[0;36mSource.download_categories\u001b[0;34m(self)\u001b[0m\n\u001b[1;32m    183\u001b[0m \u001b[38;5;250m\u001b[39m\u001b[38;5;124;03m\"\"\"Download all category html, can use mthreading\u001b[39;00m\n\u001b[1;32m    184\u001b[0m \u001b[38;5;124;03m\"\"\"\u001b[39;00m\n\u001b[1;32m    185\u001b[0m category_urls \u001b[38;5;241m=\u001b[39m [c\u001b[38;5;241m.\u001b[39murl \u001b[38;5;28;01mfor\u001b[39;00m c \u001b[38;5;129;01min\u001b[39;00m \u001b[38;5;28mself\u001b[39m\u001b[38;5;241m.\u001b[39mcategories]\n\u001b[0;32m--> 186\u001b[0m requests \u001b[38;5;241m=\u001b[39m \u001b[43mnetwork\u001b[49m\u001b[38;5;241;43m.\u001b[39;49m\u001b[43mmultithread_request\u001b[49m\u001b[43m(\u001b[49m\u001b[43mcategory_urls\u001b[49m\u001b[43m,\u001b[49m\u001b[43m \u001b[49m\u001b[38;5;28;43mself\u001b[39;49m\u001b[38;5;241;43m.\u001b[39;49m\u001b[43mconfig\u001b[49m\u001b[43m)\u001b[49m\n\u001b[1;32m    188\u001b[0m \u001b[38;5;28;01mfor\u001b[39;00m index, _ \u001b[38;5;129;01min\u001b[39;00m \u001b[38;5;28menumerate\u001b[39m(\u001b[38;5;28mself\u001b[39m\u001b[38;5;241m.\u001b[39mcategories):\n\u001b[1;32m    189\u001b[0m     req \u001b[38;5;241m=\u001b[39m requests[index]\n",
      "File \u001b[0;32m~/.pyenv/versions/lewagon/envs/news_and_echo_bubbles/lib/python3.10/site-packages/newspaper/network.py:130\u001b[0m, in \u001b[0;36mmultithread_request\u001b[0;34m(urls, config)\u001b[0m\n\u001b[1;32m    127\u001b[0m     m_requests\u001b[38;5;241m.\u001b[39mappend(MRequest(url, config))\n\u001b[1;32m    129\u001b[0m \u001b[38;5;28;01mfor\u001b[39;00m req \u001b[38;5;129;01min\u001b[39;00m m_requests:\n\u001b[0;32m--> 130\u001b[0m     \u001b[43mpool\u001b[49m\u001b[38;5;241;43m.\u001b[39;49m\u001b[43madd_task\u001b[49m\u001b[43m(\u001b[49m\u001b[43mreq\u001b[49m\u001b[38;5;241;43m.\u001b[39;49m\u001b[43msend\u001b[49m\u001b[43m)\u001b[49m\n\u001b[1;32m    132\u001b[0m pool\u001b[38;5;241m.\u001b[39mwait_completion()\n\u001b[1;32m    133\u001b[0m \u001b[38;5;28;01mreturn\u001b[39;00m m_requests\n",
      "File \u001b[0;32m~/.pyenv/versions/lewagon/envs/news_and_echo_bubbles/lib/python3.10/site-packages/newspaper/mthreading.py:60\u001b[0m, in \u001b[0;36mThreadPool.add_task\u001b[0;34m(self, func, *args, **kargs)\u001b[0m\n\u001b[1;32m     59\u001b[0m \u001b[38;5;28;01mdef\u001b[39;00m \u001b[38;5;21madd_task\u001b[39m(\u001b[38;5;28mself\u001b[39m, func, \u001b[38;5;241m*\u001b[39margs, \u001b[38;5;241m*\u001b[39m\u001b[38;5;241m*\u001b[39mkargs):\n\u001b[0;32m---> 60\u001b[0m     \u001b[38;5;28;43mself\u001b[39;49m\u001b[38;5;241;43m.\u001b[39;49m\u001b[43mtasks\u001b[49m\u001b[38;5;241;43m.\u001b[39;49m\u001b[43mput\u001b[49m\u001b[43m(\u001b[49m\u001b[43m(\u001b[49m\u001b[43mfunc\u001b[49m\u001b[43m,\u001b[49m\u001b[43m \u001b[49m\u001b[43margs\u001b[49m\u001b[43m,\u001b[49m\u001b[43m \u001b[49m\u001b[43mkargs\u001b[49m\u001b[43m)\u001b[49m\u001b[43m)\u001b[49m\n",
      "File \u001b[0;32m~/.pyenv/versions/3.10.6/lib/python3.10/queue.py:140\u001b[0m, in \u001b[0;36mQueue.put\u001b[0;34m(self, item, block, timeout)\u001b[0m\n\u001b[1;32m    138\u001b[0m \u001b[38;5;28;01melif\u001b[39;00m timeout \u001b[38;5;129;01mis\u001b[39;00m \u001b[38;5;28;01mNone\u001b[39;00m:\n\u001b[1;32m    139\u001b[0m     \u001b[38;5;28;01mwhile\u001b[39;00m \u001b[38;5;28mself\u001b[39m\u001b[38;5;241m.\u001b[39m_qsize() \u001b[38;5;241m>\u001b[39m\u001b[38;5;241m=\u001b[39m \u001b[38;5;28mself\u001b[39m\u001b[38;5;241m.\u001b[39mmaxsize:\n\u001b[0;32m--> 140\u001b[0m         \u001b[38;5;28;43mself\u001b[39;49m\u001b[38;5;241;43m.\u001b[39;49m\u001b[43mnot_full\u001b[49m\u001b[38;5;241;43m.\u001b[39;49m\u001b[43mwait\u001b[49m\u001b[43m(\u001b[49m\u001b[43m)\u001b[49m\n\u001b[1;32m    141\u001b[0m \u001b[38;5;28;01melif\u001b[39;00m timeout \u001b[38;5;241m<\u001b[39m \u001b[38;5;241m0\u001b[39m:\n\u001b[1;32m    142\u001b[0m     \u001b[38;5;28;01mraise\u001b[39;00m \u001b[38;5;167;01mValueError\u001b[39;00m(\u001b[38;5;124m\"\u001b[39m\u001b[38;5;124m'\u001b[39m\u001b[38;5;124mtimeout\u001b[39m\u001b[38;5;124m'\u001b[39m\u001b[38;5;124m must be a non-negative number\u001b[39m\u001b[38;5;124m\"\u001b[39m)\n",
      "File \u001b[0;32m~/.pyenv/versions/3.10.6/lib/python3.10/threading.py:320\u001b[0m, in \u001b[0;36mCondition.wait\u001b[0;34m(self, timeout)\u001b[0m\n\u001b[1;32m    318\u001b[0m \u001b[38;5;28;01mtry\u001b[39;00m:    \u001b[38;5;66;03m# restore state no matter what (e.g., KeyboardInterrupt)\u001b[39;00m\n\u001b[1;32m    319\u001b[0m     \u001b[38;5;28;01mif\u001b[39;00m timeout \u001b[38;5;129;01mis\u001b[39;00m \u001b[38;5;28;01mNone\u001b[39;00m:\n\u001b[0;32m--> 320\u001b[0m         \u001b[43mwaiter\u001b[49m\u001b[38;5;241;43m.\u001b[39;49m\u001b[43macquire\u001b[49m\u001b[43m(\u001b[49m\u001b[43m)\u001b[49m\n\u001b[1;32m    321\u001b[0m         gotit \u001b[38;5;241m=\u001b[39m \u001b[38;5;28;01mTrue\u001b[39;00m\n\u001b[1;32m    322\u001b[0m     \u001b[38;5;28;01melse\u001b[39;00m:\n",
      "\u001b[0;31mKeyboardInterrupt\u001b[0m: "
     ]
    }
   ],
   "source": [
    "new_data_2 = news_scraper(link_lst_2)"
   ]
  },
  {
   "cell_type": "code",
   "execution_count": 11,
   "id": "ba7ea98a-ed41-4610-9b50-9f03d2b8ae35",
   "metadata": {
    "scrolled": true
   },
   "outputs": [
    {
     "name": "stdout",
     "output_type": "stream",
     "text": [
      "links from https://www.realclearpolitics.com/ = 0\n",
      "Total Links -  0\n",
      "**Finished Parsing**\n",
      "links from https://www.thehill.com/ = 0\n",
      "Total Links -  0\n",
      "**Finished Parsing**\n",
      "links from https://www.wsj.com/ = 3\n",
      "Link Failed -  https://www.wsj.com/news/types/obituaries?mod=nav_top_subsection\n",
      "Link Failed -  https://www.wsj.com/business/the-storm-brewing-inside-elon-musks-mind-gets-out-b6104a94?mod=error_page\n",
      "Link Failed -  https://www.wsj.com/politics/elections/trumps-second-term-plans-anti-woke-university-freedom-cities-28f8123d?mod=error_page\n",
      "Total Links -  3\n",
      "**Finished Parsing**\n",
      "links from https://www.theepochtimes.com/ = 558\n",
      "Total Links -  561\n",
      "**Finished Parsing**\n"
     ]
    }
   ],
   "source": [
    "new_data_3 = news_scraper(link_lst_3)"
   ]
  },
  {
   "cell_type": "code",
   "execution_count": 8,
   "id": "b3c35872-b825-498e-b2c7-eea2141eac49",
   "metadata": {},
   "outputs": [],
   "source": [
    "new_data_1.to_csv(\"/home/zoetustain/code/zulu-tango/news_and_echo_bubbles/raw_data/scraped_data_zoe_1.csv\")"
   ]
  },
  {
   "cell_type": "code",
   "execution_count": 10,
   "id": "d0b4abd0-a5c1-41f0-bd45-041d87aad53f",
   "metadata": {},
   "outputs": [],
   "source": [
    "new_data_2.to_csv(\"/home/zoetustain/code/zulu-tango/news_and_echo_bubbles/raw_data/scraped_data_zoe_2.csv\")"
   ]
  },
  {
   "cell_type": "code",
   "execution_count": 12,
   "id": "be00c6e8-c16f-40a1-9751-a17ec9855908",
   "metadata": {},
   "outputs": [],
   "source": [
    "new_data_3.to_csv(\"/home/zoetustain/code/zulu-tango/news_and_echo_bubbles/raw_data/scraped_data_zoe_3.csv\")"
   ]
  },
  {
   "cell_type": "code",
   "execution_count": 23,
   "id": "5a119fa2-a16a-48a9-9dfb-fcf04020db44",
   "metadata": {},
   "outputs": [],
   "source": [
    "list_barney = ['https://.theatlantic.com/']#,\n",
    " # 'https://.thedailybeast.com/',\n",
    " # 'https://.huffpost.com/',\n",
    " # 'https://.msnbc.com/',\n",
    " # 'https://.nytimes.com/',\n",
    " # 'https://.slate.com/',\n",
    " # 'https://.vox.com/',\n",
    " # 'https://.abcnews.go.com/',\n",
    " # 'https://.apnews.com/',\n",
    " # 'https://.bloomberg.com/',\n",
    " # 'https://.cbsnews.com/',\n",
    " # 'https://.nytimes.com/']"
   ]
  },
  {
   "cell_type": "code",
   "execution_count": 24,
   "id": "579eab51-8993-4e44-8509-f3c7e02ecc22",
   "metadata": {},
   "outputs": [
    {
     "name": "stdout",
     "output_type": "stream",
     "text": [
      "links from https://.theatlantic.com/ = 0\n",
      "Total Links -  0\n",
      "**Finished Parsing**\n"
     ]
    }
   ],
   "source": [
    "new_data_4 = news_scraper(list_barney)"
   ]
  },
  {
   "cell_type": "code",
   "execution_count": 16,
   "id": "22ae3a30-d2b8-430f-a302-ed519bbde8b0",
   "metadata": {},
   "outputs": [],
   "source": [
    "list_gigi = ['https://.nationalreview.com/',\n",
    " 'https://.nypost.com/',\n",
    " 'https://.reason.com/',\n",
    " 'https://.washingtonexaminer.com/',\n",
    " 'https://.breitbart.com/',\n",
    " 'https://.dailycaller.com/',\n",
    " 'https://.dailywire.com/',\n",
    " 'https://.thepostmillennial.com/',\n",
    " 'https://.foxnews.com/',\n",
    " 'https://.thefederalist.com/',\n",
    " 'https://.freebeacon.com/']"
   ]
  },
  {
   "cell_type": "code",
   "execution_count": 17,
   "id": "55708af5-de59-4dfc-9bf9-de26338cfeeb",
   "metadata": {},
   "outputs": [
    {
     "name": "stdout",
     "output_type": "stream",
     "text": [
      "links from https://.nationalreview.com/ = 0\n",
      "Total Links -  0\n",
      "**Finished Parsing**\n",
      "links from https://.nypost.com/ = 0\n",
      "Total Links -  0\n",
      "**Finished Parsing**\n",
      "links from https://.reason.com/ = 0\n",
      "Total Links -  0\n",
      "**Finished Parsing**\n",
      "links from https://.washingtonexaminer.com/ = 0\n",
      "Total Links -  0\n",
      "**Finished Parsing**\n",
      "links from https://.breitbart.com/ = 0\n",
      "Total Links -  0\n",
      "**Finished Parsing**\n",
      "links from https://.dailycaller.com/ = 0\n",
      "Total Links -  0\n",
      "**Finished Parsing**\n",
      "links from https://.dailywire.com/ = 0\n",
      "Total Links -  0\n",
      "**Finished Parsing**\n",
      "links from https://.thepostmillennial.com/ = 0\n",
      "Total Links -  0\n",
      "**Finished Parsing**\n",
      "links from https://.foxnews.com/ = 0\n",
      "Total Links -  0\n",
      "**Finished Parsing**\n",
      "links from https://.thefederalist.com/ = 0\n",
      "Total Links -  0\n",
      "**Finished Parsing**\n",
      "links from https://.freebeacon.com/ = 0\n",
      "Total Links -  0\n",
      "**Finished Parsing**\n"
     ]
    }
   ],
   "source": [
    "new_data_5 = news_scraper(list_gigi)"
   ]
  },
  {
   "cell_type": "code",
   "execution_count": null,
   "id": "5551bb43-e1c8-4ce5-ba49-c5a6c3f5d6ff",
   "metadata": {},
   "outputs": [],
   "source": [
    "new_data_4.to_csv(\"/home/zoetustain/code/zulu-tango/news_and_echo_bubbles/raw_data/scraped_data_zoe_4.csv\")"
   ]
  },
  {
   "cell_type": "code",
   "execution_count": null,
   "id": "dc18934d-58a6-4f65-8158-b14508602aa1",
   "metadata": {},
   "outputs": [],
   "source": [
    "new_data_5.to_csv(\"/home/zoetustain/code/zulu-tango/news_and_echo_bubbles/raw_data/scraped_data_zoe_5.csv\")"
   ]
  },
  {
   "cell_type": "code",
   "execution_count": 25,
   "id": "48a7a886-2c30-4798-8474-e4cddca6d514",
   "metadata": {},
   "outputs": [
    {
     "name": "stderr",
     "output_type": "stream",
     "text": [
      "/tmp/ipykernel_766738/3130991437.py:1: FutureWarning: The behavior of DataFrame concatenation with empty or all-NA entries is deprecated. In a future version, this will no longer exclude empty or all-NA columns when determining the result dtypes. To retain the old behavior, exclude the relevant entries before the concat operation.\n",
      "  combined_df = pd.concat([new_data_1,new_data_2,new_data_3,new_data_4,new_data_5])\n"
     ]
    }
   ],
   "source": [
    "combined_df = pd.concat([new_data_1,new_data_2,new_data_3,new_data_4,new_data_5])\n"
   ]
  },
  {
   "cell_type": "code",
   "execution_count": 26,
   "id": "e5400434-6f0e-4f4a-8d30-fbab42dbee7d",
   "metadata": {},
   "outputs": [
    {
     "data": {
      "text/html": [
       "<div>\n",
       "<style scoped>\n",
       "    .dataframe tbody tr th:only-of-type {\n",
       "        vertical-align: middle;\n",
       "    }\n",
       "\n",
       "    .dataframe tbody tr th {\n",
       "        vertical-align: top;\n",
       "    }\n",
       "\n",
       "    .dataframe thead th {\n",
       "        text-align: right;\n",
       "    }\n",
       "</style>\n",
       "<table border=\"1\" class=\"dataframe\">\n",
       "  <thead>\n",
       "    <tr style=\"text-align: right;\">\n",
       "      <th></th>\n",
       "      <th>link</th>\n",
       "      <th>pdate</th>\n",
       "      <th>title</th>\n",
       "      <th>author</th>\n",
       "      <th>text</th>\n",
       "      <th>keywords</th>\n",
       "      <th>tags</th>\n",
       "      <th>compound</th>\n",
       "      <th>neg</th>\n",
       "      <th>neu</th>\n",
       "      <th>pos</th>\n",
       "      <th>polarity</th>\n",
       "      <th>subjectivity</th>\n",
       "    </tr>\n",
       "  </thead>\n",
       "  <tbody>\n",
       "    <tr>\n",
       "      <th>0</th>\n",
       "      <td>https://www.time.com/6342008/derek-chauvin-att...</td>\n",
       "      <td>NaN</td>\n",
       "      <td>Derek Chauvin Stabbing: Inmate Charged With At...</td>\n",
       "      <td>[]</td>\n",
       "      <td>Federal prosecutors accused a prison inmate of...</td>\n",
       "      <td>[prison, turscak, derek, chauvin, federal, ass...</td>\n",
       "      <td>{police}</td>\n",
       "      <td>-0.9973</td>\n",
       "      <td>0.211</td>\n",
       "      <td>0.691</td>\n",
       "      <td>0.098</td>\n",
       "      <td>-0.032921</td>\n",
       "      <td>0.433923</td>\n",
       "    </tr>\n",
       "    <tr>\n",
       "      <th>1</th>\n",
       "      <td>https://www.time.com/6342071/police-raid-mosco...</td>\n",
       "      <td>NaN</td>\n",
       "      <td>Police Raid Moscow Gay Bars After LGBTQ+ Court...</td>\n",
       "      <td>[]</td>\n",
       "      <td>Russian security forces raided gay clubs and b...</td>\n",
       "      <td>[ruling, court, moscow, human, bars, russia, r...</td>\n",
       "      <td>{russia}</td>\n",
       "      <td>0.7543</td>\n",
       "      <td>0.071</td>\n",
       "      <td>0.844</td>\n",
       "      <td>0.085</td>\n",
       "      <td>0.110550</td>\n",
       "      <td>0.276790</td>\n",
       "    </tr>\n",
       "    <tr>\n",
       "      <th>2</th>\n",
       "      <td>https://www.time.com/6342058/us-oil-natural-ga...</td>\n",
       "      <td>NaN</td>\n",
       "      <td>U.S. Targets Oil and Gas Industry's Role in Gl...</td>\n",
       "      <td>[]</td>\n",
       "      <td>WASHINGTON — The Biden administration on Satur...</td>\n",
       "      <td>[emissions, oil, president, methane, targets, ...</td>\n",
       "      <td>{climate change}</td>\n",
       "      <td>0.9979</td>\n",
       "      <td>0.043</td>\n",
       "      <td>0.831</td>\n",
       "      <td>0.125</td>\n",
       "      <td>0.097958</td>\n",
       "      <td>0.433816</td>\n",
       "    </tr>\n",
       "    <tr>\n",
       "      <th>3</th>\n",
       "      <td>https://www.time.com/6342031/israeli-offensive...</td>\n",
       "      <td>NaN</td>\n",
       "      <td>Israeli Offensive Shifts to Southern Gaza Afte...</td>\n",
       "      <td>[]</td>\n",
       "      <td>KHAN YOUNIS, Gaza Strip — Israel pounded targe...</td>\n",
       "      <td>[younis, offensive, gaza, israeli, military, s...</td>\n",
       "      <td>{Israel-Hamas War}</td>\n",
       "      <td>-0.9995</td>\n",
       "      <td>0.160</td>\n",
       "      <td>0.797</td>\n",
       "      <td>0.042</td>\n",
       "      <td>0.023554</td>\n",
       "      <td>0.324416</td>\n",
       "    </tr>\n",
       "    <tr>\n",
       "      <th>4</th>\n",
       "      <td>https://time.com/6342008/derek-chauvin-attempt...</td>\n",
       "      <td>NaN</td>\n",
       "      <td>Derek Chauvin Stabbing: Inmate Charged With At...</td>\n",
       "      <td>[]</td>\n",
       "      <td>Federal prosecutors accused a prison inmate of...</td>\n",
       "      <td>[prison, turscak, derek, chauvin, federal, ass...</td>\n",
       "      <td>{police}</td>\n",
       "      <td>-0.9973</td>\n",
       "      <td>0.211</td>\n",
       "      <td>0.691</td>\n",
       "      <td>0.098</td>\n",
       "      <td>-0.032921</td>\n",
       "      <td>0.433923</td>\n",
       "    </tr>\n",
       "    <tr>\n",
       "      <th>...</th>\n",
       "      <td>...</td>\n",
       "      <td>...</td>\n",
       "      <td>...</td>\n",
       "      <td>...</td>\n",
       "      <td>...</td>\n",
       "      <td>...</td>\n",
       "      <td>...</td>\n",
       "      <td>...</td>\n",
       "      <td>...</td>\n",
       "      <td>...</td>\n",
       "      <td>...</td>\n",
       "      <td>...</td>\n",
       "      <td>...</td>\n",
       "    </tr>\n",
       "    <tr>\n",
       "      <th>553</th>\n",
       "      <td>https://www.theepochtimes.com/sports/tiger-woo...</td>\n",
       "      <td>NaN</td>\n",
       "      <td>Former Colorado Players Were Told They Weren't...</td>\n",
       "      <td>[]</td>\n",
       "      <td>COUNCIL BLUFFS, Iowa—Luke Eckardt recalled the...</td>\n",
       "      <td>[werent, spring, prime, eckardt, going, moved,...</td>\n",
       "      <td>{prime, Colorado, time}</td>\n",
       "      <td>0.9969</td>\n",
       "      <td>0.072</td>\n",
       "      <td>0.826</td>\n",
       "      <td>0.102</td>\n",
       "      <td>0.141704</td>\n",
       "      <td>0.426255</td>\n",
       "    </tr>\n",
       "    <tr>\n",
       "      <th>554</th>\n",
       "      <td>https://www.theepochtimes.com/sports/tiger-woo...</td>\n",
       "      <td>NaN</td>\n",
       "      <td>USC's Bronny James Cleared by Doctors for Retu...</td>\n",
       "      <td>[]</td>\n",
       "      <td>LOS ANGELES—Bronny James has been cleared by d...</td>\n",
       "      <td>[cleared, doctors, didnt, practice, hes, month...</td>\n",
       "      <td>{US, USC, Bronny Jame}</td>\n",
       "      <td>0.9942</td>\n",
       "      <td>0.048</td>\n",
       "      <td>0.820</td>\n",
       "      <td>0.132</td>\n",
       "      <td>0.103029</td>\n",
       "      <td>0.342172</td>\n",
       "    </tr>\n",
       "    <tr>\n",
       "      <th>555</th>\n",
       "      <td>https://www.theepochtimes.com/sports/former-co...</td>\n",
       "      <td>NaN</td>\n",
       "      <td>USC's Bronny James Cleared by Doctors for Retu...</td>\n",
       "      <td>[]</td>\n",
       "      <td>LOS ANGELES—Bronny James has been cleared by d...</td>\n",
       "      <td>[cleared, doctors, didnt, practice, hes, month...</td>\n",
       "      <td>{US, USC, Bronny Jame}</td>\n",
       "      <td>0.9942</td>\n",
       "      <td>0.048</td>\n",
       "      <td>0.820</td>\n",
       "      <td>0.132</td>\n",
       "      <td>0.103029</td>\n",
       "      <td>0.342172</td>\n",
       "    </tr>\n",
       "    <tr>\n",
       "      <th>556</th>\n",
       "      <td>https://www.theepochtimes.com/sports/former-co...</td>\n",
       "      <td>NaN</td>\n",
       "      <td>Apple Responds to Police Warnings About New iP...</td>\n",
       "      <td>[]</td>\n",
       "      <td>The Cupertino-based company responded to multi...</td>\n",
       "      <td>[user, feature, device, apple, namedrop, iphon...</td>\n",
       "      <td>{iPhone, apple}</td>\n",
       "      <td>0.9643</td>\n",
       "      <td>0.065</td>\n",
       "      <td>0.837</td>\n",
       "      <td>0.098</td>\n",
       "      <td>0.056930</td>\n",
       "      <td>0.452315</td>\n",
       "    </tr>\n",
       "    <tr>\n",
       "      <th>557</th>\n",
       "      <td>https://www.theepochtimes.com/sports/uscs-bron...</td>\n",
       "      <td>NaN</td>\n",
       "      <td>Apple Responds to Police Warnings About New iP...</td>\n",
       "      <td>[]</td>\n",
       "      <td>The Cupertino-based company responded to multi...</td>\n",
       "      <td>[user, feature, device, apple, namedrop, iphon...</td>\n",
       "      <td>{iPhone, apple}</td>\n",
       "      <td>0.9643</td>\n",
       "      <td>0.065</td>\n",
       "      <td>0.837</td>\n",
       "      <td>0.098</td>\n",
       "      <td>0.056930</td>\n",
       "      <td>0.452315</td>\n",
       "    </tr>\n",
       "  </tbody>\n",
       "</table>\n",
       "<p>877 rows × 13 columns</p>\n",
       "</div>"
      ],
      "text/plain": [
       "                                                  link pdate  \\\n",
       "0    https://www.time.com/6342008/derek-chauvin-att...   NaN   \n",
       "1    https://www.time.com/6342071/police-raid-mosco...   NaN   \n",
       "2    https://www.time.com/6342058/us-oil-natural-ga...   NaN   \n",
       "3    https://www.time.com/6342031/israeli-offensive...   NaN   \n",
       "4    https://time.com/6342008/derek-chauvin-attempt...   NaN   \n",
       "..                                                 ...   ...   \n",
       "553  https://www.theepochtimes.com/sports/tiger-woo...   NaN   \n",
       "554  https://www.theepochtimes.com/sports/tiger-woo...   NaN   \n",
       "555  https://www.theepochtimes.com/sports/former-co...   NaN   \n",
       "556  https://www.theepochtimes.com/sports/former-co...   NaN   \n",
       "557  https://www.theepochtimes.com/sports/uscs-bron...   NaN   \n",
       "\n",
       "                                                 title author  \\\n",
       "0    Derek Chauvin Stabbing: Inmate Charged With At...     []   \n",
       "1    Police Raid Moscow Gay Bars After LGBTQ+ Court...     []   \n",
       "2    U.S. Targets Oil and Gas Industry's Role in Gl...     []   \n",
       "3    Israeli Offensive Shifts to Southern Gaza Afte...     []   \n",
       "4    Derek Chauvin Stabbing: Inmate Charged With At...     []   \n",
       "..                                                 ...    ...   \n",
       "553  Former Colorado Players Were Told They Weren't...     []   \n",
       "554  USC's Bronny James Cleared by Doctors for Retu...     []   \n",
       "555  USC's Bronny James Cleared by Doctors for Retu...     []   \n",
       "556  Apple Responds to Police Warnings About New iP...     []   \n",
       "557  Apple Responds to Police Warnings About New iP...     []   \n",
       "\n",
       "                                                  text  \\\n",
       "0    Federal prosecutors accused a prison inmate of...   \n",
       "1    Russian security forces raided gay clubs and b...   \n",
       "2    WASHINGTON — The Biden administration on Satur...   \n",
       "3    KHAN YOUNIS, Gaza Strip — Israel pounded targe...   \n",
       "4    Federal prosecutors accused a prison inmate of...   \n",
       "..                                                 ...   \n",
       "553  COUNCIL BLUFFS, Iowa—Luke Eckardt recalled the...   \n",
       "554  LOS ANGELES—Bronny James has been cleared by d...   \n",
       "555  LOS ANGELES—Bronny James has been cleared by d...   \n",
       "556  The Cupertino-based company responded to multi...   \n",
       "557  The Cupertino-based company responded to multi...   \n",
       "\n",
       "                                              keywords  \\\n",
       "0    [prison, turscak, derek, chauvin, federal, ass...   \n",
       "1    [ruling, court, moscow, human, bars, russia, r...   \n",
       "2    [emissions, oil, president, methane, targets, ...   \n",
       "3    [younis, offensive, gaza, israeli, military, s...   \n",
       "4    [prison, turscak, derek, chauvin, federal, ass...   \n",
       "..                                                 ...   \n",
       "553  [werent, spring, prime, eckardt, going, moved,...   \n",
       "554  [cleared, doctors, didnt, practice, hes, month...   \n",
       "555  [cleared, doctors, didnt, practice, hes, month...   \n",
       "556  [user, feature, device, apple, namedrop, iphon...   \n",
       "557  [user, feature, device, apple, namedrop, iphon...   \n",
       "\n",
       "                        tags  compound    neg    neu    pos  polarity  \\\n",
       "0                   {police}   -0.9973  0.211  0.691  0.098 -0.032921   \n",
       "1                   {russia}    0.7543  0.071  0.844  0.085  0.110550   \n",
       "2           {climate change}    0.9979  0.043  0.831  0.125  0.097958   \n",
       "3         {Israel-Hamas War}   -0.9995  0.160  0.797  0.042  0.023554   \n",
       "4                   {police}   -0.9973  0.211  0.691  0.098 -0.032921   \n",
       "..                       ...       ...    ...    ...    ...       ...   \n",
       "553  {prime, Colorado, time}    0.9969  0.072  0.826  0.102  0.141704   \n",
       "554   {US, USC, Bronny Jame}    0.9942  0.048  0.820  0.132  0.103029   \n",
       "555   {US, USC, Bronny Jame}    0.9942  0.048  0.820  0.132  0.103029   \n",
       "556          {iPhone, apple}    0.9643  0.065  0.837  0.098  0.056930   \n",
       "557          {iPhone, apple}    0.9643  0.065  0.837  0.098  0.056930   \n",
       "\n",
       "     subjectivity  \n",
       "0        0.433923  \n",
       "1        0.276790  \n",
       "2        0.433816  \n",
       "3        0.324416  \n",
       "4        0.433923  \n",
       "..            ...  \n",
       "553      0.426255  \n",
       "554      0.342172  \n",
       "555      0.342172  \n",
       "556      0.452315  \n",
       "557      0.452315  \n",
       "\n",
       "[877 rows x 13 columns]"
      ]
     },
     "execution_count": 26,
     "metadata": {},
     "output_type": "execute_result"
    }
   ],
   "source": [
    "combined_df"
   ]
  },
  {
   "cell_type": "code",
   "execution_count": 27,
   "id": "8cc0ec7a-057f-46c1-bab5-a0f47150612b",
   "metadata": {},
   "outputs": [],
   "source": [
    "combined_df.to_csv(\"/home/zoetustain/code/zulu-tango/news_and_echo_bubbles/raw_data/scraped_data_combined_sunday.csv\")"
   ]
  },
  {
   "cell_type": "code",
   "execution_count": null,
   "id": "d27a705b-5b3f-4178-a421-98ba4f3667c9",
   "metadata": {},
   "outputs": [],
   "source": [
    "!pwd"
   ]
  },
  {
   "cell_type": "code",
   "execution_count": null,
   "id": "7a2d5d76-08f2-46eb-82c6-c56350f8e717",
   "metadata": {},
   "outputs": [],
   "source": [
    "barney_data = pd.read_csv('/home/zoetustain/code/zulu-tango/news_and_echo_bubbles/raw_data/BK_fri_scrape.csv')"
   ]
  },
  {
   "cell_type": "code",
   "execution_count": null,
   "id": "2db4d1a1-7da7-460f-acec-40baecbe9887",
   "metadata": {},
   "outputs": [],
   "source": [
    "gigi_data = pd.read_csv('/home/zoetustain/code/zulu-tango/news_and_echo_bubbles/raw_data/gigi_scraping_pt1.csv')"
   ]
  },
  {
   "cell_type": "code",
   "execution_count": null,
   "id": "85f2dd34-bb2f-452e-a5cb-8772dc9d9a74",
   "metadata": {},
   "outputs": [],
   "source": [
    "friday_data = pd.concat([barney_data,combined_df,gigi_data])"
   ]
  },
  {
   "cell_type": "code",
   "execution_count": null,
   "id": "516c2c46-c84a-4da9-87bc-99ff27c7bd2a",
   "metadata": {},
   "outputs": [],
   "source": [
    "friday_data = pd.read_csv(\"/home/zoetustain/code/zulu-tango/news_and_echo_bubbles/raw_data/friday_data.csv\")"
   ]
  },
  {
   "cell_type": "code",
   "execution_count": null,
   "id": "d4e0c1c5-2c7f-4157-b901-a51db614b623",
   "metadata": {},
   "outputs": [],
   "source": [
    "scoring_dict = {'www.alternet.org': -2,\n",
    "                            'www.theatlantic.com': -2,\n",
    "                            'www.democracynow.org': -2,\n",
    "                            'www.thedailybeast.com': -2,\n",
    "                            'www.huffpost.com': -2,\n",
    "                            'www.theintercept.com': -2,\n",
    "                            'www.jacobinmag.com': -2,\n",
    "                            'www.motherjones.com': -2,\n",
    "                            'www.msnbc.com': -2,\n",
    "                            'www.newyorker.com': -2,\n",
    "                            'www.nytimes.com': -1,\n",
    "                            'www.thenation.com': -2,\n",
    "                            'www.slate.com': -2,\n",
    "                            'www.vox.com': -2,\n",
    "                            'www.abcnews.go.com': -1,\n",
    "                            'apnews.com': -1,\n",
    "                            'www.axios.com': -1,\n",
    "                            'www.bloomberg.com': -1,\n",
    "                            'www.cbsnews.com': -1,\n",
    "                            'www.cnn.com': -1,\n",
    "                            'www.theguardian.com': -1,\n",
    "                            'www.insider.com': -1,\n",
    "                            'www.nbcnews.com': -1,\n",
    "                            'www.npr.org': -1,\n",
    "                            'www.politico.com': -1,\n",
    "                            'www.propublica.org': -1,\n",
    "                            'www.time.com': -1,\n",
    "                            'www.washingtonpost.com': -1,\n",
    "                            'www.usatoday.com': -1,\n",
    "                            'www.yahoo.com': -1,\n",
    "                            'www.bbc.com': 0,\n",
    "                            'www.csmonitor.com': 0,\n",
    "                            'www.forbes.com': 0,\n",
    "                            'www.marketwatch.com': 0,\n",
    "                            'www.newsnationnow.com': 0,\n",
    "                            'www.newsweek.com': 0,\n",
    "                            'www.reuters.com': 0,\n",
    "                            'www.realclearpolitics.com': 0,\n",
    "                            'www.thehill.com': 0,\n",
    "                            'www.wsj.com': 1,\n",
    "                            'www.thedispatch.com': 1,\n",
    "                            'www.theepochtimes.com': 1,\n",
    "                            'www.foxbusiness.com': 1,\n",
    "                            'www.nationalreview.com': 2,\n",
    "                            'www.nypost.com': 2,\n",
    "                            'www.reason.com': 1,\n",
    "                            'www.washingtonexaminer.com': 1,\n",
    "                            'www.washingtontimes.com': 1,\n",
    "                            'www.theamericanconservative.com': 2,\n",
    "                            'www.spectator.org': 2,\n",
    "                            'www.breitbart.com': 2,\n",
    "                            'www.theblaze.com': 2,\n",
    "                            'www.cbn.com': 2,\n",
    "                            'www.dailycaller.com': 2,\n",
    "                            'www.dailymail.co.uk': 2,\n",
    "                            'www.dailywire.com': 2,\n",
    "                            'www.thepostmillennial.com': 2,\n",
    "                            'www.foxnews.com': 2,\n",
    "                            'www.thefederalist.com': 2,\n",
    "                            'www.ijr.com': 2,\n",
    "                            'www.newsmax.com': 2,\n",
    "                            'www.freebeacon.com': 2,\n",
    "                            'www.oann.com': 2,'thedailybeast.freshdesk.com':-2,\n",
    "                   'theathletic.com': -2,\n",
    "                   'cooking.nytimes.com':-1, \n",
    "                   'cn.nytimes.com':-1, \n",
    "                   'www.hulu.com':-1,\n",
    "                   'www.bloomberg.co.jp':-1,\n",
    "                   'bloomberg.com':-1,\n",
    "                   'tunein.com':-1,\n",
    "                   'www.paramountplus.com':-1,\n",
    "                   'projects.propublica.org':-1,\n",
    "                   'features.propublica.org':-1,\n",
    "                   'time.com':-1,\n",
    "                   'cm.usatoday.com':-1,\n",
    "                   'reviewed.usatoday.com':-1,\n",
    "                   'puzzles.usatoday.com':-1,\n",
    "                   'finance.yahoo.com':-1,\n",
    "                   'sports.yahoo.com':-1,\n",
    "                   'news.yahoo.com':-1,\n",
    "                   'autos.yahoo.com':-1,\n",
    "                   'sg.yahoo.com':-1,\n",
    "                   'sg.news.yahoo.com':-1,\n",
    "                   'sg.finance.yahoo.com':-1, \n",
    "                   'sg.style.yahoo.com':-1,\n",
    "                   'tw.news.yahoo.com':-1,\n",
    "                   'tw.sports.yahoo.com':-1,\n",
    "                   'travel.yahoo.com.tw':-1,\n",
    "                   'autos.yahoo.com.tw':-1,\n",
    "                   'style.yahoo.com.tw':-1,\n",
    "                   'www.edh.tw':-1,\n",
    "                   'tw.tv.yahoo.com':-1,\n",
    "                   'tw.promo.yahoo.com':-1, \n",
    "                   'movies.yahoo.com.tw':-1,\n",
    "                   'uk.yahoo.com':-1,\n",
    "                   'uk.news.yahoo.com':-1, \n",
    "                   'uk.style.yahoo.com':-1,\n",
    "                   'uk.finance.yahoo.com':-1,\n",
    "                   'uk.sports.yahoo.com':-1,\n",
    "                   'qc.yahoo.com':-1,\n",
    "                   'fr.style.yahoo.com':-1,\n",
    "                   'fr.news.yahoo.com':-1,\n",
    "                   'ca.sports.yahoo.com':-1,\n",
    "                   'espanol.yahoo.com':-1,\n",
    "                   'es-us.noticias.yahoo.com':-1, \n",
    "                   'es-us.finanzas.yahoo.com':-1,\n",
    "                   'es-us.vida-estilo.yahoo.com':-1,\n",
    "                   'hk.news.yahoo.com':-1,\n",
    "                   'hk.finance.yahoo.com':-1,\n",
    "                   'ca.yahoo.com':-1,\n",
    "                   'ca.news.yahoo.com':-1,\n",
    "                   'ca.finance.yahoo.com':-1, \n",
    "                   'ca.style.yahoo.com':-1,\n",
    "                   'malaysia.yahoo.com':-1,\n",
    "                   'malaysia.news.yahoo.com':-1,\n",
    "                   'www.the-independent.com':-1,\n",
    "                   'au.yahoo.com':-1,\n",
    "                   'au.lifestyle.yahoo.com':-1,\n",
    "                   'au.news.yahoo.com':-1,\n",
    "                   'au.sports.yahoo.com':-1,\n",
    "                   'au.finance.yahoo.com':-1,\n",
    "                   'de.yahoo.com':-1,\n",
    "                   'de.nachrichten.yahoo.com':-1, \n",
    "                   'de.style.yahoo.com':-1,\n",
    "                   'de.finance.yahoo.com':-1,\n",
    "                   'www.artnews.com':-1,\n",
    "                   'nypost.com':1,\n",
    "                   'captimes.com':-1,\n",
    "                   'reuters.com':-0,\n",
    "                   'wsj.com':-0,\n",
    "                   'staging.theepochtimes.com':1,\n",
    "                   'theepochtimes.gr':1,\n",
    "                   'es.theepochtimes.com':1,\n",
    "                   'help.theepochtimes.au':1}"
   ]
  },
  {
   "cell_type": "code",
   "execution_count": null,
   "id": "f224d59f-571c-4d42-a987-6deb3b105f85",
   "metadata": {},
   "outputs": [],
   "source": [
    "to check ={'pagesix.com':1,\n",
    "                   'decider.com':1,\n",
    "                   'reason.com':1,\n",
    "                   'www.thefire.org':1, \n",
    "                   'law.justia.com':1,\n",
    "                   'www.inquirer.com':1,\n",
    "                   'www.thedp.com':1,\n",
    "                   'ndlawreview.org':1,\n",
    "                   'www.lawfaremedia.org':1,\n",
    "                   'www.ca5.uscourts.gov':1, \n",
    "                   'pacificlegal.org':1,\n",
    "                   'thehill.com':1,\n",
    "                   'volokh.com':1,\n",
    "                   'marketurbanism.com':1,\n",
    "                   'web.archive.org':1,\n",
    "                   'johnhcochrane.blogspot.com':1,\n",
    "                   'tushnet.blogspot.com':1,\n",
    "                   'www.scotusblog.com':1,\n",
    "                   'www.yalejreg.com':0,\n",
    "                   'www.oyez.org':1,\n",
    "                   'reason.plannedgiving.org':1,\n",
    "                   'reason.org':1}"
   ]
  },
  {
   "cell_type": "code",
   "execution_count": null,
   "id": "3b951645-d9f8-457f-b105-00b1f1e6ed85",
   "metadata": {},
   "outputs": [],
   "source": [
    "scoring_updated = {'thedailybeast.freshdesk.com':-2,\n",
    "                   'theathletic.com': -2,\n",
    "                   'cooking.nytimes.com':-1, \n",
    "                   'cn.nytimes.com':-1, \n",
    "                   'www.hulu.com':-1,\n",
    "                   'www.bloomberg.co.jp':-1,\n",
    "                   'bloomberg.com',:-1,\n",
    "                   'tunein.com':-1,\n",
    "                   'www.paramountplus.com':-1,\n",
    "                   'projects.propublica.org':-1,\n",
    "                   'features.propublica.org':-1,\n",
    "                   'time.com':-1,\n",
    "                   'cm.usatoday.com':-1,\n",
    "                   'reviewed.usatoday.com':-1,\n",
    "                   'puzzles.usatoday.com':-1,\n",
    "                   'finance.yahoo.com':-1,\n",
    "                   'sports.yahoo.com':-1,\n",
    "                   'news.yahoo.com':-1,\n",
    "                   'autos.yahoo.com':-1,\n",
    "                   'sg.yahoo.com':-1,\n",
    "                   'sg.news.yahoo.com':-1,\n",
    "                   'sg.finance.yahoo.com':-1, \n",
    "                   'sg.style.yahoo.com':-1,\n",
    "                   'tw.news.yahoo.com':-1,\n",
    "                   'tw.sports.yahoo.com':-1,\n",
    "                   'travel.yahoo.com.tw':-1,\n",
    "                   'autos.yahoo.com.tw':-1,\n",
    "                   'style.yahoo.com.tw':-1,\n",
    "                   'www.edh.tw':-1,\n",
    "                   'tw.tv.yahoo.com':-1,\n",
    "                   'tw.promo.yahoo.com':-1, \n",
    "                   'movies.yahoo.com.tw':-1,\n",
    "                   'uk.yahoo.com':-1,\n",
    "                   'uk.news.yahoo.com':-1, \n",
    "                   'uk.style.yahoo.com':-1,\n",
    "                   'uk.finance.yahoo.com':-1,\n",
    "                   'uk.sports.yahoo.com':-1,\n",
    "                   'qc.yahoo.com':-1,\n",
    "                   'fr.style.yahoo.com':-1,\n",
    "                   'fr.news.yahoo.com':-1,\n",
    "                   'ca.sports.yahoo.com':-1,\n",
    "                   'espanol.yahoo.com':-1,\n",
    "                   'es-us.noticias.yahoo.com':-1, \n",
    "                   'es-us.finanzas.yahoo.com':-1,\n",
    "                   'es-us.vida-estilo.yahoo.com':-1,\n",
    "                   'hk.news.yahoo.com':-1,\n",
    "                   'hk.finance.yahoo.com':-1,\n",
    "                   'ca.yahoo.com':-1,\n",
    "                   'ca.news.yahoo.com':-1,\n",
    "                   'ca.finance.yahoo.com':-1, \n",
    "                   'ca.style.yahoo.com':-1,\n",
    "                   'malaysia.yahoo.com':-1,\n",
    "                   'malaysia.news.yahoo.com':-1,\n",
    "                   'www.the-independent.com':-1,\n",
    "                   'au.yahoo.com':-1,\n",
    "                   'au.lifestyle.yahoo.com':-1,\n",
    "                   'au.news.yahoo.com':-1,\n",
    "                   'au.sports.yahoo.com':-1,\n",
    "                   'au.finance.yahoo.com':-1,\n",
    "                   'de.yahoo.com':-1,\n",
    "                   'de.nachrichten.yahoo.com':-1, \n",
    "                   'de.style.yahoo.com':-1,\n",
    "                   'de.finance.yahoo.com':-1,\n",
    "                   'www.artnews.com':-1,\n",
    "                   'nypost.com':1,\n",
    "                   'captimes.com':-1,\n",
    "                   'reuters.com':-0,\n",
    "                   'wsj.com':-0,\n",
    "                   'staging.theepochtimes.com':1,\n",
    "                   'theepochtimes.gr':1,\n",
    "                   'es.theepochtimes.com':1,\n",
    "                   'help.theepochtimes.au':1,\n",
    "                   'pagesix.com':1,\n",
    "                   'decider.com':1,\n",
    "                   'reason.com':1,\n",
    "                   'www.thefire.org':1, \n",
    "                   'law.justia.com':1,\n",
    "                   'www.inquirer.com':1,\n",
    "                   'www.thedp.com':1,\n",
    "                   'ndlawreview.org':1,\n",
    "                   'www.lawfaremedia.org':1,\n",
    "                   'www.ca5.uscourts.gov':1, \n",
    "                   'pacificlegal.org':1,\n",
    "                   'thehill.com':1,\n",
    "                   'volokh.com':1,\n",
    "                   'marketurbanism.com':1,\n",
    "                   'web.archive.org':1,\n",
    "                   'johnhcochrane.blogspot.com':1,\n",
    "                   'tushnet.blogspot.com':1,\n",
    "                   'www.scotusblog.com':1,\n",
    "                   'www.yalejreg.com':1,\n",
    "                   'www.oyez.org':1,\n",
    "                   'reason.plannedgiving.org':1,\n",
    "                   'reason.org':1}"
   ]
  },
  {
   "cell_type": "code",
   "execution_count": null,
   "id": "ef16758a-6c21-4a77-b5e2-b12fab693ace",
   "metadata": {},
   "outputs": [],
   "source": [
    "urls= ['thedailybeast.freshdesk.com',\n",
    "       'theathletic.com', 'cooking.nytimes.com',\n",
    "       'cn.nytimes.com', 'www.vox.com', 'apnews.com', 'www.bloomberg.com',\n",
    "       'www.hulu.com', 'www.bloomberg.co.jp', 'bloomberg.com',\n",
    "       'tunein.com', 'www.cbsnews.com', 'www.paramountplus.com',\n",
    "       'www.propublica.org', 'projects.propublica.org',\n",
    "       'features.propublica.org', 'time.com', 'www.time.com',\n",
    "       'www.washingtonpost.com', 'www.usatoday.com', 'cm.usatoday.com',\n",
    "       'reviewed.usatoday.com', 'puzzles.usatoday.com', 'www.yahoo.com',\n",
    "       'finance.yahoo.com', 'sports.yahoo.com', 'news.yahoo.com',\n",
    "       'autos.yahoo.com', 'sg.yahoo.com', 'sg.news.yahoo.com',\n",
    "       'sg.finance.yahoo.com', 'sg.style.yahoo.com', 'tw.news.yahoo.com',\n",
    "       'tw.sports.yahoo.com', 'travel.yahoo.com.tw', 'autos.yahoo.com.tw',\n",
    "       'style.yahoo.com.tw', 'www.edh.tw', 'tw.tv.yahoo.com',\n",
    "       'tw.promo.yahoo.com', 'movies.yahoo.com.tw', 'uk.yahoo.com',\n",
    "       'uk.news.yahoo.com', 'uk.style.yahoo.com', 'uk.finance.yahoo.com',\n",
    "       'uk.sports.yahoo.com', 'qc.yahoo.com', 'fr.style.yahoo.com',\n",
    "       'fr.news.yahoo.com', 'ca.sports.yahoo.com', 'espanol.yahoo.com',\n",
    "       'es-us.noticias.yahoo.com', 'es-us.finanzas.yahoo.com',\n",
    "       'es-us.vida-estilo.yahoo.com', 'hk.news.yahoo.com',\n",
    "       'hk.finance.yahoo.com', 'ca.yahoo.com', 'ca.news.yahoo.com',\n",
    "       'ca.finance.yahoo.com', 'ca.style.yahoo.com', 'malaysia.yahoo.com',\n",
    "       'malaysia.news.yahoo.com', 'www.the-independent.com',\n",
    "       'au.yahoo.com', 'au.lifestyle.yahoo.com', 'au.news.yahoo.com',\n",
    "       'au.sports.yahoo.com', 'au.finance.yahoo.com', 'de.yahoo.com',\n",
    "       'de.nachrichten.yahoo.com', 'de.style.yahoo.com',\n",
    "       'de.finance.yahoo.com', 'www.csmonitor.com', 'www.politico.com',\n",
    "       'www.artnews.com', 'www.wsj.com', 'nypost.com', 'captimes.com',\n",
    "       'www.cnn.com', 'www.npr.org', 'www.reuters.com', 'reuters.com',\n",
    "       'wsj.com', 'www.theepochtimes.com', 'staging.theepochtimes.com',\n",
    "       'theepochtimes.gr', 'es.theepochtimes.com',\n",
    "       'help.theepochtimes.au', 'pagesix.com', 'decider.com',\n",
    "       'reason.com', 'www.thefire.org', 'law.justia.com',\n",
    "       'www.inquirer.com', 'www.thedp.com', 'ndlawreview.org',\n",
    "       'www.lawfaremedia.org', 'www.ca5.uscourts.gov', 'pacificlegal.org',\n",
    "       'thehill.com', 'volokh.com', 'www.axios.com', 'marketurbanism.com',\n",
    "       'web.archive.org', 'johnhcochrane.blogspot.com',\n",
    "       'tushnet.blogspot.com', 'www.scotusblog.com', 'www.yalejreg.com',\n",
    "       'www.oyez.org', 'reason.plannedgiving.org', 'reason.org',\n",
    "       'www.washingtonexaminer.com', 'www.dailycaller.com']"
   ]
  },
  {
   "cell_type": "code",
   "execution_count": null,
   "id": "65eb45b3-6dd5-4233-867e-080322d3c9ed",
   "metadata": {},
   "outputs": [],
   "source": [
    "from urllib.parse import urlparse"
   ]
  },
  {
   "cell_type": "code",
   "execution_count": null,
   "id": "04de5f57-8efd-4954-9a5c-551ccbb3e6c8",
   "metadata": {},
   "outputs": [],
   "source": [
    "urls_short = [urlparse(friday_data.link[row]).netloc for row in range(len(friday_data.link))]\n",
    "friday_data['urls'] = urls_short"
   ]
  },
  {
   "cell_type": "code",
   "execution_count": null,
   "id": "80baac67-b877-4b05-b5d6-6868b29c2b1b",
   "metadata": {},
   "outputs": [],
   "source": [
    "friday_data.drop(columns=['Unnamed: 0','Unnamed: 0.1'],inplace=True)"
   ]
  },
  {
   "cell_type": "code",
   "execution_count": null,
   "id": "67ebe3ab-e91a-4054-8f55-49f9a573efd0",
   "metadata": {},
   "outputs": [],
   "source": [
    "friday_data[\"5_step_classifier\"] = friday_data['urls'].map(scoring_dict)"
   ]
  },
  {
   "cell_type": "code",
   "execution_count": null,
   "id": "f0ff5ae7-ea52-4194-a60b-b75f4faa2b9b",
   "metadata": {},
   "outputs": [],
   "source": [
    "friday_data[~friday_data['text'].isnull()].reset_index(inplace=True)"
   ]
  },
  {
   "cell_type": "code",
   "execution_count": null,
   "id": "64146e9b-657f-40b1-a4f3-a9d764d1b140",
   "metadata": {},
   "outputs": [],
   "source": [
    "friday_data = pd.read_csv(\"/home/zoetustain/code/zulu-tango/news_and_echo_bubbles/raw_data/friday_data.csv\")"
   ]
  },
  {
   "cell_type": "code",
   "execution_count": null,
   "id": "dc2f76e0-5cd2-469b-a1f0-3ae8604d1c18",
   "metadata": {},
   "outputs": [],
   "source": [
    "friday_data.dropna(subset=['text'], inplace=True)"
   ]
  },
  {
   "cell_type": "code",
   "execution_count": null,
   "id": "212ef0d4-c2a9-4f0e-ada2-76425c646b6c",
   "metadata": {},
   "outputs": [],
   "source": [
    "friday_data.head()"
   ]
  },
  {
   "cell_type": "code",
   "execution_count": null,
   "id": "80e8603a-0006-4c5b-ae01-7f927b910650",
   "metadata": {},
   "outputs": [],
   "source": [
    "friday_data['text'] = friday_data['text'].astype(str)"
   ]
  },
  {
   "cell_type": "code",
   "execution_count": null,
   "id": "e1f651db-b2f6-40cd-8260-e7dbe4029145",
   "metadata": {},
   "outputs": [],
   "source": [
    "article_length = []\n",
    "for i in range(len(friday_data)):\n",
    "    article_length.append(len(friday_data.text[i].split()))\n",
    "\n",
    "pd.DataFrame(article_length,columns=['article_length'])\n",
    "\n",
    "friday_data['article_length'] = pd.DataFrame(article_length,columns=['article_length'])\n"
   ]
  },
  {
   "cell_type": "code",
   "execution_count": null,
   "id": "8b99803c-a869-4fa9-8f2a-b6f8b4285eb4",
   "metadata": {},
   "outputs": [],
   "source": [
    "mask = friday_data['article_length'] >50"
   ]
  },
  {
   "cell_type": "code",
   "execution_count": null,
   "id": "eeb5e7d9-63ca-44a3-93b2-472aaacf26df",
   "metadata": {},
   "outputs": [],
   "source": [
    "friday_data = friday_data[mask]"
   ]
  },
  {
   "cell_type": "code",
   "execution_count": null,
   "id": "aafc934d-7f8c-4145-b64f-9fc4e41369f9",
   "metadata": {},
   "outputs": [],
   "source": [
    "friday_data.drop(columns=['keywords','tags','compound','neg','neu','pos','polarity','subjectivity','rating'],inplace=True)"
   ]
  },
  {
   "cell_type": "code",
   "execution_count": null,
   "id": "25f70407-2a71-49b5-8908-0db782c760b0",
   "metadata": {},
   "outputs": [],
   "source": [
    "friday_data.reset_index(inplace=True)"
   ]
  },
  {
   "cell_type": "code",
   "execution_count": null,
   "id": "072ca8df-d142-473d-b4ab-c5d102b4acdc",
   "metadata": {},
   "outputs": [],
   "source": [
    "new_list = []\n",
    "for index, text in enumerate(friday_data['text']):\n",
    "    # text = str(text)\n",
    "    new_list.append(friday_data['text'][index].lower())\n",
    "\n",
    "friday_data['preprocessed_data']= pd.DataFrame(new_list,columns=['text'])"
   ]
  },
  {
   "cell_type": "code",
   "execution_count": null,
   "id": "c8385cfb-5c9b-4498-bb1f-dae9b93846bb",
   "metadata": {},
   "outputs": [],
   "source": [
    "friday_data = pd.read_csv(\"/home/zoetustain/code/zulu-tango/news_and_echo_bubbles/raw_data/friday_data.csv\")"
   ]
  },
  {
   "cell_type": "code",
   "execution_count": null,
   "id": "d27d1cb2-1fe0-4ec5-ad80-10dad1a748f8",
   "metadata": {},
   "outputs": [],
   "source": [
    "sat_bk = pd.read_csv(\"/home/zoetustain/code/zulu-tango/news_and_echo_bubbles/raw_data/sat_bk_scrape.csv\")\n",
    "sat_zt = pd.read_csv(\"/home/zoetustain/code/zulu-tango/news_and_echo_bubbles/raw_data/sat_zt_scrape.csv\")\n",
    "sat_gg = pd.read_csv(\"/home/zoetustain/code/zulu-tango/news_and_echo_bubbles/raw_data/saturday_scraped_data_gigi.csv\")\n"
   ]
  },
  {
   "cell_type": "code",
   "execution_count": null,
   "id": "9090626e-905d-44ec-9034-d24440ca73a2",
   "metadata": {},
   "outputs": [],
   "source": [
    "combined_df = pd.concat([friday_data,sat_bk,sat_zt,sat_gg])"
   ]
  },
  {
   "cell_type": "code",
   "execution_count": null,
   "id": "acb8fa3e-8cb8-4540-88d4-9b8c15a60cac",
   "metadata": {},
   "outputs": [],
   "source": [
    "combined_df = pd.read_csv(\"/home/zoetustain/code/zulu-tango/news_and_echo_bubbles/raw_data/scraped_saturday.csv\")"
   ]
  },
  {
   "cell_type": "code",
   "execution_count": null,
   "id": "35108ac7-9afd-4a40-8adb-aacec71c534b",
   "metadata": {},
   "outputs": [],
   "source": [
    "combined_df['text'] = combined_df['text'].astype(str)"
   ]
  },
  {
   "cell_type": "code",
   "execution_count": null,
   "id": "1a9a2e76-18b0-420c-a1c7-3ad7dde68f0e",
   "metadata": {},
   "outputs": [],
   "source": [
    "combined_df.text[9049]"
   ]
  },
  {
   "cell_type": "code",
   "execution_count": null,
   "id": "21c67f3d-eb24-4e7a-82e2-58857dcac115",
   "metadata": {},
   "outputs": [],
   "source": [
    "article_length = []\n",
    "for i in range(len(combined_df)):\n",
    "    article_length.append(len(combined_df['text'][i].split()))\n",
    "\n",
    "combined_df['article_length'] = pd.DataFrame(article_length,columns=['article_length'])\n",
    "mask_length = combined_df['article_length']>50\n",
    "combined_df = combined_df[mask_length]\n",
    "combined_df.reset_index(inplace=True,drop=True)"
   ]
  },
  {
   "cell_type": "code",
   "execution_count": null,
   "id": "b024d471-479d-4c47-94bb-ec9af4c1b546",
   "metadata": {},
   "outputs": [],
   "source": [
    "combined_df.drop_duplicates(subset=['text'],inplace=True)"
   ]
  },
  {
   "cell_type": "code",
   "execution_count": null,
   "id": "1f4b7379-adbf-4f65-8ee8-3d0bdbf11d94",
   "metadata": {},
   "outputs": [],
   "source": [
    "combined_df.reset_index(drop=True,inplace=True)"
   ]
  },
  {
   "cell_type": "code",
   "execution_count": null,
   "id": "f201eca7-a89f-4fe4-b9e6-aea61373a896",
   "metadata": {},
   "outputs": [],
   "source": [
    "repeated_phrases = combined_df['text']"
   ]
  },
  {
   "cell_type": "code",
   "execution_count": null,
   "id": "3fd64b98-3c53-4569-9b38-586703f3fcd4",
   "metadata": {},
   "outputs": [],
   "source": [
    "repeated_phrases = pd.DataFrame(repeated_phrases,columns=['first'])\n",
    "repeated_phrases['first'] = combined_df['text'].str.split('.').str[0]"
   ]
  },
  {
   "cell_type": "code",
   "execution_count": null,
   "id": "cf48539e-5ae1-48d3-a54f-708ce2573b25",
   "metadata": {},
   "outputs": [],
   "source": [
    "repeated_phrases['count'] = 1"
   ]
  },
  {
   "cell_type": "code",
   "execution_count": null,
   "id": "972b5f42-27d0-4fd7-8840-27378b38661f",
   "metadata": {},
   "outputs": [],
   "source": [
    "repeated_phrases = repeated_phrases.groupby('first',as_index=False).sum().sort_values(by='count')"
   ]
  },
  {
   "cell_type": "code",
   "execution_count": null,
   "id": "24df0bdf-9c4a-4675-944f-2d538db9f943",
   "metadata": {},
   "outputs": [],
   "source": [
    "mask = repeated_phrases['count']!=1"
   ]
  },
  {
   "cell_type": "code",
   "execution_count": null,
   "id": "2928ff06-f753-4dae-9121-bf9e3777ef1c",
   "metadata": {},
   "outputs": [],
   "source": [
    "repeated_phrases = repeated_phrases[mask]"
   ]
  },
  {
   "cell_type": "code",
   "execution_count": null,
   "id": "fa8474ca-eecd-4dd6-9ba1-1609dc666245",
   "metadata": {},
   "outputs": [],
   "source": [
    "repeated_phrases.sort_values(by='count')"
   ]
  },
  {
   "cell_type": "code",
   "execution_count": null,
   "id": "97d78cc7-b0b4-4d91-b14c-24087a223da0",
   "metadata": {},
   "outputs": [],
   "source": [
    "len(combined_df['text'])"
   ]
  },
  {
   "cell_type": "code",
   "execution_count": null,
   "id": "ea7aec95-cb58-4e8f-934e-ced017dba7c0",
   "metadata": {},
   "outputs": [],
   "source": [
    "for index in range(len(combined_df['text'])):\n",
    "    if combined_df['text'].str.split('.').str[0][index] in repeated_phrases['first']:\n",
    "        combined_df['text'].replace(combined_df['text'].str.split('.').str[0][index],'',1)"
   ]
  },
  {
   "cell_type": "code",
   "execution_count": null,
   "id": "31058dc8-c986-4f9a-8799-a64e9a24417c",
   "metadata": {},
   "outputs": [],
   "source": [
    "combined_df.text[4166]"
   ]
  },
  {
   "cell_type": "code",
   "execution_count": null,
   "id": "6c9bea05-f495-47d0-8125-c8c416a131ac",
   "metadata": {},
   "outputs": [],
   "source": [
    "combined_df['text'].str.split('.').str[0][9049] = combined_df['text'].str.split('.').str[0][9049].replace((combined_df['text'].str.split('.').str[0][9049]),'',1)\n",
    "\n",
    "combined_df.text[9049]"
   ]
  },
  {
   "cell_type": "code",
   "execution_count": null,
   "id": "cb8c7201-f1fe-472a-90a6-8ea757f9451c",
   "metadata": {},
   "outputs": [],
   "source": [
    "combined_df['text'].str.split('.').str[0][9049]"
   ]
  },
  {
   "cell_type": "code",
   "execution_count": null,
   "id": "b2f1d73c-c0cf-4750-bd9c-52b3505bc282",
   "metadata": {},
   "outputs": [],
   "source": [
    "repeated_phrases['first']"
   ]
  },
  {
   "cell_type": "code",
   "execution_count": null,
   "id": "2a23e41f-e5f8-4285-94e3-5e739f4378e2",
   "metadata": {},
   "outputs": [],
   "source": [
    "series = pd.Series(combined_df['first'])"
   ]
  },
  {
   "cell_type": "code",
   "execution_count": null,
   "id": "b9c880f6-a6ea-4fe1-92b7-c0967fc06d4b",
   "metadata": {},
   "outputs": [],
   "source": [
    "series[0]"
   ]
  },
  {
   "cell_type": "code",
   "execution_count": null,
   "id": "af3e5f54-d980-4841-b0d4-5211e1f93a33",
   "metadata": {},
   "outputs": [],
   "source": [
    "len(combined_df['first'])"
   ]
  },
  {
   "cell_type": "code",
   "execution_count": null,
   "id": "58f118a0-c50c-4cbe-8167-32e5e51e66ec",
   "metadata": {},
   "outputs": [],
   "source": [
    "series[9049]"
   ]
  },
  {
   "cell_type": "code",
   "execution_count": null,
   "id": "9b614510-0898-4a83-b884-941884486455",
   "metadata": {},
   "outputs": [],
   "source": [
    "series.str.count(series[9049]).count()"
   ]
  },
  {
   "cell_type": "code",
   "execution_count": null,
   "id": "8dfcc454-0123-43a9-8822-0490bf66bb8e",
   "metadata": {},
   "outputs": [],
   "source": [
    "for i in len(combined_df['first']):\n",
    "    combined_df['count'][i] = series.str.count(series[i])\n",
    "    "
   ]
  },
  {
   "cell_type": "code",
   "execution_count": null,
   "id": "138a504d-cf7d-43b0-9bd4-7a3fbb46bc84",
   "metadata": {},
   "outputs": [],
   "source": [
    "combined_df['first'][9049]"
   ]
  },
  {
   "cell_type": "code",
   "execution_count": null,
   "id": "2b067c74-ce31-4d2f-baa0-f6e275d2a3d7",
   "metadata": {},
   "outputs": [],
   "source": [
    "def remove_null_text(dataframe):\n",
    "    friday_data.dropna(subset=['text'], inplace=True)\n",
    "    friday_data.reset_index(inplace=True,drop=True)\n",
    "    return dataframe"
   ]
  },
  {
   "cell_type": "code",
   "execution_count": null,
   "id": "e1b22142-40f7-49a5-b411-b8b67b49af81",
   "metadata": {},
   "outputs": [],
   "source": [
    "def article_length(dataframe):\n",
    "    article_length = []\n",
    "    for i in range(len(dataframe)):\n",
    "        article_length.append(len(dataframe.text[i].split()))\n",
    "\n",
    "    dataframe['article_length'] = pd.DataFrame(article_length,columns=['article_length'])\n",
    "    mask_length = dataframe['article_length']>50\n",
    "    dataframe = dataframe[mask_length]\n",
    "    dataframe.reset_index(inplace=True,drop=True)\n",
    "    return dataframe"
   ]
  },
  {
   "cell_type": "code",
   "execution_count": null,
   "id": "b070e325-08b3-4c8f-abe4-966744fdd007",
   "metadata": {},
   "outputs": [],
   "source": [
    "friday_data['text'] = friday_data['text'].astype(str)"
   ]
  },
  {
   "cell_type": "code",
   "execution_count": null,
   "id": "e9c0ba5e-df78-4e39-aeff-1a505a16474d",
   "metadata": {},
   "outputs": [],
   "source": [
    "friday_data.info()"
   ]
  },
  {
   "cell_type": "code",
   "execution_count": null,
   "id": "81d8289b-1e43-4a9b-892a-13613e15d7e2",
   "metadata": {},
   "outputs": [],
   "source": [
    "friday_data['pre_process_text'] = friday_data['text']"
   ]
  },
  {
   "cell_type": "code",
   "execution_count": null,
   "id": "2c85481a-9635-4b38-9788-f3070c7caed6",
   "metadata": {},
   "outputs": [],
   "source": [
    "new_list = []\n",
    "for index, text in enumerate(friday_data['text']):\n",
    "    # text = str(text)\n",
    "    new_list.append(friday_data['text'][index].lower())\n",
    "\n",
    "friday_data['pre_processed_data']= pd.DataFrame(new_list,columns=['text'])\n"
   ]
  },
  {
   "cell_type": "code",
   "execution_count": 28,
   "id": "dce24287-e854-48cd-91f8-39821bfaf24e",
   "metadata": {
    "scrolled": true
   },
   "outputs": [],
   "source": [
    "sunday_data = pd.read_csv(\"/home/zoetustain/code/zulu-tango/news_and_echo_bubbles/raw_data/predicted_sentiment.csv\")"
   ]
  },
  {
   "cell_type": "code",
   "execution_count": 29,
   "id": "20f2faf9-1c32-4fe2-a432-622d11004b63",
   "metadata": {},
   "outputs": [
    {
     "data": {
      "text/html": [
       "<div>\n",
       "<style scoped>\n",
       "    .dataframe tbody tr th:only-of-type {\n",
       "        vertical-align: middle;\n",
       "    }\n",
       "\n",
       "    .dataframe tbody tr th {\n",
       "        vertical-align: top;\n",
       "    }\n",
       "\n",
       "    .dataframe thead th {\n",
       "        text-align: right;\n",
       "    }\n",
       "</style>\n",
       "<table border=\"1\" class=\"dataframe\">\n",
       "  <thead>\n",
       "    <tr style=\"text-align: right;\">\n",
       "      <th></th>\n",
       "      <th>Unnamed: 0.2</th>\n",
       "      <th>Unnamed: 0.1</th>\n",
       "      <th>Unnamed: 0</th>\n",
       "      <th>link</th>\n",
       "      <th>pdate</th>\n",
       "      <th>title</th>\n",
       "      <th>author</th>\n",
       "      <th>text</th>\n",
       "      <th>time</th>\n",
       "      <th>article_length</th>\n",
       "      <th>urls</th>\n",
       "      <th>pre_process_text</th>\n",
       "      <th>pre_processed_data</th>\n",
       "      <th>5_step_classifier</th>\n",
       "      <th>lemmatize</th>\n",
       "      <th>keywords</th>\n",
       "      <th>pred_class</th>\n",
       "    </tr>\n",
       "  </thead>\n",
       "  <tbody>\n",
       "    <tr>\n",
       "      <th>0</th>\n",
       "      <td>0</td>\n",
       "      <td>0</td>\n",
       "      <td>0</td>\n",
       "      <td>https://www.theatlantic.com/ideas/archive/2023...</td>\n",
       "      <td>2023-12-01</td>\n",
       "      <td>Ron DeSantis Debates His Grievances</td>\n",
       "      <td>['David Frum']</td>\n",
       "      <td>For Gavin Newsom, the TV exposure had a clear ...</td>\n",
       "      <td>15:00:00+00:00</td>\n",
       "      <td>1240</td>\n",
       "      <td>www.theatlantic.com</td>\n",
       "      <td>For Gavin Newsom  the TV exposure had a clear ...</td>\n",
       "      <td>for gavin newsom, the tv exposure had a clear ...</td>\n",
       "      <td>-2.0</td>\n",
       "      <td>for gavin newsom, the tv exposure had a clear ...</td>\n",
       "      <td>{'desantis': 0.58, 'newsom': 0.529, 'fox': 0.1...</td>\n",
       "      <td>left</td>\n",
       "    </tr>\n",
       "    <tr>\n",
       "      <th>1</th>\n",
       "      <td>1</td>\n",
       "      <td>1</td>\n",
       "      <td>1</td>\n",
       "      <td>https://www.theatlantic.com/culture/archive/20...</td>\n",
       "      <td>2023-12-01</td>\n",
       "      <td>May December Exposes the Art of Self-Deception</td>\n",
       "      <td>['Shirley Li']</td>\n",
       "      <td>In Todd Haynes’s new film, May December, an ac...</td>\n",
       "      <td>13:00:00+00:00</td>\n",
       "      <td>1247</td>\n",
       "      <td>www.theatlantic.com</td>\n",
       "      <td>In Todd Haynes’s new film  May December  an ac...</td>\n",
       "      <td>in todd haynes’s new film, may december, an ac...</td>\n",
       "      <td>-2.0</td>\n",
       "      <td>in todd haynes’s new film, may december, an ac...</td>\n",
       "      <td>{'joe': 0.439, 'elizabeth': 0.409, 'film': 0.2...</td>\n",
       "      <td>left</td>\n",
       "    </tr>\n",
       "    <tr>\n",
       "      <th>2</th>\n",
       "      <td>2</td>\n",
       "      <td>2</td>\n",
       "      <td>2</td>\n",
       "      <td>https://www.theatlantic.com/culture/archive/20...</td>\n",
       "      <td>2023-12-01</td>\n",
       "      <td>She Made the Pop Album of the Year. But Is She...</td>\n",
       "      <td>['Spencer Kornhaber']</td>\n",
       "      <td>This year, the 29-year-old Ghanaian American s...</td>\n",
       "      <td>13:00:00+00:00</td>\n",
       "      <td>1314</td>\n",
       "      <td>www.theatlantic.com</td>\n",
       "      <td>This year  the  year old Ghanaian American sin...</td>\n",
       "      <td>this year, the 29-year-old ghanaian american s...</td>\n",
       "      <td>-2.0</td>\n",
       "      <td>this year, the 29-year-old ghanaian american s...</td>\n",
       "      <td>{'album': 0.46, 'music': 0.335, 'baby': 0.221,...</td>\n",
       "      <td>left</td>\n",
       "    </tr>\n",
       "    <tr>\n",
       "      <th>3</th>\n",
       "      <td>3</td>\n",
       "      <td>3</td>\n",
       "      <td>3</td>\n",
       "      <td>https://www.theatlantic.com/ideas/archive/2023...</td>\n",
       "      <td>2023-12-01</td>\n",
       "      <td>Inflation Is Your Fault</td>\n",
       "      <td>['Annie Lowrey']</td>\n",
       "      <td>You would think, with prices as high as they a...</td>\n",
       "      <td>12:41:00+00:00</td>\n",
       "      <td>918</td>\n",
       "      <td>www.theatlantic.com</td>\n",
       "      <td>You would think  with prices as high as they a...</td>\n",
       "      <td>you would think, with prices as high as they a...</td>\n",
       "      <td>-2.0</td>\n",
       "      <td>you would think, with price a high a they are,...</td>\n",
       "      <td>{'consumer': 0.317, 'price': 0.298, 'spending'...</td>\n",
       "      <td>left</td>\n",
       "    </tr>\n",
       "    <tr>\n",
       "      <th>4</th>\n",
       "      <td>4</td>\n",
       "      <td>4</td>\n",
       "      <td>4</td>\n",
       "      <td>https://www.theatlantic.com/ideas/archive/2023...</td>\n",
       "      <td>2023-12-01</td>\n",
       "      <td>What Kissinger Didn’t Understand</td>\n",
       "      <td>['George Packer']</td>\n",
       "      <td>Henry Kissinger spent half a century pursuing ...</td>\n",
       "      <td>12:31:00+00:00</td>\n",
       "      <td>1170</td>\n",
       "      <td>www.theatlantic.com</td>\n",
       "      <td>Henry Kissinger spent half a century pursuing ...</td>\n",
       "      <td>henry kissinger spent half a century pursuing ...</td>\n",
       "      <td>-2.0</td>\n",
       "      <td>henry kissinger spent half a century pursuing ...</td>\n",
       "      <td>{'wa': 0.283, 'human': 0.17, 'soviet': 0.153, ...</td>\n",
       "      <td>left</td>\n",
       "    </tr>\n",
       "    <tr>\n",
       "      <th>...</th>\n",
       "      <td>...</td>\n",
       "      <td>...</td>\n",
       "      <td>...</td>\n",
       "      <td>...</td>\n",
       "      <td>...</td>\n",
       "      <td>...</td>\n",
       "      <td>...</td>\n",
       "      <td>...</td>\n",
       "      <td>...</td>\n",
       "      <td>...</td>\n",
       "      <td>...</td>\n",
       "      <td>...</td>\n",
       "      <td>...</td>\n",
       "      <td>...</td>\n",
       "      <td>...</td>\n",
       "      <td>...</td>\n",
       "      <td>...</td>\n",
       "    </tr>\n",
       "    <tr>\n",
       "      <th>5131</th>\n",
       "      <td>5131</td>\n",
       "      <td>5131</td>\n",
       "      <td>5131</td>\n",
       "      <td>https://www.theepochtimes.com/business/pfizer-...</td>\n",
       "      <td>NaN</td>\n",
       "      <td>U.S. Steel Lays of Over 1,000 Workers as It 'I...</td>\n",
       "      <td>[]</td>\n",
       "      <td>The company said the decision is meant to to h...</td>\n",
       "      <td>NaN</td>\n",
       "      <td>797</td>\n",
       "      <td>www.theepochtimes.com</td>\n",
       "      <td>The company said the decision is meant to to h...</td>\n",
       "      <td>the company said the decision is meant to to h...</td>\n",
       "      <td>1.0</td>\n",
       "      <td>the company said the decision is meant to to h...</td>\n",
       "      <td>{'steel': 0.767, 'worker': 0.165, 'city': 0.15...</td>\n",
       "      <td>leans right</td>\n",
       "    </tr>\n",
       "    <tr>\n",
       "      <th>5132</th>\n",
       "      <td>5132</td>\n",
       "      <td>5132</td>\n",
       "      <td>5132</td>\n",
       "      <td>https://www.theepochtimes.com/business/apple-r...</td>\n",
       "      <td>NaN</td>\n",
       "      <td>Watchdog Group Alleges Unethical Alliance Betw...</td>\n",
       "      <td>[]</td>\n",
       "      <td>'If you want to talk about bad optics, I don’t...</td>\n",
       "      <td>NaN</td>\n",
       "      <td>1040</td>\n",
       "      <td>www.theepochtimes.com</td>\n",
       "      <td>If you want to talk about bad optics  I don’t...</td>\n",
       "      <td>'if you want to talk about bad optics, i don’t...</td>\n",
       "      <td>1.0</td>\n",
       "      <td>'if you want to talk about bad optics, i don’t...</td>\n",
       "      <td>{'wind': 0.6, 'project': 0.218, 'secretary': 0...</td>\n",
       "      <td>leans left</td>\n",
       "    </tr>\n",
       "    <tr>\n",
       "      <th>5133</th>\n",
       "      <td>5133</td>\n",
       "      <td>5133</td>\n",
       "      <td>5133</td>\n",
       "      <td>https://www.theepochtimes.com/us/watchdog-grou...</td>\n",
       "      <td>NaN</td>\n",
       "      <td>Deutsche Bank Actively Sought Out Trump’s Busi...</td>\n",
       "      <td>[]</td>\n",
       "      <td>A former banker with Deutsche Bank's private w...</td>\n",
       "      <td>NaN</td>\n",
       "      <td>1019</td>\n",
       "      <td>www.theepochtimes.com</td>\n",
       "      <td>A former banker with Deutsche Bank s private w...</td>\n",
       "      <td>a former banker with deutsche bank's private w...</td>\n",
       "      <td>1.0</td>\n",
       "      <td>a former banker with deutsche bank's private w...</td>\n",
       "      <td>{'trump': 0.509, 'bank': 0.439, 'president tru...</td>\n",
       "      <td>leans right</td>\n",
       "    </tr>\n",
       "    <tr>\n",
       "      <th>5134</th>\n",
       "      <td>5134</td>\n",
       "      <td>5134</td>\n",
       "      <td>5134</td>\n",
       "      <td>https://www.theepochtimes.com/us/family-of-mar...</td>\n",
       "      <td>NaN</td>\n",
       "      <td>Female Athletes Sue the University of Oregon A...</td>\n",
       "      <td>[]</td>\n",
       "      <td>Thirty-two female athletes filed a lawsuit aga...</td>\n",
       "      <td>NaN</td>\n",
       "      <td>626</td>\n",
       "      <td>www.theepochtimes.com</td>\n",
       "      <td>Thirty two female athletes filed a lawsuit aga...</td>\n",
       "      <td>thirty-two female athletes filed a lawsuit aga...</td>\n",
       "      <td>1.0</td>\n",
       "      <td>thirty-two female athlete filed a lawsuit agai...</td>\n",
       "      <td>{'oregon': 0.452, 'team': 0.265, 'beach': 0.25...</td>\n",
       "      <td>right</td>\n",
       "    </tr>\n",
       "    <tr>\n",
       "      <th>5135</th>\n",
       "      <td>5135</td>\n",
       "      <td>5135</td>\n",
       "      <td>5135</td>\n",
       "      <td>https://www.theepochtimes.com/epochtv/francois...</td>\n",
       "      <td>NaN</td>\n",
       "      <td>No. 3 Washington Rallies to Beat No. 5 Oregon ...</td>\n",
       "      <td>[]</td>\n",
       "      <td>LAS VEGAS—Michael Penix Jr. passed for 319 yar...</td>\n",
       "      <td>NaN</td>\n",
       "      <td>378</td>\n",
       "      <td>www.theepochtimes.com</td>\n",
       "      <td>LAS VEGAS—Michael Penix Jr  passed for  yards ...</td>\n",
       "      <td>las vegas—michael penix jr. passed for 319 yar...</td>\n",
       "      <td>1.0</td>\n",
       "      <td>la vegas—michael penix jr. passed for 319 yard...</td>\n",
       "      <td>{'oregon': 0.394, 'touchdown': 0.371, 'yard': ...</td>\n",
       "      <td>leans right</td>\n",
       "    </tr>\n",
       "  </tbody>\n",
       "</table>\n",
       "<p>5136 rows × 17 columns</p>\n",
       "</div>"
      ],
      "text/plain": [
       "      Unnamed: 0.2  Unnamed: 0.1  Unnamed: 0  \\\n",
       "0                0             0           0   \n",
       "1                1             1           1   \n",
       "2                2             2           2   \n",
       "3                3             3           3   \n",
       "4                4             4           4   \n",
       "...            ...           ...         ...   \n",
       "5131          5131          5131        5131   \n",
       "5132          5132          5132        5132   \n",
       "5133          5133          5133        5133   \n",
       "5134          5134          5134        5134   \n",
       "5135          5135          5135        5135   \n",
       "\n",
       "                                                   link       pdate  \\\n",
       "0     https://www.theatlantic.com/ideas/archive/2023...  2023-12-01   \n",
       "1     https://www.theatlantic.com/culture/archive/20...  2023-12-01   \n",
       "2     https://www.theatlantic.com/culture/archive/20...  2023-12-01   \n",
       "3     https://www.theatlantic.com/ideas/archive/2023...  2023-12-01   \n",
       "4     https://www.theatlantic.com/ideas/archive/2023...  2023-12-01   \n",
       "...                                                 ...         ...   \n",
       "5131  https://www.theepochtimes.com/business/pfizer-...         NaN   \n",
       "5132  https://www.theepochtimes.com/business/apple-r...         NaN   \n",
       "5133  https://www.theepochtimes.com/us/watchdog-grou...         NaN   \n",
       "5134  https://www.theepochtimes.com/us/family-of-mar...         NaN   \n",
       "5135  https://www.theepochtimes.com/epochtv/francois...         NaN   \n",
       "\n",
       "                                                  title  \\\n",
       "0                   Ron DeSantis Debates His Grievances   \n",
       "1        May December Exposes the Art of Self-Deception   \n",
       "2     She Made the Pop Album of the Year. But Is She...   \n",
       "3                               Inflation Is Your Fault   \n",
       "4                      What Kissinger Didn’t Understand   \n",
       "...                                                 ...   \n",
       "5131  U.S. Steel Lays of Over 1,000 Workers as It 'I...   \n",
       "5132  Watchdog Group Alleges Unethical Alliance Betw...   \n",
       "5133  Deutsche Bank Actively Sought Out Trump’s Busi...   \n",
       "5134  Female Athletes Sue the University of Oregon A...   \n",
       "5135  No. 3 Washington Rallies to Beat No. 5 Oregon ...   \n",
       "\n",
       "                     author  \\\n",
       "0            ['David Frum']   \n",
       "1            ['Shirley Li']   \n",
       "2     ['Spencer Kornhaber']   \n",
       "3          ['Annie Lowrey']   \n",
       "4         ['George Packer']   \n",
       "...                     ...   \n",
       "5131                     []   \n",
       "5132                     []   \n",
       "5133                     []   \n",
       "5134                     []   \n",
       "5135                     []   \n",
       "\n",
       "                                                   text            time  \\\n",
       "0     For Gavin Newsom, the TV exposure had a clear ...  15:00:00+00:00   \n",
       "1     In Todd Haynes’s new film, May December, an ac...  13:00:00+00:00   \n",
       "2     This year, the 29-year-old Ghanaian American s...  13:00:00+00:00   \n",
       "3     You would think, with prices as high as they a...  12:41:00+00:00   \n",
       "4     Henry Kissinger spent half a century pursuing ...  12:31:00+00:00   \n",
       "...                                                 ...             ...   \n",
       "5131  The company said the decision is meant to to h...             NaN   \n",
       "5132  'If you want to talk about bad optics, I don’t...             NaN   \n",
       "5133  A former banker with Deutsche Bank's private w...             NaN   \n",
       "5134  Thirty-two female athletes filed a lawsuit aga...             NaN   \n",
       "5135  LAS VEGAS—Michael Penix Jr. passed for 319 yar...             NaN   \n",
       "\n",
       "      article_length                   urls  \\\n",
       "0               1240    www.theatlantic.com   \n",
       "1               1247    www.theatlantic.com   \n",
       "2               1314    www.theatlantic.com   \n",
       "3                918    www.theatlantic.com   \n",
       "4               1170    www.theatlantic.com   \n",
       "...              ...                    ...   \n",
       "5131             797  www.theepochtimes.com   \n",
       "5132            1040  www.theepochtimes.com   \n",
       "5133            1019  www.theepochtimes.com   \n",
       "5134             626  www.theepochtimes.com   \n",
       "5135             378  www.theepochtimes.com   \n",
       "\n",
       "                                       pre_process_text  \\\n",
       "0     For Gavin Newsom  the TV exposure had a clear ...   \n",
       "1     In Todd Haynes’s new film  May December  an ac...   \n",
       "2     This year  the  year old Ghanaian American sin...   \n",
       "3     You would think  with prices as high as they a...   \n",
       "4     Henry Kissinger spent half a century pursuing ...   \n",
       "...                                                 ...   \n",
       "5131  The company said the decision is meant to to h...   \n",
       "5132   If you want to talk about bad optics  I don’t...   \n",
       "5133  A former banker with Deutsche Bank s private w...   \n",
       "5134  Thirty two female athletes filed a lawsuit aga...   \n",
       "5135  LAS VEGAS—Michael Penix Jr  passed for  yards ...   \n",
       "\n",
       "                                     pre_processed_data  5_step_classifier  \\\n",
       "0     for gavin newsom, the tv exposure had a clear ...               -2.0   \n",
       "1     in todd haynes’s new film, may december, an ac...               -2.0   \n",
       "2     this year, the 29-year-old ghanaian american s...               -2.0   \n",
       "3     you would think, with prices as high as they a...               -2.0   \n",
       "4     henry kissinger spent half a century pursuing ...               -2.0   \n",
       "...                                                 ...                ...   \n",
       "5131  the company said the decision is meant to to h...                1.0   \n",
       "5132  'if you want to talk about bad optics, i don’t...                1.0   \n",
       "5133  a former banker with deutsche bank's private w...                1.0   \n",
       "5134  thirty-two female athletes filed a lawsuit aga...                1.0   \n",
       "5135  las vegas—michael penix jr. passed for 319 yar...                1.0   \n",
       "\n",
       "                                              lemmatize  \\\n",
       "0     for gavin newsom, the tv exposure had a clear ...   \n",
       "1     in todd haynes’s new film, may december, an ac...   \n",
       "2     this year, the 29-year-old ghanaian american s...   \n",
       "3     you would think, with price a high a they are,...   \n",
       "4     henry kissinger spent half a century pursuing ...   \n",
       "...                                                 ...   \n",
       "5131  the company said the decision is meant to to h...   \n",
       "5132  'if you want to talk about bad optics, i don’t...   \n",
       "5133  a former banker with deutsche bank's private w...   \n",
       "5134  thirty-two female athlete filed a lawsuit agai...   \n",
       "5135  la vegas—michael penix jr. passed for 319 yard...   \n",
       "\n",
       "                                               keywords   pred_class  \n",
       "0     {'desantis': 0.58, 'newsom': 0.529, 'fox': 0.1...         left  \n",
       "1     {'joe': 0.439, 'elizabeth': 0.409, 'film': 0.2...         left  \n",
       "2     {'album': 0.46, 'music': 0.335, 'baby': 0.221,...         left  \n",
       "3     {'consumer': 0.317, 'price': 0.298, 'spending'...         left  \n",
       "4     {'wa': 0.283, 'human': 0.17, 'soviet': 0.153, ...         left  \n",
       "...                                                 ...          ...  \n",
       "5131  {'steel': 0.767, 'worker': 0.165, 'city': 0.15...  leans right  \n",
       "5132  {'wind': 0.6, 'project': 0.218, 'secretary': 0...   leans left  \n",
       "5133  {'trump': 0.509, 'bank': 0.439, 'president tru...  leans right  \n",
       "5134  {'oregon': 0.452, 'team': 0.265, 'beach': 0.25...        right  \n",
       "5135  {'oregon': 0.394, 'touchdown': 0.371, 'yard': ...  leans right  \n",
       "\n",
       "[5136 rows x 17 columns]"
      ]
     },
     "execution_count": 29,
     "metadata": {},
     "output_type": "execute_result"
    }
   ],
   "source": [
    "sunday_data"
   ]
  },
  {
   "cell_type": "code",
   "execution_count": 131,
   "id": "2bc504d3-c5ce-4417-a5b6-316c3ebd7739",
   "metadata": {},
   "outputs": [],
   "source": [
    "import ast"
   ]
  },
  {
   "cell_type": "code",
   "execution_count": 133,
   "id": "94627e3a-0810-4504-a57a-1fdf4dbd5de4",
   "metadata": {},
   "outputs": [
    {
     "name": "stderr",
     "output_type": "stream",
     "text": [
      "/tmp/ipykernel_766738/207199452.py:1: SettingWithCopyWarning: \n",
      "A value is trying to be set on a copy of a slice from a DataFrame\n",
      "\n",
      "See the caveats in the documentation: https://pandas.pydata.org/pandas-docs/stable/user_guide/indexing.html#returning-a-view-versus-a-copy\n",
      "  sunday_data.keywords[0] = ast.literal_eval(sunday_data.keywords[0])\n"
     ]
    }
   ],
   "source": [
    "sunday_data.keywords[0] = ast.literal_eval(sunday_data.keywords[0])"
   ]
  },
  {
   "cell_type": "code",
   "execution_count": 138,
   "id": "b159a608-2297-497c-aa50-487dbb612ee2",
   "metadata": {
    "scrolled": true
   },
   "outputs": [
    {
     "data": {
      "text/plain": [
       "dict"
      ]
     },
     "execution_count": 138,
     "metadata": {},
     "output_type": "execute_result"
    }
   ],
   "source": [
    "type(sunday_data['keywords'].iloc[0])"
   ]
  },
  {
   "cell_type": "code",
   "execution_count": 59,
   "id": "739f8ba7-71dd-4a0b-9597-dea0ce3fb488",
   "metadata": {},
   "outputs": [],
   "source": [
    "def biases():\n",
    "    df = sunday_data\n",
    "    mask_ll = df['pred_class'] =='left'\n",
    "    mask_l = df['pred_class'] =='leans left'\n",
    "    mask_c = df['pred_class'] =='centre'\n",
    "    mask_r = df['pred_class'] =='leans right'\n",
    "    mask_rr = df['pred_class'] =='right'\n",
    "    df_ll = df[mask_ll]\n",
    "    df_ll.reset_index(drop=True,inplace=True)\n",
    "    df_l = df[mask_l]\n",
    "    df_l.reset_index(drop=True,inplace=True)\n",
    "    df_c = df[mask_c]\n",
    "    df_c.reset_index(drop=True,inplace=True)\n",
    "    df_r = df[mask_r]\n",
    "    df_r.reset_index(drop=True,inplace=True)\n",
    "    df_rr = df[mask_rr]\n",
    "    df_rr.reset_index(drop=True,inplace=True)\n",
    "    return df_ll, df_l, df_c, df_r, df_rr"
   ]
  },
  {
   "cell_type": "code",
   "execution_count": 98,
   "id": "e8cd982b-a1f4-4ae1-8d2c-152a7d0e6d08",
   "metadata": {},
   "outputs": [],
   "source": [
    "def search_keyword():\n",
    "    #search from raw data post-embedding and training\n",
    "    #find way to search from sql for streamlit demo\n",
    "    df_ll, df_l, df_c, df_r, df_rr = biases()\n",
    "    df_list = [df_ll, df_l, df_c, df_r, df_rr]\n",
    "\n",
    "    keyword = input('searchword: ')\n",
    "    returned_articles = []\n",
    "    for index, row in enumerate(df_ll.keywords):\n",
    "        if keyword in row:\n",
    "            returned_articles.append((df_ll['text'][index],df_ll.keywords[index]))\n",
    "    initial_output = pd.DataFrame(returned_articles,columns=[f'text_{df_ll.pred_class[0]}','keyword_score'])\n",
    "   \n",
    "    initial_output = initial_output['keyword_score']\n",
    "\n",
    "    return initial_output[:1].info()"
   ]
  },
  {
   "cell_type": "code",
   "execution_count": 99,
   "id": "7e1edd7b-0fa3-4ee3-a218-e57a746cd1a3",
   "metadata": {},
   "outputs": [
    {
     "name": "stdin",
     "output_type": "stream",
     "text": [
      "searchword:  biden\n"
     ]
    },
    {
     "name": "stdout",
     "output_type": "stream",
     "text": [
      "<class 'pandas.core.series.Series'>\n",
      "RangeIndex: 1 entries, 0 to 0\n",
      "Series name: keyword_score\n",
      "Non-Null Count  Dtype \n",
      "--------------  ----- \n",
      "1 non-null      object\n",
      "dtypes: object(1)\n",
      "memory usage: 136.0+ bytes\n"
     ]
    }
   ],
   "source": [
    "search_keyword()"
   ]
  },
  {
   "cell_type": "code",
   "execution_count": 110,
   "id": "a5f0f8d5-3ce6-4c9a-aaa5-d6a56671cc1a",
   "metadata": {},
   "outputs": [
    {
     "data": {
      "text/plain": [
       "\"{'joe': 0.439, 'elizabeth': 0.409, 'film': 0.234, 'december': 0.199, 'actor': 0.107, 'character': 0.105, 'ha': 0.099, 'woman': 0.097, 'portrait': 0.093, 'moore': 0.092}\""
      ]
     },
     "execution_count": 110,
     "metadata": {},
     "output_type": "execute_result"
    }
   ],
   "source": [
    "df_ll.keywords[1]"
   ]
  },
  {
   "cell_type": "code",
   "execution_count": null,
   "id": "e3c165b8-a143-4336-af09-7a43f1cb1765",
   "metadata": {},
   "outputs": [],
   "source": []
  }
 ],
 "metadata": {
  "kernelspec": {
   "display_name": "Python 3 (ipykernel)",
   "language": "python",
   "name": "python3"
  },
  "language_info": {
   "codemirror_mode": {
    "name": "ipython",
    "version": 3
   },
   "file_extension": ".py",
   "mimetype": "text/x-python",
   "name": "python",
   "nbconvert_exporter": "python",
   "pygments_lexer": "ipython3",
   "version": "3.10.6"
  }
 },
 "nbformat": 4,
 "nbformat_minor": 5
}
