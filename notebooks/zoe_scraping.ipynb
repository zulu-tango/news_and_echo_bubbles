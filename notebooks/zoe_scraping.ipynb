{
 "cells": [
  {
   "cell_type": "code",
   "execution_count": null,
   "id": "ce5acebd-4f05-47d2-97d4-47f62cb687ee",
   "metadata": {},
   "outputs": [],
   "source": [
    "!pip install textblob"
   ]
  },
  {
   "cell_type": "code",
   "execution_count": null,
   "id": "93a92e6b-6916-417e-97ad-8a16273f2fc4",
   "metadata": {},
   "outputs": [],
   "source": [
    "nltk.download('vader_lexicon')\n",
    "nltk.download('punkt')"
   ]
  },
  {
   "cell_type": "code",
   "execution_count": 1,
   "id": "c537acde-8f4e-46d0-b019-989515fd6406",
   "metadata": {},
   "outputs": [],
   "source": [
    "#!pip install newspaper3k\n",
    "from newspaper import Article\n",
    "import newspaper\n",
    "from textblob import TextBlob\n",
    "import nltk\n",
    "\n",
    "from textblob import TextBlob\n",
    "from nltk.sentiment import SentimentIntensityAnalyzer\n",
    "sia = SentimentIntensityAnalyzer()\n"
   ]
  },
  {
   "cell_type": "code",
   "execution_count": 2,
   "id": "5e0c1f2a-6940-449b-83f0-f3b68bd7abc3",
   "metadata": {},
   "outputs": [],
   "source": [
    "import pandas as pd"
   ]
  },
  {
   "cell_type": "code",
   "execution_count": null,
   "id": "5bcf9e48-d379-4a85-8f4c-6cca6bfe28b1",
   "metadata": {},
   "outputs": [],
   "source": [
    "link_lst_1 = ['https://www.propublica.org/',\n",
    " 'https://www.time.com/',\n",
    " 'https://www.washingtonpost.com/',\n",
    " 'https://www.usatoday.com/']"
   ]
  },
  {
   "cell_type": "code",
   "execution_count": null,
   "id": "976b4f50-695f-4006-ac0d-0bd1a7189d7a",
   "metadata": {},
   "outputs": [],
   "source": [
    "link_lst_2 = ['https://www.yahoo.com/',\n",
    " 'https://www.csmonitor.com/',\n",
    " 'https://www.newsweek.com/',\n",
    " 'https://www.reuters.com/']"
   ]
  },
  {
   "cell_type": "code",
   "execution_count": null,
   "id": "1f177430-4d1e-4eec-9283-f08ed2c17899",
   "metadata": {},
   "outputs": [],
   "source": [
    "link_lst_3 = ['https://www.realclearpolitics.com/',\n",
    " 'https://www.thehill.com/',\n",
    " 'https://www.wsj.com/',\n",
    " 'https://www.theepochtimes.com/']"
   ]
  },
  {
   "cell_type": "code",
   "execution_count": null,
   "id": "f41e46a8-21eb-42b3-aa0a-b9a597cb567d",
   "metadata": {},
   "outputs": [],
   "source": [
    "def news_scraper(link_):\n",
    "\n",
    "    link=[]\n",
    "    title=[]\n",
    "    text=[]\n",
    "    author=[]\n",
    "    pdate=[]\n",
    "    keywords=[]\n",
    "    tags=[]\n",
    "    compound=[]\n",
    "    neg=[]\n",
    "    neu=[]\n",
    "    pos=[]\n",
    "    polarity=[]\n",
    "    subjectivity=[]\n",
    "\n",
    "    for x in link_:\n",
    "        cnn_pape = newspaper.build(x,language='en',memorize='false')\n",
    "        print(\"links from\",x,\"=\",len(cnn_pape.articles))\n",
    "        for article in cnn_pape.articles:\n",
    "            try:\n",
    "                link.append(article.url)\n",
    "                article.download()\n",
    "                article.parse()\n",
    "                article.nlp()\n",
    "                v=sia.polarity_scores(article.text)\n",
    "                compound.append(v[\"compound\"])\n",
    "                neg.append(v[\"neg\"])\n",
    "                neu.append(v[\"neu\"])\n",
    "                pos.append(v[\"pos\"])\n",
    "                testimonial = TextBlob(article.text)\n",
    "                polarity.append(testimonial.sentiment.polarity)\n",
    "                subjectivity.append(testimonial.sentiment.subjectivity)\n",
    "                title.append(article.title)\n",
    "                text.append(article.text)\n",
    "                author.append(article.authors)\n",
    "                pdate.append(article.publish_date)\n",
    "                keywords.append(article.keywords)\n",
    "                tags.append(article.tags)\n",
    "            except:\n",
    "                print('Link Failed - ', article.url)\n",
    "                continue\n",
    "        print(\"Total Links - \" , len(link))\n",
    "        print(\"**Finished Parsing**\")\n",
    "        \n",
    "    tt=list(zip(link,pdate,title,author,text,keywords,tags,compound,neg,neu,pos,polarity,subjectivity))\n",
    "    d1=pd.DataFrame(tt,columns=['link','pdate','title','author','text','keywords','tags','compound','neg','neu','pos','polarity','subjectivity'])\n",
    "    \n",
    "    return d1"
   ]
  },
  {
   "cell_type": "code",
   "execution_count": null,
   "id": "38dce9e5-8318-4cd7-8c81-b405ec7967c0",
   "metadata": {},
   "outputs": [],
   "source": [
    "new_data_1 = news_scraper(link_lst_1)"
   ]
  },
  {
   "cell_type": "code",
   "execution_count": null,
   "id": "775bfee5-8ec6-42e0-b755-19a9e6f22ff1",
   "metadata": {},
   "outputs": [],
   "source": [
    "new_data_2 = news_scraper(link_lst_2)"
   ]
  },
  {
   "cell_type": "code",
   "execution_count": null,
   "id": "ba7ea98a-ed41-4610-9b50-9f03d2b8ae35",
   "metadata": {
    "scrolled": true
   },
   "outputs": [],
   "source": [
    "new_data_3 = news_scraper(link_lst_3)"
   ]
  },
  {
   "cell_type": "code",
   "execution_count": null,
   "id": "b3c35872-b825-498e-b2c7-eea2141eac49",
   "metadata": {},
   "outputs": [],
   "source": [
    "new_data_1.to_csv(\"/home/zoetustain/code/zulu-tango/news_and_echo_bubbles/raw_data/scraped_data_zoe_1.csv\")"
   ]
  },
  {
   "cell_type": "code",
   "execution_count": null,
   "id": "d0b4abd0-a5c1-41f0-bd45-041d87aad53f",
   "metadata": {},
   "outputs": [],
   "source": [
    "new_data_2.to_csv(\"/home/zoetustain/code/zulu-tango/news_and_echo_bubbles/raw_data/scraped_data_zoe_2.csv\")"
   ]
  },
  {
   "cell_type": "code",
   "execution_count": null,
   "id": "be00c6e8-c16f-40a1-9751-a17ec9855908",
   "metadata": {},
   "outputs": [],
   "source": [
    "new_data_3.to_csv(\"/home/zoetustain/code/zulu-tango/news_and_echo_bubbles/raw_data/scraped_data_zoe_3.csv\")"
   ]
  },
  {
   "cell_type": "code",
   "execution_count": null,
   "id": "48a7a886-2c30-4798-8474-e4cddca6d514",
   "metadata": {},
   "outputs": [],
   "source": [
    "combined_df = pd.concat([new_data_1,new_data_2,new_data_3])\n"
   ]
  },
  {
   "cell_type": "code",
   "execution_count": null,
   "id": "8cc0ec7a-057f-46c1-bab5-a0f47150612b",
   "metadata": {},
   "outputs": [],
   "source": [
    "combined_df.to_csv(\"/home/zoetustain/code/zulu-tango/news_and_echo_bubbles/raw_data/scraped_data_zoe_combined.csv\")"
   ]
  },
  {
   "cell_type": "code",
   "execution_count": null,
   "id": "d27a705b-5b3f-4178-a421-98ba4f3667c9",
   "metadata": {},
   "outputs": [],
   "source": [
    "!pwd"
   ]
  },
  {
   "cell_type": "code",
   "execution_count": null,
   "id": "7a2d5d76-08f2-46eb-82c6-c56350f8e717",
   "metadata": {},
   "outputs": [],
   "source": [
    "barney_data = pd.read_csv('/home/zoetustain/code/zulu-tango/news_and_echo_bubbles/raw_data/BK_fri_scrape.csv')"
   ]
  },
  {
   "cell_type": "code",
   "execution_count": null,
   "id": "2db4d1a1-7da7-460f-acec-40baecbe9887",
   "metadata": {},
   "outputs": [],
   "source": [
    "gigi_data = pd.read_csv('/home/zoetustain/code/zulu-tango/news_and_echo_bubbles/raw_data/gigi_scraping_pt1.csv')"
   ]
  },
  {
   "cell_type": "code",
   "execution_count": null,
   "id": "85f2dd34-bb2f-452e-a5cb-8772dc9d9a74",
   "metadata": {},
   "outputs": [],
   "source": [
    "friday_data = pd.concat([barney_data,combined_df,gigi_data])"
   ]
  },
  {
   "cell_type": "code",
   "execution_count": null,
   "id": "516c2c46-c84a-4da9-87bc-99ff27c7bd2a",
   "metadata": {},
   "outputs": [],
   "source": [
    "friday_data = pd.read_csv(\"/home/zoetustain/code/zulu-tango/news_and_echo_bubbles/raw_data/friday_data.csv\")"
   ]
  },
  {
   "cell_type": "code",
   "execution_count": null,
   "id": "d4e0c1c5-2c7f-4157-b901-a51db614b623",
   "metadata": {},
   "outputs": [],
   "source": [
    "scoring_dict = {'www.alternet.org': -2,\n",
    "                            'www.theatlantic.com': -2,\n",
    "                            'www.democracynow.org': -2,\n",
    "                            'www.thedailybeast.com': -2,\n",
    "                            'www.huffpost.com': -2,\n",
    "                            'www.theintercept.com': -2,\n",
    "                            'www.jacobinmag.com': -2,\n",
    "                            'www.motherjones.com': -2,\n",
    "                            'www.msnbc.com': -2,\n",
    "                            'www.newyorker.com': -2,\n",
    "                            'www.nytimes.com': -1,\n",
    "                            'www.thenation.com': -2,\n",
    "                            'www.slate.com': -2,\n",
    "                            'www.vox.com': -2,\n",
    "                            'www.abcnews.go.com': -1,\n",
    "                            'apnews.com': -1,\n",
    "                            'www.axios.com': -1,\n",
    "                            'www.bloomberg.com': -1,\n",
    "                            'www.cbsnews.com': -1,\n",
    "                            'www.cnn.com': -1,\n",
    "                            'www.theguardian.com': -1,\n",
    "                            'www.insider.com': -1,\n",
    "                            'www.nbcnews.com': -1,\n",
    "                            'www.npr.org': -1,\n",
    "                            'www.politico.com': -1,\n",
    "                            'www.propublica.org': -1,\n",
    "                            'www.time.com': -1,\n",
    "                            'www.washingtonpost.com': -1,\n",
    "                            'www.usatoday.com': -1,\n",
    "                            'www.yahoo.com': -1,\n",
    "                            'www.bbc.com': 0,\n",
    "                            'www.csmonitor.com': 0,\n",
    "                            'www.forbes.com': 0,\n",
    "                            'www.marketwatch.com': 0,\n",
    "                            'www.newsnationnow.com': 0,\n",
    "                            'www.newsweek.com': 0,\n",
    "                            'www.reuters.com': 0,\n",
    "                            'www.realclearpolitics.com': 0,\n",
    "                            'www.thehill.com': 0,\n",
    "                            'www.wsj.com': 1,\n",
    "                            'www.thedispatch.com': 1,\n",
    "                            'www.theepochtimes.com': 1,\n",
    "                            'www.foxbusiness.com': 1,\n",
    "                            'www.nationalreview.com': 2,\n",
    "                            'www.nypost.com': 2,\n",
    "                            'www.reason.com': 1,\n",
    "                            'www.washingtonexaminer.com': 1,\n",
    "                            'www.washingtontimes.com': 1,\n",
    "                            'www.theamericanconservative.com': 2,\n",
    "                            'www.spectator.org': 2,\n",
    "                            'www.breitbart.com': 2,\n",
    "                            'www.theblaze.com': 2,\n",
    "                            'www.cbn.com': 2,\n",
    "                            'www.dailycaller.com': 2,\n",
    "                            'www.dailymail.co.uk': 2,\n",
    "                            'www.dailywire.com': 2,\n",
    "                            'www.thepostmillennial.com': 2,\n",
    "                            'www.foxnews.com': 2,\n",
    "                            'www.thefederalist.com': 2,\n",
    "                            'www.ijr.com': 2,\n",
    "                            'www.newsmax.com': 2,\n",
    "                            'www.freebeacon.com': 2,\n",
    "                            'www.oann.com': 2,'thedailybeast.freshdesk.com':-2,\n",
    "                   'theathletic.com': -2,\n",
    "                   'cooking.nytimes.com':-1, \n",
    "                   'cn.nytimes.com':-1, \n",
    "                   'www.hulu.com':-1,\n",
    "                   'www.bloomberg.co.jp':-1,\n",
    "                   'bloomberg.com':-1,\n",
    "                   'tunein.com':-1,\n",
    "                   'www.paramountplus.com':-1,\n",
    "                   'projects.propublica.org':-1,\n",
    "                   'features.propublica.org':-1,\n",
    "                   'time.com':-1,\n",
    "                   'cm.usatoday.com':-1,\n",
    "                   'reviewed.usatoday.com':-1,\n",
    "                   'puzzles.usatoday.com':-1,\n",
    "                   'finance.yahoo.com':-1,\n",
    "                   'sports.yahoo.com':-1,\n",
    "                   'news.yahoo.com':-1,\n",
    "                   'autos.yahoo.com':-1,\n",
    "                   'sg.yahoo.com':-1,\n",
    "                   'sg.news.yahoo.com':-1,\n",
    "                   'sg.finance.yahoo.com':-1, \n",
    "                   'sg.style.yahoo.com':-1,\n",
    "                   'tw.news.yahoo.com':-1,\n",
    "                   'tw.sports.yahoo.com':-1,\n",
    "                   'travel.yahoo.com.tw':-1,\n",
    "                   'autos.yahoo.com.tw':-1,\n",
    "                   'style.yahoo.com.tw':-1,\n",
    "                   'www.edh.tw':-1,\n",
    "                   'tw.tv.yahoo.com':-1,\n",
    "                   'tw.promo.yahoo.com':-1, \n",
    "                   'movies.yahoo.com.tw':-1,\n",
    "                   'uk.yahoo.com':-1,\n",
    "                   'uk.news.yahoo.com':-1, \n",
    "                   'uk.style.yahoo.com':-1,\n",
    "                   'uk.finance.yahoo.com':-1,\n",
    "                   'uk.sports.yahoo.com':-1,\n",
    "                   'qc.yahoo.com':-1,\n",
    "                   'fr.style.yahoo.com':-1,\n",
    "                   'fr.news.yahoo.com':-1,\n",
    "                   'ca.sports.yahoo.com':-1,\n",
    "                   'espanol.yahoo.com':-1,\n",
    "                   'es-us.noticias.yahoo.com':-1, \n",
    "                   'es-us.finanzas.yahoo.com':-1,\n",
    "                   'es-us.vida-estilo.yahoo.com':-1,\n",
    "                   'hk.news.yahoo.com':-1,\n",
    "                   'hk.finance.yahoo.com':-1,\n",
    "                   'ca.yahoo.com':-1,\n",
    "                   'ca.news.yahoo.com':-1,\n",
    "                   'ca.finance.yahoo.com':-1, \n",
    "                   'ca.style.yahoo.com':-1,\n",
    "                   'malaysia.yahoo.com':-1,\n",
    "                   'malaysia.news.yahoo.com':-1,\n",
    "                   'www.the-independent.com':-1,\n",
    "                   'au.yahoo.com':-1,\n",
    "                   'au.lifestyle.yahoo.com':-1,\n",
    "                   'au.news.yahoo.com':-1,\n",
    "                   'au.sports.yahoo.com':-1,\n",
    "                   'au.finance.yahoo.com':-1,\n",
    "                   'de.yahoo.com':-1,\n",
    "                   'de.nachrichten.yahoo.com':-1, \n",
    "                   'de.style.yahoo.com':-1,\n",
    "                   'de.finance.yahoo.com':-1,\n",
    "                   'www.artnews.com':-1,\n",
    "                   'nypost.com':1,\n",
    "                   'captimes.com':-1,\n",
    "                   'reuters.com':-0,\n",
    "                   'wsj.com':-0,\n",
    "                   'staging.theepochtimes.com':1,\n",
    "                   'theepochtimes.gr':1,\n",
    "                   'es.theepochtimes.com':1,\n",
    "                   'help.theepochtimes.au':1}"
   ]
  },
  {
   "cell_type": "code",
   "execution_count": null,
   "id": "f224d59f-571c-4d42-a987-6deb3b105f85",
   "metadata": {},
   "outputs": [],
   "source": [
    "to check ={'pagesix.com':1,\n",
    "                   'decider.com':1,\n",
    "                   'reason.com':1,\n",
    "                   'www.thefire.org':1, \n",
    "                   'law.justia.com':1,\n",
    "                   'www.inquirer.com':1,\n",
    "                   'www.thedp.com':1,\n",
    "                   'ndlawreview.org':1,\n",
    "                   'www.lawfaremedia.org':1,\n",
    "                   'www.ca5.uscourts.gov':1, \n",
    "                   'pacificlegal.org':1,\n",
    "                   'thehill.com':1,\n",
    "                   'volokh.com':1,\n",
    "                   'marketurbanism.com':1,\n",
    "                   'web.archive.org':1,\n",
    "                   'johnhcochrane.blogspot.com':1,\n",
    "                   'tushnet.blogspot.com':1,\n",
    "                   'www.scotusblog.com':1,\n",
    "                   'www.yalejreg.com':0,\n",
    "                   'www.oyez.org':1,\n",
    "                   'reason.plannedgiving.org':1,\n",
    "                   'reason.org':1}"
   ]
  },
  {
   "cell_type": "code",
   "execution_count": null,
   "id": "3b951645-d9f8-457f-b105-00b1f1e6ed85",
   "metadata": {},
   "outputs": [],
   "source": [
    "scoring_updated = {'thedailybeast.freshdesk.com':-2,\n",
    "                   'theathletic.com': -2,\n",
    "                   'cooking.nytimes.com':-1, \n",
    "                   'cn.nytimes.com':-1, \n",
    "                   'www.hulu.com':-1,\n",
    "                   'www.bloomberg.co.jp':-1,\n",
    "                   'bloomberg.com',:-1,\n",
    "                   'tunein.com':-1,\n",
    "                   'www.paramountplus.com':-1,\n",
    "                   'projects.propublica.org':-1,\n",
    "                   'features.propublica.org':-1,\n",
    "                   'time.com':-1,\n",
    "                   'cm.usatoday.com':-1,\n",
    "                   'reviewed.usatoday.com':-1,\n",
    "                   'puzzles.usatoday.com':-1,\n",
    "                   'finance.yahoo.com':-1,\n",
    "                   'sports.yahoo.com':-1,\n",
    "                   'news.yahoo.com':-1,\n",
    "                   'autos.yahoo.com':-1,\n",
    "                   'sg.yahoo.com':-1,\n",
    "                   'sg.news.yahoo.com':-1,\n",
    "                   'sg.finance.yahoo.com':-1, \n",
    "                   'sg.style.yahoo.com':-1,\n",
    "                   'tw.news.yahoo.com':-1,\n",
    "                   'tw.sports.yahoo.com':-1,\n",
    "                   'travel.yahoo.com.tw':-1,\n",
    "                   'autos.yahoo.com.tw':-1,\n",
    "                   'style.yahoo.com.tw':-1,\n",
    "                   'www.edh.tw':-1,\n",
    "                   'tw.tv.yahoo.com':-1,\n",
    "                   'tw.promo.yahoo.com':-1, \n",
    "                   'movies.yahoo.com.tw':-1,\n",
    "                   'uk.yahoo.com':-1,\n",
    "                   'uk.news.yahoo.com':-1, \n",
    "                   'uk.style.yahoo.com':-1,\n",
    "                   'uk.finance.yahoo.com':-1,\n",
    "                   'uk.sports.yahoo.com':-1,\n",
    "                   'qc.yahoo.com':-1,\n",
    "                   'fr.style.yahoo.com':-1,\n",
    "                   'fr.news.yahoo.com':-1,\n",
    "                   'ca.sports.yahoo.com':-1,\n",
    "                   'espanol.yahoo.com':-1,\n",
    "                   'es-us.noticias.yahoo.com':-1, \n",
    "                   'es-us.finanzas.yahoo.com':-1,\n",
    "                   'es-us.vida-estilo.yahoo.com':-1,\n",
    "                   'hk.news.yahoo.com':-1,\n",
    "                   'hk.finance.yahoo.com':-1,\n",
    "                   'ca.yahoo.com':-1,\n",
    "                   'ca.news.yahoo.com':-1,\n",
    "                   'ca.finance.yahoo.com':-1, \n",
    "                   'ca.style.yahoo.com':-1,\n",
    "                   'malaysia.yahoo.com':-1,\n",
    "                   'malaysia.news.yahoo.com':-1,\n",
    "                   'www.the-independent.com':-1,\n",
    "                   'au.yahoo.com':-1,\n",
    "                   'au.lifestyle.yahoo.com':-1,\n",
    "                   'au.news.yahoo.com':-1,\n",
    "                   'au.sports.yahoo.com':-1,\n",
    "                   'au.finance.yahoo.com':-1,\n",
    "                   'de.yahoo.com':-1,\n",
    "                   'de.nachrichten.yahoo.com':-1, \n",
    "                   'de.style.yahoo.com':-1,\n",
    "                   'de.finance.yahoo.com':-1,\n",
    "                   'www.artnews.com':-1,\n",
    "                   'nypost.com':1,\n",
    "                   'captimes.com':-1,\n",
    "                   'reuters.com':-0,\n",
    "                   'wsj.com':-0,\n",
    "                   'staging.theepochtimes.com':1,\n",
    "                   'theepochtimes.gr':1,\n",
    "                   'es.theepochtimes.com':1,\n",
    "                   'help.theepochtimes.au':1,\n",
    "                   'pagesix.com':1,\n",
    "                   'decider.com':1,\n",
    "                   'reason.com':1,\n",
    "                   'www.thefire.org':1, \n",
    "                   'law.justia.com':1,\n",
    "                   'www.inquirer.com':1,\n",
    "                   'www.thedp.com':1,\n",
    "                   'ndlawreview.org':1,\n",
    "                   'www.lawfaremedia.org':1,\n",
    "                   'www.ca5.uscourts.gov':1, \n",
    "                   'pacificlegal.org':1,\n",
    "                   'thehill.com':1,\n",
    "                   'volokh.com':1,\n",
    "                   'marketurbanism.com':1,\n",
    "                   'web.archive.org':1,\n",
    "                   'johnhcochrane.blogspot.com':1,\n",
    "                   'tushnet.blogspot.com':1,\n",
    "                   'www.scotusblog.com':1,\n",
    "                   'www.yalejreg.com':1,\n",
    "                   'www.oyez.org':1,\n",
    "                   'reason.plannedgiving.org':1,\n",
    "                   'reason.org':1}"
   ]
  },
  {
   "cell_type": "code",
   "execution_count": null,
   "id": "ef16758a-6c21-4a77-b5e2-b12fab693ace",
   "metadata": {},
   "outputs": [],
   "source": [
    "urls= ['thedailybeast.freshdesk.com',\n",
    "       'theathletic.com', 'cooking.nytimes.com',\n",
    "       'cn.nytimes.com', 'www.vox.com', 'apnews.com', 'www.bloomberg.com',\n",
    "       'www.hulu.com', 'www.bloomberg.co.jp', 'bloomberg.com',\n",
    "       'tunein.com', 'www.cbsnews.com', 'www.paramountplus.com',\n",
    "       'www.propublica.org', 'projects.propublica.org',\n",
    "       'features.propublica.org', 'time.com', 'www.time.com',\n",
    "       'www.washingtonpost.com', 'www.usatoday.com', 'cm.usatoday.com',\n",
    "       'reviewed.usatoday.com', 'puzzles.usatoday.com', 'www.yahoo.com',\n",
    "       'finance.yahoo.com', 'sports.yahoo.com', 'news.yahoo.com',\n",
    "       'autos.yahoo.com', 'sg.yahoo.com', 'sg.news.yahoo.com',\n",
    "       'sg.finance.yahoo.com', 'sg.style.yahoo.com', 'tw.news.yahoo.com',\n",
    "       'tw.sports.yahoo.com', 'travel.yahoo.com.tw', 'autos.yahoo.com.tw',\n",
    "       'style.yahoo.com.tw', 'www.edh.tw', 'tw.tv.yahoo.com',\n",
    "       'tw.promo.yahoo.com', 'movies.yahoo.com.tw', 'uk.yahoo.com',\n",
    "       'uk.news.yahoo.com', 'uk.style.yahoo.com', 'uk.finance.yahoo.com',\n",
    "       'uk.sports.yahoo.com', 'qc.yahoo.com', 'fr.style.yahoo.com',\n",
    "       'fr.news.yahoo.com', 'ca.sports.yahoo.com', 'espanol.yahoo.com',\n",
    "       'es-us.noticias.yahoo.com', 'es-us.finanzas.yahoo.com',\n",
    "       'es-us.vida-estilo.yahoo.com', 'hk.news.yahoo.com',\n",
    "       'hk.finance.yahoo.com', 'ca.yahoo.com', 'ca.news.yahoo.com',\n",
    "       'ca.finance.yahoo.com', 'ca.style.yahoo.com', 'malaysia.yahoo.com',\n",
    "       'malaysia.news.yahoo.com', 'www.the-independent.com',\n",
    "       'au.yahoo.com', 'au.lifestyle.yahoo.com', 'au.news.yahoo.com',\n",
    "       'au.sports.yahoo.com', 'au.finance.yahoo.com', 'de.yahoo.com',\n",
    "       'de.nachrichten.yahoo.com', 'de.style.yahoo.com',\n",
    "       'de.finance.yahoo.com', 'www.csmonitor.com', 'www.politico.com',\n",
    "       'www.artnews.com', 'www.wsj.com', 'nypost.com', 'captimes.com',\n",
    "       'www.cnn.com', 'www.npr.org', 'www.reuters.com', 'reuters.com',\n",
    "       'wsj.com', 'www.theepochtimes.com', 'staging.theepochtimes.com',\n",
    "       'theepochtimes.gr', 'es.theepochtimes.com',\n",
    "       'help.theepochtimes.au', 'pagesix.com', 'decider.com',\n",
    "       'reason.com', 'www.thefire.org', 'law.justia.com',\n",
    "       'www.inquirer.com', 'www.thedp.com', 'ndlawreview.org',\n",
    "       'www.lawfaremedia.org', 'www.ca5.uscourts.gov', 'pacificlegal.org',\n",
    "       'thehill.com', 'volokh.com', 'www.axios.com', 'marketurbanism.com',\n",
    "       'web.archive.org', 'johnhcochrane.blogspot.com',\n",
    "       'tushnet.blogspot.com', 'www.scotusblog.com', 'www.yalejreg.com',\n",
    "       'www.oyez.org', 'reason.plannedgiving.org', 'reason.org',\n",
    "       'www.washingtonexaminer.com', 'www.dailycaller.com']"
   ]
  },
  {
   "cell_type": "code",
   "execution_count": null,
   "id": "65eb45b3-6dd5-4233-867e-080322d3c9ed",
   "metadata": {},
   "outputs": [],
   "source": [
    "from urllib.parse import urlparse"
   ]
  },
  {
   "cell_type": "code",
   "execution_count": null,
   "id": "04de5f57-8efd-4954-9a5c-551ccbb3e6c8",
   "metadata": {},
   "outputs": [],
   "source": [
    "urls_short = [urlparse(friday_data.link[row]).netloc for row in range(len(friday_data.link))]\n",
    "friday_data['urls'] = urls_short"
   ]
  },
  {
   "cell_type": "code",
   "execution_count": null,
   "id": "80baac67-b877-4b05-b5d6-6868b29c2b1b",
   "metadata": {},
   "outputs": [],
   "source": [
    "friday_data.drop(columns=['Unnamed: 0','Unnamed: 0.1'],inplace=True)"
   ]
  },
  {
   "cell_type": "code",
   "execution_count": null,
   "id": "67ebe3ab-e91a-4054-8f55-49f9a573efd0",
   "metadata": {},
   "outputs": [],
   "source": [
    "friday_data[\"5_step_classifier\"] = friday_data['urls'].map(scoring_dict)"
   ]
  },
  {
   "cell_type": "code",
   "execution_count": null,
   "id": "f0ff5ae7-ea52-4194-a60b-b75f4faa2b9b",
   "metadata": {},
   "outputs": [],
   "source": [
    "friday_data[~friday_data['text'].isnull()].reset_index(inplace=True)"
   ]
  },
  {
   "cell_type": "code",
   "execution_count": null,
   "id": "64146e9b-657f-40b1-a4f3-a9d764d1b140",
   "metadata": {},
   "outputs": [],
   "source": [
    "friday_data = pd.read_csv(\"/home/zoetustain/code/zulu-tango/news_and_echo_bubbles/raw_data/friday_data.csv\")"
   ]
  },
  {
   "cell_type": "code",
   "execution_count": null,
   "id": "dc2f76e0-5cd2-469b-a1f0-3ae8604d1c18",
   "metadata": {},
   "outputs": [],
   "source": [
    "friday_data.dropna(subset=['text'], inplace=True)"
   ]
  },
  {
   "cell_type": "code",
   "execution_count": null,
   "id": "212ef0d4-c2a9-4f0e-ada2-76425c646b6c",
   "metadata": {},
   "outputs": [],
   "source": [
    "friday_data.head()"
   ]
  },
  {
   "cell_type": "code",
   "execution_count": null,
   "id": "80e8603a-0006-4c5b-ae01-7f927b910650",
   "metadata": {},
   "outputs": [],
   "source": [
    "friday_data['text'] = friday_data['text'].astype(str)"
   ]
  },
  {
   "cell_type": "code",
   "execution_count": null,
   "id": "e1f651db-b2f6-40cd-8260-e7dbe4029145",
   "metadata": {},
   "outputs": [],
   "source": [
    "article_length = []\n",
    "for i in range(len(friday_data)):\n",
    "    article_length.append(len(friday_data.text[i].split()))\n",
    "\n",
    "pd.DataFrame(article_length,columns=['article_length'])\n",
    "\n",
    "friday_data['article_length'] = pd.DataFrame(article_length,columns=['article_length'])\n"
   ]
  },
  {
   "cell_type": "code",
   "execution_count": null,
   "id": "8b99803c-a869-4fa9-8f2a-b6f8b4285eb4",
   "metadata": {},
   "outputs": [],
   "source": [
    "mask = friday_data['article_length'] >50"
   ]
  },
  {
   "cell_type": "code",
   "execution_count": null,
   "id": "eeb5e7d9-63ca-44a3-93b2-472aaacf26df",
   "metadata": {},
   "outputs": [],
   "source": [
    "friday_data = friday_data[mask]"
   ]
  },
  {
   "cell_type": "code",
   "execution_count": null,
   "id": "aafc934d-7f8c-4145-b64f-9fc4e41369f9",
   "metadata": {},
   "outputs": [],
   "source": [
    "friday_data.drop(columns=['keywords','tags','compound','neg','neu','pos','polarity','subjectivity','rating'],inplace=True)"
   ]
  },
  {
   "cell_type": "code",
   "execution_count": null,
   "id": "25f70407-2a71-49b5-8908-0db782c760b0",
   "metadata": {},
   "outputs": [],
   "source": [
    "friday_data.reset_index(inplace=True)"
   ]
  },
  {
   "cell_type": "code",
   "execution_count": null,
   "id": "072ca8df-d142-473d-b4ab-c5d102b4acdc",
   "metadata": {},
   "outputs": [],
   "source": [
    "new_list = []\n",
    "for index, text in enumerate(friday_data['text']):\n",
    "    # text = str(text)\n",
    "    new_list.append(friday_data['text'][index].lower())\n",
    "\n",
    "friday_data['preprocessed_data']= pd.DataFrame(new_list,columns=['text'])"
   ]
  },
  {
   "cell_type": "code",
   "execution_count": null,
   "id": "c8385cfb-5c9b-4498-bb1f-dae9b93846bb",
   "metadata": {},
   "outputs": [],
   "source": [
    "friday_data = pd.read_csv(\"/home/zoetustain/code/zulu-tango/news_and_echo_bubbles/raw_data/friday_data.csv\")"
   ]
  },
  {
   "cell_type": "code",
   "execution_count": null,
   "id": "d27d1cb2-1fe0-4ec5-ad80-10dad1a748f8",
   "metadata": {},
   "outputs": [],
   "source": [
    "sat_bk = pd.read_csv(\"/home/zoetustain/code/zulu-tango/news_and_echo_bubbles/raw_data/sat_bk_scrape.csv\")\n",
    "sat_zt = pd.read_csv(\"/home/zoetustain/code/zulu-tango/news_and_echo_bubbles/raw_data/sat_zt_scrape.csv\")\n",
    "sat_gg = pd.read_csv(\"/home/zoetustain/code/zulu-tango/news_and_echo_bubbles/raw_data/saturday_scraped_data_gigi.csv\")\n"
   ]
  },
  {
   "cell_type": "code",
   "execution_count": null,
   "id": "9090626e-905d-44ec-9034-d24440ca73a2",
   "metadata": {},
   "outputs": [],
   "source": [
    "combined_df = pd.concat([friday_data,sat_bk,sat_zt,sat_gg])"
   ]
  },
  {
   "cell_type": "code",
   "execution_count": 69,
   "id": "acb8fa3e-8cb8-4540-88d4-9b8c15a60cac",
   "metadata": {},
   "outputs": [],
   "source": [
    "combined_df = pd.read_csv(\"/home/zoetustain/code/zulu-tango/news_and_echo_bubbles/raw_data/scraped_saturday.csv\")"
   ]
  },
  {
   "cell_type": "code",
   "execution_count": 76,
   "id": "35108ac7-9afd-4a40-8adb-aacec71c534b",
   "metadata": {},
   "outputs": [],
   "source": [
    "combined_df['text'] = combined_df['text'].astype(str)"
   ]
  },
  {
   "cell_type": "code",
   "execution_count": 77,
   "id": "1a9a2e76-18b0-420c-a1c7-3ad7dde68f0e",
   "metadata": {},
   "outputs": [
    {
     "data": {
      "text/plain": [
       "'Log in to comment on videos and join in on the fun.'"
      ]
     },
     "execution_count": 77,
     "metadata": {},
     "output_type": "execute_result"
    }
   ],
   "source": [
    "combined_df.text[9049]"
   ]
  },
  {
   "cell_type": "code",
   "execution_count": 78,
   "id": "21c67f3d-eb24-4e7a-82e2-58857dcac115",
   "metadata": {},
   "outputs": [],
   "source": [
    "article_length = []\n",
    "for i in range(len(combined_df)):\n",
    "    article_length.append(len(combined_df['text'][i].split()))\n",
    "\n",
    "combined_df['article_length'] = pd.DataFrame(article_length,columns=['article_length'])\n",
    "mask_length = combined_df['article_length']>50\n",
    "combined_df = combined_df[mask_length]\n",
    "combined_df.reset_index(inplace=True,drop=True)"
   ]
  },
  {
   "cell_type": "code",
   "execution_count": 96,
   "id": "b024d471-479d-4c47-94bb-ec9af4c1b546",
   "metadata": {},
   "outputs": [
    {
     "name": "stderr",
     "output_type": "stream",
     "text": [
      "/tmp/ipykernel_666875/1329161518.py:1: SettingWithCopyWarning: \n",
      "A value is trying to be set on a copy of a slice from a DataFrame\n",
      "\n",
      "See the caveats in the documentation: https://pandas.pydata.org/pandas-docs/stable/user_guide/indexing.html#returning-a-view-versus-a-copy\n",
      "  combined_df.drop_duplicates(subset=['text'],inplace=True)\n"
     ]
    }
   ],
   "source": [
    "combined_df.drop_duplicates(subset=['text'],inplace=True)"
   ]
  },
  {
   "cell_type": "code",
   "execution_count": 99,
   "id": "1f4b7379-adbf-4f65-8ee8-3d0bdbf11d94",
   "metadata": {},
   "outputs": [],
   "source": [
    "combined_df.reset_index(drop=True,inplace=True)"
   ]
  },
  {
   "cell_type": "code",
   "execution_count": 100,
   "id": "f201eca7-a89f-4fe4-b9e6-aea61373a896",
   "metadata": {},
   "outputs": [],
   "source": [
    "repeated_phrases = combined_df['text']"
   ]
  },
  {
   "cell_type": "code",
   "execution_count": 101,
   "id": "3fd64b98-3c53-4569-9b38-586703f3fcd4",
   "metadata": {},
   "outputs": [],
   "source": [
    "repeated_phrases = pd.DataFrame(repeated_phrases,columns=['first'])\n",
    "repeated_phrases['first'] = combined_df['text'].str.split('.').str[0]"
   ]
  },
  {
   "cell_type": "code",
   "execution_count": 102,
   "id": "cf48539e-5ae1-48d3-a54f-708ce2573b25",
   "metadata": {},
   "outputs": [],
   "source": [
    "repeated_phrases['count'] = 1"
   ]
  },
  {
   "cell_type": "code",
   "execution_count": 103,
   "id": "972b5f42-27d0-4fd7-8840-27378b38661f",
   "metadata": {},
   "outputs": [],
   "source": [
    "repeated_phrases = repeated_phrases.groupby('first',as_index=False).sum().sort_values(by='count')"
   ]
  },
  {
   "cell_type": "code",
   "execution_count": 104,
   "id": "24df0bdf-9c4a-4675-944f-2d538db9f943",
   "metadata": {},
   "outputs": [],
   "source": [
    "mask = repeated_phrases['count']!=1"
   ]
  },
  {
   "cell_type": "code",
   "execution_count": 105,
   "id": "2928ff06-f753-4dae-9121-bf9e3777ef1c",
   "metadata": {},
   "outputs": [],
   "source": [
    "repeated_phrases = repeated_phrases[mask]"
   ]
  },
  {
   "cell_type": "code",
   "execution_count": 106,
   "id": "fa8474ca-eecd-4dd6-9ba1-1609dc666245",
   "metadata": {},
   "outputs": [
    {
     "data": {
      "text/html": [
       "<div>\n",
       "<style scoped>\n",
       "    .dataframe tbody tr th:only-of-type {\n",
       "        vertical-align: middle;\n",
       "    }\n",
       "\n",
       "    .dataframe tbody tr th {\n",
       "        vertical-align: top;\n",
       "    }\n",
       "\n",
       "    .dataframe thead th {\n",
       "        text-align: right;\n",
       "    }\n",
       "</style>\n",
       "<table border=\"1\" class=\"dataframe\">\n",
       "  <thead>\n",
       "    <tr style=\"text-align: right;\">\n",
       "      <th></th>\n",
       "      <th>first</th>\n",
       "      <th>count</th>\n",
       "    </tr>\n",
       "  </thead>\n",
       "  <tbody>\n",
       "    <tr>\n",
       "      <th>2629</th>\n",
       "      <td>New York Post may receive revenue from affilia...</td>\n",
       "      <td>2</td>\n",
       "    </tr>\n",
       "    <tr>\n",
       "      <th>3425</th>\n",
       "      <td>The Flint water crisis may have faded from nat...</td>\n",
       "      <td>2</td>\n",
       "    </tr>\n",
       "    <tr>\n",
       "      <th>3846</th>\n",
       "      <td>This article was originally published by High ...</td>\n",
       "      <td>2</td>\n",
       "    </tr>\n",
       "    <tr>\n",
       "      <th>2037</th>\n",
       "      <td>KHAN YOUNIS, Gaza Strip (AP) — Israel’s war wi...</td>\n",
       "      <td>2</td>\n",
       "    </tr>\n",
       "    <tr>\n",
       "      <th>91</th>\n",
       "      <td>'What used to be cheap army rations is now a l...</td>\n",
       "      <td>2</td>\n",
       "    </tr>\n",
       "    <tr>\n",
       "      <th>...</th>\n",
       "      <td>...</td>\n",
       "      <td>...</td>\n",
       "    </tr>\n",
       "    <tr>\n",
       "      <th>2805</th>\n",
       "      <td>Our evaluations and opinions are not influence...</td>\n",
       "      <td>13</td>\n",
       "    </tr>\n",
       "    <tr>\n",
       "      <th>3523</th>\n",
       "      <td>The U</td>\n",
       "      <td>14</td>\n",
       "    </tr>\n",
       "    <tr>\n",
       "      <th>2628</th>\n",
       "      <td>New York Post may be compensated and/or receiv...</td>\n",
       "      <td>14</td>\n",
       "    </tr>\n",
       "    <tr>\n",
       "      <th>4167</th>\n",
       "      <td>We may receive commissions from some links to ...</td>\n",
       "      <td>17</td>\n",
       "    </tr>\n",
       "    <tr>\n",
       "      <th>4166</th>\n",
       "      <td>We may receive a commission from some purchase...</td>\n",
       "      <td>18</td>\n",
       "    </tr>\n",
       "  </tbody>\n",
       "</table>\n",
       "<p>147 rows × 2 columns</p>\n",
       "</div>"
      ],
      "text/plain": [
       "                                                  first  count\n",
       "2629  New York Post may receive revenue from affilia...      2\n",
       "3425  The Flint water crisis may have faded from nat...      2\n",
       "3846  This article was originally published by High ...      2\n",
       "2037  KHAN YOUNIS, Gaza Strip (AP) — Israel’s war wi...      2\n",
       "91    'What used to be cheap army rations is now a l...      2\n",
       "...                                                 ...    ...\n",
       "2805  Our evaluations and opinions are not influence...     13\n",
       "3523                                              The U     14\n",
       "2628  New York Post may be compensated and/or receiv...     14\n",
       "4167  We may receive commissions from some links to ...     17\n",
       "4166  We may receive a commission from some purchase...     18\n",
       "\n",
       "[147 rows x 2 columns]"
      ]
     },
     "execution_count": 106,
     "metadata": {},
     "output_type": "execute_result"
    }
   ],
   "source": [
    "repeated_phrases.sort_values(by='count')"
   ]
  },
  {
   "cell_type": "code",
   "execution_count": 87,
   "id": "97d78cc7-b0b4-4d91-b14c-24087a223da0",
   "metadata": {},
   "outputs": [
    {
     "data": {
      "text/plain": [
       "7528"
      ]
     },
     "execution_count": 87,
     "metadata": {},
     "output_type": "execute_result"
    }
   ],
   "source": [
    "len(combined_df['text'])"
   ]
  },
  {
   "cell_type": "code",
   "execution_count": 51,
   "id": "ea7aec95-cb58-4e8f-934e-ced017dba7c0",
   "metadata": {},
   "outputs": [
    {
     "ename": "KeyboardInterrupt",
     "evalue": "",
     "output_type": "error",
     "traceback": [
      "\u001b[0;31m---------------------------------------------------------------------------\u001b[0m",
      "\u001b[0;31mKeyboardInterrupt\u001b[0m                         Traceback (most recent call last)",
      "Cell \u001b[0;32mIn[51], line 2\u001b[0m\n\u001b[1;32m      1\u001b[0m \u001b[38;5;28;01mfor\u001b[39;00m index \u001b[38;5;129;01min\u001b[39;00m \u001b[38;5;28mrange\u001b[39m(\u001b[38;5;28mlen\u001b[39m(combined_df[\u001b[38;5;124m'\u001b[39m\u001b[38;5;124mtext\u001b[39m\u001b[38;5;124m'\u001b[39m])):\n\u001b[0;32m----> 2\u001b[0m     \u001b[38;5;28;01mif\u001b[39;00m \u001b[43mcombined_df\u001b[49m\u001b[43m[\u001b[49m\u001b[38;5;124;43m'\u001b[39;49m\u001b[38;5;124;43mtext\u001b[39;49m\u001b[38;5;124;43m'\u001b[39;49m\u001b[43m]\u001b[49m\u001b[38;5;241;43m.\u001b[39;49m\u001b[43mstr\u001b[49m\u001b[38;5;241;43m.\u001b[39;49m\u001b[43msplit\u001b[49m\u001b[43m(\u001b[49m\u001b[38;5;124;43m'\u001b[39;49m\u001b[38;5;124;43m.\u001b[39;49m\u001b[38;5;124;43m'\u001b[39;49m\u001b[43m)\u001b[49m\u001b[38;5;241m.\u001b[39mstr[\u001b[38;5;241m0\u001b[39m][index] \u001b[38;5;129;01min\u001b[39;00m repeated_phrases[\u001b[38;5;124m'\u001b[39m\u001b[38;5;124mfirst\u001b[39m\u001b[38;5;124m'\u001b[39m]:\n\u001b[1;32m      3\u001b[0m         combined_df[\u001b[38;5;124m'\u001b[39m\u001b[38;5;124mtext\u001b[39m\u001b[38;5;124m'\u001b[39m]\u001b[38;5;241m.\u001b[39mreplace(combined_df[\u001b[38;5;124m'\u001b[39m\u001b[38;5;124mtext\u001b[39m\u001b[38;5;124m'\u001b[39m]\u001b[38;5;241m.\u001b[39mstr\u001b[38;5;241m.\u001b[39msplit(\u001b[38;5;124m'\u001b[39m\u001b[38;5;124m.\u001b[39m\u001b[38;5;124m'\u001b[39m)\u001b[38;5;241m.\u001b[39mstr[\u001b[38;5;241m0\u001b[39m][index],\u001b[38;5;124m'\u001b[39m\u001b[38;5;124m'\u001b[39m,\u001b[38;5;241m1\u001b[39m)\n",
      "File \u001b[0;32m~/.pyenv/versions/lewagon/envs/news_and_echo_bubbles/lib/python3.10/site-packages/pandas/core/strings/accessor.py:136\u001b[0m, in \u001b[0;36mforbid_nonstring_types.<locals>._forbid_nonstring_types.<locals>.wrapper\u001b[0;34m(self, *args, **kwargs)\u001b[0m\n\u001b[1;32m    131\u001b[0m     msg \u001b[38;5;241m=\u001b[39m (\n\u001b[1;32m    132\u001b[0m         \u001b[38;5;124mf\u001b[39m\u001b[38;5;124m\"\u001b[39m\u001b[38;5;124mCannot use .str.\u001b[39m\u001b[38;5;132;01m{\u001b[39;00mfunc_name\u001b[38;5;132;01m}\u001b[39;00m\u001b[38;5;124m with values of \u001b[39m\u001b[38;5;124m\"\u001b[39m\n\u001b[1;32m    133\u001b[0m         \u001b[38;5;124mf\u001b[39m\u001b[38;5;124m\"\u001b[39m\u001b[38;5;124minferred dtype \u001b[39m\u001b[38;5;124m'\u001b[39m\u001b[38;5;132;01m{\u001b[39;00m\u001b[38;5;28mself\u001b[39m\u001b[38;5;241m.\u001b[39m_inferred_dtype\u001b[38;5;132;01m}\u001b[39;00m\u001b[38;5;124m'\u001b[39m\u001b[38;5;124m.\u001b[39m\u001b[38;5;124m\"\u001b[39m\n\u001b[1;32m    134\u001b[0m     )\n\u001b[1;32m    135\u001b[0m     \u001b[38;5;28;01mraise\u001b[39;00m \u001b[38;5;167;01mTypeError\u001b[39;00m(msg)\n\u001b[0;32m--> 136\u001b[0m \u001b[38;5;28;01mreturn\u001b[39;00m \u001b[43mfunc\u001b[49m\u001b[43m(\u001b[49m\u001b[38;5;28;43mself\u001b[39;49m\u001b[43m,\u001b[49m\u001b[43m \u001b[49m\u001b[38;5;241;43m*\u001b[39;49m\u001b[43margs\u001b[49m\u001b[43m,\u001b[49m\u001b[43m \u001b[49m\u001b[38;5;241;43m*\u001b[39;49m\u001b[38;5;241;43m*\u001b[39;49m\u001b[43mkwargs\u001b[49m\u001b[43m)\u001b[49m\n",
      "File \u001b[0;32m~/.pyenv/versions/lewagon/envs/news_and_echo_bubbles/lib/python3.10/site-packages/pandas/core/strings/accessor.py:915\u001b[0m, in \u001b[0;36mStringMethods.split\u001b[0;34m(self, pat, n, expand, regex)\u001b[0m\n\u001b[1;32m    913\u001b[0m \u001b[38;5;28;01mif\u001b[39;00m is_re(pat):\n\u001b[1;32m    914\u001b[0m     regex \u001b[38;5;241m=\u001b[39m \u001b[38;5;28;01mTrue\u001b[39;00m\n\u001b[0;32m--> 915\u001b[0m result \u001b[38;5;241m=\u001b[39m \u001b[38;5;28;43mself\u001b[39;49m\u001b[38;5;241;43m.\u001b[39;49m\u001b[43m_data\u001b[49m\u001b[38;5;241;43m.\u001b[39;49m\u001b[43marray\u001b[49m\u001b[38;5;241;43m.\u001b[39;49m\u001b[43m_str_split\u001b[49m\u001b[43m(\u001b[49m\u001b[43mpat\u001b[49m\u001b[43m,\u001b[49m\u001b[43m \u001b[49m\u001b[43mn\u001b[49m\u001b[43m,\u001b[49m\u001b[43m \u001b[49m\u001b[43mexpand\u001b[49m\u001b[43m,\u001b[49m\u001b[43m \u001b[49m\u001b[43mregex\u001b[49m\u001b[43m)\u001b[49m\n\u001b[1;32m    916\u001b[0m \u001b[38;5;28;01mreturn\u001b[39;00m \u001b[38;5;28mself\u001b[39m\u001b[38;5;241m.\u001b[39m_wrap_result(result, returns_string\u001b[38;5;241m=\u001b[39mexpand, expand\u001b[38;5;241m=\u001b[39mexpand)\n",
      "File \u001b[0;32m~/.pyenv/versions/lewagon/envs/news_and_echo_bubbles/lib/python3.10/site-packages/pandas/core/strings/object_array.py:359\u001b[0m, in \u001b[0;36mObjectStringArrayMixin._str_split\u001b[0;34m(self, pat, n, expand, regex)\u001b[0m\n\u001b[1;32m    357\u001b[0m             n \u001b[38;5;241m=\u001b[39m \u001b[38;5;241m-\u001b[39m\u001b[38;5;241m1\u001b[39m\n\u001b[1;32m    358\u001b[0m         f \u001b[38;5;241m=\u001b[39m \u001b[38;5;28;01mlambda\u001b[39;00m x: x\u001b[38;5;241m.\u001b[39msplit(pat, n)\n\u001b[0;32m--> 359\u001b[0m \u001b[38;5;28;01mreturn\u001b[39;00m \u001b[38;5;28;43mself\u001b[39;49m\u001b[38;5;241;43m.\u001b[39;49m\u001b[43m_str_map\u001b[49m\u001b[43m(\u001b[49m\u001b[43mf\u001b[49m\u001b[43m,\u001b[49m\u001b[43m \u001b[49m\u001b[43mdtype\u001b[49m\u001b[38;5;241;43m=\u001b[39;49m\u001b[38;5;28;43mobject\u001b[39;49m\u001b[43m)\u001b[49m\n",
      "File \u001b[0;32m~/.pyenv/versions/lewagon/envs/news_and_echo_bubbles/lib/python3.10/site-packages/pandas/core/strings/object_array.py:78\u001b[0m, in \u001b[0;36mObjectStringArrayMixin._str_map\u001b[0;34m(self, f, na_value, dtype, convert)\u001b[0m\n\u001b[1;32m     76\u001b[0m map_convert \u001b[38;5;241m=\u001b[39m convert \u001b[38;5;129;01mand\u001b[39;00m \u001b[38;5;129;01mnot\u001b[39;00m np\u001b[38;5;241m.\u001b[39mall(mask)\n\u001b[1;32m     77\u001b[0m \u001b[38;5;28;01mtry\u001b[39;00m:\n\u001b[0;32m---> 78\u001b[0m     result \u001b[38;5;241m=\u001b[39m \u001b[43mlib\u001b[49m\u001b[38;5;241;43m.\u001b[39;49m\u001b[43mmap_infer_mask\u001b[49m\u001b[43m(\u001b[49m\u001b[43marr\u001b[49m\u001b[43m,\u001b[49m\u001b[43m \u001b[49m\u001b[43mf\u001b[49m\u001b[43m,\u001b[49m\u001b[43m \u001b[49m\u001b[43mmask\u001b[49m\u001b[38;5;241;43m.\u001b[39;49m\u001b[43mview\u001b[49m\u001b[43m(\u001b[49m\u001b[43mnp\u001b[49m\u001b[38;5;241;43m.\u001b[39;49m\u001b[43muint8\u001b[49m\u001b[43m)\u001b[49m\u001b[43m,\u001b[49m\u001b[43m \u001b[49m\u001b[43mmap_convert\u001b[49m\u001b[43m)\u001b[49m\n\u001b[1;32m     79\u001b[0m \u001b[38;5;28;01mexcept\u001b[39;00m (\u001b[38;5;167;01mTypeError\u001b[39;00m, \u001b[38;5;167;01mAttributeError\u001b[39;00m) \u001b[38;5;28;01mas\u001b[39;00m err:\n\u001b[1;32m     80\u001b[0m     \u001b[38;5;66;03m# Reraise the exception if callable `f` got wrong number of args.\u001b[39;00m\n\u001b[1;32m     81\u001b[0m     \u001b[38;5;66;03m# The user may want to be warned by this, instead of getting NaN\u001b[39;00m\n\u001b[1;32m     82\u001b[0m     p_err \u001b[38;5;241m=\u001b[39m (\n\u001b[1;32m     83\u001b[0m         \u001b[38;5;124mr\u001b[39m\u001b[38;5;124m\"\u001b[39m\u001b[38;5;124m((takes)|(missing)) (?(2)from \u001b[39m\u001b[38;5;124m\\\u001b[39m\u001b[38;5;124md+ to )?\u001b[39m\u001b[38;5;124m\\\u001b[39m\u001b[38;5;124md+ \u001b[39m\u001b[38;5;124m\"\u001b[39m\n\u001b[1;32m     84\u001b[0m         \u001b[38;5;124mr\u001b[39m\u001b[38;5;124m\"\u001b[39m\u001b[38;5;124m(?(3)required )positional arguments?\u001b[39m\u001b[38;5;124m\"\u001b[39m\n\u001b[1;32m     85\u001b[0m     )\n",
      "File \u001b[0;32mlib.pyx:2875\u001b[0m, in \u001b[0;36mpandas._libs.lib.map_infer_mask\u001b[0;34m()\u001b[0m\n",
      "File \u001b[0;32m~/.pyenv/versions/lewagon/envs/news_and_echo_bubbles/lib/python3.10/site-packages/pandas/core/strings/object_array.py:358\u001b[0m, in \u001b[0;36mObjectStringArrayMixin._str_split.<locals>.<lambda>\u001b[0;34m(x)\u001b[0m\n\u001b[1;32m    356\u001b[0m         \u001b[38;5;28;01mif\u001b[39;00m n \u001b[38;5;129;01mis\u001b[39;00m \u001b[38;5;28;01mNone\u001b[39;00m \u001b[38;5;129;01mor\u001b[39;00m n \u001b[38;5;241m==\u001b[39m \u001b[38;5;241m0\u001b[39m:\n\u001b[1;32m    357\u001b[0m             n \u001b[38;5;241m=\u001b[39m \u001b[38;5;241m-\u001b[39m\u001b[38;5;241m1\u001b[39m\n\u001b[0;32m--> 358\u001b[0m         f \u001b[38;5;241m=\u001b[39m \u001b[38;5;28;01mlambda\u001b[39;00m x: \u001b[43mx\u001b[49m\u001b[38;5;241;43m.\u001b[39;49m\u001b[43msplit\u001b[49m\u001b[43m(\u001b[49m\u001b[43mpat\u001b[49m\u001b[43m,\u001b[49m\u001b[43m \u001b[49m\u001b[43mn\u001b[49m\u001b[43m)\u001b[49m\n\u001b[1;32m    359\u001b[0m \u001b[38;5;28;01mreturn\u001b[39;00m \u001b[38;5;28mself\u001b[39m\u001b[38;5;241m.\u001b[39m_str_map(f, dtype\u001b[38;5;241m=\u001b[39m\u001b[38;5;28mobject\u001b[39m)\n",
      "\u001b[0;31mKeyboardInterrupt\u001b[0m: "
     ]
    }
   ],
   "source": [
    "for index in range(len(combined_df['text'])):\n",
    "    if combined_df['text'].str.split('.').str[0][index] in repeated_phrases['first']:\n",
    "        combined_df['text'].replace(combined_df['text'].str.split('.').str[0][index],'',1)"
   ]
  },
  {
   "cell_type": "code",
   "execution_count": 91,
   "id": "31058dc8-c986-4f9a-8799-a64e9a24417c",
   "metadata": {},
   "outputs": [
    {
     "data": {
      "text/plain": [
       "'Statistics Canada also said the overall homicide rate increased by eight percent in 2022—the fourth consecutive increase in the murder rate.\\n\\nThe number of youths under age 18 charged or accused of murder in 2022 was nearly three times that of the previous year, according to Statistics Canada.\\n\\nResearchers found that in 2022, 90 homicides were committed by those under the age of 18, compared with 33 the year before. The 10-year average of youths involved in murders annually is 39, StatCan said.\\n\\nThe Nov. 29 report, which details homicide investigation trends across the country, notes the number of cases involving multiple youths has been increasing over the last several years.\\n\\n“In 2022, police reported 19 incidents with two or more youths accused of homicide, compared with an average of five incidents in the previous 10 years,” the report said. “There were seven incidents with three or more youths accused of homicide in 2022, compared with an average of one incident in the previous 10 years.”\\n\\nAdditionally, StatCan said homicide trends have shown that nearly one in six murders have been witnessed by a child or youth since the collection of this information began four years ago. The majority of these cases—59 percent—are homicides that occur within a home.\\n\\nMultiple \"swarming\" attacks have also occurred over the past year. Swarming is when a group of individuals work together “as a singular entity in a swarming mob mentality,” Toronto Police Homicide Det.-Sgt. Terry Browne previously explained\\n\\nOn Jan. 24, four 13-year-old boys were charged with assault after Toronto Transit Commission employees were attacked. In another case, eight girls aged 13 to 16 were charged with second-degree murder in the death of Ken Lee, 59. They were accused of allegedly beating and stabbing Mr. Lee to death in a swarm on Dec. 18, 2022, reportedly to steal his bottle of alcohol.\\n\\nCalgary police laid charges against six boys aged 15 to 17 on Jan. 19 after a swarming attack against two drug store employees that took place in November 2022.\\n\\nHomicides Increasing in Canada Statistics Canada notes that the overall homicide rate increased by eight percent in 2022. It’s the fourth consecutive increase in the murder rate, which is now 2.25 homicides per 100,000 people. Police in British Columbia dealt with several cases in 2022 where a group of teens lured other teens into situations where they were attacked and assaulted.Statistics Canada notes that the overall homicide rate increased by eight percent in 2022. It’s the fourth consecutive increase in the murder rate, which is now 2.25 homicides per 100,000 people.\\n\\n“The homicide rate is widely considered a key metric for assessing the state of violence in society,” the report authors said.\\n\\n“Despite recent increases, homicides remain a rare event in Canada, accounting for less than 0.2 percent of all police-reported violent crimes in 2022.”\\n\\nManitoba saw the largest increase in homicides in 2022 going from 4.45 to 6.24 per 100,000 people—a 40 percent increase.\\n\\nNew Brunswick saw a 33 percent jump in its homicide rate in 2022, with 1.85 murders for every 100,000 people. British Columbia also saw a 21 percent increase to 2.91 victims for every 100,000 people. Quebec jumped up 21 percent in its homicide rate to 1.26 murders per 100,000 people.\\n\\nThe provinces with the highest homicide rates are Manitoba, Saskatchewan (5.94/100,000), and British Columbia (2.91/100,000).\\n\\nProvinces with the lowest murder rates are Prince Edward Island (0.00/100,000), Newfoundland and Labrador (0.57/100,000), and Quebec (1.26/100,000).\\n\\nAccording to the report, guns were involved in roughly 41 percent of murder cases in the country, which is slightly higher than in 2021 when firearms were involved in 40 percent of cases.\\n\\nTwenty-three percent of murders in Canada are gang-related, the report said, adding that gang-related homicides committed with a firearm represented 18 percent of all homicides last year.\\n\\nFive police officers were killed in 2022; the highest number since 1985, and above the 10-year average of two officers.\\n\\n“Police victims include those killed because of their occupation, regardless of whether they were on or off duty at the time of their homicide,” the report authors said. Indigenous Homicide Rate The report also noted a slight increase in the number of indigenous victims of homicide. In 2022, 225 indigenous individuals were murdered, which represents about 27 percent of all homicide victims. In 2021, indigenous victims represented 24 percent of total homicides.\\n\\n“The rate of homicide involving Indigenous victims remained disproportionately high, with 10.98 victims per 100,000 Indigenous people. This was more than six times the homicide rate of non-Indigenous people (1.69 per 100,000),” the authors wrote.\\n\\nThere has also been a high number of “racialized people” who were victims of homicide, the report says.\\n\\n“In 2022, 265 homicide victims were identified by the police as being racialized people, representing 30 percent of the 874 reported homicide victims,” said the document.\\n\\nForty-three percent of those were black and 27 percent were South Asian, StatCan said.\\n\\nMarnie Cathcart contributed to this report.'"
      ]
     },
     "execution_count": 91,
     "metadata": {},
     "output_type": "execute_result"
    }
   ],
   "source": [
    "combined_df.text[4166]"
   ]
  },
  {
   "cell_type": "code",
   "execution_count": 68,
   "id": "6c9bea05-f495-47d0-8125-c8c416a131ac",
   "metadata": {},
   "outputs": [
    {
     "data": {
      "text/plain": [
       "'Log in to comment on videos and join in on the fun.'"
      ]
     },
     "execution_count": 68,
     "metadata": {},
     "output_type": "execute_result"
    }
   ],
   "source": [
    "combined_df['text'].str.split('.').str[0][9049] = combined_df['text'].str.split('.').str[0][9049].replace((combined_df['text'].str.split('.').str[0][9049]),'',1)\n",
    "\n",
    "combined_df.text[9049]"
   ]
  },
  {
   "cell_type": "code",
   "execution_count": 63,
   "id": "cb8c7201-f1fe-472a-90a6-8ea757f9451c",
   "metadata": {},
   "outputs": [
    {
     "data": {
      "text/plain": [
       "'Log in to comment on videos and join in on the fun'"
      ]
     },
     "execution_count": 63,
     "metadata": {},
     "output_type": "execute_result"
    }
   ],
   "source": [
    "combined_df['text'].str.split('.').str[0][9049]"
   ]
  },
  {
   "cell_type": "code",
   "execution_count": 64,
   "id": "b2f1d73c-c0cf-4750-bd9c-52b3505bc282",
   "metadata": {},
   "outputs": [
    {
     "data": {
      "text/plain": [
       "4821    “The trust between us and the government has b...\n",
       "4822    “There are so [expletive] many of these; I can...\n",
       "4823    “There are some real problems in China, but th...\n",
       "4808    “Nobody wants to take full accountability,” sa...\n",
       "4806    “I’m not pro-Palestine but incredibly sad abou...\n",
       "                              ...                        \n",
       "2972    Our evaluations and opinions are not influence...\n",
       "4436    We may receive a commission from some purchase...\n",
       "3364    Share this Article Like this article? Email it...\n",
       "1022    Copyright © 2000 - 2023 The Epoch Times Associ...\n",
       "4583    Why did this happen?\\n\\nPlease make sure your ...\n",
       "Name: first, Length: 1639, dtype: object"
      ]
     },
     "execution_count": 64,
     "metadata": {},
     "output_type": "execute_result"
    }
   ],
   "source": [
    "repeated_phrases['first']"
   ]
  },
  {
   "cell_type": "code",
   "execution_count": null,
   "id": "4f76dda9-19b7-4d52-81a4-08c2848dae32",
   "metadata": {},
   "outputs": [],
   "source": []
  },
  {
   "cell_type": "code",
   "execution_count": null,
   "id": "bb9495a2-f17d-420a-b07c-45f6538e377b",
   "metadata": {},
   "outputs": [],
   "source": []
  },
  {
   "cell_type": "code",
   "execution_count": null,
   "id": "5dd5e730-58d9-4684-b63c-09e61e5be855",
   "metadata": {},
   "outputs": [],
   "source": []
  },
  {
   "cell_type": "code",
   "execution_count": null,
   "id": "ff18ffd6-79aa-48ed-84e9-ca67a211ad6d",
   "metadata": {},
   "outputs": [],
   "source": []
  },
  {
   "cell_type": "code",
   "execution_count": null,
   "id": "4ffb40ed-7083-408b-bc4c-c441914f6acc",
   "metadata": {},
   "outputs": [],
   "source": []
  },
  {
   "cell_type": "code",
   "execution_count": null,
   "id": "6f99d237-de4a-470e-bc77-39ed44bb5e26",
   "metadata": {},
   "outputs": [],
   "source": []
  },
  {
   "cell_type": "code",
   "execution_count": null,
   "id": "05903354-af3f-43c9-aa85-146fd2826093",
   "metadata": {},
   "outputs": [],
   "source": []
  },
  {
   "cell_type": "code",
   "execution_count": null,
   "id": "138d9427-446f-4b38-9829-eb7e416b25a4",
   "metadata": {},
   "outputs": [],
   "source": []
  },
  {
   "cell_type": "code",
   "execution_count": null,
   "id": "964d88e2-ebf3-4bba-bd2e-72bf806ba4ed",
   "metadata": {},
   "outputs": [],
   "source": []
  },
  {
   "cell_type": "code",
   "execution_count": null,
   "id": "b39e3e19-1a20-4520-b469-07df9a82d349",
   "metadata": {},
   "outputs": [],
   "source": []
  },
  {
   "cell_type": "code",
   "execution_count": null,
   "id": "62de6a73-2e55-43d0-8a0a-9b5c80b851e3",
   "metadata": {},
   "outputs": [],
   "source": []
  },
  {
   "cell_type": "code",
   "execution_count": null,
   "id": "27ba3f0d-6170-4495-82f9-1835a5360a7d",
   "metadata": {},
   "outputs": [],
   "source": []
  },
  {
   "cell_type": "code",
   "execution_count": null,
   "id": "ed631431-6d88-4e10-b4a8-44aee4f5f1d2",
   "metadata": {},
   "outputs": [],
   "source": []
  },
  {
   "cell_type": "code",
   "execution_count": null,
   "id": "a425a902-60db-4a30-8033-3076ae6fe76c",
   "metadata": {},
   "outputs": [],
   "source": []
  },
  {
   "cell_type": "code",
   "execution_count": null,
   "id": "42c50be3-fe42-451e-b108-a0b370227295",
   "metadata": {},
   "outputs": [],
   "source": []
  },
  {
   "cell_type": "code",
   "execution_count": null,
   "id": "2a23e41f-e5f8-4285-94e3-5e739f4378e2",
   "metadata": {},
   "outputs": [],
   "source": [
    "series = pd.Series(combined_df['first'])"
   ]
  },
  {
   "cell_type": "code",
   "execution_count": null,
   "id": "b9c880f6-a6ea-4fe1-92b7-c0967fc06d4b",
   "metadata": {},
   "outputs": [],
   "source": [
    "series[0]"
   ]
  },
  {
   "cell_type": "code",
   "execution_count": null,
   "id": "af3e5f54-d980-4841-b0d4-5211e1f93a33",
   "metadata": {},
   "outputs": [],
   "source": [
    "len(combined_df['first'])"
   ]
  },
  {
   "cell_type": "code",
   "execution_count": null,
   "id": "58f118a0-c50c-4cbe-8167-32e5e51e66ec",
   "metadata": {},
   "outputs": [],
   "source": [
    "series[9049]"
   ]
  },
  {
   "cell_type": "code",
   "execution_count": null,
   "id": "9b614510-0898-4a83-b884-941884486455",
   "metadata": {},
   "outputs": [],
   "source": [
    "series.str.count(series[9049]).count()"
   ]
  },
  {
   "cell_type": "code",
   "execution_count": null,
   "id": "8dfcc454-0123-43a9-8822-0490bf66bb8e",
   "metadata": {},
   "outputs": [],
   "source": [
    "for i in len(combined_df['first']):\n",
    "    combined_df['count'][i] = series.str.count(series[i])\n",
    "    "
   ]
  },
  {
   "cell_type": "code",
   "execution_count": null,
   "id": "138a504d-cf7d-43b0-9bd4-7a3fbb46bc84",
   "metadata": {},
   "outputs": [],
   "source": [
    "combined_df['first'][9049]"
   ]
  },
  {
   "cell_type": "code",
   "execution_count": null,
   "id": "2b067c74-ce31-4d2f-baa0-f6e275d2a3d7",
   "metadata": {},
   "outputs": [],
   "source": [
    "def remove_null_text(dataframe):\n",
    "    friday_data.dropna(subset=['text'], inplace=True)\n",
    "    friday_data.reset_index(inplace=True,drop=True)\n",
    "    return dataframe"
   ]
  },
  {
   "cell_type": "code",
   "execution_count": null,
   "id": "e1b22142-40f7-49a5-b411-b8b67b49af81",
   "metadata": {},
   "outputs": [],
   "source": [
    "def article_length(dataframe):\n",
    "    article_length = []\n",
    "    for i in range(len(dataframe)):\n",
    "        article_length.append(len(dataframe.text[i].split()))\n",
    "\n",
    "    dataframe['article_length'] = pd.DataFrame(article_length,columns=['article_length'])\n",
    "    mask_length = dataframe['article_length']>50\n",
    "    dataframe = dataframe[mask_length]\n",
    "    dataframe.reset_index(inplace=True,drop=True)\n",
    "    return dataframe"
   ]
  },
  {
   "cell_type": "code",
   "execution_count": null,
   "id": "b070e325-08b3-4c8f-abe4-966744fdd007",
   "metadata": {},
   "outputs": [],
   "source": [
    "friday_data['text'] = friday_data['text'].astype(str)"
   ]
  },
  {
   "cell_type": "code",
   "execution_count": null,
   "id": "e9c0ba5e-df78-4e39-aeff-1a505a16474d",
   "metadata": {},
   "outputs": [],
   "source": [
    "friday_data.info()"
   ]
  },
  {
   "cell_type": "code",
   "execution_count": null,
   "id": "81d8289b-1e43-4a9b-892a-13613e15d7e2",
   "metadata": {},
   "outputs": [],
   "source": [
    "friday_data['pre_process_text'] = friday_data['text']"
   ]
  },
  {
   "cell_type": "code",
   "execution_count": null,
   "id": "2c85481a-9635-4b38-9788-f3070c7caed6",
   "metadata": {},
   "outputs": [],
   "source": [
    "new_list = []\n",
    "for index, text in enumerate(friday_data['text']):\n",
    "    # text = str(text)\n",
    "    new_list.append(friday_data['text'][index].lower())\n",
    "\n",
    "friday_data['pre_processed_data']= pd.DataFrame(new_list,columns=['text'])\n"
   ]
  },
  {
   "cell_type": "code",
   "execution_count": null,
   "id": "dce24287-e854-48cd-91f8-39821bfaf24e",
   "metadata": {
    "scrolled": true
   },
   "outputs": [],
   "source": [
    "friday_data"
   ]
  },
  {
   "cell_type": "code",
   "execution_count": null,
   "id": "b522dbdd-8cf4-4766-b3b1-571418442d67",
   "metadata": {},
   "outputs": [],
   "source": []
  }
 ],
 "metadata": {
  "kernelspec": {
   "display_name": "Python 3 (ipykernel)",
   "language": "python",
   "name": "python3"
  },
  "language_info": {
   "codemirror_mode": {
    "name": "ipython",
    "version": 3
   },
   "file_extension": ".py",
   "mimetype": "text/x-python",
   "name": "python",
   "nbconvert_exporter": "python",
   "pygments_lexer": "ipython3",
   "version": "3.10.6"
  }
 },
 "nbformat": 4,
 "nbformat_minor": 5
}
