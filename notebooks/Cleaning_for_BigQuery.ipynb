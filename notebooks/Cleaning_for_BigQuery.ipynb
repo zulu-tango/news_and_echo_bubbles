{
 "cells": [
  {
   "cell_type": "markdown",
   "id": "fb650b9c-bd77-4767-980b-9086d7e46eba",
   "metadata": {},
   "source": [
    "# Cleaning for BigQuery"
   ]
  },
  {
   "cell_type": "code",
   "execution_count": 1,
   "id": "d11da95d-586c-4c78-bb83-fd0350642002",
   "metadata": {},
   "outputs": [],
   "source": [
    "import pandas as pd\n",
    "df = pd.read_csv('../Data/cleaned_data.csv')"
   ]
  },
  {
   "cell_type": "code",
   "execution_count": 3,
   "id": "0aea8285-ad52-42e3-950e-d5c43afef970",
   "metadata": {},
   "outputs": [
    {
     "data": {
      "text/html": [
       "<div>\n",
       "<style scoped>\n",
       "    .dataframe tbody tr th:only-of-type {\n",
       "        vertical-align: middle;\n",
       "    }\n",
       "\n",
       "    .dataframe tbody tr th {\n",
       "        vertical-align: top;\n",
       "    }\n",
       "\n",
       "    .dataframe thead th {\n",
       "        text-align: right;\n",
       "    }\n",
       "</style>\n",
       "<table border=\"1\" class=\"dataframe\">\n",
       "  <thead>\n",
       "    <tr style=\"text-align: right;\">\n",
       "      <th></th>\n",
       "      <th>Unnamed: 0.1</th>\n",
       "      <th>level_0</th>\n",
       "      <th>index</th>\n",
       "      <th>Unnamed: 0</th>\n",
       "      <th>link</th>\n",
       "      <th>pdate</th>\n",
       "      <th>title</th>\n",
       "      <th>author</th>\n",
       "      <th>text</th>\n",
       "      <th>keywords</th>\n",
       "      <th>...</th>\n",
       "      <th>compound</th>\n",
       "      <th>neg</th>\n",
       "      <th>neu</th>\n",
       "      <th>pos</th>\n",
       "      <th>polarity</th>\n",
       "      <th>subjectivity</th>\n",
       "      <th>classifier</th>\n",
       "      <th>time</th>\n",
       "      <th>urls</th>\n",
       "      <th>pre_process_text</th>\n",
       "    </tr>\n",
       "  </thead>\n",
       "  <tbody>\n",
       "    <tr>\n",
       "      <th>0</th>\n",
       "      <td>0</td>\n",
       "      <td>0</td>\n",
       "      <td>1</td>\n",
       "      <td>1</td>\n",
       "      <td>https://www.alternet.org/2021/03/dan-crenshaw/</td>\n",
       "      <td>2021-03-22</td>\n",
       "      <td>Republican Dan Crenshaw goes down in flames du...</td>\n",
       "      <td>['Sarah K. Burris', 'Raw Story']</td>\n",
       "      <td>MSNBC host Mehdi Hasan went after Rep. Dan Cre...</td>\n",
       "      <td>['come', 'didnt', 'going', 'fox', 'biden', 'cr...</td>\n",
       "      <td>...</td>\n",
       "      <td>0.6474</td>\n",
       "      <td>0.055</td>\n",
       "      <td>0.876</td>\n",
       "      <td>0.069</td>\n",
       "      <td>-0.034989</td>\n",
       "      <td>0.411162</td>\n",
       "      <td>0</td>\n",
       "      <td>10:17:36+00:00</td>\n",
       "      <td>www.alternet.org</td>\n",
       "      <td>msnbc host mehdi hasan went after rep  dan cre...</td>\n",
       "    </tr>\n",
       "  </tbody>\n",
       "</table>\n",
       "<p>1 rows × 21 columns</p>\n",
       "</div>"
      ],
      "text/plain": [
       "   Unnamed: 0.1  level_0  index  Unnamed: 0  \\\n",
       "0             0        0      1           1   \n",
       "\n",
       "                                             link       pdate  \\\n",
       "0  https://www.alternet.org/2021/03/dan-crenshaw/  2021-03-22   \n",
       "\n",
       "                                               title  \\\n",
       "0  Republican Dan Crenshaw goes down in flames du...   \n",
       "\n",
       "                             author  \\\n",
       "0  ['Sarah K. Burris', 'Raw Story']   \n",
       "\n",
       "                                                text  \\\n",
       "0  MSNBC host Mehdi Hasan went after Rep. Dan Cre...   \n",
       "\n",
       "                                            keywords  ... compound    neg  \\\n",
       "0  ['come', 'didnt', 'going', 'fox', 'biden', 'cr...  ...   0.6474  0.055   \n",
       "\n",
       "     neu    pos  polarity  subjectivity  classifier            time  \\\n",
       "0  0.876  0.069 -0.034989      0.411162           0  10:17:36+00:00   \n",
       "\n",
       "               urls                                   pre_process_text  \n",
       "0  www.alternet.org  msnbc host mehdi hasan went after rep  dan cre...  \n",
       "\n",
       "[1 rows x 21 columns]"
      ]
     },
     "execution_count": 3,
     "metadata": {},
     "output_type": "execute_result"
    }
   ],
   "source": [
    "df.head(1)"
   ]
  },
  {
   "cell_type": "code",
   "execution_count": 4,
   "id": "fe15b85b-3d4f-4428-b058-efac7cc9e22d",
   "metadata": {},
   "outputs": [
    {
     "data": {
      "text/plain": [
       "Index(['Unnamed: 0.1', 'level_0', 'index', 'Unnamed: 0', 'link', 'pdate',\n",
       "       'title', 'author', 'text', 'keywords', 'tags', 'compound', 'neg', 'neu',\n",
       "       'pos', 'polarity', 'subjectivity', 'classifier', 'time', 'urls',\n",
       "       'pre_process_text'],\n",
       "      dtype='object')"
      ]
     },
     "execution_count": 4,
     "metadata": {},
     "output_type": "execute_result"
    }
   ],
   "source": [
    "df.columns"
   ]
  },
  {
   "cell_type": "code",
   "execution_count": 5,
   "id": "ec3c4042-3376-4140-9f3b-f9a339e173b5",
   "metadata": {},
   "outputs": [],
   "source": [
    "df.drop(columns = ['Unnamed: 0.1', 'level_0', 'index', 'Unnamed: 0'], inplace=True)"
   ]
  },
  {
   "cell_type": "code",
   "execution_count": 13,
   "id": "934d9912-4264-4c9f-b799-a76174da07dc",
   "metadata": {},
   "outputs": [],
   "source": [
    "import re\n",
    "import string\n",
    "\n",
    "def cleaning_for_bq(text):\n",
    "    text = str(text)\n",
    "    text = text.lower()\n",
    "    text = re.sub(r'\\d+', '', text)\n",
    "    text = re.sub('\\[.*?\\]', '', text)\n",
    "    text = re.sub(\"\\\\W\",\" \",text) \n",
    "    text = re.sub('https?://\\S+|www\\.\\S+', '', text)\n",
    "    text = re.sub('<.*?>+', '', text)\n",
    "    text = re.sub('[%s]' % re.escape(string.punctuation), '', text)\n",
    "    text = re.sub('\\n', '', text)\n",
    "    text = re.sub('\\w*\\d\\w*', '', text)    \n",
    "    return text"
   ]
  },
  {
   "cell_type": "code",
   "execution_count": 14,
   "id": "1394e2f6-0db2-45de-b7bf-774315577363",
   "metadata": {},
   "outputs": [],
   "source": [
    "df['title'] = df['title'].apply(cleaning_for_bq)\n",
    "df['text'] =  df['text'].apply(cleaning_for_bq)"
   ]
  },
  {
   "cell_type": "code",
   "execution_count": 17,
   "id": "56f3218a-ea00-4395-85cc-1c8cbcd5ae05",
   "metadata": {},
   "outputs": [],
   "source": [
    "df.to_csv('../Data/cleaned_data2.csv', index=False)"
   ]
  },
  {
   "cell_type": "code",
   "execution_count": null,
   "id": "3ad9ee3e-5d8f-4f0f-bf58-9babd92de390",
   "metadata": {},
   "outputs": [],
   "source": []
  }
 ],
 "metadata": {
  "kernelspec": {
   "display_name": "Python 3 (ipykernel)",
   "language": "python",
   "name": "python3"
  },
  "language_info": {
   "codemirror_mode": {
    "name": "ipython",
    "version": 3
   },
   "file_extension": ".py",
   "mimetype": "text/x-python",
   "name": "python",
   "nbconvert_exporter": "python",
   "pygments_lexer": "ipython3",
   "version": "3.10.6"
  }
 },
 "nbformat": 4,
 "nbformat_minor": 5
}
