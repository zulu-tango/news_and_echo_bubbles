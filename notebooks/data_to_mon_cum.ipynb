{
 "cells": [
  {
   "cell_type": "code",
   "execution_count": 1,
   "id": "06277148-8b74-4fe5-a9ae-4609c2cba603",
   "metadata": {},
   "outputs": [],
   "source": [
    "import pandas as pd"
   ]
  },
  {
   "cell_type": "code",
   "execution_count": 2,
   "id": "585d64d7-45af-4d53-b966-57fa6a07af8f",
   "metadata": {},
   "outputs": [
    {
     "name": "stdout",
     "output_type": "stream",
     "text": [
      "/Users/barnabykempster/code/zulu-tango/news_and_echo_bubbles/notebooks\n"
     ]
    }
   ],
   "source": [
    "!pwd"
   ]
  },
  {
   "cell_type": "code",
   "execution_count": 3,
   "id": "8ad1adf1-c3ae-4b78-a46c-675086f8a47f",
   "metadata": {},
   "outputs": [],
   "source": [
    "df = pd.read_csv(\"/Users/barnabykempster/code/zulu-tango/news_and_echo_bubbles/raw_data/predicted_sentiment.csv\")"
   ]
  },
  {
   "cell_type": "code",
   "execution_count": 4,
   "id": "2a791884-18a9-4f46-a095-a4518918da1c",
   "metadata": {},
   "outputs": [
    {
     "name": "stdout",
     "output_type": "stream",
     "text": [
      "<class 'pandas.core.frame.DataFrame'>\n",
      "RangeIndex: 5136 entries, 0 to 5135\n",
      "Data columns (total 17 columns):\n",
      " #   Column              Non-Null Count  Dtype  \n",
      "---  ------              --------------  -----  \n",
      " 0   Unnamed: 0.2        5136 non-null   int64  \n",
      " 1   Unnamed: 0.1        5136 non-null   int64  \n",
      " 2   Unnamed: 0          5136 non-null   int64  \n",
      " 3   link                5136 non-null   object \n",
      " 4   pdate               2525 non-null   object \n",
      " 5   title               5136 non-null   object \n",
      " 6   author              5136 non-null   object \n",
      " 7   text                5136 non-null   object \n",
      " 8   time                2525 non-null   object \n",
      " 9   article_length      5136 non-null   int64  \n",
      " 10  urls                5136 non-null   object \n",
      " 11  pre_process_text    5136 non-null   object \n",
      " 12  pre_processed_data  5136 non-null   object \n",
      " 13  5_step_classifier   5136 non-null   float64\n",
      " 14  lemmatize           5136 non-null   object \n",
      " 15  keywords            5136 non-null   object \n",
      " 16  pred_class          5136 non-null   object \n",
      "dtypes: float64(1), int64(4), object(12)\n",
      "memory usage: 682.2+ KB\n"
     ]
    }
   ],
   "source": [
    "df.info()"
   ]
  },
  {
   "cell_type": "code",
   "execution_count": 5,
   "id": "02852936-8600-4470-bcc0-b70832b9f74c",
   "metadata": {},
   "outputs": [
    {
     "data": {
      "text/plain": [
       "Index(['Unnamed: 0.2', 'Unnamed: 0.1', 'Unnamed: 0', 'link', 'pdate', 'title',\n",
       "       'author', 'text', 'time', 'article_length', 'urls', 'pre_process_text',\n",
       "       'pre_processed_data', '5_step_classifier', 'lemmatize', 'keywords',\n",
       "       'pred_class'],\n",
       "      dtype='object')"
      ]
     },
     "execution_count": 5,
     "metadata": {},
     "output_type": "execute_result"
    }
   ],
   "source": [
    "df.keys()  "
   ]
  },
  {
   "cell_type": "code",
   "execution_count": 6,
   "id": "d476f75d-8127-4055-a18b-d365859ca16b",
   "metadata": {},
   "outputs": [
    {
     "data": {
      "text/html": [
       "<div>\n",
       "<style scoped>\n",
       "    .dataframe tbody tr th:only-of-type {\n",
       "        vertical-align: middle;\n",
       "    }\n",
       "\n",
       "    .dataframe tbody tr th {\n",
       "        vertical-align: top;\n",
       "    }\n",
       "\n",
       "    .dataframe thead th {\n",
       "        text-align: right;\n",
       "    }\n",
       "</style>\n",
       "<table border=\"1\" class=\"dataframe\">\n",
       "  <thead>\n",
       "    <tr style=\"text-align: right;\">\n",
       "      <th></th>\n",
       "      <th>Unnamed: 0.2</th>\n",
       "      <th>Unnamed: 0.1</th>\n",
       "      <th>Unnamed: 0</th>\n",
       "      <th>link</th>\n",
       "      <th>pdate</th>\n",
       "      <th>title</th>\n",
       "      <th>author</th>\n",
       "      <th>text</th>\n",
       "      <th>time</th>\n",
       "      <th>article_length</th>\n",
       "      <th>urls</th>\n",
       "      <th>pre_process_text</th>\n",
       "      <th>pre_processed_data</th>\n",
       "      <th>5_step_classifier</th>\n",
       "      <th>lemmatize</th>\n",
       "      <th>keywords</th>\n",
       "      <th>pred_class</th>\n",
       "    </tr>\n",
       "  </thead>\n",
       "  <tbody>\n",
       "    <tr>\n",
       "      <th>0</th>\n",
       "      <td>0</td>\n",
       "      <td>0</td>\n",
       "      <td>0</td>\n",
       "      <td>https://www.theatlantic.com/ideas/archive/2023...</td>\n",
       "      <td>2023-12-01</td>\n",
       "      <td>Ron DeSantis Debates His Grievances</td>\n",
       "      <td>['David Frum']</td>\n",
       "      <td>For Gavin Newsom, the TV exposure had a clear ...</td>\n",
       "      <td>15:00:00+00:00</td>\n",
       "      <td>1240</td>\n",
       "      <td>www.theatlantic.com</td>\n",
       "      <td>For Gavin Newsom  the TV exposure had a clear ...</td>\n",
       "      <td>for gavin newsom, the tv exposure had a clear ...</td>\n",
       "      <td>-2.0</td>\n",
       "      <td>for gavin newsom, the tv exposure had a clear ...</td>\n",
       "      <td>{'desantis': 0.58, 'newsom': 0.529, 'fox': 0.1...</td>\n",
       "      <td>left</td>\n",
       "    </tr>\n",
       "    <tr>\n",
       "      <th>1</th>\n",
       "      <td>1</td>\n",
       "      <td>1</td>\n",
       "      <td>1</td>\n",
       "      <td>https://www.theatlantic.com/culture/archive/20...</td>\n",
       "      <td>2023-12-01</td>\n",
       "      <td>May December Exposes the Art of Self-Deception</td>\n",
       "      <td>['Shirley Li']</td>\n",
       "      <td>In Todd Haynes’s new film, May December, an ac...</td>\n",
       "      <td>13:00:00+00:00</td>\n",
       "      <td>1247</td>\n",
       "      <td>www.theatlantic.com</td>\n",
       "      <td>In Todd Haynes’s new film  May December  an ac...</td>\n",
       "      <td>in todd haynes’s new film, may december, an ac...</td>\n",
       "      <td>-2.0</td>\n",
       "      <td>in todd haynes’s new film, may december, an ac...</td>\n",
       "      <td>{'joe': 0.439, 'elizabeth': 0.409, 'film': 0.2...</td>\n",
       "      <td>left</td>\n",
       "    </tr>\n",
       "    <tr>\n",
       "      <th>2</th>\n",
       "      <td>2</td>\n",
       "      <td>2</td>\n",
       "      <td>2</td>\n",
       "      <td>https://www.theatlantic.com/culture/archive/20...</td>\n",
       "      <td>2023-12-01</td>\n",
       "      <td>She Made the Pop Album of the Year. But Is She...</td>\n",
       "      <td>['Spencer Kornhaber']</td>\n",
       "      <td>This year, the 29-year-old Ghanaian American s...</td>\n",
       "      <td>13:00:00+00:00</td>\n",
       "      <td>1314</td>\n",
       "      <td>www.theatlantic.com</td>\n",
       "      <td>This year  the  year old Ghanaian American sin...</td>\n",
       "      <td>this year, the 29-year-old ghanaian american s...</td>\n",
       "      <td>-2.0</td>\n",
       "      <td>this year, the 29-year-old ghanaian american s...</td>\n",
       "      <td>{'album': 0.46, 'music': 0.335, 'baby': 0.221,...</td>\n",
       "      <td>left</td>\n",
       "    </tr>\n",
       "    <tr>\n",
       "      <th>3</th>\n",
       "      <td>3</td>\n",
       "      <td>3</td>\n",
       "      <td>3</td>\n",
       "      <td>https://www.theatlantic.com/ideas/archive/2023...</td>\n",
       "      <td>2023-12-01</td>\n",
       "      <td>Inflation Is Your Fault</td>\n",
       "      <td>['Annie Lowrey']</td>\n",
       "      <td>You would think, with prices as high as they a...</td>\n",
       "      <td>12:41:00+00:00</td>\n",
       "      <td>918</td>\n",
       "      <td>www.theatlantic.com</td>\n",
       "      <td>You would think  with prices as high as they a...</td>\n",
       "      <td>you would think, with prices as high as they a...</td>\n",
       "      <td>-2.0</td>\n",
       "      <td>you would think, with price a high a they are,...</td>\n",
       "      <td>{'consumer': 0.317, 'price': 0.298, 'spending'...</td>\n",
       "      <td>left</td>\n",
       "    </tr>\n",
       "    <tr>\n",
       "      <th>4</th>\n",
       "      <td>4</td>\n",
       "      <td>4</td>\n",
       "      <td>4</td>\n",
       "      <td>https://www.theatlantic.com/ideas/archive/2023...</td>\n",
       "      <td>2023-12-01</td>\n",
       "      <td>What Kissinger Didn’t Understand</td>\n",
       "      <td>['George Packer']</td>\n",
       "      <td>Henry Kissinger spent half a century pursuing ...</td>\n",
       "      <td>12:31:00+00:00</td>\n",
       "      <td>1170</td>\n",
       "      <td>www.theatlantic.com</td>\n",
       "      <td>Henry Kissinger spent half a century pursuing ...</td>\n",
       "      <td>henry kissinger spent half a century pursuing ...</td>\n",
       "      <td>-2.0</td>\n",
       "      <td>henry kissinger spent half a century pursuing ...</td>\n",
       "      <td>{'wa': 0.283, 'human': 0.17, 'soviet': 0.153, ...</td>\n",
       "      <td>left</td>\n",
       "    </tr>\n",
       "  </tbody>\n",
       "</table>\n",
       "</div>"
      ],
      "text/plain": [
       "   Unnamed: 0.2  Unnamed: 0.1  Unnamed: 0  \\\n",
       "0             0             0           0   \n",
       "1             1             1           1   \n",
       "2             2             2           2   \n",
       "3             3             3           3   \n",
       "4             4             4           4   \n",
       "\n",
       "                                                link       pdate  \\\n",
       "0  https://www.theatlantic.com/ideas/archive/2023...  2023-12-01   \n",
       "1  https://www.theatlantic.com/culture/archive/20...  2023-12-01   \n",
       "2  https://www.theatlantic.com/culture/archive/20...  2023-12-01   \n",
       "3  https://www.theatlantic.com/ideas/archive/2023...  2023-12-01   \n",
       "4  https://www.theatlantic.com/ideas/archive/2023...  2023-12-01   \n",
       "\n",
       "                                               title                 author  \\\n",
       "0                Ron DeSantis Debates His Grievances         ['David Frum']   \n",
       "1     May December Exposes the Art of Self-Deception         ['Shirley Li']   \n",
       "2  She Made the Pop Album of the Year. But Is She...  ['Spencer Kornhaber']   \n",
       "3                            Inflation Is Your Fault       ['Annie Lowrey']   \n",
       "4                   What Kissinger Didn’t Understand      ['George Packer']   \n",
       "\n",
       "                                                text            time  \\\n",
       "0  For Gavin Newsom, the TV exposure had a clear ...  15:00:00+00:00   \n",
       "1  In Todd Haynes’s new film, May December, an ac...  13:00:00+00:00   \n",
       "2  This year, the 29-year-old Ghanaian American s...  13:00:00+00:00   \n",
       "3  You would think, with prices as high as they a...  12:41:00+00:00   \n",
       "4  Henry Kissinger spent half a century pursuing ...  12:31:00+00:00   \n",
       "\n",
       "   article_length                 urls  \\\n",
       "0            1240  www.theatlantic.com   \n",
       "1            1247  www.theatlantic.com   \n",
       "2            1314  www.theatlantic.com   \n",
       "3             918  www.theatlantic.com   \n",
       "4            1170  www.theatlantic.com   \n",
       "\n",
       "                                    pre_process_text  \\\n",
       "0  For Gavin Newsom  the TV exposure had a clear ...   \n",
       "1  In Todd Haynes’s new film  May December  an ac...   \n",
       "2  This year  the  year old Ghanaian American sin...   \n",
       "3  You would think  with prices as high as they a...   \n",
       "4  Henry Kissinger spent half a century pursuing ...   \n",
       "\n",
       "                                  pre_processed_data  5_step_classifier  \\\n",
       "0  for gavin newsom, the tv exposure had a clear ...               -2.0   \n",
       "1  in todd haynes’s new film, may december, an ac...               -2.0   \n",
       "2  this year, the 29-year-old ghanaian american s...               -2.0   \n",
       "3  you would think, with prices as high as they a...               -2.0   \n",
       "4  henry kissinger spent half a century pursuing ...               -2.0   \n",
       "\n",
       "                                           lemmatize  \\\n",
       "0  for gavin newsom, the tv exposure had a clear ...   \n",
       "1  in todd haynes’s new film, may december, an ac...   \n",
       "2  this year, the 29-year-old ghanaian american s...   \n",
       "3  you would think, with price a high a they are,...   \n",
       "4  henry kissinger spent half a century pursuing ...   \n",
       "\n",
       "                                            keywords pred_class  \n",
       "0  {'desantis': 0.58, 'newsom': 0.529, 'fox': 0.1...       left  \n",
       "1  {'joe': 0.439, 'elizabeth': 0.409, 'film': 0.2...       left  \n",
       "2  {'album': 0.46, 'music': 0.335, 'baby': 0.221,...       left  \n",
       "3  {'consumer': 0.317, 'price': 0.298, 'spending'...       left  \n",
       "4  {'wa': 0.283, 'human': 0.17, 'soviet': 0.153, ...       left  "
      ]
     },
     "execution_count": 6,
     "metadata": {},
     "output_type": "execute_result"
    }
   ],
   "source": [
    "df.head()"
   ]
  },
  {
   "cell_type": "code",
   "execution_count": 7,
   "id": "b9108e8e-4fa6-4bcb-a494-41ba9627c7c9",
   "metadata": {},
   "outputs": [
    {
     "name": "stdout",
     "output_type": "stream",
     "text": [
      "<class 'pandas.core.frame.DataFrame'>\n",
      "RangeIndex: 7713 entries, 0 to 7712\n",
      "Data columns (total 15 columns):\n",
      " #   Column        Non-Null Count  Dtype  \n",
      "---  ------        --------------  -----  \n",
      " 0   Unnamed: 0.1  7713 non-null   int64  \n",
      " 1   Unnamed: 0    7713 non-null   int64  \n",
      " 2   link          7713 non-null   object \n",
      " 3   pdate         3210 non-null   object \n",
      " 4   title         7713 non-null   object \n",
      " 5   author        7713 non-null   object \n",
      " 6   text          7460 non-null   object \n",
      " 7   keywords      7713 non-null   object \n",
      " 8   tags          7713 non-null   object \n",
      " 9   compound      7713 non-null   float64\n",
      " 10  neg           7713 non-null   float64\n",
      " 11  neu           7713 non-null   float64\n",
      " 12  pos           7713 non-null   float64\n",
      " 13  polarity      7713 non-null   float64\n",
      " 14  subjectivity  7713 non-null   float64\n",
      "dtypes: float64(6), int64(2), object(7)\n",
      "memory usage: 904.0+ KB\n"
     ]
    }
   ],
   "source": [
    "df_1 = pd.read_csv(\"/Users/barnabykempster/code/zulu-tango/news_and_echo_bubbles/raw_data/monday_scrape_all.csv\")\n",
    "df_1.info()"
   ]
  },
  {
   "cell_type": "code",
   "execution_count": 8,
   "id": "ca708a40-6cc1-446d-be86-0a91ef1536ce",
   "metadata": {},
   "outputs": [
    {
     "name": "stdout",
     "output_type": "stream",
     "text": [
      "<class 'pandas.core.frame.DataFrame'>\n",
      "RangeIndex: 7713 entries, 0 to 7712\n",
      "Data columns (total 15 columns):\n",
      " #   Column        Non-Null Count  Dtype  \n",
      "---  ------        --------------  -----  \n",
      " 0   Unnamed: 0.1  7713 non-null   int64  \n",
      " 1   Unnamed: 0    7713 non-null   int64  \n",
      " 2   link          7713 non-null   object \n",
      " 3   pdate         3210 non-null   object \n",
      " 4   title         7713 non-null   object \n",
      " 5   author        7713 non-null   object \n",
      " 6   text          7460 non-null   object \n",
      " 7   keywords      7713 non-null   object \n",
      " 8   tags          7713 non-null   object \n",
      " 9   compound      7713 non-null   float64\n",
      " 10  neg           7713 non-null   float64\n",
      " 11  neu           7713 non-null   float64\n",
      " 12  pos           7713 non-null   float64\n",
      " 13  polarity      7713 non-null   float64\n",
      " 14  subjectivity  7713 non-null   float64\n",
      "dtypes: float64(6), int64(2), object(7)\n",
      "memory usage: 904.0+ KB\n"
     ]
    }
   ],
   "source": [
    "df_1.info()"
   ]
  },
  {
   "cell_type": "code",
   "execution_count": 10,
   "id": "5a4b50aa-e06a-4603-8a23-8db63eab1038",
   "metadata": {},
   "outputs": [
    {
     "data": {
      "text/plain": [
       "Index(['Unnamed: 0.1', 'Unnamed: 0', 'link', 'pdate', 'title', 'author',\n",
       "       'text', 'keywords', 'tags', 'compound', 'neg', 'neu', 'pos', 'polarity',\n",
       "       'subjectivity'],\n",
       "      dtype='object')"
      ]
     },
     "execution_count": 10,
     "metadata": {},
     "output_type": "execute_result"
    }
   ],
   "source": [
    "df_1.keys()"
   ]
  },
  {
   "cell_type": "code",
   "execution_count": 12,
   "id": "1f781853-e4e9-44d8-aa84-9f63fbd6f184",
   "metadata": {},
   "outputs": [],
   "source": [
    "df_1 = df_1[['link', 'pdate', 'title', 'author',\n",
    "       'text', 'keywords', 'tags', 'compound', 'neg', 'neu', 'pos', 'polarity',\n",
    "       'subjectivity']]"
   ]
  },
  {
   "cell_type": "code",
   "execution_count": 14,
   "id": "9a0b9774-198f-449c-91e3-b87f945b6d03",
   "metadata": {},
   "outputs": [
    {
     "data": {
      "text/html": [
       "<div>\n",
       "<style scoped>\n",
       "    .dataframe tbody tr th:only-of-type {\n",
       "        vertical-align: middle;\n",
       "    }\n",
       "\n",
       "    .dataframe tbody tr th {\n",
       "        vertical-align: top;\n",
       "    }\n",
       "\n",
       "    .dataframe thead th {\n",
       "        text-align: right;\n",
       "    }\n",
       "</style>\n",
       "<table border=\"1\" class=\"dataframe\">\n",
       "  <thead>\n",
       "    <tr style=\"text-align: right;\">\n",
       "      <th></th>\n",
       "      <th>link</th>\n",
       "      <th>pdate</th>\n",
       "      <th>title</th>\n",
       "      <th>author</th>\n",
       "      <th>text</th>\n",
       "      <th>keywords</th>\n",
       "      <th>tags</th>\n",
       "      <th>compound</th>\n",
       "      <th>neg</th>\n",
       "      <th>neu</th>\n",
       "      <th>pos</th>\n",
       "      <th>polarity</th>\n",
       "      <th>subjectivity</th>\n",
       "    </tr>\n",
       "  </thead>\n",
       "  <tbody>\n",
       "    <tr>\n",
       "      <th>0</th>\n",
       "      <td>https://www.propublica.org/article/inside-waba...</td>\n",
       "      <td>NaN</td>\n",
       "      <td>Tribes in Maine Spent Decades Fighting to Rebu...</td>\n",
       "      <td>['Mary Hudetz', 'Ash Ngu', 'Mary Hudetz Is A R...</td>\n",
       "      <td>The university’s Peabody Museum exploited loop...</td>\n",
       "      <td>['museum', 'ancestors', 'tribes', 'harvard', '...</td>\n",
       "      <td>set()</td>\n",
       "      <td>0.9557</td>\n",
       "      <td>0.054</td>\n",
       "      <td>0.885</td>\n",
       "      <td>0.061</td>\n",
       "      <td>0.060006</td>\n",
       "      <td>0.354811</td>\n",
       "    </tr>\n",
       "    <tr>\n",
       "      <th>1</th>\n",
       "      <td>https://www.propublica.org/article/west-virgin...</td>\n",
       "      <td>NaN</td>\n",
       "      <td>West Virginians Could Get Stuck Cleaning Up th...</td>\n",
       "      <td>['Ken Ward Jr.']</td>\n",
       "      <td>An excavated mountain and highwalls on the wes...</td>\n",
       "      <td>['reclamation', 'state', 'cleaning', 'federal'...</td>\n",
       "      <td>set()</td>\n",
       "      <td>-0.9993</td>\n",
       "      <td>0.104</td>\n",
       "      <td>0.824</td>\n",
       "      <td>0.072</td>\n",
       "      <td>0.055620</td>\n",
       "      <td>0.404267</td>\n",
       "    </tr>\n",
       "    <tr>\n",
       "      <th>2</th>\n",
       "      <td>https://www.propublica.org/article/texas-judge...</td>\n",
       "      <td>NaN</td>\n",
       "      <td>Texas Judge Orders Release of Uvalde Shooting ...</td>\n",
       "      <td>['Zach Despart']</td>\n",
       "      <td>Texas Judge Orders Release of Uvalde Shooting ...</td>\n",
       "      <td>['judge', 'organizations', 'state', 'texas', '...</td>\n",
       "      <td>set()</td>\n",
       "      <td>-0.8769</td>\n",
       "      <td>0.080</td>\n",
       "      <td>0.849</td>\n",
       "      <td>0.071</td>\n",
       "      <td>0.096415</td>\n",
       "      <td>0.351263</td>\n",
       "    </tr>\n",
       "    <tr>\n",
       "      <th>3</th>\n",
       "      <td>https://www.propublica.org/article/senate-judi...</td>\n",
       "      <td>NaN</td>\n",
       "      <td>Senate Committee Authorizes Subpoenas of Harla...</td>\n",
       "      <td>['Andy Kroll', 'Andy Kroll Is A Propublica Rep...</td>\n",
       "      <td>Series: Friends of the Court: SCOTUS Justices’...</td>\n",
       "      <td>['ethics', 'thomas', 'leonard', 'court', 'comm...</td>\n",
       "      <td>set()</td>\n",
       "      <td>0.9981</td>\n",
       "      <td>0.049</td>\n",
       "      <td>0.845</td>\n",
       "      <td>0.106</td>\n",
       "      <td>0.065883</td>\n",
       "      <td>0.328966</td>\n",
       "    </tr>\n",
       "    <tr>\n",
       "      <th>4</th>\n",
       "      <td>https://www.propublica.org/article/clarence-th...</td>\n",
       "      <td>NaN</td>\n",
       "      <td>Clarence Thomas Secretly Accepted Luxury Trips...</td>\n",
       "      <td>['Joshua Kaplan', 'Justin Elliott', 'Alex Mier...</td>\n",
       "      <td>First image: Clarence Thomas in October 2022. ...</td>\n",
       "      <td>['propublica', 'thomas', 'trips', 'donor', 'co...</td>\n",
       "      <td>set()</td>\n",
       "      <td>0.9999</td>\n",
       "      <td>0.026</td>\n",
       "      <td>0.864</td>\n",
       "      <td>0.110</td>\n",
       "      <td>0.107636</td>\n",
       "      <td>0.403050</td>\n",
       "    </tr>\n",
       "    <tr>\n",
       "      <th>...</th>\n",
       "      <td>...</td>\n",
       "      <td>...</td>\n",
       "      <td>...</td>\n",
       "      <td>...</td>\n",
       "      <td>...</td>\n",
       "      <td>...</td>\n",
       "      <td>...</td>\n",
       "      <td>...</td>\n",
       "      <td>...</td>\n",
       "      <td>...</td>\n",
       "      <td>...</td>\n",
       "      <td>...</td>\n",
       "      <td>...</td>\n",
       "    </tr>\n",
       "    <tr>\n",
       "      <th>7708</th>\n",
       "      <td>https://www.cbsnews.com/video/saturday-session...</td>\n",
       "      <td>NaN</td>\n",
       "      <td>Saturday Sessions: Beach Fossils perform \"Slee...</td>\n",
       "      <td>[]</td>\n",
       "      <td>Saturday Sessions: Beach Fossils perform \"Slee...</td>\n",
       "      <td>['veteran', 'tour', 'sleeping', 'rockband', 't...</td>\n",
       "      <td>set()</td>\n",
       "      <td>0.4767</td>\n",
       "      <td>0.000</td>\n",
       "      <td>0.948</td>\n",
       "      <td>0.052</td>\n",
       "      <td>0.290476</td>\n",
       "      <td>0.569048</td>\n",
       "    </tr>\n",
       "    <tr>\n",
       "      <th>7709</th>\n",
       "      <td>https://www.cbsnews.com/video/saturday-session...</td>\n",
       "      <td>NaN</td>\n",
       "      <td>Saturday Sessions: Beach Fossils perform \"Don'...</td>\n",
       "      <td>[]</td>\n",
       "      <td>Saturday Sessions: Beach Fossils perform \"Don'...</td>\n",
       "      <td>['veteran', 'away', 'tour', 'toured', 'session...</td>\n",
       "      <td>set()</td>\n",
       "      <td>0.4767</td>\n",
       "      <td>0.000</td>\n",
       "      <td>0.946</td>\n",
       "      <td>0.054</td>\n",
       "      <td>0.238889</td>\n",
       "      <td>0.497222</td>\n",
       "    </tr>\n",
       "    <tr>\n",
       "      <th>7710</th>\n",
       "      <td>https://www.cbsnews.com/video/author-sam-wasso...</td>\n",
       "      <td>NaN</td>\n",
       "      <td>Author Sam Wasson explores the life and vision...</td>\n",
       "      <td>[]</td>\n",
       "      <td>Author Sam Wasson explores the life and vision...</td>\n",
       "      <td>['francis', 'vision', 'author', 'ford', 'wasso...</td>\n",
       "      <td>set()</td>\n",
       "      <td>0.7096</td>\n",
       "      <td>0.045</td>\n",
       "      <td>0.855</td>\n",
       "      <td>0.100</td>\n",
       "      <td>0.055682</td>\n",
       "      <td>0.327273</td>\n",
       "    </tr>\n",
       "    <tr>\n",
       "      <th>7711</th>\n",
       "      <td>https://www.cbsnews.com/video/never-too-late-c...</td>\n",
       "      <td>NaN</td>\n",
       "      <td>Never Too Late: CBS News' Anthony Mason writes...</td>\n",
       "      <td>[]</td>\n",
       "      <td>Never Too Late: CBS News' Anthony Mason writes...</td>\n",
       "      <td>['late', 'cbs', 'anthony', 'try', 'winners', '...</td>\n",
       "      <td>set()</td>\n",
       "      <td>0.7003</td>\n",
       "      <td>0.000</td>\n",
       "      <td>0.900</td>\n",
       "      <td>0.100</td>\n",
       "      <td>0.056250</td>\n",
       "      <td>0.633333</td>\n",
       "    </tr>\n",
       "    <tr>\n",
       "      <th>7712</th>\n",
       "      <td>https://www.nytimes.com/2023/12/04/climate/cop...</td>\n",
       "      <td>2023-12-04 00:00:00</td>\n",
       "      <td>Fighting Crises With Cash, Except for the Clim...</td>\n",
       "      <td>['Lisa Friedman', 'Somini Sengupta', 'More Abo...</td>\n",
       "      <td>When there’s a global crisis, wealthy countrie...</td>\n",
       "      <td>['summit', 'president', 'climate', 'crises', '...</td>\n",
       "      <td>set()</td>\n",
       "      <td>0.9598</td>\n",
       "      <td>0.072</td>\n",
       "      <td>0.765</td>\n",
       "      <td>0.162</td>\n",
       "      <td>0.059924</td>\n",
       "      <td>0.360779</td>\n",
       "    </tr>\n",
       "  </tbody>\n",
       "</table>\n",
       "<p>7713 rows × 13 columns</p>\n",
       "</div>"
      ],
      "text/plain": [
       "                                                   link                pdate  \\\n",
       "0     https://www.propublica.org/article/inside-waba...                  NaN   \n",
       "1     https://www.propublica.org/article/west-virgin...                  NaN   \n",
       "2     https://www.propublica.org/article/texas-judge...                  NaN   \n",
       "3     https://www.propublica.org/article/senate-judi...                  NaN   \n",
       "4     https://www.propublica.org/article/clarence-th...                  NaN   \n",
       "...                                                 ...                  ...   \n",
       "7708  https://www.cbsnews.com/video/saturday-session...                  NaN   \n",
       "7709  https://www.cbsnews.com/video/saturday-session...                  NaN   \n",
       "7710  https://www.cbsnews.com/video/author-sam-wasso...                  NaN   \n",
       "7711  https://www.cbsnews.com/video/never-too-late-c...                  NaN   \n",
       "7712  https://www.nytimes.com/2023/12/04/climate/cop...  2023-12-04 00:00:00   \n",
       "\n",
       "                                                  title  \\\n",
       "0     Tribes in Maine Spent Decades Fighting to Rebu...   \n",
       "1     West Virginians Could Get Stuck Cleaning Up th...   \n",
       "2     Texas Judge Orders Release of Uvalde Shooting ...   \n",
       "3     Senate Committee Authorizes Subpoenas of Harla...   \n",
       "4     Clarence Thomas Secretly Accepted Luxury Trips...   \n",
       "...                                                 ...   \n",
       "7708  Saturday Sessions: Beach Fossils perform \"Slee...   \n",
       "7709  Saturday Sessions: Beach Fossils perform \"Don'...   \n",
       "7710  Author Sam Wasson explores the life and vision...   \n",
       "7711  Never Too Late: CBS News' Anthony Mason writes...   \n",
       "7712  Fighting Crises With Cash, Except for the Clim...   \n",
       "\n",
       "                                                 author  \\\n",
       "0     ['Mary Hudetz', 'Ash Ngu', 'Mary Hudetz Is A R...   \n",
       "1                                      ['Ken Ward Jr.']   \n",
       "2                                      ['Zach Despart']   \n",
       "3     ['Andy Kroll', 'Andy Kroll Is A Propublica Rep...   \n",
       "4     ['Joshua Kaplan', 'Justin Elliott', 'Alex Mier...   \n",
       "...                                                 ...   \n",
       "7708                                                 []   \n",
       "7709                                                 []   \n",
       "7710                                                 []   \n",
       "7711                                                 []   \n",
       "7712  ['Lisa Friedman', 'Somini Sengupta', 'More Abo...   \n",
       "\n",
       "                                                   text  \\\n",
       "0     The university’s Peabody Museum exploited loop...   \n",
       "1     An excavated mountain and highwalls on the wes...   \n",
       "2     Texas Judge Orders Release of Uvalde Shooting ...   \n",
       "3     Series: Friends of the Court: SCOTUS Justices’...   \n",
       "4     First image: Clarence Thomas in October 2022. ...   \n",
       "...                                                 ...   \n",
       "7708  Saturday Sessions: Beach Fossils perform \"Slee...   \n",
       "7709  Saturday Sessions: Beach Fossils perform \"Don'...   \n",
       "7710  Author Sam Wasson explores the life and vision...   \n",
       "7711  Never Too Late: CBS News' Anthony Mason writes...   \n",
       "7712  When there’s a global crisis, wealthy countrie...   \n",
       "\n",
       "                                               keywords   tags  compound  \\\n",
       "0     ['museum', 'ancestors', 'tribes', 'harvard', '...  set()    0.9557   \n",
       "1     ['reclamation', 'state', 'cleaning', 'federal'...  set()   -0.9993   \n",
       "2     ['judge', 'organizations', 'state', 'texas', '...  set()   -0.8769   \n",
       "3     ['ethics', 'thomas', 'leonard', 'court', 'comm...  set()    0.9981   \n",
       "4     ['propublica', 'thomas', 'trips', 'donor', 'co...  set()    0.9999   \n",
       "...                                                 ...    ...       ...   \n",
       "7708  ['veteran', 'tour', 'sleeping', 'rockband', 't...  set()    0.4767   \n",
       "7709  ['veteran', 'away', 'tour', 'toured', 'session...  set()    0.4767   \n",
       "7710  ['francis', 'vision', 'author', 'ford', 'wasso...  set()    0.7096   \n",
       "7711  ['late', 'cbs', 'anthony', 'try', 'winners', '...  set()    0.7003   \n",
       "7712  ['summit', 'president', 'climate', 'crises', '...  set()    0.9598   \n",
       "\n",
       "        neg    neu    pos  polarity  subjectivity  \n",
       "0     0.054  0.885  0.061  0.060006      0.354811  \n",
       "1     0.104  0.824  0.072  0.055620      0.404267  \n",
       "2     0.080  0.849  0.071  0.096415      0.351263  \n",
       "3     0.049  0.845  0.106  0.065883      0.328966  \n",
       "4     0.026  0.864  0.110  0.107636      0.403050  \n",
       "...     ...    ...    ...       ...           ...  \n",
       "7708  0.000  0.948  0.052  0.290476      0.569048  \n",
       "7709  0.000  0.946  0.054  0.238889      0.497222  \n",
       "7710  0.045  0.855  0.100  0.055682      0.327273  \n",
       "7711  0.000  0.900  0.100  0.056250      0.633333  \n",
       "7712  0.072  0.765  0.162  0.059924      0.360779  \n",
       "\n",
       "[7713 rows x 13 columns]"
      ]
     },
     "execution_count": 14,
     "metadata": {},
     "output_type": "execute_result"
    }
   ],
   "source": [
    "df_1"
   ]
  },
  {
   "cell_type": "code",
   "execution_count": null,
   "id": "f9632139-0067-43d4-a449-52d9dc217fb3",
   "metadata": {},
   "outputs": [],
   "source": []
  },
  {
   "cell_type": "code",
   "execution_count": 15,
   "id": "ad9c2fbe-fe73-4eec-be2b-04323b398ccc",
   "metadata": {},
   "outputs": [],
   "source": [
    "df_fri = pd.read_csv(\"/Users/barnabykempster/code/zulu-tango/news_and_echo_bubbles/raw_data/BK_fri_scrape.csv\")"
   ]
  },
  {
   "cell_type": "code",
   "execution_count": 16,
   "id": "ab9eae57-1caf-4978-ab5f-473815d3d26b",
   "metadata": {},
   "outputs": [
    {
     "name": "stdout",
     "output_type": "stream",
     "text": [
      "<class 'pandas.core.frame.DataFrame'>\n",
      "RangeIndex: 1865 entries, 0 to 1864\n",
      "Data columns (total 15 columns):\n",
      " #   Column        Non-Null Count  Dtype  \n",
      "---  ------        --------------  -----  \n",
      " 0   Unnamed: 0    1865 non-null   int64  \n",
      " 1   link          1865 non-null   object \n",
      " 2   pdate         1141 non-null   object \n",
      " 3   title         1865 non-null   object \n",
      " 4   author        1865 non-null   object \n",
      " 5   text          1796 non-null   object \n",
      " 6   keywords      1865 non-null   object \n",
      " 7   tags          1865 non-null   object \n",
      " 8   compound      1865 non-null   float64\n",
      " 9   neg           1865 non-null   float64\n",
      " 10  neu           1865 non-null   float64\n",
      " 11  pos           1865 non-null   float64\n",
      " 12  polarity      1865 non-null   float64\n",
      " 13  subjectivity  1865 non-null   float64\n",
      " 14  rating        882 non-null    object \n",
      "dtypes: float64(6), int64(1), object(8)\n",
      "memory usage: 218.7+ KB\n"
     ]
    }
   ],
   "source": [
    "df_fri.info()"
   ]
  },
  {
   "cell_type": "code",
   "execution_count": 17,
   "id": "15c64b80-687a-4323-974d-b532e384bce9",
   "metadata": {},
   "outputs": [
    {
     "data": {
      "text/plain": [
       "837"
      ]
     },
     "execution_count": 17,
     "metadata": {},
     "output_type": "execute_result"
    }
   ],
   "source": [
    "df_fri[\"author\"]"
   ]
  },
  {
   "cell_type": "code",
   "execution_count": 18,
   "id": "0feaaab8-2f1f-4643-a06e-de69d5798924",
   "metadata": {},
   "outputs": [],
   "source": [
    "from urllib.parse import urlparse"
   ]
  },
  {
   "cell_type": "code",
   "execution_count": 20,
   "id": "c14476d5-ea50-4132-813a-14ba26a33214",
   "metadata": {},
   "outputs": [],
   "source": [
    "urls_right = [urlparse(df_fri.link[row]).netloc for row in range(len(df_fri.link))]\n",
    "df_fri['urls'] = urls_right"
   ]
  },
  {
   "cell_type": "code",
   "execution_count": 22,
   "id": "a6031352-dafd-4919-8805-590c119f69d0",
   "metadata": {},
   "outputs": [
    {
     "data": {
      "text/plain": [
       "0         www.theatlantic.com\n",
       "1         www.theatlantic.com\n",
       "2         www.theatlantic.com\n",
       "3         www.theatlantic.com\n",
       "4         www.theatlantic.com\n",
       "                ...          \n",
       "5131    www.theepochtimes.com\n",
       "5132    www.theepochtimes.com\n",
       "5133    www.theepochtimes.com\n",
       "5134    www.theepochtimes.com\n",
       "5135    www.theepochtimes.com\n",
       "Name: urls, Length: 5136, dtype: object"
      ]
     },
     "execution_count": 22,
     "metadata": {},
     "output_type": "execute_result"
    }
   ],
   "source": [
    "df['urls']"
   ]
  },
  {
   "cell_type": "code",
   "execution_count": 23,
   "id": "b69a9fc3-9b4f-41ac-803a-7509b2276883",
   "metadata": {},
   "outputs": [],
   "source": [
    "df_fri.to_csv(\"/Users/barnabykempster/code/zulu-tango/news_and_echo_bubbles/raw_data/friday_scrape_all.csv\")"
   ]
  },
  {
   "cell_type": "code",
   "execution_count": null,
   "id": "c491b4b9-d6f5-42fc-a732-be99dcc2a8b6",
   "metadata": {},
   "outputs": [],
   "source": []
  },
  {
   "cell_type": "code",
   "execution_count": 24,
   "id": "2362bb23-ef7c-40f9-887a-bbd5b62eadc4",
   "metadata": {},
   "outputs": [],
   "source": [
    "df_6_1 = pd.read_csv(\"/Users/barnabykempster/code/zulu-tango/news_and_echo_bubbles/raw_data/sat_bk_scrape.csv\")"
   ]
  },
  {
   "cell_type": "code",
   "execution_count": 25,
   "id": "a159acfa-d338-41de-a646-34fd775025e5",
   "metadata": {},
   "outputs": [],
   "source": [
    "df_6_2 = pd.read_csv(\"/Users/barnabykempster/code/zulu-tango/news_and_echo_bubbles/raw_data/sat_zt_scrape.csv\")"
   ]
  },
  {
   "cell_type": "code",
   "execution_count": 26,
   "id": "83852293-110d-4702-afbe-fce2ddc01c62",
   "metadata": {},
   "outputs": [],
   "source": [
    "df_6_all = pd.concat([df_6_1,df_6_2],axis=0)"
   ]
  },
  {
   "cell_type": "code",
   "execution_count": 27,
   "id": "b0df285f-18d3-43d8-8b6e-3227f706565b",
   "metadata": {},
   "outputs": [],
   "source": [
    "df_6_all.to_csv(\"/Users/barnabykempster/code/zulu-tango/news_and_echo_bubbles/raw_data/saturday_scrape_all.csv\")"
   ]
  },
  {
   "cell_type": "code",
   "execution_count": null,
   "id": "2c4535ce-b8f6-4b55-b2bc-f09a7c1ea7ce",
   "metadata": {},
   "outputs": [],
   "source": []
  },
  {
   "cell_type": "code",
   "execution_count": null,
   "id": "d6aa78d0-0bd6-471e-985b-31012c14d4a7",
   "metadata": {},
   "outputs": [],
   "source": []
  },
  {
   "cell_type": "code",
   "execution_count": null,
   "id": "c25401bb-3de1-485d-b32d-7ea91139bfb8",
   "metadata": {},
   "outputs": [],
   "source": []
  },
  {
   "cell_type": "code",
   "execution_count": 28,
   "id": "bad717cb-57d4-4146-a04f-1f91c92f956d",
   "metadata": {},
   "outputs": [],
   "source": [
    "df_7_1 = pd.read_csv(\"/Users/barnabykempster/code/zulu-tango/news_and_echo_bubbles/raw_data/sunday_bk_scrape.csv\")"
   ]
  },
  {
   "cell_type": "code",
   "execution_count": 29,
   "id": "b4f9cbc1-af42-436a-bc3a-debf90b0d6d7",
   "metadata": {},
   "outputs": [],
   "source": [
    "df_7_2 = pd.read_csv(\"/Users/barnabykempster/code/zulu-tango/news_and_echo_bubbles/raw_data/sunday_gg_scrape.csv\")"
   ]
  },
  {
   "cell_type": "code",
   "execution_count": 30,
   "id": "f770a17b-8041-48e3-b3d2-30c48fd6cd1f",
   "metadata": {},
   "outputs": [],
   "source": [
    "df_7_3 = pd.read_csv(\"/Users/barnabykempster/code/zulu-tango/news_and_echo_bubbles/raw_data/sunday_zt_scrape.csv\")"
   ]
  },
  {
   "cell_type": "code",
   "execution_count": 31,
   "id": "ac3b5a4a-871a-49b5-bab3-9f70eba45ff3",
   "metadata": {},
   "outputs": [],
   "source": [
    "df_7_all = pd.concat([df_7_1, df_7_2, df_7_3],axis=0)"
   ]
  },
  {
   "cell_type": "code",
   "execution_count": 32,
   "id": "53b4c64e-7c6c-4fda-8fd1-6885344d350e",
   "metadata": {},
   "outputs": [],
   "source": [
    "df_7_all.to_csv(\"/Users/barnabykempster/code/zulu-tango/news_and_echo_bubbles/raw_data/sunday_scrape_all.csv\")"
   ]
  },
  {
   "cell_type": "code",
   "execution_count": null,
   "id": "c556b6bc-c058-4778-9f75-e835d395372b",
   "metadata": {},
   "outputs": [],
   "source": []
  },
  {
   "cell_type": "code",
   "execution_count": null,
   "id": "66322700-d7b8-47f5-86c8-6aebd8f479e6",
   "metadata": {},
   "outputs": [],
   "source": []
  },
  {
   "cell_type": "code",
   "execution_count": 33,
   "id": "eab022e0-e58e-4f7d-959e-d270e45b1106",
   "metadata": {},
   "outputs": [],
   "source": [
    "df_f_all = pd.read_csv(\"/Users/barnabykempster/code/zulu-tango/news_and_echo_bubbles/raw_data/friday_scrape_all.csv\")"
   ]
  },
  {
   "cell_type": "code",
   "execution_count": 34,
   "id": "3d3c0c73-39e0-4937-936d-cc360b24ef3a",
   "metadata": {},
   "outputs": [],
   "source": [
    "df_sat_all = pd.read_csv(\"/Users/barnabykempster/code/zulu-tango/news_and_echo_bubbles/raw_data/saturday_scrape_all.csv\")"
   ]
  },
  {
   "cell_type": "code",
   "execution_count": 35,
   "id": "84747b71-8765-4caf-a557-0a32a112474d",
   "metadata": {},
   "outputs": [],
   "source": [
    "df_sun_all = pd.read_csv(\"/Users/barnabykempster/code/zulu-tango/news_and_echo_bubbles/raw_data/sunday_scrape_all.csv\")"
   ]
  },
  {
   "cell_type": "code",
   "execution_count": 36,
   "id": "875b3059-e4c5-48c6-b80f-86a4202f9b41",
   "metadata": {},
   "outputs": [],
   "source": [
    "df_mon_all = pd.read_csv(\"/Users/barnabykempster/code/zulu-tango/news_and_echo_bubbles/raw_data/monday_scrape_all.csv\")"
   ]
  },
  {
   "cell_type": "code",
   "execution_count": 37,
   "id": "6586203e-ba76-4577-91f9-248edd0a9380",
   "metadata": {},
   "outputs": [],
   "source": [
    "df_all_to_mon = pd.concat([df_f_all,df_sat_all,df_sun_all,df_mon_all], axis=0)"
   ]
  },
  {
   "cell_type": "code",
   "execution_count": 38,
   "id": "f2a0748d-114d-4df8-965e-998235143825",
   "metadata": {},
   "outputs": [
    {
     "name": "stdout",
     "output_type": "stream",
     "text": [
      "<class 'pandas.core.frame.DataFrame'>\n",
      "Index: 20306 entries, 0 to 7712\n",
      "Data columns (total 17 columns):\n",
      " #   Column        Non-Null Count  Dtype  \n",
      "---  ------        --------------  -----  \n",
      " 0   Unnamed: 0.1  20306 non-null  int64  \n",
      " 1   Unnamed: 0    20306 non-null  int64  \n",
      " 2   link          20306 non-null  object \n",
      " 3   pdate         10193 non-null  object \n",
      " 4   title         20306 non-null  object \n",
      " 5   author        20306 non-null  object \n",
      " 6   text          19773 non-null  object \n",
      " 7   keywords      20306 non-null  object \n",
      " 8   tags          20306 non-null  object \n",
      " 9   compound      20306 non-null  float64\n",
      " 10  neg           20306 non-null  float64\n",
      " 11  neu           20306 non-null  float64\n",
      " 12  pos           20306 non-null  float64\n",
      " 13  polarity      20306 non-null  float64\n",
      " 14  subjectivity  20306 non-null  float64\n",
      " 15  rating        882 non-null    object \n",
      " 16  urls          1865 non-null   object \n",
      "dtypes: float64(6), int64(2), object(9)\n",
      "memory usage: 2.8+ MB\n"
     ]
    }
   ],
   "source": [
    "df_all_to_mon.info()"
   ]
  },
  {
   "cell_type": "code",
   "execution_count": 39,
   "id": "66e5e204-871e-45a2-b54f-60a173fa5d99",
   "metadata": {},
   "outputs": [],
   "source": [
    "df_all_to_mon.to_csv(\"/Users/barnabykempster/code/zulu-tango/news_and_echo_bubbles/raw_data/all_to_04_Dec.csv\")"
   ]
  },
  {
   "cell_type": "code",
   "execution_count": null,
   "id": "c8a0b9d5-0244-4657-bf6e-b36a86e5bb84",
   "metadata": {},
   "outputs": [],
   "source": []
  }
 ],
 "metadata": {
  "kernelspec": {
   "display_name": "Python 3 (ipykernel)",
   "language": "python",
   "name": "python3"
  },
  "language_info": {
   "codemirror_mode": {
    "name": "ipython",
    "version": 3
   },
   "file_extension": ".py",
   "mimetype": "text/x-python",
   "name": "python",
   "nbconvert_exporter": "python",
   "pygments_lexer": "ipython3",
   "version": "3.10.6"
  }
 },
 "nbformat": 4,
 "nbformat_minor": 5
}
